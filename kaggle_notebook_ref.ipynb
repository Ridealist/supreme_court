{
 "cells": [
  {
   "cell_type": "markdown",
   "id": "a2c593e5-b85a-4c3f-a683-8f8bad8de43c",
   "metadata": {
    "editable": true,
    "slideshow": {
     "slide_type": ""
    },
    "tags": []
   },
   "source": [
    "- Reference\n",
    "\n",
    "https://www.kaggle.com/code/raghavkachroo/supreme-court-judgement-prediction/notebook"
   ]
  },
  {
   "cell_type": "code",
   "execution_count": 1,
   "id": "76b39a56-6d60-4545-b954-df449f97d309",
   "metadata": {},
   "outputs": [],
   "source": [
    "import pandas as pd\n",
    "import numpy as np"
   ]
  },
  {
   "cell_type": "code",
   "execution_count": 2,
   "id": "84848622-4f90-40e9-8507-ec782d7ef5a4",
   "metadata": {},
   "outputs": [],
   "source": [
    "import os\n",
    "from pathlib import Path\n",
    "\n",
    "path = Path(os.getcwd() + '/datasets')"
   ]
  },
  {
   "cell_type": "code",
   "execution_count": 3,
   "id": "b55e1346-c197-4d53-9c94-4e318acf42de",
   "metadata": {},
   "outputs": [],
   "source": [
    "pd.set_option('display.max_colwidth', None)"
   ]
  },
  {
   "cell_type": "code",
   "execution_count": 4,
   "id": "ca136922-ef94-41ef-b641-54413d42b229",
   "metadata": {},
   "outputs": [],
   "source": [
    "train = pd.read_csv(path / 'train.csv')\n",
    "test = pd.read_csv(path / 'test.csv')\n",
    "submission = pd.read_csv(path / 'sample_submission.csv')"
   ]
  },
  {
   "cell_type": "code",
   "execution_count": 5,
   "id": "e808d371-8448-41c9-a4c4-8dbd88ea6b60",
   "metadata": {},
   "outputs": [
    {
     "data": {
      "text/html": [
       "<div>\n",
       "<style scoped>\n",
       "    .dataframe tbody tr th:only-of-type {\n",
       "        vertical-align: middle;\n",
       "    }\n",
       "\n",
       "    .dataframe tbody tr th {\n",
       "        vertical-align: top;\n",
       "    }\n",
       "\n",
       "    .dataframe thead th {\n",
       "        text-align: right;\n",
       "    }\n",
       "</style>\n",
       "<table border=\"1\" class=\"dataframe\">\n",
       "  <thead>\n",
       "    <tr style=\"text-align: right;\">\n",
       "      <th></th>\n",
       "      <th>ID</th>\n",
       "      <th>first_party</th>\n",
       "      <th>second_party</th>\n",
       "      <th>facts</th>\n",
       "      <th>first_party_winner</th>\n",
       "    </tr>\n",
       "  </thead>\n",
       "  <tbody>\n",
       "    <tr>\n",
       "      <th>0</th>\n",
       "      <td>TRAIN_0000</td>\n",
       "      <td>Phil A. St. Amant</td>\n",
       "      <td>Herman A. Thompson</td>\n",
       "      <td>On June 27, 1962, Phil St. Amant, a candidate for public office, made a television speech in Baton Rouge, Louisiana.  During this speech, St. Amant accused his political opponent of being a Communist and of being involved in criminal activities with the head of the local Teamsters Union.  Finally, St. Amant implicated Herman Thompson, an East Baton Rouge deputy sheriff, in a scheme to move money between the Teamsters Union and St. Amant’s political opponent. \\nThompson successfully sued St. Amant for defamation.  Louisiana’s First Circuit Court of Appeals reversed, holding that Thompson did not show St. Amant acted with “malice.”  Thompson then appealed to the Supreme Court of Louisiana.  That court held that, although public figures forfeit some of their First Amendment protection from defamation, St. Amant accused Thompson of a crime with utter disregard of whether the remarks were true.  Finally, that court held that the First Amendment protects uninhibited, robust debate, rather than an open season to shoot down the good name of anyone who happens to be a public servant. \\n</td>\n",
       "      <td>1</td>\n",
       "    </tr>\n",
       "    <tr>\n",
       "      <th>1</th>\n",
       "      <td>TRAIN_0001</td>\n",
       "      <td>Stephen Duncan</td>\n",
       "      <td>Lawrence Owens</td>\n",
       "      <td>Ramon Nelson was riding his bike when he suffered a lethal blow to the back of his head with a baseball bat. After two eyewitnesses identified Lawrence Owens from an array of photos and then a lineup, he was tried and convicted for Nelson’s death. Because Nelson was carrying cocaine and crack cocaine potentially for distribution, the judge at Owens’ bench trial ruled that Owens was probably also a drug dealer and was trying to “knock [Nelson] off.” Owens was found guilty of first-degree murder and sentenced to 25 years in prison.\\nOwens filed a petition for a writ of habeas corpus on the grounds that his constitutional right to due process was violated during the trial. He argued that the eyewitness identification should have been inadmissible based on unreliability and that the judge impermissibly inferred a motive when a motive was not an element of the offense. The district court denied the writ of habeas corpus, and Owens appealed. The U.S. Court of Appeals for the Seventh Circuit reversed the denial and held that the trial judge’s inference about Owens’s motive violated his right to have his guilt adjudicated solely based on the evidence presented at trial.\\n</td>\n",
       "      <td>0</td>\n",
       "    </tr>\n",
       "    <tr>\n",
       "      <th>2</th>\n",
       "      <td>TRAIN_0002</td>\n",
       "      <td>Billy Joe Magwood</td>\n",
       "      <td>Tony Patterson, Warden, et al.</td>\n",
       "      <td>An Alabama state court convicted Billy Joe Magwood of murder and sentenced him to death. Subsequently, an Alabama federal district court partially granted Mr. Magwood's petition for federal habeas corpus relief. The court upheld his conviction but instructed the state court to look at mitigating evidence when resentencing Mr. Magwood. Upon resentencing, the state court sentenced Mr. Magwood to death once again. Mr. Magwood filed a second petition for federal habeas corpus relief with the federal district court arguing that a judicial rule was retroactively applied in his case and that he lacked effective counsel at sentencing. The district court granted the petition and vacated Mr. Magwood's death sentence.\\nOn appeal, the U.S. Court of Appeals for the Eleventh circuit reversed, holding that prisoners may not raise challenges to an original sentence that could have been raised in an earlier petition. The court also held that Mr. Magwood's counsel was not ineffective because he failed to raise an argument that had already been decided by the state's highest court adverse to his client's position.\\n</td>\n",
       "      <td>1</td>\n",
       "    </tr>\n",
       "    <tr>\n",
       "      <th>3</th>\n",
       "      <td>TRAIN_0003</td>\n",
       "      <td>Linkletter</td>\n",
       "      <td>Walker</td>\n",
       "      <td>Victor Linkletter was convicted in state court on evidence illegally obtained by police prior to the Supreme Court decision concerning the Fourth Amendment in Mapp v. Ohio. Mapp applied the exclusionary rule to state criminal proceedings, denying the use of illegally obtained evidence at trial. Linkletter argued for a retrial based on the Mapp decision.\\n</td>\n",
       "      <td>0</td>\n",
       "    </tr>\n",
       "    <tr>\n",
       "      <th>4</th>\n",
       "      <td>TRAIN_0004</td>\n",
       "      <td>William Earl Fikes</td>\n",
       "      <td>Alabama</td>\n",
       "      <td>On April 24, 1953 in Selma, Alabama, an intruder broke into the apartment of the daughter of the city mayor. The daughter and the intruder struggled through several rooms until she was able to seize his knife, and he fled. The assailant had a towel over his head, so the victim could not identify the defendant during the trial. The police apprehended William Earl Fikes on the basis of a call from a private citizen and held him “on an open charge of investigation.” The police questioned Fikes for hours, placed him in jail, and limited his access to anyone familiar. After nearly a week of this treatment, Fikes confessed in the form of answers to the interrogator’s leading questions. Five days later, Fikes confessed under questioning a second time. When these confessions were admitted into the trial as evidence, Fikes did not testify regarding the events surrounding his interrogation because the judge had ruled he would be subjected to unlimited cross-examination. The jury convicted Fikes and sentenced him to death. The Supreme Court of Alabama affirmed.\\n</td>\n",
       "      <td>1</td>\n",
       "    </tr>\n",
       "  </tbody>\n",
       "</table>\n",
       "</div>"
      ],
      "text/plain": [
       "           ID         first_party                    second_party  \\\n",
       "0  TRAIN_0000   Phil A. St. Amant              Herman A. Thompson   \n",
       "1  TRAIN_0001      Stephen Duncan                  Lawrence Owens   \n",
       "2  TRAIN_0002   Billy Joe Magwood  Tony Patterson, Warden, et al.   \n",
       "3  TRAIN_0003          Linkletter                          Walker   \n",
       "4  TRAIN_0004  William Earl Fikes                         Alabama   \n",
       "\n",
       "                                                                                                                                                                                                                                                                                                                                                                                                                                                                                                                                                                                                                                                                                                                                                                                                                                                                                                                                                                                                                                                                                                                                                                                                                            facts  \\\n",
       "0                                                                                          On June 27, 1962, Phil St. Amant, a candidate for public office, made a television speech in Baton Rouge, Louisiana.  During this speech, St. Amant accused his political opponent of being a Communist and of being involved in criminal activities with the head of the local Teamsters Union.  Finally, St. Amant implicated Herman Thompson, an East Baton Rouge deputy sheriff, in a scheme to move money between the Teamsters Union and St. Amant’s political opponent. \\nThompson successfully sued St. Amant for defamation.  Louisiana’s First Circuit Court of Appeals reversed, holding that Thompson did not show St. Amant acted with “malice.”  Thompson then appealed to the Supreme Court of Louisiana.  That court held that, although public figures forfeit some of their First Amendment protection from defamation, St. Amant accused Thompson of a crime with utter disregard of whether the remarks were true.  Finally, that court held that the First Amendment protects uninhibited, robust debate, rather than an open season to shoot down the good name of anyone who happens to be a public servant. \\n   \n",
       "1  Ramon Nelson was riding his bike when he suffered a lethal blow to the back of his head with a baseball bat. After two eyewitnesses identified Lawrence Owens from an array of photos and then a lineup, he was tried and convicted for Nelson’s death. Because Nelson was carrying cocaine and crack cocaine potentially for distribution, the judge at Owens’ bench trial ruled that Owens was probably also a drug dealer and was trying to “knock [Nelson] off.” Owens was found guilty of first-degree murder and sentenced to 25 years in prison.\\nOwens filed a petition for a writ of habeas corpus on the grounds that his constitutional right to due process was violated during the trial. He argued that the eyewitness identification should have been inadmissible based on unreliability and that the judge impermissibly inferred a motive when a motive was not an element of the offense. The district court denied the writ of habeas corpus, and Owens appealed. The U.S. Court of Appeals for the Seventh Circuit reversed the denial and held that the trial judge’s inference about Owens’s motive violated his right to have his guilt adjudicated solely based on the evidence presented at trial.\\n   \n",
       "2                                                                      An Alabama state court convicted Billy Joe Magwood of murder and sentenced him to death. Subsequently, an Alabama federal district court partially granted Mr. Magwood's petition for federal habeas corpus relief. The court upheld his conviction but instructed the state court to look at mitigating evidence when resentencing Mr. Magwood. Upon resentencing, the state court sentenced Mr. Magwood to death once again. Mr. Magwood filed a second petition for federal habeas corpus relief with the federal district court arguing that a judicial rule was retroactively applied in his case and that he lacked effective counsel at sentencing. The district court granted the petition and vacated Mr. Magwood's death sentence.\\nOn appeal, the U.S. Court of Appeals for the Eleventh circuit reversed, holding that prisoners may not raise challenges to an original sentence that could have been raised in an earlier petition. The court also held that Mr. Magwood's counsel was not ineffective because he failed to raise an argument that had already been decided by the state's highest court adverse to his client's position.\\n   \n",
       "3                                                                                                                                                                                                                                                                                                                                                                                                                                                                                                                                                                                                                                                                                                                                                                                                                                                           Victor Linkletter was convicted in state court on evidence illegally obtained by police prior to the Supreme Court decision concerning the Fourth Amendment in Mapp v. Ohio. Mapp applied the exclusionary rule to state criminal proceedings, denying the use of illegally obtained evidence at trial. Linkletter argued for a retrial based on the Mapp decision.\\n   \n",
       "4                                                                                                                    On April 24, 1953 in Selma, Alabama, an intruder broke into the apartment of the daughter of the city mayor. The daughter and the intruder struggled through several rooms until she was able to seize his knife, and he fled. The assailant had a towel over his head, so the victim could not identify the defendant during the trial. The police apprehended William Earl Fikes on the basis of a call from a private citizen and held him “on an open charge of investigation.” The police questioned Fikes for hours, placed him in jail, and limited his access to anyone familiar. After nearly a week of this treatment, Fikes confessed in the form of answers to the interrogator’s leading questions. Five days later, Fikes confessed under questioning a second time. When these confessions were admitted into the trial as evidence, Fikes did not testify regarding the events surrounding his interrogation because the judge had ruled he would be subjected to unlimited cross-examination. The jury convicted Fikes and sentenced him to death. The Supreme Court of Alabama affirmed.\\n   \n",
       "\n",
       "   first_party_winner  \n",
       "0                   1  \n",
       "1                   0  \n",
       "2                   1  \n",
       "3                   0  \n",
       "4                   1  "
      ]
     },
     "execution_count": 5,
     "metadata": {},
     "output_type": "execute_result"
    }
   ],
   "source": [
    "train.head()"
   ]
  },
  {
   "cell_type": "code",
   "execution_count": 6,
   "id": "6f7c3a7a-694a-4959-8a05-fc3caab24e58",
   "metadata": {},
   "outputs": [
    {
     "data": {
      "text/html": [
       "<div>\n",
       "<style scoped>\n",
       "    .dataframe tbody tr th:only-of-type {\n",
       "        vertical-align: middle;\n",
       "    }\n",
       "\n",
       "    .dataframe tbody tr th {\n",
       "        vertical-align: top;\n",
       "    }\n",
       "\n",
       "    .dataframe thead th {\n",
       "        text-align: right;\n",
       "    }\n",
       "</style>\n",
       "<table border=\"1\" class=\"dataframe\">\n",
       "  <thead>\n",
       "    <tr style=\"text-align: right;\">\n",
       "      <th></th>\n",
       "      <th>ID</th>\n",
       "      <th>first_party</th>\n",
       "      <th>second_party</th>\n",
       "      <th>facts</th>\n",
       "    </tr>\n",
       "  </thead>\n",
       "  <tbody>\n",
       "    <tr>\n",
       "      <th>0</th>\n",
       "      <td>TEST_0000</td>\n",
       "      <td>Salerno</td>\n",
       "      <td>United States</td>\n",
       "      <td>The 1984 Bail Reform Act allowed the federal courts to detain an arrestee prior to trial if the government could prove that the individual was potentially dangerous to other people in the community. Prosecutors alleged that Salerno and another person in this case were prominent figures in the La Cosa Nostra crime family.\\n</td>\n",
       "    </tr>\n",
       "    <tr>\n",
       "      <th>1</th>\n",
       "      <td>TEST_0001</td>\n",
       "      <td>Milberg Weiss Bershad Hynes and Lerach</td>\n",
       "      <td>Lexecon, Inc.</td>\n",
       "      <td>Lexecon Inc. was a defendant in a class action lawsuit. Under 28 USC section 1407(a), the lawsuit was transferred for pretrial proceedings to the District of Arizona. Section 1407(a) authorizes the Judicial Panel on Multidistrict Litigation to transfer civil actions with common issues of fact \"to any district for coordinated or consolidated pretrial proceedings,\" but provides that the Panel \"shall\" remand any such action to the original district \"at or before the conclusion of such pretrial proceedings.\" After claims against it were dismissed, Lexecon brought suit against Milberg Weiss Bershad Hynes &amp; Lerach and others (Milberg) in the class action lawsuit in the Northern District of Illinois. Ultimately, the Panel, under section 1407(a), ordered the case transferred to the District of Arizona. Afterwards, Lexecon moved for the Arizona District Court to remand the case to Illinois. Milberg filed a countermotion requesting the Arizona District Court to invoke section 1404(a) to \"transfer\" the case to itself for trial.Ultimately, the court assigned the case to itself and the Court of Appeals affirmed its judgment.\\n</td>\n",
       "    </tr>\n",
       "    <tr>\n",
       "      <th>2</th>\n",
       "      <td>TEST_0002</td>\n",
       "      <td>No. 07-582\\t Title: \\t Federal Communications Commission, et al.</td>\n",
       "      <td>Fox Television Stations, Inc., et al.</td>\n",
       "      <td>In 2002 and 2003, Fox Television Stations broadcast the Billboard Music Awards, an annual program honoring top-selling musicians. During the broadcasts, one musician used an explicative in his acceptance speech, and a presenter used two expletives. The Federal Communications Commission (FCC), although it had previously taken the position that such fleeting and isolated expletives did not violate its indecency regime, issued notices of liability to Fox for broadcasting the profane language. The FCC argued that previous decisions referring to \"fleeting\" expletives were merely staff letters and dicta and did not accurately represent its position on the matter. Fox appealed the FCC sanctions to the U.S. Court of Appeals for the Second Circuit.\\nThe Second Circuit held that the FCC's liability order was \"arbitrary and capricious\" under the governing Administrative Procedure Act because the FCC had completely reversed its position on fleeting expletives without giving a proper justification. The Second Circuit also failed to find any evidence that the expletives were harmful.\\n</td>\n",
       "    </tr>\n",
       "    <tr>\n",
       "      <th>3</th>\n",
       "      <td>TEST_0003</td>\n",
       "      <td>Harold Kaufman</td>\n",
       "      <td>United States</td>\n",
       "      <td>During his trial for armed robbery of a federally insured savings and loan association, Harold Kaufman admitted to the crime but unsuccessfully claimed insanity.  He was convicted and the U.S. Court of Appeals for the Eighth Circuit affirmed.  Kaufman then filed a post-conviction motion in district court challenging the evidence that proved his sanity.  He alleged that the evidence was unlawfully seized in violation of the Fourth Amendment.  The district court denied relief, holding that unlawful search and seizure was not an available attack in post-conviction proceedings.  The Eighth Circuit affirmed.\\n</td>\n",
       "    </tr>\n",
       "    <tr>\n",
       "      <th>4</th>\n",
       "      <td>TEST_0004</td>\n",
       "      <td>Berger</td>\n",
       "      <td>Hanlon</td>\n",
       "      <td>In 1993, a magistrate judge issued a warrant authorizing the search of Paul and Erma Berger's Montana ranch for evidence of the taking of wildlife in violation of federal law. Later, a multiple-vehicle caravan consisting of government agents and a crew of photographers and reporters from CNN proceeded to the ranch. In executing the warrant, the federal officers allowed the media crew to accompany and observe them. Subsequently, the Berger's filed suit, asserting that the officials, special agents of the United States Fish and Wildlife Service and an assistant United States attorney, had violated their rights under the Fourth Amendment. The District Court concluded that the officials were entitled to qualified immunity, as no clearly established law protecting individuals from the commercial recording of a search of their premises existed at the time. The Court of Appeals reversed.\\n</td>\n",
       "    </tr>\n",
       "  </tbody>\n",
       "</table>\n",
       "</div>"
      ],
      "text/plain": [
       "          ID  \\\n",
       "0  TEST_0000   \n",
       "1  TEST_0001   \n",
       "2  TEST_0002   \n",
       "3  TEST_0003   \n",
       "4  TEST_0004   \n",
       "\n",
       "                                                        first_party  \\\n",
       "0                                                           Salerno   \n",
       "1                            Milberg Weiss Bershad Hynes and Lerach   \n",
       "2  No. 07-582\\t Title: \\t Federal Communications Commission, et al.   \n",
       "3                                                   Harold Kaufman    \n",
       "4                                                            Berger   \n",
       "\n",
       "                            second_party  \\\n",
       "0                          United States   \n",
       "1                          Lexecon, Inc.   \n",
       "2  Fox Television Stations, Inc., et al.   \n",
       "3                          United States   \n",
       "4                                 Hanlon   \n",
       "\n",
       "                                                                                                                                                                                                                                                                                                                                                                                                                                                                                                                                                                                                                                                                                                                                                                                                                                                                                                                                                                                                                                                                                                                                                                         facts  \n",
       "0                                                                                                                                                                                                                                                                                                                                                                                                                                                                                                                                                                                                                                                                                                                                                                                                                                         The 1984 Bail Reform Act allowed the federal courts to detain an arrestee prior to trial if the government could prove that the individual was potentially dangerous to other people in the community. Prosecutors alleged that Salerno and another person in this case were prominent figures in the La Cosa Nostra crime family.\\n  \n",
       "1  Lexecon Inc. was a defendant in a class action lawsuit. Under 28 USC section 1407(a), the lawsuit was transferred for pretrial proceedings to the District of Arizona. Section 1407(a) authorizes the Judicial Panel on Multidistrict Litigation to transfer civil actions with common issues of fact \"to any district for coordinated or consolidated pretrial proceedings,\" but provides that the Panel \"shall\" remand any such action to the original district \"at or before the conclusion of such pretrial proceedings.\" After claims against it were dismissed, Lexecon brought suit against Milberg Weiss Bershad Hynes & Lerach and others (Milberg) in the class action lawsuit in the Northern District of Illinois. Ultimately, the Panel, under section 1407(a), ordered the case transferred to the District of Arizona. Afterwards, Lexecon moved for the Arizona District Court to remand the case to Illinois. Milberg filed a countermotion requesting the Arizona District Court to invoke section 1404(a) to \"transfer\" the case to itself for trial.Ultimately, the court assigned the case to itself and the Court of Appeals affirmed its judgment.\\n  \n",
       "2                                             In 2002 and 2003, Fox Television Stations broadcast the Billboard Music Awards, an annual program honoring top-selling musicians. During the broadcasts, one musician used an explicative in his acceptance speech, and a presenter used two expletives. The Federal Communications Commission (FCC), although it had previously taken the position that such fleeting and isolated expletives did not violate its indecency regime, issued notices of liability to Fox for broadcasting the profane language. The FCC argued that previous decisions referring to \"fleeting\" expletives were merely staff letters and dicta and did not accurately represent its position on the matter. Fox appealed the FCC sanctions to the U.S. Court of Appeals for the Second Circuit.\\nThe Second Circuit held that the FCC's liability order was \"arbitrary and capricious\" under the governing Administrative Procedure Act because the FCC had completely reversed its position on fleeting expletives without giving a proper justification. The Second Circuit also failed to find any evidence that the expletives were harmful.\\n  \n",
       "3                                                                                                                                                                                                                                                                                                                                                                                                                                                                                                                                         During his trial for armed robbery of a federally insured savings and loan association, Harold Kaufman admitted to the crime but unsuccessfully claimed insanity.  He was convicted and the U.S. Court of Appeals for the Eighth Circuit affirmed.  Kaufman then filed a post-conviction motion in district court challenging the evidence that proved his sanity.  He alleged that the evidence was unlawfully seized in violation of the Fourth Amendment.  The district court denied relief, holding that unlawful search and seizure was not an available attack in post-conviction proceedings.  The Eighth Circuit affirmed.\\n  \n",
       "4                                                                                                                                                                                                                                              In 1993, a magistrate judge issued a warrant authorizing the search of Paul and Erma Berger's Montana ranch for evidence of the taking of wildlife in violation of federal law. Later, a multiple-vehicle caravan consisting of government agents and a crew of photographers and reporters from CNN proceeded to the ranch. In executing the warrant, the federal officers allowed the media crew to accompany and observe them. Subsequently, the Berger's filed suit, asserting that the officials, special agents of the United States Fish and Wildlife Service and an assistant United States attorney, had violated their rights under the Fourth Amendment. The District Court concluded that the officials were entitled to qualified immunity, as no clearly established law protecting individuals from the commercial recording of a search of their premises existed at the time. The Court of Appeals reversed.\\n  "
      ]
     },
     "execution_count": 6,
     "metadata": {},
     "output_type": "execute_result"
    }
   ],
   "source": [
    "test.head()"
   ]
  },
  {
   "cell_type": "code",
   "execution_count": null,
   "id": "8b446a73-55cc-4d28-81fe-8163f6ec7b2b",
   "metadata": {},
   "outputs": [],
   "source": []
  },
  {
   "cell_type": "code",
   "execution_count": 6,
   "id": "86bac983-8ade-49ac-9055-cb4c7d0238aa",
   "metadata": {},
   "outputs": [
    {
     "name": "stdout",
     "output_type": "stream",
     "text": [
      "<class 'pandas.core.frame.DataFrame'>\n",
      "RangeIndex: 2478 entries, 0 to 2477\n",
      "Data columns (total 5 columns):\n",
      " #   Column              Non-Null Count  Dtype \n",
      "---  ------              --------------  ----- \n",
      " 0   ID                  2478 non-null   object\n",
      " 1   first_party         2478 non-null   object\n",
      " 2   second_party        2478 non-null   object\n",
      " 3   facts               2478 non-null   object\n",
      " 4   first_party_winner  2478 non-null   int64 \n",
      "dtypes: int64(1), object(4)\n",
      "memory usage: 96.9+ KB\n"
     ]
    }
   ],
   "source": [
    "train.info()"
   ]
  },
  {
   "cell_type": "code",
   "execution_count": 7,
   "id": "6d54d8bc-2e8b-466b-b89d-ee2a99d1b183",
   "metadata": {},
   "outputs": [
    {
     "data": {
      "text/plain": [
       "ID                    0\n",
       "first_party           0\n",
       "second_party          0\n",
       "facts                 0\n",
       "first_party_winner    0\n",
       "dtype: int64"
      ]
     },
     "execution_count": 7,
     "metadata": {},
     "output_type": "execute_result"
    }
   ],
   "source": [
    "train.isnull().sum()"
   ]
  },
  {
   "cell_type": "markdown",
   "id": "8d8030d0-d170-4d3c-b5c0-b8391ec22243",
   "metadata": {},
   "source": [
    "## Seperate Datasets"
   ]
  },
  {
   "cell_type": "code",
   "execution_count": 7,
   "id": "36455fa1-a52f-4c49-9117-232eea3cce78",
   "metadata": {},
   "outputs": [],
   "source": [
    "df_target = train[['first_party_winner']]"
   ]
  },
  {
   "cell_type": "code",
   "execution_count": 8,
   "id": "9eb873ee-29f8-4684-9912-1516a9b145c7",
   "metadata": {},
   "outputs": [],
   "source": [
    "df_nlp = train[['facts', 'first_party', 'second_party']]"
   ]
  },
  {
   "cell_type": "markdown",
   "id": "35e40c35-7269-4e6d-8744-a2425dbacd25",
   "metadata": {},
   "source": [
    "## Data Cleaning"
   ]
  },
  {
   "cell_type": "code",
   "execution_count": 9,
   "id": "2887c9a0-ef8e-4a7d-916e-e9db7956a9ea",
   "metadata": {},
   "outputs": [],
   "source": [
    "import re\n",
    "import nltk"
   ]
  },
  {
   "cell_type": "code",
   "execution_count": 10,
   "id": "c63822ef-47db-4062-a666-ab1591dcaf19",
   "metadata": {},
   "outputs": [],
   "source": [
    "lst_stopwords = nltk.corpus.stopwords.words(\"english\")"
   ]
  },
  {
   "cell_type": "code",
   "execution_count": 11,
   "id": "1b101542-ecac-40f4-8ef1-9920c247e69d",
   "metadata": {},
   "outputs": [],
   "source": [
    "lst_meaningless = [\n",
    "    'et',\n",
    "    'al',\n",
    "    'inc',\n",
    "    'llc',\n",
    "    'co',\n",
    "    'corp',\n",
    "]"
   ]
  },
  {
   "cell_type": "code",
   "execution_count": 12,
   "id": "03996460-a704-4c66-8b35-54c42b3b765e",
   "metadata": {},
   "outputs": [],
   "source": [
    "#corpus = df_nlp\n",
    "#lst_tokens = nltk.tokenize.word_tokenize(corpus.str.cat(sep=\" \"))"
   ]
  },
  {
   "cell_type": "code",
   "execution_count": 13,
   "id": "4b3e8aa0-0089-4b9e-9f6f-6eb2b63c0b33",
   "metadata": {},
   "outputs": [],
   "source": [
    "ps = nltk.stem.porter.PorterStemmer()\n",
    "lem = nltk.stem.wordnet.WordNetLemmatizer()"
   ]
  },
  {
   "cell_type": "code",
   "execution_count": 14,
   "id": "e534ff35-50df-487c-9efd-ab09db1dd31a",
   "metadata": {},
   "outputs": [],
   "source": [
    "def utils_preprocess_text(text, flg_stemm=False, flg_lemm=True, lst_stopwords=None):\n",
    "    \n",
    "    ## clean (convert to lowercase and remove punctuations, characters and numbers then strip)\n",
    "    text = re.sub(r'[^a-zA-Z\\s]', '', str(text).lower().strip())\n",
    "            \n",
    "    ## Tokenize (convert from string to list)\n",
    "    lst_text = text.split()    ## remove Stopwords\n",
    "    if lst_stopwords is not None:\n",
    "        lst_text = [word for word in lst_text if word not in lst_stopwords]\n",
    "\n",
    "    ## Remove meaningless words\n",
    "    if lst_meaningless is not None:\n",
    "        lst_text = [word for word in lst_text if word not in lst_meaningless]\n",
    "\n",
    "    ## Remove one lenght words:\n",
    "    lst_text = [word for word in lst_text if len(word) >= 2]\n",
    "        \n",
    "    ## Stemming (remove -ing, -ly, ...)\n",
    "    if flg_stemm == True:\n",
    "        ps = nltk.stem.porter.PorterStemmer()\n",
    "        lst_text = [ps.stem(word) for word in lst_text]\n",
    "                \n",
    "    ## Lemmatisation (convert the word into root word)\n",
    "    if flg_lemm == True:\n",
    "        lem = nltk.stem.wordnet.WordNetLemmatizer()\n",
    "        lst_text = [lem.lemmatize(word) for word in lst_text]\n",
    "            \n",
    "    ## back to string from list\n",
    "    text = \" \".join(lst_text)\n",
    "    return text"
   ]
  },
  {
   "cell_type": "code",
   "execution_count": null,
   "id": "409ab678-47d1-4508-b177-aafa219bf479",
   "metadata": {},
   "outputs": [],
   "source": []
  },
  {
   "cell_type": "code",
   "execution_count": 15,
   "id": "e5777124-c300-44b4-9a04-26e4a89a43b7",
   "metadata": {},
   "outputs": [
    {
     "name": "stderr",
     "output_type": "stream",
     "text": [
      "/var/folders/fb/tsylykvd63d8k25rnpzpj6bc0000gn/T/ipykernel_56658/297067528.py:1: SettingWithCopyWarning: \n",
      "A value is trying to be set on a copy of a slice from a DataFrame.\n",
      "Try using .loc[row_indexer,col_indexer] = value instead\n",
      "\n",
      "See the caveats in the documentation: https://pandas.pydata.org/pandas-docs/stable/user_guide/indexing.html#returning-a-view-versus-a-copy\n",
      "  df_nlp[\"first_party_clean\"] = df_nlp[\"first_party\"].apply(lambda x: utils_preprocess_text(x, flg_stemm=False, flg_lemm=True, lst_stopwords=lst_stopwords))\n"
     ]
    }
   ],
   "source": [
    "df_nlp[\"first_party_clean\"] = df_nlp[\"first_party\"].apply(lambda x: utils_preprocess_text(x, flg_stemm=False, flg_lemm=True, lst_stopwords=lst_stopwords))"
   ]
  },
  {
   "cell_type": "code",
   "execution_count": 16,
   "id": "cce3f059-a21e-44b7-8944-dfd6507d8ff0",
   "metadata": {},
   "outputs": [
    {
     "data": {
      "text/plain": [
       "0                            phil st amant\n",
       "1                           stephen duncan\n",
       "2                        billy joe magwood\n",
       "3                               linkletter\n",
       "4                       william earl fikes\n",
       "                       ...                \n",
       "2473       hollyfrontier cheyenne refining\n",
       "2474          grupo mexicano de desarrollo\n",
       "2475                               peguero\n",
       "2476    immigration naturalization service\n",
       "2477                               markman\n",
       "Name: first_party_clean, Length: 2478, dtype: object"
      ]
     },
     "execution_count": 16,
     "metadata": {},
     "output_type": "execute_result"
    }
   ],
   "source": [
    "df_nlp[\"first_party_clean\"]"
   ]
  },
  {
   "cell_type": "code",
   "execution_count": null,
   "id": "5ba154ec-802b-4d19-a1c6-9b69ebca65de",
   "metadata": {},
   "outputs": [],
   "source": []
  },
  {
   "cell_type": "code",
   "execution_count": 17,
   "id": "53e984ea-89cf-4640-9b13-51f5c5a65f78",
   "metadata": {},
   "outputs": [],
   "source": [
    "import matplotlib as mpl\n",
    "import matplotlib.pyplot as plt\n",
    "%matplotlib inline"
   ]
  },
  {
   "cell_type": "code",
   "execution_count": 18,
   "id": "79d0358c-f934-4b06-9da0-46d0a9e0cf3a",
   "metadata": {},
   "outputs": [],
   "source": [
    "l = []\n",
    "\n",
    "for i in range(len(df_nlp[\"first_party_clean\"])):\n",
    "    l.extend(df_nlp[\"first_party_clean\"].iloc[i].split())"
   ]
  },
  {
   "cell_type": "code",
   "execution_count": 19,
   "id": "dccedf91-d380-4e86-bd22-052b13de7575",
   "metadata": {},
   "outputs": [
    {
     "data": {
      "text/plain": [
       "[Text(0, 0.5, '')]"
      ]
     },
     "execution_count": 19,
     "metadata": {},
     "output_type": "execute_result"
    },
    {
     "data": {
      "text/plain": [
       "<Figure size 10000x10000 with 0 Axes>"
      ]
     },
     "metadata": {},
     "output_type": "display_data"
    },
    {
     "data": {
      "image/png": "[encoded data removed]",
      "text/plain": [
       "<Figure size 640x480 with 1 Axes>"
      ]
     },
     "metadata": {},
     "output_type": "display_data"
    }
   ],
   "source": [
    "lst_tokens = l\n",
    "\n",
    "plt.figure(figsize=(100, 100))\n",
    "fig, ax = plt.subplots(nrows=1, ncols=1)\n",
    "fig.suptitle(\"Most frequent words\", fontsize=15)\n",
    "## unigrams\n",
    "\n",
    "dic_words_freq = nltk.FreqDist(lst_tokens)\n",
    "dtf_uni = pd.DataFrame(dic_words_freq.most_common(), \n",
    "                       columns=[\"Word\",\"Freq\"])\n",
    "dtf_uni.set_index(\"Word\").iloc[:30,:].sort_values(by=\"Freq\").plot(\n",
    "                  kind=\"barh\", title=\"Unigrams\", ax=ax, \n",
    "                  legend=False).grid(axis='x')\n",
    "ax.set(ylabel=None)"
   ]
  },
  {
   "cell_type": "code",
   "execution_count": null,
   "id": "2c052638-16bf-48b2-a42c-4006955b5002",
   "metadata": {},
   "outputs": [],
   "source": []
  },
  {
   "cell_type": "code",
   "execution_count": 20,
   "id": "b9a38dba-7bea-400b-852e-e34c62f61bbb",
   "metadata": {},
   "outputs": [],
   "source": [
    "test[\"first_party_clean\"] = test[\"first_party\"].apply(lambda x: utils_preprocess_text(x, flg_stemm=False, flg_lemm=True, lst_stopwords=lst_stopwords))"
   ]
  },
  {
   "cell_type": "code",
   "execution_count": 21,
   "id": "3d9c0007-fe24-4065-bdc6-a146128024f9",
   "metadata": {},
   "outputs": [
    {
     "data": {
      "text/plain": [
       "0                                             salerno\n",
       "1                    milberg wei bershad hynes lerach\n",
       "2              title federal communication commission\n",
       "3                                      harold kaufman\n",
       "4                                              berger\n",
       "                            ...                      \n",
       "1235                           haitian center council\n",
       "1236                                          whitman\n",
       "1237                        linda matteo john madigan\n",
       "1238    washington state apple advertising commission\n",
       "1239                                 theodore stovall\n",
       "Name: first_party_clean, Length: 1240, dtype: object"
      ]
     },
     "execution_count": 21,
     "metadata": {},
     "output_type": "execute_result"
    }
   ],
   "source": [
    "test[\"first_party_clean\"]"
   ]
  },
  {
   "cell_type": "code",
   "execution_count": 22,
   "id": "7874bdbf-e5f1-4a88-af2f-33d64a9c744a",
   "metadata": {},
   "outputs": [],
   "source": [
    "l = []\n",
    "\n",
    "for i in range(len(test[\"first_party_clean\"])):\n",
    "    l.extend(test[\"first_party_clean\"].iloc[i].split())"
   ]
  },
  {
   "cell_type": "code",
   "execution_count": null,
   "id": "966fd07d-1710-415f-8d65-d0520d02da7d",
   "metadata": {},
   "outputs": [],
   "source": []
  },
  {
   "cell_type": "code",
   "execution_count": 23,
   "id": "76aed4de-49c9-41b6-94de-b3c20500673b",
   "metadata": {
    "scrolled": true
   },
   "outputs": [
    {
     "data": {
      "text/plain": [
       "['salerno',\n",
       " 'milberg',\n",
       " 'wei',\n",
       " 'bershad',\n",
       " 'hynes',\n",
       " 'lerach',\n",
       " 'title',\n",
       " 'federal',\n",
       " 'communication',\n",
       " 'commission',\n",
       " 'harold',\n",
       " 'kaufman',\n",
       " 'berger',\n",
       " 'air',\n",
       " 'line',\n",
       " 'pilot',\n",
       " 'association',\n",
       " 'traffic',\n",
       " 'stream',\n",
       " 'bvi',\n",
       " 'infrastructure',\n",
       " 'ltd',\n",
       " 'nrg',\n",
       " 'power',\n",
       " 'marketing',\n",
       " 'united',\n",
       " 'state',\n",
       " 'united',\n",
       " 'state',\n",
       " 'catholic',\n",
       " 'conference',\n",
       " 'bobby',\n",
       " 'lee',\n",
       " 'holmes',\n",
       " 'department',\n",
       " 'agriculture',\n",
       " 'centennial',\n",
       " 'saving',\n",
       " 'bank',\n",
       " 'fsb',\n",
       " 'umbehr',\n",
       " 'unum',\n",
       " 'life',\n",
       " 'insurance',\n",
       " 'company',\n",
       " 'america',\n",
       " 'saffold',\n",
       " 'united',\n",
       " 'state',\n",
       " 'national',\n",
       " 'organization',\n",
       " 'woman',\n",
       " 'marmet',\n",
       " 'health',\n",
       " 'care',\n",
       " 'center',\n",
       " 'walter',\n",
       " 'rothgery',\n",
       " 'federal',\n",
       " 'power',\n",
       " 'commission',\n",
       " 'wallstreetcom',\n",
       " 'united',\n",
       " 'state',\n",
       " 'patent',\n",
       " 'trademark',\n",
       " 'office',\n",
       " 'lonnie',\n",
       " 'lee',\n",
       " 'burton',\n",
       " 'american',\n",
       " 'trucking',\n",
       " 'association',\n",
       " 'jerry',\n",
       " 'weast',\n",
       " 'superintendent',\n",
       " 'montgomery',\n",
       " 'county',\n",
       " 'public',\n",
       " 'school',\n",
       " 'cowpasture',\n",
       " 'river',\n",
       " 'association',\n",
       " 'estate',\n",
       " 'ahmad',\n",
       " 'uthman',\n",
       " 'shabazz',\n",
       " 'sadruddin',\n",
       " 'nafis',\n",
       " 'mateen',\n",
       " 'florida',\n",
       " 'star',\n",
       " 'gordon',\n",
       " 'thomas',\n",
       " 'american',\n",
       " 'manufacturer',\n",
       " 'mutual',\n",
       " 'insurance',\n",
       " 'company',\n",
       " 'webster',\n",
       " 'bivens',\n",
       " 'virginia',\n",
       " 'olivea',\n",
       " 'marx',\n",
       " 'alabama',\n",
       " 'chandler',\n",
       " 'mcrae',\n",
       " 'osullivan',\n",
       " 'united',\n",
       " 'state',\n",
       " 'michael',\n",
       " 'yarborough',\n",
       " 'warden',\n",
       " 'dariush',\n",
       " 'elahi',\n",
       " 'director',\n",
       " 'office',\n",
       " 'worker',\n",
       " 'compensation',\n",
       " 'program',\n",
       " 'pulse',\n",
       " 'electronics',\n",
       " 'nordlinger',\n",
       " 'south',\n",
       " 'dakota',\n",
       " 'hohn',\n",
       " 'central',\n",
       " 'state',\n",
       " 'univ',\n",
       " 'raul',\n",
       " 'lopez',\n",
       " 'warden',\n",
       " 'district',\n",
       " 'columbia',\n",
       " 'charles',\n",
       " 'kokesh',\n",
       " 'federal',\n",
       " 'deposit',\n",
       " 'insurance',\n",
       " 'corporation',\n",
       " 'michael',\n",
       " 'boulware',\n",
       " 'mclaughlin',\n",
       " 'lorie',\n",
       " 'davis',\n",
       " 'director',\n",
       " 'texas',\n",
       " 'department',\n",
       " 'criminal',\n",
       " 'justice',\n",
       " 'correctional',\n",
       " 'institution',\n",
       " 'division',\n",
       " 'denard',\n",
       " 'stokeling',\n",
       " 'david',\n",
       " 'mcmanus',\n",
       " 'jr',\n",
       " 'alberto',\n",
       " 'gonzales',\n",
       " 'attorney',\n",
       " 'general',\n",
       " 'doe',\n",
       " 'florida',\n",
       " 'entergy',\n",
       " 'louisiana',\n",
       " 'florida',\n",
       " 'reliant',\n",
       " 'energy',\n",
       " 'service',\n",
       " 'fred',\n",
       " 'doyle',\n",
       " 'doug',\n",
       " 'dretke',\n",
       " 'director',\n",
       " 'texas',\n",
       " 'department',\n",
       " 'criminal',\n",
       " 'justice',\n",
       " 'correctional',\n",
       " 'institution',\n",
       " 'division',\n",
       " 'florida',\n",
       " 'gina',\n",
       " 'fiore',\n",
       " 'keith',\n",
       " 'gipson',\n",
       " 'wisconsin',\n",
       " 'ex',\n",
       " 'rel',\n",
       " 'la',\n",
       " 'follette',\n",
       " 'randy',\n",
       " 'white',\n",
       " 'warden',\n",
       " 'robert',\n",
       " 'tolan',\n",
       " 'school',\n",
       " 'district',\n",
       " 'city',\n",
       " 'grand',\n",
       " 'rapid',\n",
       " 'federal',\n",
       " 'election',\n",
       " 'commission',\n",
       " 'masterpiece',\n",
       " 'cakeshop',\n",
       " 'ltd',\n",
       " 'jack',\n",
       " 'phillips',\n",
       " 'epperson',\n",
       " 'home',\n",
       " 'concrete',\n",
       " 'supply',\n",
       " 'forsyth',\n",
       " 'county',\n",
       " 'monsanto',\n",
       " 'company',\n",
       " 'rudolf',\n",
       " 'john',\n",
       " 'herrmann',\n",
       " 'gebser',\n",
       " 'sullivan',\n",
       " 'robert',\n",
       " 'anthony',\n",
       " 'williams',\n",
       " 'aka',\n",
       " 'anthony',\n",
       " 'erthel',\n",
       " 'williams',\n",
       " 'california',\n",
       " 'bennett',\n",
       " 'american',\n",
       " 'mini',\n",
       " 'theatre',\n",
       " 'california',\n",
       " 'michael',\n",
       " 'astrue',\n",
       " 'commissioner',\n",
       " 'social',\n",
       " 'security',\n",
       " 'rafael',\n",
       " 'arriaza',\n",
       " 'gonzalez',\n",
       " 'clinton',\n",
       " 'matsushita',\n",
       " 'elec',\n",
       " 'industrial',\n",
       " 'company',\n",
       " 'nathaniel',\n",
       " 'smith',\n",
       " 'paris',\n",
       " 'adult',\n",
       " 'theatre',\n",
       " 'egelhoff',\n",
       " 'youpee',\n",
       " 'eric',\n",
       " 'holder',\n",
       " 'jr',\n",
       " 'attorney',\n",
       " 'general',\n",
       " 'troy',\n",
       " 'lambert',\n",
       " 'wmca',\n",
       " 'lorenzo',\n",
       " 'prado',\n",
       " 'navarette',\n",
       " 'jose',\n",
       " 'prado',\n",
       " 'navarette',\n",
       " 'jerome',\n",
       " 'edward',\n",
       " 'buie',\n",
       " 'kinney',\n",
       " 'kinmon',\n",
       " 'lau',\n",
       " 'karen',\n",
       " 'capato',\n",
       " 'barion',\n",
       " 'perry',\n",
       " 'advanced',\n",
       " 'micro',\n",
       " 'device',\n",
       " 'rebecca',\n",
       " 'rogers',\n",
       " 'chamber',\n",
       " 'william',\n",
       " 'osborne',\n",
       " 'catherine',\n",
       " 'ratliff',\n",
       " 'kansa',\n",
       " 'akio',\n",
       " 'kawashima',\n",
       " 'ux',\n",
       " 'bp',\n",
       " 'america',\n",
       " 'production',\n",
       " 'successor',\n",
       " 'interest',\n",
       " 'amoco',\n",
       " 'production',\n",
       " 'johnson',\n",
       " 'carey',\n",
       " 'miller',\n",
       " 'brown',\n",
       " 'williamson',\n",
       " 'tobacco',\n",
       " 'corporation',\n",
       " 'james',\n",
       " 'hill',\n",
       " 'lago',\n",
       " 'vista',\n",
       " 'independent',\n",
       " 'school',\n",
       " 'district',\n",
       " 'mite',\n",
       " 'corporation',\n",
       " 'north',\n",
       " 'carolina',\n",
       " 'state',\n",
       " 'board',\n",
       " 'education',\n",
       " 'carlos',\n",
       " 'dominguez',\n",
       " 'benitez',\n",
       " 'dickerson',\n",
       " 'vernon',\n",
       " 'hugh',\n",
       " 'bowman',\n",
       " 'united',\n",
       " 'state',\n",
       " 'maine',\n",
       " 'public',\n",
       " 'utility',\n",
       " 'commission',\n",
       " 'united',\n",
       " 'state',\n",
       " 'michael',\n",
       " 'knowles',\n",
       " 'warden',\n",
       " 'united',\n",
       " 'state',\n",
       " 'reyno',\n",
       " 'jeffrey',\n",
       " 'jerome',\n",
       " 'salina',\n",
       " 'carlos',\n",
       " 'romerobarcelo',\n",
       " 'radamees',\n",
       " 'tirado',\n",
       " 'guevara',\n",
       " 'environmental',\n",
       " 'quality',\n",
       " 'board',\n",
       " 'charlotte',\n",
       " 'cuno',\n",
       " 'tennessee',\n",
       " 'reader',\n",
       " 'digest',\n",
       " 'association',\n",
       " 'frank',\n",
       " 'ricci',\n",
       " 'ritzen',\n",
       " 'group',\n",
       " 'united',\n",
       " 'state',\n",
       " 'lamar',\n",
       " 'archer',\n",
       " 'cofrin',\n",
       " 'llp',\n",
       " 'alden',\n",
       " 'robert',\n",
       " 'aquilino',\n",
       " 'joseph',\n",
       " 'sero',\n",
       " 'dba',\n",
       " 'home',\n",
       " 'maintenance',\n",
       " 'john',\n",
       " 'clyde',\n",
       " 'abel',\n",
       " 'dan',\n",
       " 'wideman',\n",
       " 'ohio',\n",
       " 'civil',\n",
       " 'right',\n",
       " 'commission',\n",
       " 'quill',\n",
       " 'corporation',\n",
       " 'jimmy',\n",
       " 'swaggart',\n",
       " 'ministry',\n",
       " 'united',\n",
       " 'state',\n",
       " 'dominic',\n",
       " 'oliveira',\n",
       " 'massachusetts',\n",
       " 'united',\n",
       " 'state',\n",
       " 'america',\n",
       " 'eric',\n",
       " 'holder',\n",
       " 'jr',\n",
       " 'attorney',\n",
       " 'general',\n",
       " 'malesko',\n",
       " 'robert',\n",
       " 'minnick',\n",
       " 'united',\n",
       " 'state',\n",
       " 'black',\n",
       " 'national',\n",
       " 'meat',\n",
       " 'association',\n",
       " 'brian',\n",
       " 'schaffer',\n",
       " 'minor',\n",
       " 'parent',\n",
       " 'next',\n",
       " 'friend',\n",
       " 'jocelyn',\n",
       " 'martin',\n",
       " 'schaffer',\n",
       " 'ux',\n",
       " 'clarissa',\n",
       " 'marsh',\n",
       " 'dayton',\n",
       " 'christian',\n",
       " 'school',\n",
       " 'rust',\n",
       " 'taylor',\n",
       " 'gurley',\n",
       " 'dba',\n",
       " 'gurley',\n",
       " 'oil',\n",
       " 'united',\n",
       " 'state',\n",
       " 'united',\n",
       " 'state',\n",
       " 'brady',\n",
       " 'tim',\n",
       " 'wood',\n",
       " 'atlantic',\n",
       " 'research',\n",
       " 'corporation',\n",
       " 'yellow',\n",
       " 'transportation',\n",
       " 'marisa',\n",
       " 'pavan',\n",
       " 'john',\n",
       " 'distefano',\n",
       " 'maryland',\n",
       " 'lawyer',\n",
       " 'wisconsin',\n",
       " 'king',\n",
       " 'spalding',\n",
       " 'grumet',\n",
       " 'thomas',\n",
       " 'joe',\n",
       " 'millerel',\n",
       " 'united',\n",
       " 'state',\n",
       " 'army',\n",
       " 'corp',\n",
       " 'engineer',\n",
       " 'barbara',\n",
       " 'dolan',\n",
       " 'baltimore',\n",
       " 'ohio',\n",
       " 'railroad',\n",
       " 'interstate',\n",
       " 'commerce',\n",
       " 'commission',\n",
       " 'georgia',\n",
       " 'state',\n",
       " 'board',\n",
       " 'equalization',\n",
       " 'saul',\n",
       " 'molinamartinez',\n",
       " 'federal',\n",
       " 'communication',\n",
       " 'commission',\n",
       " 'boston',\n",
       " 'scientific',\n",
       " 'cain',\n",
       " 'spencer',\n",
       " 'vernon',\n",
       " 'lee',\n",
       " 'bound',\n",
       " 'commission',\n",
       " 'state',\n",
       " 'department',\n",
       " 'correction',\n",
       " 'stanley',\n",
       " 'blackledge',\n",
       " 'warden',\n",
       " 'cetral',\n",
       " 'state',\n",
       " 'prison',\n",
       " 'turner',\n",
       " 'superintendent',\n",
       " 'odom',\n",
       " 'correctional',\n",
       " 'institution',\n",
       " 'troy',\n",
       " 'brown',\n",
       " 'jose',\n",
       " 'padilla',\n",
       " 'donna',\n",
       " 'newman',\n",
       " 'next',\n",
       " 'friend',\n",
       " 'jose',\n",
       " 'padilla',\n",
       " 'fortyfourth',\n",
       " 'general',\n",
       " 'assembly',\n",
       " 'colorado',\n",
       " 'roger',\n",
       " 'wheeler',\n",
       " 'duke',\n",
       " 'energy',\n",
       " 'corporation',\n",
       " 'alabama',\n",
       " 'regan',\n",
       " 'city',\n",
       " 'new',\n",
       " 'york',\n",
       " 'gillespie',\n",
       " 'county',\n",
       " 'texas',\n",
       " 'chamber',\n",
       " 'commerce',\n",
       " 'united',\n",
       " 'state',\n",
       " 'america',\n",
       " 'richardson',\n",
       " 'maine',\n",
       " 'bay',\n",
       " 'mill',\n",
       " 'indian',\n",
       " 'community',\n",
       " 'michael',\n",
       " 'moss',\n",
       " 'becker',\n",
       " 'tyson',\n",
       " 'food',\n",
       " 'feltner',\n",
       " 'united',\n",
       " 'state',\n",
       " 'glen',\n",
       " 'scott',\n",
       " 'milner',\n",
       " 'cnh',\n",
       " 'industrial',\n",
       " 'nv',\n",
       " 'claris',\n",
       " 'covert',\n",
       " 'spectrum',\n",
       " 'sport',\n",
       " 'kenneth',\n",
       " 'leighton',\n",
       " 'texas',\n",
       " 'lorrain',\n",
       " 'robertson',\n",
       " 'richard',\n",
       " 'robinson',\n",
       " 'abrams',\n",
       " 'tony',\n",
       " 'henderson',\n",
       " 'florida',\n",
       " 'department',\n",
       " 'revenue',\n",
       " 'united',\n",
       " 'state',\n",
       " 'francis',\n",
       " 'orff',\n",
       " 'darrel',\n",
       " 'vannoy',\n",
       " 'warden',\n",
       " 'city',\n",
       " 'chicago',\n",
       " 'illinois',\n",
       " 'complete',\n",
       " 'auto',\n",
       " 'transit',\n",
       " 'cox',\n",
       " 'fish',\n",
       " 'game',\n",
       " 'commission',\n",
       " 'montana',\n",
       " 'eleanor',\n",
       " 'mccullen',\n",
       " 'jean',\n",
       " 'zarrella',\n",
       " 'gregory',\n",
       " 'smith',\n",
       " 'eric',\n",
       " 'cadin',\n",
       " 'cyril',\n",
       " 'shea',\n",
       " 'mark',\n",
       " 'bashour',\n",
       " 'nancy',\n",
       " 'clark',\n",
       " 'mcintyre',\n",
       " 'machinery',\n",
       " 'ltd',\n",
       " 'arkansas',\n",
       " 'united',\n",
       " 'state',\n",
       " 'mitsubishi',\n",
       " 'motor',\n",
       " 'corporation',\n",
       " 'marvin',\n",
       " 'horne',\n",
       " 'evan',\n",
       " 'miller',\n",
       " 'bozeman',\n",
       " 'grokster',\n",
       " 'ltd',\n",
       " 'dethorne',\n",
       " 'graham',\n",
       " 'harper',\n",
       " 'asahi',\n",
       " 'metal',\n",
       " 'company',\n",
       " 'ltd',\n",
       " 'return',\n",
       " 'mail',\n",
       " 'tennessee',\n",
       " 'wine',\n",
       " 'spirit',\n",
       " 'retailer',\n",
       " 'association',\n",
       " 'united',\n",
       " 'state',\n",
       " 'district',\n",
       " 'court',\n",
       " 'eastern',\n",
       " 'district',\n",
       " 'michigan',\n",
       " 'dun',\n",
       " 'bradstreet',\n",
       " 'jeffrey',\n",
       " 'beard',\n",
       " 'secretary',\n",
       " 'pennsylvania',\n",
       " 'department',\n",
       " 'correction',\n",
       " 'county',\n",
       " 'school',\n",
       " 'board',\n",
       " 'new',\n",
       " 'kent',\n",
       " 'county',\n",
       " 'virginia',\n",
       " 'alicia',\n",
       " 'limtiaco',\n",
       " 'attorney',\n",
       " 'general',\n",
       " 'guam',\n",
       " 'macdonald',\n",
       " 'chesapeake',\n",
       " 'potomac',\n",
       " 'telephone',\n",
       " 'company',\n",
       " 'virginia',\n",
       " 'u',\n",
       " 'noreen',\n",
       " 'hulteen',\n",
       " 'chris',\n",
       " 'simopoulos',\n",
       " 'columbia',\n",
       " 'picture',\n",
       " 'television',\n",
       " 'jamal',\n",
       " 'kiyemba',\n",
       " 'city',\n",
       " 'joliet',\n",
       " 'illinois',\n",
       " 'florida',\n",
       " 'rejane',\n",
       " 'burton',\n",
       " 'act',\n",
       " 'assistant',\n",
       " 'secretary',\n",
       " 'land',\n",
       " 'mineral',\n",
       " 'management',\n",
       " 'department',\n",
       " 'interior',\n",
       " 'james',\n",
       " 'rual',\n",
       " 'miller',\n",
       " 'chris',\n",
       " 'sale',\n",
       " 'acting',\n",
       " 'commissioner',\n",
       " 'immigration',\n",
       " 'naturalization',\n",
       " 'service',\n",
       " 'idaho',\n",
       " 'florida',\n",
       " 'legislative',\n",
       " 'investigation',\n",
       " 'committee',\n",
       " 'zenith',\n",
       " 'radio',\n",
       " 'corporation',\n",
       " 'fbl',\n",
       " 'financial',\n",
       " 'service',\n",
       " 'maryland',\n",
       " 'michael',\n",
       " 'astrue',\n",
       " 'commissioner',\n",
       " 'social',\n",
       " 'security',\n",
       " 'ohio',\n",
       " 'virginia',\n",
       " 'virginia',\n",
       " 'board',\n",
       " 'election',\n",
       " 'pacifica',\n",
       " 'foundation',\n",
       " 'united',\n",
       " 'state',\n",
       " 'sue',\n",
       " 'evenwel',\n",
       " 'german',\n",
       " 'lopez',\n",
       " 'lechmere',\n",
       " 'john',\n",
       " 'leroy',\n",
       " 'spring',\n",
       " 'denise',\n",
       " 'mcveigh',\n",
       " 'administratrix',\n",
       " 'estate',\n",
       " 'joseph',\n",
       " 'mcveigh',\n",
       " 'gonzales',\n",
       " 'rosalind',\n",
       " 'mcclanahan',\n",
       " 'stauffer',\n",
       " 'chemical',\n",
       " 'company',\n",
       " 'gene',\n",
       " 'arline',\n",
       " 'united',\n",
       " 'state',\n",
       " 'south',\n",
       " 'carolina',\n",
       " 'washington',\n",
       " 'state',\n",
       " 'department',\n",
       " 'health',\n",
       " 'human',\n",
       " 'service',\n",
       " 'richard',\n",
       " 'bert',\n",
       " 'mosley',\n",
       " 'gary',\n",
       " 'davenport',\n",
       " 'leon',\n",
       " 'chamber',\n",
       " 'kimberly',\n",
       " 'kent',\n",
       " 'national',\n",
       " 'labor',\n",
       " 'relation',\n",
       " 'board',\n",
       " 'oconnor',\n",
       " 'united',\n",
       " 'state',\n",
       " 'california',\n",
       " 'democratic',\n",
       " 'party',\n",
       " 'new',\n",
       " 'jersey',\n",
       " 'bates',\n",
       " 'rufus',\n",
       " 'junior',\n",
       " 'mincey',\n",
       " 'security',\n",
       " 'exchange',\n",
       " 'commission',\n",
       " 'sandra',\n",
       " 'little',\n",
       " 'covington',\n",
       " 'scott',\n",
       " 'kernan',\n",
       " 'piper',\n",
       " 'aircraft',\n",
       " 'company',\n",
       " 'evans',\n",
       " 'powerex',\n",
       " 'caspar',\n",
       " 'weinberger',\n",
       " 'secretary',\n",
       " 'health',\n",
       " 'education',\n",
       " 'welfare',\n",
       " 'loretta',\n",
       " 'lynch',\n",
       " 'attorney',\n",
       " 'general',\n",
       " 'united',\n",
       " 'state',\n",
       " 'michigan',\n",
       " 'bigelow',\n",
       " 'buckley',\n",
       " 'united',\n",
       " 'state',\n",
       " 'gilbert',\n",
       " 'hyatt',\n",
       " 'empagran',\n",
       " 'sa',\n",
       " 'united',\n",
       " 'state',\n",
       " 'doe',\n",
       " 'dow',\n",
       " 'chemical',\n",
       " 'company',\n",
       " 'joshua',\n",
       " 'davey',\n",
       " 'herman',\n",
       " 'avery',\n",
       " 'gundy',\n",
       " 'gary',\n",
       " 'locke',\n",
       " 'governor',\n",
       " 'washington',\n",
       " 'lincoln',\n",
       " 'property',\n",
       " 'company',\n",
       " 'glenn',\n",
       " 'tibble',\n",
       " 'choctaw',\n",
       " 'nation',\n",
       " 'leavitt',\n",
       " 'governor',\n",
       " 'utah',\n",
       " 'united',\n",
       " 'state',\n",
       " 'soler',\n",
       " 'chryslerplymouth',\n",
       " 'chevron',\n",
       " 'oil',\n",
       " 'company',\n",
       " 'william',\n",
       " 'freeman',\n",
       " 'joiner',\n",
       " 'california',\n",
       " 'united',\n",
       " 'state',\n",
       " 'stephenson',\n",
       " 'melvin',\n",
       " 'smith',\n",
       " 'paul',\n",
       " 'imbler',\n",
       " 'proffitt',\n",
       " 'lunding',\n",
       " 'gladys',\n",
       " 'pulliam',\n",
       " 'magistrate',\n",
       " 'county',\n",
       " 'culpeper',\n",
       " 'virginia',\n",
       " 'baldwin',\n",
       " 'nationalist',\n",
       " 'movement',\n",
       " 'edward',\n",
       " 'state',\n",
       " 'illinois',\n",
       " 'texas',\n",
       " 'weisman',\n",
       " 'life',\n",
       " 'technology',\n",
       " 'patrick',\n",
       " 'day',\n",
       " 'richard',\n",
       " 'mccarty',\n",
       " 'reed',\n",
       " 'otto',\n",
       " 'kerner',\n",
       " 'former',\n",
       " 'governor',\n",
       " 'illinois',\n",
       " 'coy',\n",
       " 'david',\n",
       " 'bobby',\n",
       " 'susette',\n",
       " 'kelo',\n",
       " 'ernest',\n",
       " 'john',\n",
       " 'dobbert',\n",
       " 'jr',\n",
       " 'patrice',\n",
       " 'seibert',\n",
       " 'roy',\n",
       " 'torcaso',\n",
       " 'aurelius',\n",
       " 'investment',\n",
       " 'fawzi',\n",
       " 'khalid',\n",
       " 'abdullah',\n",
       " 'fahad',\n",
       " 'odah',\n",
       " 'neighborhood',\n",
       " 'housing',\n",
       " 'service',\n",
       " 'chicago',\n",
       " 'tennessee',\n",
       " 'gas',\n",
       " 'transmission',\n",
       " 'company',\n",
       " 'michael',\n",
       " 'whiting',\n",
       " 'james',\n",
       " 'ohear',\n",
       " 'sander',\n",
       " 'dunn',\n",
       " 'angelone',\n",
       " 'leegin',\n",
       " 'creative',\n",
       " 'leather',\n",
       " 'product',\n",
       " 'charles',\n",
       " 'murphy',\n",
       " 'clyde',\n",
       " 'timothy',\n",
       " 'bunkley',\n",
       " 'arizona',\n",
       " 'terry',\n",
       " 'stewart',\n",
       " 'director',\n",
       " 'arizona',\n",
       " 'department',\n",
       " 'correction',\n",
       " 'allina',\n",
       " 'health',\n",
       " 'service',\n",
       " 'timothy',\n",
       " 'bauer',\n",
       " 'merck',\n",
       " 'sharp',\n",
       " 'dohme',\n",
       " 'reef',\n",
       " 'joelis',\n",
       " 'jardines',\n",
       " 'michael',\n",
       " 'riley',\n",
       " 'united',\n",
       " 'state',\n",
       " 'united',\n",
       " 'state',\n",
       " 'richard',\n",
       " 'nixon',\n",
       " 'ulysses',\n",
       " 'tory',\n",
       " 'zackary',\n",
       " 'brown',\n",
       " 'mt',\n",
       " 'healthy',\n",
       " 'city',\n",
       " 'school',\n",
       " 'district',\n",
       " 'board',\n",
       " 'education',\n",
       " 'ralph',\n",
       " 'abernathy',\n",
       " 'neztsosie',\n",
       " 'montgomery',\n",
       " 'united',\n",
       " 'state',\n",
       " 'daimlerchrysler',\n",
       " 'alabama',\n",
       " 'coleman',\n",
       " 'young',\n",
       " 'smith',\n",
       " 'american',\n",
       " 'export',\n",
       " 'line',\n",
       " 'campbellewald',\n",
       " 'company',\n",
       " 'michael',\n",
       " 'clarke',\n",
       " 'sierra',\n",
       " 'club',\n",
       " 'eric',\n",
       " 'holder',\n",
       " 'attorney',\n",
       " 'general',\n",
       " 'allentown',\n",
       " 'mack',\n",
       " 'sale',\n",
       " 'service',\n",
       " 'advocate',\n",
       " ...]"
      ]
     },
     "execution_count": 23,
     "metadata": {},
     "output_type": "execute_result"
    }
   ],
   "source": [
    "l"
   ]
  },
  {
   "cell_type": "code",
   "execution_count": 24,
   "id": "19a42613-9342-424f-a481-c52b4310617d",
   "metadata": {},
   "outputs": [
    {
     "data": {
      "text/plain": [
       "[Text(0, 0.5, '')]"
      ]
     },
     "execution_count": 24,
     "metadata": {},
     "output_type": "execute_result"
    },
    {
     "data": {
      "text/plain": [
       "<Figure size 10000x10000 with 0 Axes>"
      ]
     },
     "metadata": {},
     "output_type": "display_data"
    },
    {
     "data": {
      "image/png": "[encoded data removed]",
      "text/plain": [
       "<Figure size 640x480 with 1 Axes>"
      ]
     },
     "metadata": {},
     "output_type": "display_data"
    }
   ],
   "source": [
    "lst_tokens = l\n",
    "\n",
    "plt.figure(figsize=(100, 100))\n",
    "fig, ax = plt.subplots(nrows=1, ncols=1)\n",
    "fig.suptitle(\"Most frequent words\", fontsize=15)\n",
    "## unigrams\n",
    "\n",
    "dic_words_freq = nltk.FreqDist(lst_tokens)\n",
    "dtf_uni = pd.DataFrame(dic_words_freq.most_common(), \n",
    "                       columns=[\"Word\",\"Freq\"])\n",
    "dtf_uni.set_index(\"Word\").iloc[:30,:].sort_values(by=\"Freq\").plot(\n",
    "                  kind=\"barh\", title=\"Unigrams\", ax=ax, \n",
    "                  legend=False).grid(axis='x')\n",
    "ax.set(ylabel=None)"
   ]
  },
  {
   "cell_type": "code",
   "execution_count": null,
   "id": "b9845cfe-31e7-492f-b794-2d19df2ec81a",
   "metadata": {},
   "outputs": [],
   "source": []
  },
  {
   "cell_type": "code",
   "execution_count": 25,
   "id": "a43f83a6-7f7f-45f3-bacc-5e569cd49c53",
   "metadata": {},
   "outputs": [],
   "source": [
    "df_nlp[\"facts_clean\"] = df_nlp[\"facts\"].apply(lambda x: utils_preprocess_text(x, flg_stemm=False, flg_lemm=True, lst_stopwords=lst_stopwords))\n",
    "df_nlp[\"first_party_clean\"] = df_nlp[\"first_party\"].apply(lambda x: utils_preprocess_text(x, flg_stemm=False, flg_lemm=True, lst_stopwords=lst_stopwords))\n",
    "df_nlp[\"second_party_clean\"] = df_nlp[\"second_party\"].apply(lambda x: utils_preprocess_text(x, flg_stemm=False, flg_lemm=True, lst_stopwords=lst_stopwords))"
   ]
  },
  {
   "cell_type": "code",
   "execution_count": 26,
   "id": "dd9dfb22-5dbd-4beb-a2ac-e5e624e41e48",
   "metadata": {},
   "outputs": [
    {
     "data": {
      "text/html": [
       "<div>\n",
       "<style scoped>\n",
       "    .dataframe tbody tr th:only-of-type {\n",
       "        vertical-align: middle;\n",
       "    }\n",
       "\n",
       "    .dataframe tbody tr th {\n",
       "        vertical-align: top;\n",
       "    }\n",
       "\n",
       "    .dataframe thead th {\n",
       "        text-align: right;\n",
       "    }\n",
       "</style>\n",
       "<table border=\"1\" class=\"dataframe\">\n",
       "  <thead>\n",
       "    <tr style=\"text-align: right;\">\n",
       "      <th></th>\n",
       "      <th>facts</th>\n",
       "      <th>first_party</th>\n",
       "      <th>second_party</th>\n",
       "      <th>first_party_clean</th>\n",
       "      <th>facts_clean</th>\n",
       "      <th>second_party_clean</th>\n",
       "    </tr>\n",
       "  </thead>\n",
       "  <tbody>\n",
       "    <tr>\n",
       "      <th>0</th>\n",
       "      <td>On June 27, 1962, Phil St. Amant, a candidate for public office, made a television speech in Baton Rouge, Louisiana.  During this speech, St. Amant accused his political opponent of being a Communist and of being involved in criminal activities with the head of the local Teamsters Union.  Finally, St. Amant implicated Herman Thompson, an East Baton Rouge deputy sheriff, in a scheme to move money between the Teamsters Union and St. Amant’s political opponent. \\nThompson successfully sued St. Amant for defamation.  Louisiana’s First Circuit Court of Appeals reversed, holding that Thompson did not show St. Amant acted with “malice.”  Thompson then appealed to the Supreme Court of Louisiana.  That court held that, although public figures forfeit some of their First Amendment protection from defamation, St. Amant accused Thompson of a crime with utter disregard of whether the remarks were true.  Finally, that court held that the First Amendment protects uninhibited, robust debate, rather than an open season to shoot down the good name of anyone who happens to be a public servant. \\n</td>\n",
       "      <td>Phil A. St. Amant</td>\n",
       "      <td>Herman A. Thompson</td>\n",
       "      <td>phil st amant</td>\n",
       "      <td>june phil st amant candidate public office made television speech baton rouge louisiana speech st amant accused political opponent communist involved criminal activity head local teamster union finally st amant implicated herman thompson east baton rouge deputy sheriff scheme move money teamster union st amants political opponent thompson successfully sued st amant defamation louisiana first circuit court appeal reversed holding thompson show st amant acted malice thompson appealed supreme court louisiana court held although public figure forfeit first amendment protection defamation st amant accused thompson crime utter disregard whether remark true finally court held first amendment protects uninhibited robust debate rather open season shoot good name anyone happens public servant</td>\n",
       "      <td>herman thompson</td>\n",
       "    </tr>\n",
       "    <tr>\n",
       "      <th>1</th>\n",
       "      <td>Ramon Nelson was riding his bike when he suffered a lethal blow to the back of his head with a baseball bat. After two eyewitnesses identified Lawrence Owens from an array of photos and then a lineup, he was tried and convicted for Nelson’s death. Because Nelson was carrying cocaine and crack cocaine potentially for distribution, the judge at Owens’ bench trial ruled that Owens was probably also a drug dealer and was trying to “knock [Nelson] off.” Owens was found guilty of first-degree murder and sentenced to 25 years in prison.\\nOwens filed a petition for a writ of habeas corpus on the grounds that his constitutional right to due process was violated during the trial. He argued that the eyewitness identification should have been inadmissible based on unreliability and that the judge impermissibly inferred a motive when a motive was not an element of the offense. The district court denied the writ of habeas corpus, and Owens appealed. The U.S. Court of Appeals for the Seventh Circuit reversed the denial and held that the trial judge’s inference about Owens’s motive violated his right to have his guilt adjudicated solely based on the evidence presented at trial.\\n</td>\n",
       "      <td>Stephen Duncan</td>\n",
       "      <td>Lawrence Owens</td>\n",
       "      <td>stephen duncan</td>\n",
       "      <td>ramon nelson riding bike suffered lethal blow back head baseball bat two eyewitness identified lawrence owen array photo lineup tried convicted nelson death nelson carrying cocaine crack cocaine potentially distribution judge owen bench trial ruled owen probably also drug dealer trying knock nelson owen found guilty firstdegree murder sentenced year prison owen filed petition writ habeas corpus ground constitutional right due process violated trial argued eyewitness identification inadmissible based unreliability judge impermissibly inferred motive motive element offense district court denied writ habeas corpus owen appealed u court appeal seventh circuit reversed denial held trial judge inference owens motive violated right guilt adjudicated solely based evidence presented trial</td>\n",
       "      <td>lawrence owen</td>\n",
       "    </tr>\n",
       "    <tr>\n",
       "      <th>2</th>\n",
       "      <td>An Alabama state court convicted Billy Joe Magwood of murder and sentenced him to death. Subsequently, an Alabama federal district court partially granted Mr. Magwood's petition for federal habeas corpus relief. The court upheld his conviction but instructed the state court to look at mitigating evidence when resentencing Mr. Magwood. Upon resentencing, the state court sentenced Mr. Magwood to death once again. Mr. Magwood filed a second petition for federal habeas corpus relief with the federal district court arguing that a judicial rule was retroactively applied in his case and that he lacked effective counsel at sentencing. The district court granted the petition and vacated Mr. Magwood's death sentence.\\nOn appeal, the U.S. Court of Appeals for the Eleventh circuit reversed, holding that prisoners may not raise challenges to an original sentence that could have been raised in an earlier petition. The court also held that Mr. Magwood's counsel was not ineffective because he failed to raise an argument that had already been decided by the state's highest court adverse to his client's position.\\n</td>\n",
       "      <td>Billy Joe Magwood</td>\n",
       "      <td>Tony Patterson, Warden, et al.</td>\n",
       "      <td>billy joe magwood</td>\n",
       "      <td>alabama state court convicted billy joe magwood murder sentenced death subsequently alabama federal district court partially granted mr magwoods petition federal habeas corpus relief court upheld conviction instructed state court look mitigating evidence resentencing mr magwood upon resentencing state court sentenced mr magwood death mr magwood filed second petition federal habeas corpus relief federal district court arguing judicial rule retroactively applied case lacked effective counsel sentencing district court granted petition vacated mr magwoods death sentence appeal u court appeal eleventh circuit reversed holding prisoner may raise challenge original sentence could raised earlier petition court also held mr magwoods counsel ineffective failed raise argument already decided state highest court adverse client position</td>\n",
       "      <td>tony patterson warden</td>\n",
       "    </tr>\n",
       "  </tbody>\n",
       "</table>\n",
       "</div>"
      ],
      "text/plain": [
       "                                                                                                                                                                                                                                                                                                                                                                                                                                                                                                                                                                                                                                                                                                                                                                                                                                                                                                                                                                                                                                                                                                                                                                                                                            facts  \\\n",
       "0                                                                                          On June 27, 1962, Phil St. Amant, a candidate for public office, made a television speech in Baton Rouge, Louisiana.  During this speech, St. Amant accused his political opponent of being a Communist and of being involved in criminal activities with the head of the local Teamsters Union.  Finally, St. Amant implicated Herman Thompson, an East Baton Rouge deputy sheriff, in a scheme to move money between the Teamsters Union and St. Amant’s political opponent. \\nThompson successfully sued St. Amant for defamation.  Louisiana’s First Circuit Court of Appeals reversed, holding that Thompson did not show St. Amant acted with “malice.”  Thompson then appealed to the Supreme Court of Louisiana.  That court held that, although public figures forfeit some of their First Amendment protection from defamation, St. Amant accused Thompson of a crime with utter disregard of whether the remarks were true.  Finally, that court held that the First Amendment protects uninhibited, robust debate, rather than an open season to shoot down the good name of anyone who happens to be a public servant. \\n   \n",
       "1  Ramon Nelson was riding his bike when he suffered a lethal blow to the back of his head with a baseball bat. After two eyewitnesses identified Lawrence Owens from an array of photos and then a lineup, he was tried and convicted for Nelson’s death. Because Nelson was carrying cocaine and crack cocaine potentially for distribution, the judge at Owens’ bench trial ruled that Owens was probably also a drug dealer and was trying to “knock [Nelson] off.” Owens was found guilty of first-degree murder and sentenced to 25 years in prison.\\nOwens filed a petition for a writ of habeas corpus on the grounds that his constitutional right to due process was violated during the trial. He argued that the eyewitness identification should have been inadmissible based on unreliability and that the judge impermissibly inferred a motive when a motive was not an element of the offense. The district court denied the writ of habeas corpus, and Owens appealed. The U.S. Court of Appeals for the Seventh Circuit reversed the denial and held that the trial judge’s inference about Owens’s motive violated his right to have his guilt adjudicated solely based on the evidence presented at trial.\\n   \n",
       "2                                                                      An Alabama state court convicted Billy Joe Magwood of murder and sentenced him to death. Subsequently, an Alabama federal district court partially granted Mr. Magwood's petition for federal habeas corpus relief. The court upheld his conviction but instructed the state court to look at mitigating evidence when resentencing Mr. Magwood. Upon resentencing, the state court sentenced Mr. Magwood to death once again. Mr. Magwood filed a second petition for federal habeas corpus relief with the federal district court arguing that a judicial rule was retroactively applied in his case and that he lacked effective counsel at sentencing. The district court granted the petition and vacated Mr. Magwood's death sentence.\\nOn appeal, the U.S. Court of Appeals for the Eleventh circuit reversed, holding that prisoners may not raise challenges to an original sentence that could have been raised in an earlier petition. The court also held that Mr. Magwood's counsel was not ineffective because he failed to raise an argument that had already been decided by the state's highest court adverse to his client's position.\\n   \n",
       "\n",
       "         first_party                    second_party  first_party_clean  \\\n",
       "0  Phil A. St. Amant              Herman A. Thompson      phil st amant   \n",
       "1     Stephen Duncan                  Lawrence Owens     stephen duncan   \n",
       "2  Billy Joe Magwood  Tony Patterson, Warden, et al.  billy joe magwood   \n",
       "\n",
       "                                                                                                                                                                                                                                                                                                                                                                                                                                                                                                                                                                                                                                                                                                                                                                                                                                                           facts_clean  \\\n",
       "0                                            june phil st amant candidate public office made television speech baton rouge louisiana speech st amant accused political opponent communist involved criminal activity head local teamster union finally st amant implicated herman thompson east baton rouge deputy sheriff scheme move money teamster union st amants political opponent thompson successfully sued st amant defamation louisiana first circuit court appeal reversed holding thompson show st amant acted malice thompson appealed supreme court louisiana court held although public figure forfeit first amendment protection defamation st amant accused thompson crime utter disregard whether remark true finally court held first amendment protects uninhibited robust debate rather open season shoot good name anyone happens public servant   \n",
       "1                                               ramon nelson riding bike suffered lethal blow back head baseball bat two eyewitness identified lawrence owen array photo lineup tried convicted nelson death nelson carrying cocaine crack cocaine potentially distribution judge owen bench trial ruled owen probably also drug dealer trying knock nelson owen found guilty firstdegree murder sentenced year prison owen filed petition writ habeas corpus ground constitutional right due process violated trial argued eyewitness identification inadmissible based unreliability judge impermissibly inferred motive motive element offense district court denied writ habeas corpus owen appealed u court appeal seventh circuit reversed denial held trial judge inference owens motive violated right guilt adjudicated solely based evidence presented trial   \n",
       "2  alabama state court convicted billy joe magwood murder sentenced death subsequently alabama federal district court partially granted mr magwoods petition federal habeas corpus relief court upheld conviction instructed state court look mitigating evidence resentencing mr magwood upon resentencing state court sentenced mr magwood death mr magwood filed second petition federal habeas corpus relief federal district court arguing judicial rule retroactively applied case lacked effective counsel sentencing district court granted petition vacated mr magwoods death sentence appeal u court appeal eleventh circuit reversed holding prisoner may raise challenge original sentence could raised earlier petition court also held mr magwoods counsel ineffective failed raise argument already decided state highest court adverse client position   \n",
       "\n",
       "      second_party_clean  \n",
       "0        herman thompson  \n",
       "1          lawrence owen  \n",
       "2  tony patterson warden  "
      ]
     },
     "execution_count": 26,
     "metadata": {},
     "output_type": "execute_result"
    }
   ],
   "source": [
    "df_nlp.head(3)"
   ]
  },
  {
   "cell_type": "code",
   "execution_count": 27,
   "id": "4aa4d5c4-d71f-4509-874a-27c0038c19f6",
   "metadata": {},
   "outputs": [],
   "source": [
    "test_nlp = test[['first_party', 'second_party', 'facts']]"
   ]
  },
  {
   "cell_type": "code",
   "execution_count": 28,
   "id": "94a147b9-47d9-4784-85bf-a1a605eb74e1",
   "metadata": {},
   "outputs": [
    {
     "name": "stderr",
     "output_type": "stream",
     "text": [
      "/var/folders/fb/tsylykvd63d8k25rnpzpj6bc0000gn/T/ipykernel_56658/1394225691.py:1: SettingWithCopyWarning: \n",
      "A value is trying to be set on a copy of a slice from a DataFrame.\n",
      "Try using .loc[row_indexer,col_indexer] = value instead\n",
      "\n",
      "See the caveats in the documentation: https://pandas.pydata.org/pandas-docs/stable/user_guide/indexing.html#returning-a-view-versus-a-copy\n",
      "  test_nlp[\"facts_clean\"] = test_nlp[\"facts\"].apply(lambda x: utils_preprocess_text(x, flg_stemm=False, flg_lemm=True, lst_stopwords=lst_stopwords))\n"
     ]
    }
   ],
   "source": [
    "test_nlp[\"facts_clean\"] = test_nlp[\"facts\"].apply(lambda x: utils_preprocess_text(x, flg_stemm=False, flg_lemm=True, lst_stopwords=lst_stopwords))\n",
    "test_nlp[\"first_party_clean\"] = test_nlp[\"first_party\"].apply(lambda x: utils_preprocess_text(x, flg_stemm=False, flg_lemm=True, lst_stopwords=lst_stopwords))\n",
    "test_nlp[\"second_party_clean\"] = test_nlp[\"second_party\"].apply(lambda x: utils_preprocess_text(x, flg_stemm=False, flg_lemm=True, lst_stopwords=lst_stopwords))"
   ]
  },
  {
   "cell_type": "code",
   "execution_count": 29,
   "id": "d8ee155e-4445-4605-9b37-aba0ec50d6ec",
   "metadata": {},
   "outputs": [
    {
     "data": {
      "text/html": [
       "<div>\n",
       "<style scoped>\n",
       "    .dataframe tbody tr th:only-of-type {\n",
       "        vertical-align: middle;\n",
       "    }\n",
       "\n",
       "    .dataframe tbody tr th {\n",
       "        vertical-align: top;\n",
       "    }\n",
       "\n",
       "    .dataframe thead th {\n",
       "        text-align: right;\n",
       "    }\n",
       "</style>\n",
       "<table border=\"1\" class=\"dataframe\">\n",
       "  <thead>\n",
       "    <tr style=\"text-align: right;\">\n",
       "      <th></th>\n",
       "      <th>first_party</th>\n",
       "      <th>second_party</th>\n",
       "      <th>facts</th>\n",
       "      <th>facts_clean</th>\n",
       "      <th>first_party_clean</th>\n",
       "      <th>second_party_clean</th>\n",
       "    </tr>\n",
       "  </thead>\n",
       "  <tbody>\n",
       "    <tr>\n",
       "      <th>0</th>\n",
       "      <td>Salerno</td>\n",
       "      <td>United States</td>\n",
       "      <td>The 1984 Bail Reform Act allowed the federal courts to detain an arrestee prior to trial if the government could prove that the individual was potentially dangerous to other people in the community. Prosecutors alleged that Salerno and another person in this case were prominent figures in the La Cosa Nostra crime family.\\n</td>\n",
       "      <td>bail reform act allowed federal court detain arrestee prior trial government could prove individual potentially dangerous people community prosecutor alleged salerno another person case prominent figure la cosa nostra crime family</td>\n",
       "      <td>salerno</td>\n",
       "      <td>united state</td>\n",
       "    </tr>\n",
       "    <tr>\n",
       "      <th>1</th>\n",
       "      <td>Milberg Weiss Bershad Hynes and Lerach</td>\n",
       "      <td>Lexecon, Inc.</td>\n",
       "      <td>Lexecon Inc. was a defendant in a class action lawsuit. Under 28 USC section 1407(a), the lawsuit was transferred for pretrial proceedings to the District of Arizona. Section 1407(a) authorizes the Judicial Panel on Multidistrict Litigation to transfer civil actions with common issues of fact \"to any district for coordinated or consolidated pretrial proceedings,\" but provides that the Panel \"shall\" remand any such action to the original district \"at or before the conclusion of such pretrial proceedings.\" After claims against it were dismissed, Lexecon brought suit against Milberg Weiss Bershad Hynes &amp; Lerach and others (Milberg) in the class action lawsuit in the Northern District of Illinois. Ultimately, the Panel, under section 1407(a), ordered the case transferred to the District of Arizona. Afterwards, Lexecon moved for the Arizona District Court to remand the case to Illinois. Milberg filed a countermotion requesting the Arizona District Court to invoke section 1404(a) to \"transfer\" the case to itself for trial.Ultimately, the court assigned the case to itself and the Court of Appeals affirmed its judgment.\\n</td>\n",
       "      <td>lexecon defendant class action lawsuit usc section lawsuit transferred pretrial proceeding district arizona section authorizes judicial panel multidistrict litigation transfer civil action common issue fact district coordinated consolidated pretrial proceeding provides panel shall remand action original district conclusion pretrial proceeding claim dismissed lexecon brought suit milberg wei bershad hynes lerach others milberg class action lawsuit northern district illinois ultimately panel section ordered case transferred district arizona afterwards lexecon moved arizona district court remand case illinois milberg filed countermotion requesting arizona district court invoke section transfer case trialultimately court assigned case court appeal affirmed judgment</td>\n",
       "      <td>milberg wei bershad hynes lerach</td>\n",
       "      <td>lexecon</td>\n",
       "    </tr>\n",
       "    <tr>\n",
       "      <th>2</th>\n",
       "      <td>No. 07-582\\t Title: \\t Federal Communications Commission, et al.</td>\n",
       "      <td>Fox Television Stations, Inc., et al.</td>\n",
       "      <td>In 2002 and 2003, Fox Television Stations broadcast the Billboard Music Awards, an annual program honoring top-selling musicians. During the broadcasts, one musician used an explicative in his acceptance speech, and a presenter used two expletives. The Federal Communications Commission (FCC), although it had previously taken the position that such fleeting and isolated expletives did not violate its indecency regime, issued notices of liability to Fox for broadcasting the profane language. The FCC argued that previous decisions referring to \"fleeting\" expletives were merely staff letters and dicta and did not accurately represent its position on the matter. Fox appealed the FCC sanctions to the U.S. Court of Appeals for the Second Circuit.\\nThe Second Circuit held that the FCC's liability order was \"arbitrary and capricious\" under the governing Administrative Procedure Act because the FCC had completely reversed its position on fleeting expletives without giving a proper justification. The Second Circuit also failed to find any evidence that the expletives were harmful.\\n</td>\n",
       "      <td>fox television station broadcast billboard music award annual program honoring topselling musician broadcast one musician used explicative acceptance speech presenter used two expletive federal communication commission fcc although previously taken position fleeting isolated expletive violate indecency regime issued notice liability fox broadcasting profane language fcc argued previous decision referring fleeting expletive merely staff letter dictum accurately represent position matter fox appealed fcc sanction u court appeal second circuit second circuit held fcc liability order arbitrary capricious governing administrative procedure act fcc completely reversed position fleeting expletive without giving proper justification second circuit also failed find evidence expletive harmful</td>\n",
       "      <td>title federal communication commission</td>\n",
       "      <td>fox television station</td>\n",
       "    </tr>\n",
       "    <tr>\n",
       "      <th>3</th>\n",
       "      <td>Harold Kaufman</td>\n",
       "      <td>United States</td>\n",
       "      <td>During his trial for armed robbery of a federally insured savings and loan association, Harold Kaufman admitted to the crime but unsuccessfully claimed insanity.  He was convicted and the U.S. Court of Appeals for the Eighth Circuit affirmed.  Kaufman then filed a post-conviction motion in district court challenging the evidence that proved his sanity.  He alleged that the evidence was unlawfully seized in violation of the Fourth Amendment.  The district court denied relief, holding that unlawful search and seizure was not an available attack in post-conviction proceedings.  The Eighth Circuit affirmed.\\n</td>\n",
       "      <td>trial armed robbery federally insured saving loan association harold kaufman admitted crime unsuccessfully claimed insanity convicted u court appeal eighth circuit affirmed kaufman filed postconviction motion district court challenging evidence proved sanity alleged evidence unlawfully seized violation fourth amendment district court denied relief holding unlawful search seizure available attack postconviction proceeding eighth circuit affirmed</td>\n",
       "      <td>harold kaufman</td>\n",
       "      <td>united state</td>\n",
       "    </tr>\n",
       "    <tr>\n",
       "      <th>4</th>\n",
       "      <td>Berger</td>\n",
       "      <td>Hanlon</td>\n",
       "      <td>In 1993, a magistrate judge issued a warrant authorizing the search of Paul and Erma Berger's Montana ranch for evidence of the taking of wildlife in violation of federal law. Later, a multiple-vehicle caravan consisting of government agents and a crew of photographers and reporters from CNN proceeded to the ranch. In executing the warrant, the federal officers allowed the media crew to accompany and observe them. Subsequently, the Berger's filed suit, asserting that the officials, special agents of the United States Fish and Wildlife Service and an assistant United States attorney, had violated their rights under the Fourth Amendment. The District Court concluded that the officials were entitled to qualified immunity, as no clearly established law protecting individuals from the commercial recording of a search of their premises existed at the time. The Court of Appeals reversed.\\n</td>\n",
       "      <td>magistrate judge issued warrant authorizing search paul erma bergers montana ranch evidence taking wildlife violation federal law later multiplevehicle caravan consisting government agent crew photographer reporter cnn proceeded ranch executing warrant federal officer allowed medium crew accompany observe subsequently bergers filed suit asserting official special agent united state fish wildlife service assistant united state attorney violated right fourth amendment district court concluded official entitled qualified immunity clearly established law protecting individual commercial recording search premise existed time court appeal reversed</td>\n",
       "      <td>berger</td>\n",
       "      <td>hanlon</td>\n",
       "    </tr>\n",
       "  </tbody>\n",
       "</table>\n",
       "</div>"
      ],
      "text/plain": [
       "                                                        first_party  \\\n",
       "0                                                           Salerno   \n",
       "1                            Milberg Weiss Bershad Hynes and Lerach   \n",
       "2  No. 07-582\\t Title: \\t Federal Communications Commission, et al.   \n",
       "3                                                   Harold Kaufman    \n",
       "4                                                            Berger   \n",
       "\n",
       "                            second_party  \\\n",
       "0                          United States   \n",
       "1                          Lexecon, Inc.   \n",
       "2  Fox Television Stations, Inc., et al.   \n",
       "3                          United States   \n",
       "4                                 Hanlon   \n",
       "\n",
       "                                                                                                                                                                                                                                                                                                                                                                                                                                                                                                                                                                                                                                                                                                                                                                                                                                                                                                                                                                                                                                                                                                                                                                         facts  \\\n",
       "0                                                                                                                                                                                                                                                                                                                                                                                                                                                                                                                                                                                                                                                                                                                                                                                                                                         The 1984 Bail Reform Act allowed the federal courts to detain an arrestee prior to trial if the government could prove that the individual was potentially dangerous to other people in the community. Prosecutors alleged that Salerno and another person in this case were prominent figures in the La Cosa Nostra crime family.\\n   \n",
       "1  Lexecon Inc. was a defendant in a class action lawsuit. Under 28 USC section 1407(a), the lawsuit was transferred for pretrial proceedings to the District of Arizona. Section 1407(a) authorizes the Judicial Panel on Multidistrict Litigation to transfer civil actions with common issues of fact \"to any district for coordinated or consolidated pretrial proceedings,\" but provides that the Panel \"shall\" remand any such action to the original district \"at or before the conclusion of such pretrial proceedings.\" After claims against it were dismissed, Lexecon brought suit against Milberg Weiss Bershad Hynes & Lerach and others (Milberg) in the class action lawsuit in the Northern District of Illinois. Ultimately, the Panel, under section 1407(a), ordered the case transferred to the District of Arizona. Afterwards, Lexecon moved for the Arizona District Court to remand the case to Illinois. Milberg filed a countermotion requesting the Arizona District Court to invoke section 1404(a) to \"transfer\" the case to itself for trial.Ultimately, the court assigned the case to itself and the Court of Appeals affirmed its judgment.\\n   \n",
       "2                                             In 2002 and 2003, Fox Television Stations broadcast the Billboard Music Awards, an annual program honoring top-selling musicians. During the broadcasts, one musician used an explicative in his acceptance speech, and a presenter used two expletives. The Federal Communications Commission (FCC), although it had previously taken the position that such fleeting and isolated expletives did not violate its indecency regime, issued notices of liability to Fox for broadcasting the profane language. The FCC argued that previous decisions referring to \"fleeting\" expletives were merely staff letters and dicta and did not accurately represent its position on the matter. Fox appealed the FCC sanctions to the U.S. Court of Appeals for the Second Circuit.\\nThe Second Circuit held that the FCC's liability order was \"arbitrary and capricious\" under the governing Administrative Procedure Act because the FCC had completely reversed its position on fleeting expletives without giving a proper justification. The Second Circuit also failed to find any evidence that the expletives were harmful.\\n   \n",
       "3                                                                                                                                                                                                                                                                                                                                                                                                                                                                                                                                         During his trial for armed robbery of a federally insured savings and loan association, Harold Kaufman admitted to the crime but unsuccessfully claimed insanity.  He was convicted and the U.S. Court of Appeals for the Eighth Circuit affirmed.  Kaufman then filed a post-conviction motion in district court challenging the evidence that proved his sanity.  He alleged that the evidence was unlawfully seized in violation of the Fourth Amendment.  The district court denied relief, holding that unlawful search and seizure was not an available attack in post-conviction proceedings.  The Eighth Circuit affirmed.\\n   \n",
       "4                                                                                                                                                                                                                                              In 1993, a magistrate judge issued a warrant authorizing the search of Paul and Erma Berger's Montana ranch for evidence of the taking of wildlife in violation of federal law. Later, a multiple-vehicle caravan consisting of government agents and a crew of photographers and reporters from CNN proceeded to the ranch. In executing the warrant, the federal officers allowed the media crew to accompany and observe them. Subsequently, the Berger's filed suit, asserting that the officials, special agents of the United States Fish and Wildlife Service and an assistant United States attorney, had violated their rights under the Fourth Amendment. The District Court concluded that the officials were entitled to qualified immunity, as no clearly established law protecting individuals from the commercial recording of a search of their premises existed at the time. The Court of Appeals reversed.\\n   \n",
       "\n",
       "                                                                                                                                                                                                                                                                                                                                                                                                                                                                                                                                                                                                                                                                                                                                                                                                                 facts_clean  \\\n",
       "0                                                                                                                                                                                                                                                                                                                                                                                                                                                                                                                                                                                     bail reform act allowed federal court detain arrestee prior trial government could prove individual potentially dangerous people community prosecutor alleged salerno another person case prominent figure la cosa nostra crime family   \n",
       "1                        lexecon defendant class action lawsuit usc section lawsuit transferred pretrial proceeding district arizona section authorizes judicial panel multidistrict litigation transfer civil action common issue fact district coordinated consolidated pretrial proceeding provides panel shall remand action original district conclusion pretrial proceeding claim dismissed lexecon brought suit milberg wei bershad hynes lerach others milberg class action lawsuit northern district illinois ultimately panel section ordered case transferred district arizona afterwards lexecon moved arizona district court remand case illinois milberg filed countermotion requesting arizona district court invoke section transfer case trialultimately court assigned case court appeal affirmed judgment   \n",
       "2  fox television station broadcast billboard music award annual program honoring topselling musician broadcast one musician used explicative acceptance speech presenter used two expletive federal communication commission fcc although previously taken position fleeting isolated expletive violate indecency regime issued notice liability fox broadcasting profane language fcc argued previous decision referring fleeting expletive merely staff letter dictum accurately represent position matter fox appealed fcc sanction u court appeal second circuit second circuit held fcc liability order arbitrary capricious governing administrative procedure act fcc completely reversed position fleeting expletive without giving proper justification second circuit also failed find evidence expletive harmful   \n",
       "3                                                                                                                                                                                                                                                                                                                                                           trial armed robbery federally insured saving loan association harold kaufman admitted crime unsuccessfully claimed insanity convicted u court appeal eighth circuit affirmed kaufman filed postconviction motion district court challenging evidence proved sanity alleged evidence unlawfully seized violation fourth amendment district court denied relief holding unlawful search seizure available attack postconviction proceeding eighth circuit affirmed   \n",
       "4                                                                                                                                                  magistrate judge issued warrant authorizing search paul erma bergers montana ranch evidence taking wildlife violation federal law later multiplevehicle caravan consisting government agent crew photographer reporter cnn proceeded ranch executing warrant federal officer allowed medium crew accompany observe subsequently bergers filed suit asserting official special agent united state fish wildlife service assistant united state attorney violated right fourth amendment district court concluded official entitled qualified immunity clearly established law protecting individual commercial recording search premise existed time court appeal reversed   \n",
       "\n",
       "                        first_party_clean      second_party_clean  \n",
       "0                                 salerno            united state  \n",
       "1        milberg wei bershad hynes lerach                 lexecon  \n",
       "2  title federal communication commission  fox television station  \n",
       "3                          harold kaufman            united state  \n",
       "4                                  berger                  hanlon  "
      ]
     },
     "execution_count": 29,
     "metadata": {},
     "output_type": "execute_result"
    }
   ],
   "source": [
    "test_nlp.head()"
   ]
  },
  {
   "cell_type": "markdown",
   "id": "db7cdc5d-09ab-4a81-8596-935120a9b4f6",
   "metadata": {},
   "source": [
    "## Model Tuning"
   ]
  },
  {
   "cell_type": "markdown",
   "id": "e9ff1be5-d747-4850-86e1-cddc30f61ade",
   "metadata": {},
   "source": [
    "## LR"
   ]
  },
  {
   "cell_type": "markdown",
   "id": "a479080c-9fbf-4697-98de-6f6f01f5c7be",
   "metadata": {},
   "source": [
    "### Feature"
   ]
  },
  {
   "cell_type": "markdown",
   "id": "31b1b962-135b-4cd1-b092-77590907520a",
   "metadata": {},
   "source": [
    "## Congratulation!!!"
   ]
  },
  {
   "cell_type": "code",
   "execution_count": 30,
   "id": "86da01ee-abb5-4558-a49c-0213579aa829",
   "metadata": {},
   "outputs": [],
   "source": [
    "from sklearn.feature_extraction.text import TfidfVectorizer\n",
    "\n",
    "vectorizer = TfidfVectorizer(\n",
    "    ngram_range=(1,2),\n",
    "    min_df=4\n",
    ")"
   ]
  },
  {
   "cell_type": "code",
   "execution_count": 31,
   "id": "9d3627d0-cf5d-44df-9c2a-0c8cb6f9ee8e",
   "metadata": {},
   "outputs": [],
   "source": [
    "def get_vector(vectorizer, df, train_mode):\n",
    "    if train_mode:\n",
    "        X_facts = vectorizer.fit_transform(df['facts_clean'])\n",
    "    else:\n",
    "        X_facts = vectorizer.transform(df['facts_clean'])\n",
    "    X_party1 = vectorizer.transform(df['first_party_clean'])\n",
    "    X_party2 = vectorizer.transform(df['second_party_clean'])\n",
    "    \n",
    "    X = np.concatenate([X_party1.todense(), X_party2.todense(), X_facts.todense()], axis=1)\n",
    "    return np.asarray(X)"
   ]
  },
  {
   "cell_type": "code",
   "execution_count": 32,
   "id": "b0fc8d46-f1fd-4ec2-8f30-7f936d301a04",
   "metadata": {},
   "outputs": [],
   "source": [
    "X = get_vector(vectorizer, df_nlp, True)\n",
    "Y = train[\"first_party_winner\"]\n",
    "X_test = get_vector(vectorizer, test_nlp, False)"
   ]
  },
  {
   "cell_type": "code",
   "execution_count": null,
   "id": "9ac0d180-635b-43ca-99d9-598c8dda7044",
   "metadata": {},
   "outputs": [],
   "source": []
  },
  {
   "cell_type": "code",
   "execution_count": 37,
   "id": "0274f625-8fab-4313-8919-39bba4e19033",
   "metadata": {},
   "outputs": [
    {
     "data": {
      "text/html": [
       "<style>#sk-container-id-1 {color: black;background-color: white;}#sk-container-id-1 pre{padding: 0;}#sk-container-id-1 div.sk-toggleable {background-color: white;}#sk-container-id-1 label.sk-toggleable__label {cursor: pointer;display: block;width: 100%;margin-bottom: 0;padding: 0.3em;box-sizing: border-box;text-align: center;}#sk-container-id-1 label.sk-toggleable__label-arrow:before {content: \"▸\";float: left;margin-right: 0.25em;color: #696969;}#sk-container-id-1 label.sk-toggleable__label-arrow:hover:before {color: black;}#sk-container-id-1 div.sk-estimator:hover label.sk-toggleable__label-arrow:before {color: black;}#sk-container-id-1 div.sk-toggleable__content {max-height: 0;max-width: 0;overflow: hidden;text-align: left;background-color: #f0f8ff;}#sk-container-id-1 div.sk-toggleable__content pre {margin: 0.2em;color: black;border-radius: 0.25em;background-color: #f0f8ff;}#sk-container-id-1 input.sk-toggleable__control:checked~div.sk-toggleable__content {max-height: 200px;max-width: 100%;overflow: auto;}#sk-container-id-1 input.sk-toggleable__control:checked~label.sk-toggleable__label-arrow:before {content: \"▾\";}#sk-container-id-1 div.sk-estimator input.sk-toggleable__control:checked~label.sk-toggleable__label {background-color: #d4ebff;}#sk-container-id-1 div.sk-label input.sk-toggleable__control:checked~label.sk-toggleable__label {background-color: #d4ebff;}#sk-container-id-1 input.sk-hidden--visually {border: 0;clip: rect(1px 1px 1px 1px);clip: rect(1px, 1px, 1px, 1px);height: 1px;margin: -1px;overflow: hidden;padding: 0;position: absolute;width: 1px;}#sk-container-id-1 div.sk-estimator {font-family: monospace;background-color: #f0f8ff;border: 1px dotted black;border-radius: 0.25em;box-sizing: border-box;margin-bottom: 0.5em;}#sk-container-id-1 div.sk-estimator:hover {background-color: #d4ebff;}#sk-container-id-1 div.sk-parallel-item::after {content: \"\";width: 100%;border-bottom: 1px solid gray;flex-grow: 1;}#sk-container-id-1 div.sk-label:hover label.sk-toggleable__label {background-color: #d4ebff;}#sk-container-id-1 div.sk-serial::before {content: \"\";position: absolute;border-left: 1px solid gray;box-sizing: border-box;top: 0;bottom: 0;left: 50%;z-index: 0;}#sk-container-id-1 div.sk-serial {display: flex;flex-direction: column;align-items: center;background-color: white;padding-right: 0.2em;padding-left: 0.2em;position: relative;}#sk-container-id-1 div.sk-item {position: relative;z-index: 1;}#sk-container-id-1 div.sk-parallel {display: flex;align-items: stretch;justify-content: center;background-color: white;position: relative;}#sk-container-id-1 div.sk-item::before, #sk-container-id-1 div.sk-parallel-item::before {content: \"\";position: absolute;border-left: 1px solid gray;box-sizing: border-box;top: 0;bottom: 0;left: 50%;z-index: -1;}#sk-container-id-1 div.sk-parallel-item {display: flex;flex-direction: column;z-index: 1;position: relative;background-color: white;}#sk-container-id-1 div.sk-parallel-item:first-child::after {align-self: flex-end;width: 50%;}#sk-container-id-1 div.sk-parallel-item:last-child::after {align-self: flex-start;width: 50%;}#sk-container-id-1 div.sk-parallel-item:only-child::after {width: 0;}#sk-container-id-1 div.sk-dashed-wrapped {border: 1px dashed gray;margin: 0 0.4em 0.5em 0.4em;box-sizing: border-box;padding-bottom: 0.4em;background-color: white;}#sk-container-id-1 div.sk-label label {font-family: monospace;font-weight: bold;display: inline-block;line-height: 1.2em;}#sk-container-id-1 div.sk-label-container {text-align: center;}#sk-container-id-1 div.sk-container {/* jupyter's `normalize.less` sets `[hidden] { display: none; }` but bootstrap.min.css set `[hidden] { display: none !important; }` so we also need the `!important` here to be able to override the default hidden behavior on the sphinx rendered scikit-learn.org. See: https://github.com/scikit-learn/scikit-learn/issues/21755 */display: inline-block !important;position: relative;}#sk-container-id-1 div.sk-text-repr-fallback {display: none;}</style><div id=\"sk-container-id-1\" class=\"sk-top-container\"><div class=\"sk-text-repr-fallback\"><pre>LogisticRegression()</pre><b>In a Jupyter environment, please rerun this cell to show the HTML representation or trust the notebook. <br />On GitHub, the HTML representation is unable to render, please try loading this page with nbviewer.org.</b></div><div class=\"sk-container\" hidden><div class=\"sk-item\"><div class=\"sk-estimator sk-toggleable\"><input class=\"sk-toggleable__control sk-hidden--visually\" id=\"sk-estimator-id-1\" type=\"checkbox\" checked><label for=\"sk-estimator-id-1\" class=\"sk-toggleable__label sk-toggleable__label-arrow\">LogisticRegression</label><div class=\"sk-toggleable__content\"><pre>LogisticRegression()</pre></div></div></div></div></div>"
      ],
      "text/plain": [
       "LogisticRegression()"
      ]
     },
     "execution_count": 37,
     "metadata": {},
     "output_type": "execute_result"
    }
   ],
   "source": [
    "model = LogisticRegression()\n",
    "model.fit(X, Y)"
   ]
  },
  {
   "cell_type": "code",
   "execution_count": 38,
   "id": "921e88ec-4936-4520-8f76-4ac69c2917c4",
   "metadata": {},
   "outputs": [],
   "source": [
    "pred = model.predict(X_test)"
   ]
  },
  {
   "cell_type": "code",
   "execution_count": 40,
   "id": "fe968fe7-ccce-400c-8abb-9d253c0131aa",
   "metadata": {},
   "outputs": [
    {
     "name": "stdout",
     "output_type": "stream",
     "text": [
      "Done\n"
     ]
    }
   ],
   "source": [
    "submission['first_party_winner'] = pred\n",
    "submission.to_csv('./baseline_with_preprocessing.csv', index=False)\n",
    "print('Done')"
   ]
  },
  {
   "cell_type": "markdown",
   "id": "dc65f004-3f67-4ad7-beb5-2313a54ffd15",
   "metadata": {},
   "source": [
    "## BEST SCORE!!!!"
   ]
  },
  {
   "cell_type": "markdown",
   "id": "7f25ffe5-4b4d-4320-8fdb-92556111efa9",
   "metadata": {},
   "source": [
    "## Combination\n",
    "\n",
    "- Model\n",
    "    - Logistic Regression\n",
    "        - no Hyper Params. settings\n",
    "        - train Whole data\n",
    "- Feature\n",
    "    - Data Cleansing <- NLP approach\n",
    "    - TFIDF\n",
    "        - with n_gram(1,2)\n",
    "        - min_df 4"
   ]
  },
  {
   "cell_type": "code",
   "execution_count": null,
   "id": "50bf536d-6a23-4679-b32b-e9428568e44b",
   "metadata": {},
   "outputs": [],
   "source": []
  },
  {
   "cell_type": "code",
   "execution_count": 33,
   "id": "2d9086f6-d7cd-4971-9d38-3030d4955591",
   "metadata": {},
   "outputs": [],
   "source": [
    "from sklearn.model_selection import train_test_split"
   ]
  },
  {
   "cell_type": "code",
   "execution_count": 202,
   "id": "a5a68002-f063-41b0-b28f-893e01daaa29",
   "metadata": {},
   "outputs": [],
   "source": [
    "# # Perform an 80-20 split for training and testing data\n",
    "X_train, X_val, y_train, y_val = train_test_split(\n",
    "    X,\n",
    "    Y,\n",
    "    test_size=0.2,\n",
    "    stratify=train['first_party_winner'],\n",
    "    random_state=144\n",
    ")"
   ]
  },
  {
   "cell_type": "code",
   "execution_count": 203,
   "id": "d972c7e9-b456-4479-bb11-cc10132c9c31",
   "metadata": {},
   "outputs": [
    {
     "data": {
      "text/plain": [
       "(1982, 29388)"
      ]
     },
     "execution_count": 203,
     "metadata": {},
     "output_type": "execute_result"
    }
   ],
   "source": [
    "X_train.shape"
   ]
  },
  {
   "cell_type": "markdown",
   "id": "0a0d409b-18f9-4852-b0e4-13d021d59a6c",
   "metadata": {},
   "source": [
    "### Modeling"
   ]
  },
  {
   "cell_type": "code",
   "execution_count": 35,
   "id": "23a6965f-cfbe-400d-b22b-e2c432f6e00e",
   "metadata": {},
   "outputs": [],
   "source": [
    "from sklearn.model_selection import GridSearchCV\n",
    "from sklearn.linear_model import LogisticRegression\n",
    "from sklearn.metrics import accuracy_score, classification_report"
   ]
  },
  {
   "cell_type": "code",
   "execution_count": 204,
   "id": "e501d8df-bb68-4358-ada4-ede139c17363",
   "metadata": {},
   "outputs": [],
   "source": [
    "lr = LogisticRegression()"
   ]
  },
  {
   "cell_type": "code",
   "execution_count": 209,
   "id": "a0fed7db-98a1-4d0b-adbe-b729205eb4c4",
   "metadata": {},
   "outputs": [],
   "source": [
    "lr_params = {\n",
    "    'C':[0.1, 0.5, 1.0],\n",
    "    'max_iter':[800, 900, 1000],\n",
    "    'solver':['lbfgs'],\n",
    "}"
   ]
  },
  {
   "cell_type": "code",
   "execution_count": 210,
   "id": "d58068bb-5afc-434a-885b-7351ae14c607",
   "metadata": {},
   "outputs": [
    {
     "data": {
      "text/html": [
       "<style>#sk-container-id-4 {color: black;background-color: white;}#sk-container-id-4 pre{padding: 0;}#sk-container-id-4 div.sk-toggleable {background-color: white;}#sk-container-id-4 label.sk-toggleable__label {cursor: pointer;display: block;width: 100%;margin-bottom: 0;padding: 0.3em;box-sizing: border-box;text-align: center;}#sk-container-id-4 label.sk-toggleable__label-arrow:before {content: \"▸\";float: left;margin-right: 0.25em;color: #696969;}#sk-container-id-4 label.sk-toggleable__label-arrow:hover:before {color: black;}#sk-container-id-4 div.sk-estimator:hover label.sk-toggleable__label-arrow:before {color: black;}#sk-container-id-4 div.sk-toggleable__content {max-height: 0;max-width: 0;overflow: hidden;text-align: left;background-color: #f0f8ff;}#sk-container-id-4 div.sk-toggleable__content pre {margin: 0.2em;color: black;border-radius: 0.25em;background-color: #f0f8ff;}#sk-container-id-4 input.sk-toggleable__control:checked~div.sk-toggleable__content {max-height: 200px;max-width: 100%;overflow: auto;}#sk-container-id-4 input.sk-toggleable__control:checked~label.sk-toggleable__label-arrow:before {content: \"▾\";}#sk-container-id-4 div.sk-estimator input.sk-toggleable__control:checked~label.sk-toggleable__label {background-color: #d4ebff;}#sk-container-id-4 div.sk-label input.sk-toggleable__control:checked~label.sk-toggleable__label {background-color: #d4ebff;}#sk-container-id-4 input.sk-hidden--visually {border: 0;clip: rect(1px 1px 1px 1px);clip: rect(1px, 1px, 1px, 1px);height: 1px;margin: -1px;overflow: hidden;padding: 0;position: absolute;width: 1px;}#sk-container-id-4 div.sk-estimator {font-family: monospace;background-color: #f0f8ff;border: 1px dotted black;border-radius: 0.25em;box-sizing: border-box;margin-bottom: 0.5em;}#sk-container-id-4 div.sk-estimator:hover {background-color: #d4ebff;}#sk-container-id-4 div.sk-parallel-item::after {content: \"\";width: 100%;border-bottom: 1px solid gray;flex-grow: 1;}#sk-container-id-4 div.sk-label:hover label.sk-toggleable__label {background-color: #d4ebff;}#sk-container-id-4 div.sk-serial::before {content: \"\";position: absolute;border-left: 1px solid gray;box-sizing: border-box;top: 0;bottom: 0;left: 50%;z-index: 0;}#sk-container-id-4 div.sk-serial {display: flex;flex-direction: column;align-items: center;background-color: white;padding-right: 0.2em;padding-left: 0.2em;position: relative;}#sk-container-id-4 div.sk-item {position: relative;z-index: 1;}#sk-container-id-4 div.sk-parallel {display: flex;align-items: stretch;justify-content: center;background-color: white;position: relative;}#sk-container-id-4 div.sk-item::before, #sk-container-id-4 div.sk-parallel-item::before {content: \"\";position: absolute;border-left: 1px solid gray;box-sizing: border-box;top: 0;bottom: 0;left: 50%;z-index: -1;}#sk-container-id-4 div.sk-parallel-item {display: flex;flex-direction: column;z-index: 1;position: relative;background-color: white;}#sk-container-id-4 div.sk-parallel-item:first-child::after {align-self: flex-end;width: 50%;}#sk-container-id-4 div.sk-parallel-item:last-child::after {align-self: flex-start;width: 50%;}#sk-container-id-4 div.sk-parallel-item:only-child::after {width: 0;}#sk-container-id-4 div.sk-dashed-wrapped {border: 1px dashed gray;margin: 0 0.4em 0.5em 0.4em;box-sizing: border-box;padding-bottom: 0.4em;background-color: white;}#sk-container-id-4 div.sk-label label {font-family: monospace;font-weight: bold;display: inline-block;line-height: 1.2em;}#sk-container-id-4 div.sk-label-container {text-align: center;}#sk-container-id-4 div.sk-container {/* jupyter's `normalize.less` sets `[hidden] { display: none; }` but bootstrap.min.css set `[hidden] { display: none !important; }` so we also need the `!important` here to be able to override the default hidden behavior on the sphinx rendered scikit-learn.org. See: https://github.com/scikit-learn/scikit-learn/issues/21755 */display: inline-block !important;position: relative;}#sk-container-id-4 div.sk-text-repr-fallback {display: none;}</style><div id=\"sk-container-id-4\" class=\"sk-top-container\"><div class=\"sk-text-repr-fallback\"><pre>GridSearchCV(cv=10, estimator=LogisticRegression(),\n",
       "             param_grid={&#x27;C&#x27;: [0.1, 0.5, 1.0], &#x27;max_iter&#x27;: [800, 900, 1000],\n",
       "                         &#x27;solver&#x27;: [&#x27;lbfgs&#x27;]},\n",
       "             scoring=&#x27;accuracy&#x27;)</pre><b>In a Jupyter environment, please rerun this cell to show the HTML representation or trust the notebook. <br />On GitHub, the HTML representation is unable to render, please try loading this page with nbviewer.org.</b></div><div class=\"sk-container\" hidden><div class=\"sk-item sk-dashed-wrapped\"><div class=\"sk-label-container\"><div class=\"sk-label sk-toggleable\"><input class=\"sk-toggleable__control sk-hidden--visually\" id=\"sk-estimator-id-10\" type=\"checkbox\" ><label for=\"sk-estimator-id-10\" class=\"sk-toggleable__label sk-toggleable__label-arrow\">GridSearchCV</label><div class=\"sk-toggleable__content\"><pre>GridSearchCV(cv=10, estimator=LogisticRegression(),\n",
       "             param_grid={&#x27;C&#x27;: [0.1, 0.5, 1.0], &#x27;max_iter&#x27;: [800, 900, 1000],\n",
       "                         &#x27;solver&#x27;: [&#x27;lbfgs&#x27;]},\n",
       "             scoring=&#x27;accuracy&#x27;)</pre></div></div></div><div class=\"sk-parallel\"><div class=\"sk-parallel-item\"><div class=\"sk-item\"><div class=\"sk-label-container\"><div class=\"sk-label sk-toggleable\"><input class=\"sk-toggleable__control sk-hidden--visually\" id=\"sk-estimator-id-11\" type=\"checkbox\" ><label for=\"sk-estimator-id-11\" class=\"sk-toggleable__label sk-toggleable__label-arrow\">estimator: LogisticRegression</label><div class=\"sk-toggleable__content\"><pre>LogisticRegression()</pre></div></div></div><div class=\"sk-serial\"><div class=\"sk-item\"><div class=\"sk-estimator sk-toggleable\"><input class=\"sk-toggleable__control sk-hidden--visually\" id=\"sk-estimator-id-12\" type=\"checkbox\" ><label for=\"sk-estimator-id-12\" class=\"sk-toggleable__label sk-toggleable__label-arrow\">LogisticRegression</label><div class=\"sk-toggleable__content\"><pre>LogisticRegression()</pre></div></div></div></div></div></div></div></div></div></div>"
      ],
      "text/plain": [
       "GridSearchCV(cv=10, estimator=LogisticRegression(),\n",
       "             param_grid={'C': [0.1, 0.5, 1.0], 'max_iter': [800, 900, 1000],\n",
       "                         'solver': ['lbfgs']},\n",
       "             scoring='accuracy')"
      ]
     },
     "execution_count": 210,
     "metadata": {},
     "output_type": "execute_result"
    }
   ],
   "source": [
    "grid_cv_lr = GridSearchCV(estimator=lr,\n",
    "                       param_grid=lr_params,\n",
    "                       scoring='accuracy',\n",
    "                       cv=10)\n",
    "\n",
    "grid_cv_lr.fit(X_train, y_train)"
   ]
  },
  {
   "cell_type": "code",
   "execution_count": 211,
   "id": "72ea6091-043f-4099-9920-e3e5ca560bed",
   "metadata": {},
   "outputs": [
    {
     "name": "stdout",
     "output_type": "stream",
     "text": [
      "최적 하이퍼파라미터: {'C': 0.1, 'max_iter': 800, 'solver': 'lbfgs'}\n"
     ]
    }
   ],
   "source": [
    "print('최적 하이퍼파라미터:', grid_cv_lr.best_params_)"
   ]
  },
  {
   "cell_type": "code",
   "execution_count": 212,
   "id": "de94491e-7424-43bf-8259-b6bb2ed22ad5",
   "metadata": {},
   "outputs": [
    {
     "name": "stdout",
     "output_type": "stream",
     "text": [
      "Accuracy: 0.6613\n"
     ]
    }
   ],
   "source": [
    "model = grid_cv_lr.best_estimator_\n",
    "grid_cv_lr_pred = model.predict(X_val)\n",
    "score = accuracy_score(y_val, grid_cv_lr_pred);\n",
    "print(f\"Accuracy: {score:.4f}\")"
   ]
  },
  {
   "cell_type": "code",
   "execution_count": 213,
   "id": "e4ce2eda-c25a-4dc8-90bd-3938f04f5a32",
   "metadata": {},
   "outputs": [
    {
     "name": "stdout",
     "output_type": "stream",
     "text": [
      "LR - Train\n",
      "               precision    recall  f1-score   support\n",
      "\n",
      "           0       0.94      0.02      0.05       663\n",
      "           1       0.67      1.00      0.80      1319\n",
      "\n",
      "    accuracy                           0.67      1982\n",
      "   macro avg       0.81      0.51      0.42      1982\n",
      "weighted avg       0.76      0.67      0.55      1982\n",
      "\n",
      "LR - Val\n",
      "               precision    recall  f1-score   support\n",
      "\n",
      "           0       0.00      0.00      0.00       166\n",
      "           1       0.66      0.99      0.80       330\n",
      "\n",
      "    accuracy                           0.66       496\n",
      "   macro avg       0.33      0.50      0.40       496\n",
      "weighted avg       0.44      0.66      0.53       496\n",
      "\n"
     ]
    }
   ],
   "source": [
    "y_train_pred = model.predict(X_train)\n",
    "y_val_pred = grid_cv_lr_pred\n",
    "\n",
    "print('LR - Train\\n', classification_report(y_train, y_train_pred, zero_division=0))\n",
    "print('LR - Val\\n', classification_report(y_val, y_val_pred, zero_division=0))"
   ]
  },
  {
   "cell_type": "code",
   "execution_count": 194,
   "id": "f5e34be8-3413-4468-9b4f-0b5654e71ff3",
   "metadata": {},
   "outputs": [
    {
     "name": "stdout",
     "output_type": "stream",
     "text": [
      "LR - Train\n",
      "               precision    recall  f1-score   support\n",
      "\n",
      "           0       0.96      0.03      0.07       663\n",
      "           1       0.67      1.00      0.80      1319\n",
      "\n",
      "    accuracy                           0.68      1982\n",
      "   macro avg       0.82      0.52      0.44      1982\n",
      "weighted avg       0.77      0.68      0.56      1982\n",
      "\n",
      "LR - Val\n",
      "               precision    recall  f1-score   support\n",
      "\n",
      "           0       0.75      0.02      0.04       166\n",
      "           1       0.67      1.00      0.80       330\n",
      "\n",
      "    accuracy                           0.67       496\n",
      "   macro avg       0.71      0.51      0.42       496\n",
      "weighted avg       0.70      0.67      0.54       496\n",
      "\n"
     ]
    }
   ],
   "source": [
    "y_train_pred = model.predict(X_train)\n",
    "y_val_pred = grid_cv_lr_pred\n",
    "\n",
    "print('LR - Train\\n', classification_report(y_train, y_train_pred, zero_division=0))\n",
    "print('LR - Val\\n', classification_report(y_val, y_val_pred, zero_division=0))"
   ]
  },
  {
   "cell_type": "code",
   "execution_count": 195,
   "id": "d1ee7d12-85ba-4680-adfc-597c5a6ee5f7",
   "metadata": {},
   "outputs": [
    {
     "name": "stdout",
     "output_type": "stream",
     "text": [
      "Done\n"
     ]
    }
   ],
   "source": [
    "pred_lr = model.predict(X_test)\n",
    "\n",
    "submission['first_party_winner'] = pred_lr\n",
    "submission.to_csv('./feat_engineer+n_gram+LR.csv', index=False)\n",
    "print('Done')"
   ]
  },
  {
   "cell_type": "markdown",
   "id": "0fcb334a-93f7-400c-a952-6dad884b661a",
   "metadata": {},
   "source": [
    "## RF"
   ]
  },
  {
   "cell_type": "markdown",
   "id": "f621acbe-2282-4042-8ce2-7a8d76104ac9",
   "metadata": {},
   "source": [
    "### Feature"
   ]
  },
  {
   "cell_type": "code",
   "execution_count": 214,
   "id": "231f2ee7-711f-4589-b2fc-4da63f802b53",
   "metadata": {},
   "outputs": [],
   "source": [
    "from sklearn.feature_extraction.text import TfidfVectorizer\n",
    "\n",
    "vectorizer = TfidfVectorizer(\n",
    "    ngram_range=(1,4),\n",
    "    min_df=4,\n",
    "    max_features=4000,\n",
    ")"
   ]
  },
  {
   "cell_type": "code",
   "execution_count": 215,
   "id": "b1825d6f-0c9d-43fa-9f15-bc0abaff96f4",
   "metadata": {},
   "outputs": [],
   "source": [
    "def get_vector(vectorizer, df, train_mode):\n",
    "    if train_mode:\n",
    "        X_facts = vectorizer.fit_transform(df['facts_clean'])\n",
    "    else:\n",
    "        X_facts = vectorizer.transform(df['facts_clean'])\n",
    "    X_party1 = vectorizer.transform(df['first_party_clean'])\n",
    "    X_party2 = vectorizer.transform(df['second_party_clean'])\n",
    "    \n",
    "    X = np.concatenate([X_party1.todense(), X_party2.todense(), X_facts.todense()], axis=1)\n",
    "    return np.asarray(X)"
   ]
  },
  {
   "cell_type": "code",
   "execution_count": 216,
   "id": "0b503b71-82b4-44a2-9337-bcd605ec70f0",
   "metadata": {},
   "outputs": [],
   "source": [
    "X = get_vector(vectorizer, df_nlp, True)\n",
    "Y = train[\"first_party_winner\"]\n",
    "X_test = get_vector(vectorizer, test_nlp, False)"
   ]
  },
  {
   "cell_type": "code",
   "execution_count": 217,
   "id": "19f19379-9a2c-4585-8e97-28c0d9b93589",
   "metadata": {},
   "outputs": [],
   "source": [
    "# # Perform an 80-20 split for training and testing data\n",
    "X_train, X_val, y_train, y_val = train_test_split(\n",
    "    X,\n",
    "    Y,\n",
    "    test_size=0.2,\n",
    "    stratify=train['first_party_winner'],\n",
    "    random_state=144\n",
    ")"
   ]
  },
  {
   "cell_type": "code",
   "execution_count": 218,
   "id": "74a00e33-9de1-43ab-97f2-23e7324a0283",
   "metadata": {},
   "outputs": [
    {
     "data": {
      "text/plain": [
       "(1982, 12000)"
      ]
     },
     "execution_count": 218,
     "metadata": {},
     "output_type": "execute_result"
    }
   ],
   "source": [
    "X_train.shape"
   ]
  },
  {
   "cell_type": "markdown",
   "id": "710b04cb-b1f9-410e-9680-8eff85d300fb",
   "metadata": {},
   "source": [
    "### Modeling"
   ]
  },
  {
   "cell_type": "code",
   "execution_count": 219,
   "id": "36b6a102-0574-4057-851b-6ead1e5217c9",
   "metadata": {},
   "outputs": [],
   "source": [
    "from sklearn.ensemble import RandomForestClassifier"
   ]
  },
  {
   "cell_type": "code",
   "execution_count": 220,
   "id": "6f7bef36-dabf-43d4-bab3-c7318e35c6bb",
   "metadata": {},
   "outputs": [],
   "source": [
    "rf = RandomForestClassifier()"
   ]
  },
  {
   "cell_type": "code",
   "execution_count": 225,
   "id": "12b8e547-b2a1-43b3-8fbd-a385a09ae584",
   "metadata": {},
   "outputs": [],
   "source": [
    "lr_params = {\n",
    "    'n_estimators':[500, 1000],\n",
    "    'max_depth':[15, 20],\n",
    "}"
   ]
  },
  {
   "cell_type": "code",
   "execution_count": 226,
   "id": "e276bfff-2b06-4462-8f0d-3acfea1c676c",
   "metadata": {},
   "outputs": [
    {
     "data": {
      "text/html": [
       "<style>#sk-container-id-5 {color: black;background-color: white;}#sk-container-id-5 pre{padding: 0;}#sk-container-id-5 div.sk-toggleable {background-color: white;}#sk-container-id-5 label.sk-toggleable__label {cursor: pointer;display: block;width: 100%;margin-bottom: 0;padding: 0.3em;box-sizing: border-box;text-align: center;}#sk-container-id-5 label.sk-toggleable__label-arrow:before {content: \"▸\";float: left;margin-right: 0.25em;color: #696969;}#sk-container-id-5 label.sk-toggleable__label-arrow:hover:before {color: black;}#sk-container-id-5 div.sk-estimator:hover label.sk-toggleable__label-arrow:before {color: black;}#sk-container-id-5 div.sk-toggleable__content {max-height: 0;max-width: 0;overflow: hidden;text-align: left;background-color: #f0f8ff;}#sk-container-id-5 div.sk-toggleable__content pre {margin: 0.2em;color: black;border-radius: 0.25em;background-color: #f0f8ff;}#sk-container-id-5 input.sk-toggleable__control:checked~div.sk-toggleable__content {max-height: 200px;max-width: 100%;overflow: auto;}#sk-container-id-5 input.sk-toggleable__control:checked~label.sk-toggleable__label-arrow:before {content: \"▾\";}#sk-container-id-5 div.sk-estimator input.sk-toggleable__control:checked~label.sk-toggleable__label {background-color: #d4ebff;}#sk-container-id-5 div.sk-label input.sk-toggleable__control:checked~label.sk-toggleable__label {background-color: #d4ebff;}#sk-container-id-5 input.sk-hidden--visually {border: 0;clip: rect(1px 1px 1px 1px);clip: rect(1px, 1px, 1px, 1px);height: 1px;margin: -1px;overflow: hidden;padding: 0;position: absolute;width: 1px;}#sk-container-id-5 div.sk-estimator {font-family: monospace;background-color: #f0f8ff;border: 1px dotted black;border-radius: 0.25em;box-sizing: border-box;margin-bottom: 0.5em;}#sk-container-id-5 div.sk-estimator:hover {background-color: #d4ebff;}#sk-container-id-5 div.sk-parallel-item::after {content: \"\";width: 100%;border-bottom: 1px solid gray;flex-grow: 1;}#sk-container-id-5 div.sk-label:hover label.sk-toggleable__label {background-color: #d4ebff;}#sk-container-id-5 div.sk-serial::before {content: \"\";position: absolute;border-left: 1px solid gray;box-sizing: border-box;top: 0;bottom: 0;left: 50%;z-index: 0;}#sk-container-id-5 div.sk-serial {display: flex;flex-direction: column;align-items: center;background-color: white;padding-right: 0.2em;padding-left: 0.2em;position: relative;}#sk-container-id-5 div.sk-item {position: relative;z-index: 1;}#sk-container-id-5 div.sk-parallel {display: flex;align-items: stretch;justify-content: center;background-color: white;position: relative;}#sk-container-id-5 div.sk-item::before, #sk-container-id-5 div.sk-parallel-item::before {content: \"\";position: absolute;border-left: 1px solid gray;box-sizing: border-box;top: 0;bottom: 0;left: 50%;z-index: -1;}#sk-container-id-5 div.sk-parallel-item {display: flex;flex-direction: column;z-index: 1;position: relative;background-color: white;}#sk-container-id-5 div.sk-parallel-item:first-child::after {align-self: flex-end;width: 50%;}#sk-container-id-5 div.sk-parallel-item:last-child::after {align-self: flex-start;width: 50%;}#sk-container-id-5 div.sk-parallel-item:only-child::after {width: 0;}#sk-container-id-5 div.sk-dashed-wrapped {border: 1px dashed gray;margin: 0 0.4em 0.5em 0.4em;box-sizing: border-box;padding-bottom: 0.4em;background-color: white;}#sk-container-id-5 div.sk-label label {font-family: monospace;font-weight: bold;display: inline-block;line-height: 1.2em;}#sk-container-id-5 div.sk-label-container {text-align: center;}#sk-container-id-5 div.sk-container {/* jupyter's `normalize.less` sets `[hidden] { display: none; }` but bootstrap.min.css set `[hidden] { display: none !important; }` so we also need the `!important` here to be able to override the default hidden behavior on the sphinx rendered scikit-learn.org. See: https://github.com/scikit-learn/scikit-learn/issues/21755 */display: inline-block !important;position: relative;}#sk-container-id-5 div.sk-text-repr-fallback {display: none;}</style><div id=\"sk-container-id-5\" class=\"sk-top-container\"><div class=\"sk-text-repr-fallback\"><pre>GridSearchCV(cv=10, estimator=RandomForestClassifier(),\n",
       "             param_grid={&#x27;max_depth&#x27;: [15, 20], &#x27;n_estimators&#x27;: [500, 1000]},\n",
       "             scoring=&#x27;accuracy&#x27;)</pre><b>In a Jupyter environment, please rerun this cell to show the HTML representation or trust the notebook. <br />On GitHub, the HTML representation is unable to render, please try loading this page with nbviewer.org.</b></div><div class=\"sk-container\" hidden><div class=\"sk-item sk-dashed-wrapped\"><div class=\"sk-label-container\"><div class=\"sk-label sk-toggleable\"><input class=\"sk-toggleable__control sk-hidden--visually\" id=\"sk-estimator-id-13\" type=\"checkbox\" ><label for=\"sk-estimator-id-13\" class=\"sk-toggleable__label sk-toggleable__label-arrow\">GridSearchCV</label><div class=\"sk-toggleable__content\"><pre>GridSearchCV(cv=10, estimator=RandomForestClassifier(),\n",
       "             param_grid={&#x27;max_depth&#x27;: [15, 20], &#x27;n_estimators&#x27;: [500, 1000]},\n",
       "             scoring=&#x27;accuracy&#x27;)</pre></div></div></div><div class=\"sk-parallel\"><div class=\"sk-parallel-item\"><div class=\"sk-item\"><div class=\"sk-label-container\"><div class=\"sk-label sk-toggleable\"><input class=\"sk-toggleable__control sk-hidden--visually\" id=\"sk-estimator-id-14\" type=\"checkbox\" ><label for=\"sk-estimator-id-14\" class=\"sk-toggleable__label sk-toggleable__label-arrow\">estimator: RandomForestClassifier</label><div class=\"sk-toggleable__content\"><pre>RandomForestClassifier()</pre></div></div></div><div class=\"sk-serial\"><div class=\"sk-item\"><div class=\"sk-estimator sk-toggleable\"><input class=\"sk-toggleable__control sk-hidden--visually\" id=\"sk-estimator-id-15\" type=\"checkbox\" ><label for=\"sk-estimator-id-15\" class=\"sk-toggleable__label sk-toggleable__label-arrow\">RandomForestClassifier</label><div class=\"sk-toggleable__content\"><pre>RandomForestClassifier()</pre></div></div></div></div></div></div></div></div></div></div>"
      ],
      "text/plain": [
       "GridSearchCV(cv=10, estimator=RandomForestClassifier(),\n",
       "             param_grid={'max_depth': [15, 20], 'n_estimators': [500, 1000]},\n",
       "             scoring='accuracy')"
      ]
     },
     "execution_count": 226,
     "metadata": {},
     "output_type": "execute_result"
    }
   ],
   "source": [
    "grid_cv_rf = GridSearchCV(estimator=rf,\n",
    "                       param_grid=lr_params,\n",
    "                       scoring='accuracy',\n",
    "                       cv=10)\n",
    "\n",
    "grid_cv_rf.fit(X_train, y_train)"
   ]
  },
  {
   "cell_type": "code",
   "execution_count": 227,
   "id": "8c279197-3c6e-4b36-b9be-9508cea813dc",
   "metadata": {},
   "outputs": [
    {
     "name": "stdout",
     "output_type": "stream",
     "text": [
      "최적 하이퍼파라미터: {'max_depth': 15, 'n_estimators': 500}\n"
     ]
    }
   ],
   "source": [
    "print('최적 하이퍼파라미터:', grid_cv_rf.best_params_)"
   ]
  },
  {
   "cell_type": "code",
   "execution_count": 228,
   "id": "a0372efa-90b5-458c-89c7-d3357daf497f",
   "metadata": {},
   "outputs": [
    {
     "name": "stdout",
     "output_type": "stream",
     "text": [
      "Accuracy: 0.6653\n"
     ]
    }
   ],
   "source": [
    "model = grid_cv_rf.best_estimator_\n",
    "grid_cv_rf_pred = model.predict(X_val)\n",
    "score = accuracy_score(y_val, grid_cv_rf_pred);\n",
    "print(f\"Accuracy: {score:.4f}\")"
   ]
  },
  {
   "cell_type": "code",
   "execution_count": 229,
   "id": "5d6e4ea9-5baa-4f65-b02c-9054c49c248c",
   "metadata": {},
   "outputs": [
    {
     "name": "stdout",
     "output_type": "stream",
     "text": [
      "RF - Train\n",
      "               precision    recall  f1-score   support\n",
      "\n",
      "           0       1.00      0.05      0.10       663\n",
      "           1       0.68      1.00      0.81      1319\n",
      "\n",
      "    accuracy                           0.68      1982\n",
      "   macro avg       0.84      0.53      0.45      1982\n",
      "weighted avg       0.79      0.68      0.57      1982\n",
      "\n",
      "RF - Val\n",
      "               precision    recall  f1-score   support\n",
      "\n",
      "           0       0.00      0.00      0.00       166\n",
      "           1       0.67      1.00      0.80       330\n",
      "\n",
      "    accuracy                           0.67       496\n",
      "   macro avg       0.33      0.50      0.40       496\n",
      "weighted avg       0.44      0.67      0.53       496\n",
      "\n"
     ]
    }
   ],
   "source": [
    "y_train_pred = model.predict(X_train)\n",
    "y_val_pred = grid_cv_rf_pred\n",
    "\n",
    "print('RF - Train\\n', classification_report(y_train, y_train_pred, zero_division=0))\n",
    "print('RF - Val\\n', classification_report(y_val, y_val_pred, zero_division=0))"
   ]
  },
  {
   "cell_type": "code",
   "execution_count": 230,
   "id": "5f28da4a-61fb-4bd2-bd08-a5bbc5913aa5",
   "metadata": {},
   "outputs": [
    {
     "name": "stdout",
     "output_type": "stream",
     "text": [
      "Done\n"
     ]
    }
   ],
   "source": [
    "pred_rf = model.predict(X_test)\n",
    "\n",
    "submission['first_party_winner'] = pred_rf\n",
    "submission.to_csv('./feat_engineer+n_gram+RF.csv', index=False)\n",
    "print('Done')"
   ]
  },
  {
   "cell_type": "code",
   "execution_count": null,
   "id": "9fd9d1c6-668c-47ad-8dc7-6e7be715da31",
   "metadata": {},
   "outputs": [],
   "source": []
  }
 ],
 "metadata": {
  "kernelspec": {
   "display_name": "Python 3.11 (nlp)",
   "language": "python",
   "name": "nlp"
  },
  "language_info": {
   "codemirror_mode": {
    "name": "ipython",
    "version": 3
   },
   "file_extension": ".py",
   "mimetype": "text/x-python",
   "name": "python",
   "nbconvert_exporter": "python",
   "pygments_lexer": "ipython3",
   "version": "3.11.4"
  }
 },
 "nbformat": 4,
 "nbformat_minor": 5
}
