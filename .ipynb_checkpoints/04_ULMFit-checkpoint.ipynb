{
 "cells": [
  {
   "cell_type": "markdown",
   "id": "99c2c818-339f-4374-bec6-fc1a4aed417a",
   "metadata": {},
   "source": [
    "# Pre-trained Model(FastAI) + LJP"
   ]
  },
  {
   "cell_type": "code",
   "execution_count": 8,
   "id": "273a3ce2-934d-4b18-9be0-51c2ea94e5cc",
   "metadata": {
    "editable": true,
    "slideshow": {
     "slide_type": ""
    },
    "tags": []
   },
   "outputs": [],
   "source": [
    "#hide\n",
    "! [ -e /content ] && pip install -Uqq fastbook\n",
    "import fastbook\n",
    "fastbook.setup_book()"
   ]
  },
  {
   "cell_type": "code",
   "execution_count": 9,
   "id": "663d1eff-29d6-415e-a98f-c1f6086f123d",
   "metadata": {},
   "outputs": [],
   "source": [
    "#hide\n",
    "from fastbook import *\n",
    "from IPython.display import display,HTML"
   ]
  },
  {
   "cell_type": "markdown",
   "id": "0be20dd7-7f58-454d-85d5-a52e8bbc201b",
   "metadata": {
    "execution": {
     "iopub.execute_input": "2023-06-18T07:22:34.605661Z",
     "iopub.status.busy": "2023-06-18T07:22:34.605141Z",
     "iopub.status.idle": "2023-06-18T07:22:35.103798Z",
     "shell.execute_reply": "2023-06-18T07:22:35.102731Z",
     "shell.execute_reply.started": "2023-06-18T07:22:34.605562Z"
    }
   },
   "source": [
    "# Fastai - ULMFiT"
   ]
  },
  {
   "cell_type": "markdown",
   "id": "e96a86e1-e494-43f0-ae49-759301eb1d4e",
   "metadata": {},
   "source": [
    "- Reference : Kaggle\n",
    "    - [Introduction to NLP using Fastai2 and ULMFiT](https://www.kaggle.com/code/harish3110/introduction-to-nlp-using-fastai2-and-ulmfit)\n",
    "\n",
    "- ULMFiT\n",
    "    - Universal Language Model Fine-tuning for Text Classification\n",
    "    - https://arxiv.org/abs/1801.06146"
   ]
  },
  {
   "cell_type": "markdown",
   "id": "8344aff5-41b9-4d75-9311-c6f56fd2a629",
   "metadata": {
    "editable": true,
    "slideshow": {
     "slide_type": ""
    },
    "tags": []
   },
   "source": [
    "This will have two parts:\n",
    "\n",
    "- Training the Language Model\n",
    "- Training the Classifier Model"
   ]
  },
  {
   "cell_type": "markdown",
   "id": "a387de14-aa2a-4220-a0dd-363e03b6e9cd",
   "metadata": {},
   "source": [
    "## Load Data"
   ]
  },
  {
   "cell_type": "code",
   "execution_count": 10,
   "id": "63cbd67c-5bd8-4df6-b94f-2aaaa6391e50",
   "metadata": {},
   "outputs": [],
   "source": [
    "import os\n",
    "from pathlib import Path\n",
    "\n",
    "path = Path(os.getcwd() + '/datasets')"
   ]
  },
  {
   "cell_type": "code",
   "execution_count": 11,
   "id": "c3d0a0f3-6324-49b1-b891-be7f3c998d9f",
   "metadata": {},
   "outputs": [],
   "source": [
    "train = pd.read_csv(path / 'train.csv')\n",
    "test = pd.read_csv(path / 'test.csv')\n",
    "submission = pd.read_csv(path / 'sample_submission.csv')"
   ]
  },
  {
   "cell_type": "code",
   "execution_count": 6,
   "id": "de601897-3d6b-4103-a0ef-2c42cdd09a8b",
   "metadata": {
    "execution": {
     "iopub.execute_input": "2023-06-18T08:23:15.044027Z",
     "iopub.status.busy": "2023-06-18T08:23:15.043618Z",
     "iopub.status.idle": "2023-06-18T08:23:15.055737Z",
     "shell.execute_reply": "2023-06-18T08:23:15.054840Z",
     "shell.execute_reply.started": "2023-06-18T08:23:15.043999Z"
    }
   },
   "outputs": [
    {
     "data": {
      "text/plain": [
       "((2478, 5), (1240, 4))"
      ]
     },
     "execution_count": 6,
     "metadata": {},
     "output_type": "execute_result"
    }
   ],
   "source": [
    "train.shape, test.shape"
   ]
  },
  {
   "cell_type": "markdown",
   "id": "fbc36c71-7cc8-4704-a434-ad093163ad36",
   "metadata": {},
   "source": [
    "## DataBlock"
   ]
  },
  {
   "cell_type": "code",
   "execution_count": 7,
   "id": "bf9aa498-14e3-42ee-91bc-16cf08139909",
   "metadata": {
    "execution": {
     "iopub.execute_input": "2023-06-18T08:23:16.849022Z",
     "iopub.status.busy": "2023-06-18T08:23:16.848629Z",
     "iopub.status.idle": "2023-06-18T08:23:16.862065Z",
     "shell.execute_reply": "2023-06-18T08:23:16.860960Z",
     "shell.execute_reply.started": "2023-06-18T08:23:16.848995Z"
    }
   },
   "outputs": [],
   "source": [
    "from fastai.text.data import TextBlock"
   ]
  },
  {
   "cell_type": "code",
   "execution_count": 9,
   "id": "a57f0374-3039-4224-96d5-8e255cbf8252",
   "metadata": {
    "execution": {
     "iopub.execute_input": "2023-06-18T08:23:27.973012Z",
     "iopub.status.busy": "2023-06-18T08:23:27.972341Z",
     "iopub.status.idle": "2023-06-18T08:23:35.977891Z",
     "shell.execute_reply": "2023-06-18T08:23:35.977002Z",
     "shell.execute_reply.started": "2023-06-18T08:23:27.972971Z"
    }
   },
   "outputs": [
    {
     "data": {
      "text/html": [
       "\n",
       "<style>\n",
       "    /* Turns off some styling */\n",
       "    progress {\n",
       "        /* gets rid of default border in Firefox and Opera. */\n",
       "        border: none;\n",
       "        /* Needs to be in here for Safari polyfill so background images work as expected. */\n",
       "        background-size: auto;\n",
       "    }\n",
       "    progress:not([value]), progress:not([value])::-webkit-progress-bar {\n",
       "        background: repeating-linear-gradient(45deg, #7e7e7e, #7e7e7e 10px, #5c5c5c 10px, #5c5c5c 20px);\n",
       "    }\n",
       "    .progress-bar-interrupted, .progress-bar-interrupted::-webkit-progress-bar {\n",
       "        background: #F44336;\n",
       "    }\n",
       "</style>\n"
      ],
      "text/plain": [
       "<IPython.core.display.HTML object>"
      ]
     },
     "metadata": {},
     "output_type": "display_data"
    },
    {
     "data": {
      "text/html": [],
      "text/plain": [
       "<IPython.core.display.HTML object>"
      ]
     },
     "metadata": {},
     "output_type": "display_data"
    },
    {
     "data": {
      "text/html": [
       "<table border=\"1\" class=\"dataframe\">\n",
       "  <thead>\n",
       "    <tr style=\"text-align: right;\">\n",
       "      <th></th>\n",
       "      <th>text</th>\n",
       "      <th>text_</th>\n",
       "    </tr>\n",
       "  </thead>\n",
       "  <tbody>\n",
       "    <tr>\n",
       "      <th>0</th>\n",
       "      <td>xxbos xxmaj curtis xxmaj lee xxmaj kyles was charged with murdering 60 - year - old xxmaj xxunk xxmaj dye in a xxmaj xxunk ’s parking lot . xxmaj after an initial trial with a hung jury , xxmaj kyles was tried again , convicted of first - degree murder , and sentenced to death . xxmaj the xxup u.s . xxmaj supreme xxmaj court affirmed the decision on direct appeal .</td>\n",
       "      <td>xxmaj curtis xxmaj lee xxmaj kyles was charged with murdering 60 - year - old xxmaj xxunk xxmaj dye in a xxmaj xxunk ’s parking lot . xxmaj after an initial trial with a hung jury , xxmaj kyles was tried again , convicted of first - degree murder , and sentenced to death . xxmaj the xxup u.s . xxmaj supreme xxmaj court affirmed the decision on direct appeal . xxmaj</td>\n",
       "    </tr>\n",
       "    <tr>\n",
       "      <th>1</th>\n",
       "      <td>transactional records obtained by the government include the date and time of calls , and the xxunk location where calls began and ended based on their connections to cell xxunk site \" location information ( xxunk ) . \\n xxmaj based on the cell - site evidence , the government charged xxmaj timothy xxmaj carpenter with , among other offenses , aiding and abetting robbery that affected interstate commerce , in violation</td>\n",
       "      <td>records obtained by the government include the date and time of calls , and the xxunk location where calls began and ended based on their connections to cell xxunk site \" location information ( xxunk ) . \\n xxmaj based on the cell - site evidence , the government charged xxmaj timothy xxmaj carpenter with , among other offenses , aiding and abetting robbery that affected interstate commerce , in violation of</td>\n",
       "    </tr>\n",
       "  </tbody>\n",
       "</table>"
      ],
      "text/plain": [
       "<IPython.core.display.HTML object>"
      ]
     },
     "metadata": {},
     "output_type": "display_data"
    }
   ],
   "source": [
    "db_lm = DataBlock(\n",
    "    blocks=TextBlock.from_df('facts', is_lm=True, tok_text_col='facts'),\n",
    "    get_x=ColReader('facts'),\n",
    "    splitter=RandomSplitter(0.1))\n",
    "\n",
    "dls_lm = db_lm.dataloaders(train, bs=64, seq_len=72)\n",
    "dls_lm.show_batch(max_n=2)"
   ]
  },
  {
   "cell_type": "code",
   "execution_count": 10,
   "id": "6f063ddd-e6b1-4567-98fd-9352cf873939",
   "metadata": {
    "execution": {
     "iopub.execute_input": "2023-06-18T08:23:40.716074Z",
     "iopub.status.busy": "2023-06-18T08:23:40.715439Z",
     "iopub.status.idle": "2023-06-18T08:23:40.812338Z",
     "shell.execute_reply": "2023-06-18T08:23:40.811328Z",
     "shell.execute_reply.started": "2023-06-18T08:23:40.716044Z"
    }
   },
   "outputs": [
    {
     "data": {
      "text/plain": [
       "(torch.Size([64, 72]), torch.Size([64, 72]))"
      ]
     },
     "execution_count": 10,
     "metadata": {},
     "output_type": "execute_result"
    }
   ],
   "source": [
    "x, y = dls_lm.one_batch()\n",
    "x.shape, y.shape"
   ]
  },
  {
   "cell_type": "markdown",
   "id": "0b9b4e12-da45-4a95-bcb8-74c3b016274a",
   "metadata": {},
   "source": [
    "## 1. LM"
   ]
  },
  {
   "cell_type": "code",
   "execution_count": 12,
   "id": "620a6962-422d-42fa-bbf1-88e78c4265dd",
   "metadata": {
    "execution": {
     "iopub.execute_input": "2023-06-18T08:23:49.036101Z",
     "iopub.status.busy": "2023-06-18T08:23:49.035746Z",
     "iopub.status.idle": "2023-06-18T08:23:49.048739Z",
     "shell.execute_reply": "2023-06-18T08:23:49.047853Z",
     "shell.execute_reply.started": "2023-06-18T08:23:49.036073Z"
    }
   },
   "outputs": [],
   "source": [
    "from fastai.text.learner import language_model_learner\n",
    "from fastai.text.models import AWD_LSTM"
   ]
  },
  {
   "cell_type": "code",
   "execution_count": 14,
   "id": "11d492e1-c27c-4ff8-b683-80a4f79e5101",
   "metadata": {
    "execution": {
     "iopub.execute_input": "2023-06-18T08:23:59.009249Z",
     "iopub.status.busy": "2023-06-18T08:23:59.008608Z",
     "iopub.status.idle": "2023-06-18T08:23:59.638825Z",
     "shell.execute_reply": "2023-06-18T08:23:59.637650Z",
     "shell.execute_reply.started": "2023-06-18T08:23:59.009208Z"
    }
   },
   "outputs": [],
   "source": [
    "learn = language_model_learner(\n",
    "    dls_lm, AWD_LSTM, drop_mult=0.3, \n",
    "    metrics=[accuracy, Perplexity()]).to_fp16()"
   ]
  },
  {
   "cell_type": "code",
   "execution_count": 15,
   "id": "a454a597-654a-49b1-bc23-136997700ad1",
   "metadata": {
    "execution": {
     "iopub.execute_input": "2023-06-18T08:24:01.864786Z",
     "iopub.status.busy": "2023-06-18T08:24:01.864408Z",
     "iopub.status.idle": "2023-06-18T08:24:05.016139Z",
     "shell.execute_reply": "2023-06-18T08:24:05.015123Z",
     "shell.execute_reply.started": "2023-06-18T08:24:01.864756Z"
    }
   },
   "outputs": [
    {
     "data": {
      "text/html": [
       "\n",
       "<style>\n",
       "    /* Turns off some styling */\n",
       "    progress {\n",
       "        /* gets rid of default border in Firefox and Opera. */\n",
       "        border: none;\n",
       "        /* Needs to be in here for Safari polyfill so background images work as expected. */\n",
       "        background-size: auto;\n",
       "    }\n",
       "    progress:not([value]), progress:not([value])::-webkit-progress-bar {\n",
       "        background: repeating-linear-gradient(45deg, #7e7e7e, #7e7e7e 10px, #5c5c5c 10px, #5c5c5c 20px);\n",
       "    }\n",
       "    .progress-bar-interrupted, .progress-bar-interrupted::-webkit-progress-bar {\n",
       "        background: #F44336;\n",
       "    }\n",
       "</style>\n"
      ],
      "text/plain": [
       "<IPython.core.display.HTML object>"
      ]
     },
     "metadata": {},
     "output_type": "display_data"
    },
    {
     "data": {
      "text/html": [],
      "text/plain": [
       "<IPython.core.display.HTML object>"
      ]
     },
     "metadata": {},
     "output_type": "display_data"
    },
    {
     "data": {
      "text/plain": [
       "(#3) [3.745239734649658,0.36798879504203796,42.319149017333984]"
      ]
     },
     "execution_count": 15,
     "metadata": {},
     "output_type": "execute_result"
    }
   ],
   "source": [
    "learn.validate()"
   ]
  },
  {
   "cell_type": "markdown",
   "id": "4b57f1dc-fbbe-46d5-963f-2c54c3be80a8",
   "metadata": {},
   "source": [
    "### FineTuning - Head"
   ]
  },
  {
   "cell_type": "code",
   "execution_count": 16,
   "id": "e438deff-c1e3-4376-abd7-ee83f5118181",
   "metadata": {
    "execution": {
     "iopub.execute_input": "2023-06-18T08:24:06.080417Z",
     "iopub.status.busy": "2023-06-18T08:24:06.080038Z",
     "iopub.status.idle": "2023-06-18T08:24:29.218453Z",
     "shell.execute_reply": "2023-06-18T08:24:29.216943Z",
     "shell.execute_reply.started": "2023-06-18T08:24:06.080391Z"
    }
   },
   "outputs": [
    {
     "data": {
      "text/html": [
       "\n",
       "<style>\n",
       "    /* Turns off some styling */\n",
       "    progress {\n",
       "        /* gets rid of default border in Firefox and Opera. */\n",
       "        border: none;\n",
       "        /* Needs to be in here for Safari polyfill so background images work as expected. */\n",
       "        background-size: auto;\n",
       "    }\n",
       "    progress:not([value]), progress:not([value])::-webkit-progress-bar {\n",
       "        background: repeating-linear-gradient(45deg, #7e7e7e, #7e7e7e 10px, #5c5c5c 10px, #5c5c5c 20px);\n",
       "    }\n",
       "    .progress-bar-interrupted, .progress-bar-interrupted::-webkit-progress-bar {\n",
       "        background: #F44336;\n",
       "    }\n",
       "</style>\n"
      ],
      "text/plain": [
       "<IPython.core.display.HTML object>"
      ]
     },
     "metadata": {},
     "output_type": "display_data"
    },
    {
     "data": {
      "text/html": [],
      "text/plain": [
       "<IPython.core.display.HTML object>"
      ]
     },
     "metadata": {},
     "output_type": "display_data"
    },
    {
     "data": {
      "text/plain": [
       "SuggestedLRs(valley=0.00363078061491251)"
      ]
     },
     "execution_count": 16,
     "metadata": {},
     "output_type": "execute_result"
    },
    {
     "data": {
      "image/png": "[encoded data removed]",
      "text/plain": [
       "<Figure size 432x288 with 1 Axes>"
      ]
     },
     "metadata": {
      "needs_background": "light"
     },
     "output_type": "display_data"
    }
   ],
   "source": [
    "learn.lr_find()"
   ]
  },
  {
   "cell_type": "code",
   "execution_count": 17,
   "id": "b7d37f1c-ed69-46e4-99d1-11bf8af8624b",
   "metadata": {
    "execution": {
     "iopub.execute_input": "2023-06-18T08:24:33.878974Z",
     "iopub.status.busy": "2023-06-18T08:24:33.877789Z",
     "iopub.status.idle": "2023-06-18T08:25:00.877493Z",
     "shell.execute_reply": "2023-06-18T08:25:00.876312Z",
     "shell.execute_reply.started": "2023-06-18T08:24:33.878947Z"
    }
   },
   "outputs": [
    {
     "data": {
      "text/html": [
       "\n",
       "<style>\n",
       "    /* Turns off some styling */\n",
       "    progress {\n",
       "        /* gets rid of default border in Firefox and Opera. */\n",
       "        border: none;\n",
       "        /* Needs to be in here for Safari polyfill so background images work as expected. */\n",
       "        background-size: auto;\n",
       "    }\n",
       "    progress:not([value]), progress:not([value])::-webkit-progress-bar {\n",
       "        background: repeating-linear-gradient(45deg, #7e7e7e, #7e7e7e 10px, #5c5c5c 10px, #5c5c5c 20px);\n",
       "    }\n",
       "    .progress-bar-interrupted, .progress-bar-interrupted::-webkit-progress-bar {\n",
       "        background: #F44336;\n",
       "    }\n",
       "</style>\n"
      ],
      "text/plain": [
       "<IPython.core.display.HTML object>"
      ]
     },
     "metadata": {},
     "output_type": "display_data"
    },
    {
     "data": {
      "text/html": [
       "<table border=\"1\" class=\"dataframe\">\n",
       "  <thead>\n",
       "    <tr style=\"text-align: left;\">\n",
       "      <th>epoch</th>\n",
       "      <th>train_loss</th>\n",
       "      <th>valid_loss</th>\n",
       "      <th>accuracy</th>\n",
       "      <th>perplexity</th>\n",
       "      <th>time</th>\n",
       "    </tr>\n",
       "  </thead>\n",
       "  <tbody>\n",
       "    <tr>\n",
       "      <td>0</td>\n",
       "      <td>3.659774</td>\n",
       "      <td>3.497470</td>\n",
       "      <td>0.386775</td>\n",
       "      <td>33.031765</td>\n",
       "      <td>00:26</td>\n",
       "    </tr>\n",
       "  </tbody>\n",
       "</table>"
      ],
      "text/plain": [
       "<IPython.core.display.HTML object>"
      ]
     },
     "metadata": {},
     "output_type": "display_data"
    }
   ],
   "source": [
    "learn.fit_one_cycle(1, 1e-3)"
   ]
  },
  {
   "cell_type": "code",
   "execution_count": 18,
   "id": "36062a26-ce16-4d4a-8b7f-769c08396df4",
   "metadata": {
    "execution": {
     "iopub.execute_input": "2023-06-18T08:25:19.357237Z",
     "iopub.status.busy": "2023-06-18T08:25:19.356511Z",
     "iopub.status.idle": "2023-06-18T08:25:19.684485Z",
     "shell.execute_reply": "2023-06-18T08:25:19.683697Z",
     "shell.execute_reply.started": "2023-06-18T08:25:19.357202Z"
    }
   },
   "outputs": [
    {
     "data": {
      "text/plain": [
       "<fastai.text.learner.LMLearner at 0x7f8120c2ca30>"
      ]
     },
     "execution_count": 18,
     "metadata": {},
     "output_type": "execute_result"
    }
   ],
   "source": [
    "learn.save('ulmfit_head')\n",
    "learn.load('ulmfit_head')"
   ]
  },
  {
   "cell_type": "markdown",
   "id": "016e1485-3153-4dff-b23b-8e8233c26101",
   "metadata": {},
   "source": [
    "### FineTuning - Body"
   ]
  },
  {
   "cell_type": "code",
   "execution_count": 19,
   "id": "7ca97f2a-bb8e-4235-a4fd-054b7be9042c",
   "metadata": {
    "execution": {
     "iopub.execute_input": "2023-06-18T08:25:24.717157Z",
     "iopub.status.busy": "2023-06-18T08:25:24.716242Z",
     "iopub.status.idle": "2023-06-18T08:25:50.249726Z",
     "shell.execute_reply": "2023-06-18T08:25:50.248567Z",
     "shell.execute_reply.started": "2023-06-18T08:25:24.717113Z"
    }
   },
   "outputs": [
    {
     "data": {
      "text/html": [
       "\n",
       "<style>\n",
       "    /* Turns off some styling */\n",
       "    progress {\n",
       "        /* gets rid of default border in Firefox and Opera. */\n",
       "        border: none;\n",
       "        /* Needs to be in here for Safari polyfill so background images work as expected. */\n",
       "        background-size: auto;\n",
       "    }\n",
       "    progress:not([value]), progress:not([value])::-webkit-progress-bar {\n",
       "        background: repeating-linear-gradient(45deg, #7e7e7e, #7e7e7e 10px, #5c5c5c 10px, #5c5c5c 20px);\n",
       "    }\n",
       "    .progress-bar-interrupted, .progress-bar-interrupted::-webkit-progress-bar {\n",
       "        background: #F44336;\n",
       "    }\n",
       "</style>\n"
      ],
      "text/plain": [
       "<IPython.core.display.HTML object>"
      ]
     },
     "metadata": {},
     "output_type": "display_data"
    },
    {
     "data": {
      "text/html": [],
      "text/plain": [
       "<IPython.core.display.HTML object>"
      ]
     },
     "metadata": {},
     "output_type": "display_data"
    },
    {
     "data": {
      "text/plain": [
       "SuggestedLRs(valley=0.0002290867705596611)"
      ]
     },
     "execution_count": 19,
     "metadata": {},
     "output_type": "execute_result"
    },
    {
     "data": {
      "image/png": "[encoded data removed]",
      "text/plain": [
       "<Figure size 432x288 with 1 Axes>"
      ]
     },
     "metadata": {
      "needs_background": "light"
     },
     "output_type": "display_data"
    }
   ],
   "source": [
    "learn.unfreeze()\n",
    "learn.lr_find()"
   ]
  },
  {
   "cell_type": "code",
   "execution_count": 20,
   "id": "241c9666-d53a-4e33-b4c8-4655d575106e",
   "metadata": {
    "execution": {
     "iopub.execute_input": "2023-06-18T08:25:56.330412Z",
     "iopub.status.busy": "2023-06-18T08:25:56.330091Z",
     "iopub.status.idle": "2023-06-18T08:30:08.049355Z",
     "shell.execute_reply": "2023-06-18T08:30:08.048177Z",
     "shell.execute_reply.started": "2023-06-18T08:25:56.330387Z"
    }
   },
   "outputs": [
    {
     "data": {
      "text/html": [
       "\n",
       "<style>\n",
       "    /* Turns off some styling */\n",
       "    progress {\n",
       "        /* gets rid of default border in Firefox and Opera. */\n",
       "        border: none;\n",
       "        /* Needs to be in here for Safari polyfill so background images work as expected. */\n",
       "        background-size: auto;\n",
       "    }\n",
       "    progress:not([value]), progress:not([value])::-webkit-progress-bar {\n",
       "        background: repeating-linear-gradient(45deg, #7e7e7e, #7e7e7e 10px, #5c5c5c 10px, #5c5c5c 20px);\n",
       "    }\n",
       "    .progress-bar-interrupted, .progress-bar-interrupted::-webkit-progress-bar {\n",
       "        background: #F44336;\n",
       "    }\n",
       "</style>\n"
      ],
      "text/plain": [
       "<IPython.core.display.HTML object>"
      ]
     },
     "metadata": {},
     "output_type": "display_data"
    },
    {
     "data": {
      "text/html": [
       "<table border=\"1\" class=\"dataframe\">\n",
       "  <thead>\n",
       "    <tr style=\"text-align: left;\">\n",
       "      <th>epoch</th>\n",
       "      <th>train_loss</th>\n",
       "      <th>valid_loss</th>\n",
       "      <th>accuracy</th>\n",
       "      <th>perplexity</th>\n",
       "      <th>time</th>\n",
       "    </tr>\n",
       "  </thead>\n",
       "  <tbody>\n",
       "    <tr>\n",
       "      <td>0</td>\n",
       "      <td>3.447324</td>\n",
       "      <td>3.301403</td>\n",
       "      <td>0.402998</td>\n",
       "      <td>27.150705</td>\n",
       "      <td>00:31</td>\n",
       "    </tr>\n",
       "    <tr>\n",
       "      <td>1</td>\n",
       "      <td>3.248369</td>\n",
       "      <td>3.127143</td>\n",
       "      <td>0.418260</td>\n",
       "      <td>22.808714</td>\n",
       "      <td>00:31</td>\n",
       "    </tr>\n",
       "    <tr>\n",
       "      <td>2</td>\n",
       "      <td>3.028604</td>\n",
       "      <td>3.026946</td>\n",
       "      <td>0.427674</td>\n",
       "      <td>20.634121</td>\n",
       "      <td>00:31</td>\n",
       "    </tr>\n",
       "    <tr>\n",
       "      <td>3</td>\n",
       "      <td>2.854047</td>\n",
       "      <td>2.984156</td>\n",
       "      <td>0.431275</td>\n",
       "      <td>19.769817</td>\n",
       "      <td>00:31</td>\n",
       "    </tr>\n",
       "    <tr>\n",
       "      <td>4</td>\n",
       "      <td>2.716268</td>\n",
       "      <td>2.969008</td>\n",
       "      <td>0.434192</td>\n",
       "      <td>19.472593</td>\n",
       "      <td>00:31</td>\n",
       "    </tr>\n",
       "    <tr>\n",
       "      <td>5</td>\n",
       "      <td>2.601345</td>\n",
       "      <td>2.965858</td>\n",
       "      <td>0.434928</td>\n",
       "      <td>19.411350</td>\n",
       "      <td>00:31</td>\n",
       "    </tr>\n",
       "    <tr>\n",
       "      <td>6</td>\n",
       "      <td>2.551855</td>\n",
       "      <td>2.967016</td>\n",
       "      <td>0.435184</td>\n",
       "      <td>19.433851</td>\n",
       "      <td>00:31</td>\n",
       "    </tr>\n",
       "    <tr>\n",
       "      <td>7</td>\n",
       "      <td>2.519206</td>\n",
       "      <td>2.967567</td>\n",
       "      <td>0.435404</td>\n",
       "      <td>19.444553</td>\n",
       "      <td>00:31</td>\n",
       "    </tr>\n",
       "  </tbody>\n",
       "</table>"
      ],
      "text/plain": [
       "<IPython.core.display.HTML object>"
      ]
     },
     "metadata": {},
     "output_type": "display_data"
    }
   ],
   "source": [
    "learn.fit_one_cycle(8, lr_max = slice(1e-4, 1e-3))"
   ]
  },
  {
   "cell_type": "code",
   "execution_count": 21,
   "id": "6e0b3d89-b6df-468c-898d-c34cb562e1a8",
   "metadata": {
    "execution": {
     "iopub.execute_input": "2023-06-18T08:30:15.058734Z",
     "iopub.status.busy": "2023-06-18T08:30:15.058386Z",
     "iopub.status.idle": "2023-06-18T08:30:15.834498Z",
     "shell.execute_reply": "2023-06-18T08:30:15.833586Z",
     "shell.execute_reply.started": "2023-06-18T08:30:15.058709Z"
    }
   },
   "outputs": [],
   "source": [
    "learn.save('ulmfit_fine_tuned')\n",
    "learn.load('ulmfit_fine_tuned')\n",
    "learn.save_encoder('ulmfit_ftuned_encoder')"
   ]
  },
  {
   "cell_type": "markdown",
   "id": "71ddcc30-8d8c-4b50-a43f-03b60732fc93",
   "metadata": {},
   "source": [
    "### LM Testing"
   ]
  },
  {
   "cell_type": "code",
   "execution_count": 22,
   "id": "fdb7b8c3-4e12-4f32-8d59-e1460a3f77f2",
   "metadata": {
    "execution": {
     "iopub.execute_input": "2023-06-18T08:30:18.233909Z",
     "iopub.status.busy": "2023-06-18T08:30:18.233551Z",
     "iopub.status.idle": "2023-06-18T08:30:18.239309Z",
     "shell.execute_reply": "2023-06-18T08:30:18.237971Z",
     "shell.execute_reply.started": "2023-06-18T08:30:18.233884Z"
    }
   },
   "outputs": [],
   "source": [
    "TEXT = \"Kyles was tried again , convicted of first - degree murder , and\"\n",
    "N_WORDS = 20\n",
    "N_SENTENCES = 2"
   ]
  },
  {
   "cell_type": "code",
   "execution_count": 23,
   "id": "99e2021b-2e5e-440c-a95d-6bc3f9a362ae",
   "metadata": {
    "execution": {
     "iopub.execute_input": "2023-06-18T08:30:19.318819Z",
     "iopub.status.busy": "2023-06-18T08:30:19.318484Z",
     "iopub.status.idle": "2023-06-18T08:30:20.664007Z",
     "shell.execute_reply": "2023-06-18T08:30:20.663188Z",
     "shell.execute_reply.started": "2023-06-18T08:30:19.318795Z"
    }
   },
   "outputs": [
    {
     "data": {
      "text/html": [
       "\n",
       "<style>\n",
       "    /* Turns off some styling */\n",
       "    progress {\n",
       "        /* gets rid of default border in Firefox and Opera. */\n",
       "        border: none;\n",
       "        /* Needs to be in here for Safari polyfill so background images work as expected. */\n",
       "        background-size: auto;\n",
       "    }\n",
       "    progress:not([value]), progress:not([value])::-webkit-progress-bar {\n",
       "        background: repeating-linear-gradient(45deg, #7e7e7e, #7e7e7e 10px, #5c5c5c 10px, #5c5c5c 20px);\n",
       "    }\n",
       "    .progress-bar-interrupted, .progress-bar-interrupted::-webkit-progress-bar {\n",
       "        background: #F44336;\n",
       "    }\n",
       "</style>\n"
      ],
      "text/plain": [
       "<IPython.core.display.HTML object>"
      ]
     },
     "metadata": {},
     "output_type": "display_data"
    },
    {
     "data": {
      "text/html": [],
      "text/plain": [
       "<IPython.core.display.HTML object>"
      ]
     },
     "metadata": {},
     "output_type": "display_data"
    },
    {
     "data": {
      "text/html": [
       "\n",
       "<style>\n",
       "    /* Turns off some styling */\n",
       "    progress {\n",
       "        /* gets rid of default border in Firefox and Opera. */\n",
       "        border: none;\n",
       "        /* Needs to be in here for Safari polyfill so background images work as expected. */\n",
       "        background-size: auto;\n",
       "    }\n",
       "    progress:not([value]), progress:not([value])::-webkit-progress-bar {\n",
       "        background: repeating-linear-gradient(45deg, #7e7e7e, #7e7e7e 10px, #5c5c5c 10px, #5c5c5c 20px);\n",
       "    }\n",
       "    .progress-bar-interrupted, .progress-bar-interrupted::-webkit-progress-bar {\n",
       "        background: #F44336;\n",
       "    }\n",
       "</style>\n"
      ],
      "text/plain": [
       "<IPython.core.display.HTML object>"
      ]
     },
     "metadata": {},
     "output_type": "display_data"
    },
    {
     "data": {
      "text/html": [],
      "text/plain": [
       "<IPython.core.display.HTML object>"
      ]
     },
     "metadata": {},
     "output_type": "display_data"
    },
    {
     "name": "stdout",
     "output_type": "stream",
     "text": [
      "Kyles was tried again , convicted of first - degree murder , and sentenced to death . His conviction was based on the evidence obtained from a jury in Arizona state\n",
      "Kyles was tried again , convicted of first - degree murder , and sentenced to death for the murder of her mother . \n",
      " In 1998 , Mr . Schwab\n"
     ]
    }
   ],
   "source": [
    "print(\"\\n\".join(learn.predict(TEXT, N_WORDS, temperature=0.75) for _ in range(N_SENTENCES)))"
   ]
  },
  {
   "cell_type": "markdown",
   "id": "8e0c77df-d00e-4216-aa1f-ace412ac48ee",
   "metadata": {},
   "source": [
    "## 2. Classification Model"
   ]
  },
  {
   "cell_type": "markdown",
   "id": "6e6dd42f-a861-4633-b092-345d76e30e11",
   "metadata": {},
   "source": [
    "### Data preperation"
   ]
  },
  {
   "cell_type": "code",
   "execution_count": 24,
   "id": "5980590f-60d2-424b-9364-adf457b0622f",
   "metadata": {
    "execution": {
     "iopub.execute_input": "2023-06-18T08:30:37.653161Z",
     "iopub.status.busy": "2023-06-18T08:30:37.652809Z",
     "iopub.status.idle": "2023-06-18T08:30:37.815695Z",
     "shell.execute_reply": "2023-06-18T08:30:37.814987Z",
     "shell.execute_reply.started": "2023-06-18T08:30:37.653134Z"
    }
   },
   "outputs": [],
   "source": [
    "blocks = (TextBlock.from_df('facts', vocab=dls_lm.vocab, seq_len=dls_lm.seq_len, tok_text_col='facts'), CategoryBlock())\n",
    "dls = DataBlock(blocks=blocks,\n",
    "                get_x=ColReader('facts'),\n",
    "                get_y=ColReader('first_party_winner'),\n",
    "                splitter=RandomSplitter(0.15))"
   ]
  },
  {
   "cell_type": "code",
   "execution_count": 25,
   "id": "684ee324-da4e-4dc0-8aaa-f463c9320f3c",
   "metadata": {
    "execution": {
     "iopub.execute_input": "2023-06-18T08:30:40.086996Z",
     "iopub.status.busy": "2023-06-18T08:30:40.086378Z",
     "iopub.status.idle": "2023-06-18T08:30:43.334626Z",
     "shell.execute_reply": "2023-06-18T08:30:43.333559Z",
     "shell.execute_reply.started": "2023-06-18T08:30:40.086969Z"
    }
   },
   "outputs": [
    {
     "data": {
      "text/html": [
       "\n",
       "<style>\n",
       "    /* Turns off some styling */\n",
       "    progress {\n",
       "        /* gets rid of default border in Firefox and Opera. */\n",
       "        border: none;\n",
       "        /* Needs to be in here for Safari polyfill so background images work as expected. */\n",
       "        background-size: auto;\n",
       "    }\n",
       "    progress:not([value]), progress:not([value])::-webkit-progress-bar {\n",
       "        background: repeating-linear-gradient(45deg, #7e7e7e, #7e7e7e 10px, #5c5c5c 10px, #5c5c5c 20px);\n",
       "    }\n",
       "    .progress-bar-interrupted, .progress-bar-interrupted::-webkit-progress-bar {\n",
       "        background: #F44336;\n",
       "    }\n",
       "</style>\n"
      ],
      "text/plain": [
       "<IPython.core.display.HTML object>"
      ]
     },
     "metadata": {},
     "output_type": "display_data"
    },
    {
     "data": {
      "text/html": [],
      "text/plain": [
       "<IPython.core.display.HTML object>"
      ]
     },
     "metadata": {},
     "output_type": "display_data"
    }
   ],
   "source": [
    "dls = dls.dataloaders(train, bs=64)"
   ]
  },
  {
   "cell_type": "code",
   "execution_count": 26,
   "id": "b5754f80-1a1a-42ab-9908-9a523b1eb35a",
   "metadata": {
    "execution": {
     "iopub.execute_input": "2023-06-18T08:30:45.059314Z",
     "iopub.status.busy": "2023-06-18T08:30:45.058699Z",
     "iopub.status.idle": "2023-06-18T08:30:45.199939Z",
     "shell.execute_reply": "2023-06-18T08:30:45.199085Z",
     "shell.execute_reply.started": "2023-06-18T08:30:45.059287Z"
    }
   },
   "outputs": [
    {
     "data": {
      "text/html": [
       "<table border=\"1\" class=\"dataframe\">\n",
       "  <thead>\n",
       "    <tr style=\"text-align: right;\">\n",
       "      <th></th>\n",
       "      <th>text</th>\n",
       "      <th>category</th>\n",
       "    </tr>\n",
       "  </thead>\n",
       "  <tbody>\n",
       "    <tr>\n",
       "      <th>0</th>\n",
       "      <td>xxbos xxmaj on xxmaj august 5 , 2008 , xxmaj joel xxmaj perez and xxmaj carlos xxmaj cruz drove to a xxmaj shell station in xxmaj arlington xxmaj heights , xxmaj illinois , with xxmaj cruz at the wheel . xxmaj they met with xxmaj xxunk xxmaj diaz , who was working with xxmaj drug xxmaj enforcement xxmaj agency ( \" dea \" ) officials . xxmaj diaz instructed them to meet him at a different location to complete the deal . xxmaj instead , xxmaj perez walked to a nearby xxmaj denny 's , where xxmaj alexander xxmaj vasquez waited for him in the driver 's seat of a black xxmaj pontiac xxmaj bonneville . xxmaj perez got into the passenger seat of the xxmaj bonneville and called xxmaj cruz , telling him that he was not willing to follow xxmaj diaz . xxmaj cruz walked to the xxmaj</td>\n",
       "      <td>0</td>\n",
       "    </tr>\n",
       "    <tr>\n",
       "      <th>1</th>\n",
       "      <td>xxbos xxmaj in the words of the xxmaj ninth xxmaj circuit decision below , “ [ xxunk case arises out of a complex set of bankruptcy proceedings . ” \\n xxmaj petitioner xxmaj bradley xxmaj taggart is a real estate developer who owned 25 % interest in xxmaj xxunk xxmaj park xxmaj business xxmaj center ( “ spbc ” ) . xxmaj respondents xxmaj terry xxmaj emmert and xxmaj keith xxmaj jehnke also each owned a 25 % interest in xxup spbc . xxmaj in 2007 , xxmaj taggart purported to transfer his share of xxup spbc to his attorney , xxmaj john xxmaj berman . \\n xxmaj emmert and xxmaj jehnke sued xxmaj taggart and xxmaj berman in xxmaj oregon state court , alleging that the transfer violated spbc ’s operating agreement by not allowing xxmaj emmert and xxmaj jehnke the right of first refusal . xxmaj emmert and</td>\n",
       "      <td>1</td>\n",
       "    </tr>\n",
       "    <tr>\n",
       "      <th>2</th>\n",
       "      <td>xxbos xxmaj in 1993 , a tax auditor for the xxmaj franchise xxmaj tax xxmaj board of xxmaj california ( ftb ) read a newspaper about xxmaj gilbert xxup p. xxmaj hyatt , an inventor , and the large amounts of money he was making from the patent . xxmaj the auditor decided to investigate xxmaj hyatt , and , after finding some discrepancies , opened an audit on xxmaj hyatt ’s 1991 state tax return . xxmaj in conducting the audit , the auditor found additional discrepancies  ▁ surrounding xxmaj hyatt ’s move from xxmaj california to xxmaj nevada and opened an audit as to his 1992 tax returns . xxup ftb determined that xxmaj hyatt owed $ xxunk million in state income taxes , plus $ xxunk million in penalties and $ 1.2 million in interest , resulted in a tax assessment of $ xxunk million for xxmaj</td>\n",
       "      <td>1</td>\n",
       "    </tr>\n",
       "  </tbody>\n",
       "</table>"
      ],
      "text/plain": [
       "<IPython.core.display.HTML object>"
      ]
     },
     "metadata": {},
     "output_type": "display_data"
    }
   ],
   "source": [
    "dls.show_batch(max_n=3)"
   ]
  },
  {
   "cell_type": "code",
   "execution_count": 27,
   "id": "59bc7b4a-dc88-4fb0-a467-3a49a986657c",
   "metadata": {
    "execution": {
     "iopub.execute_input": "2023-06-18T08:30:49.254222Z",
     "iopub.status.busy": "2023-06-18T08:30:49.253888Z",
     "iopub.status.idle": "2023-06-18T08:30:49.260141Z",
     "shell.execute_reply": "2023-06-18T08:30:49.259350Z",
     "shell.execute_reply.started": "2023-06-18T08:30:49.254198Z"
    }
   },
   "outputs": [
    {
     "data": {
      "text/plain": [
       "(2107, 371)"
      ]
     },
     "execution_count": 27,
     "metadata": {},
     "output_type": "execute_result"
    }
   ],
   "source": [
    "len(dls.train_ds), len(dls.valid_ds)\n"
   ]
  },
  {
   "cell_type": "markdown",
   "id": "1a416540-fbfd-4306-9b4b-5d2d27f638a4",
   "metadata": {},
   "source": [
    "### Load fine-tuned Model"
   ]
  },
  {
   "cell_type": "code",
   "execution_count": 28,
   "id": "25ea8e74-a443-43b3-9e1c-977c51e6bfb7",
   "metadata": {
    "execution": {
     "iopub.execute_input": "2023-06-18T08:30:51.464979Z",
     "iopub.status.busy": "2023-06-18T08:30:51.464043Z",
     "iopub.status.idle": "2023-06-18T08:30:51.471611Z",
     "shell.execute_reply": "2023-06-18T08:30:51.470749Z",
     "shell.execute_reply.started": "2023-06-18T08:30:51.464951Z"
    }
   },
   "outputs": [],
   "source": [
    "from fastai.text.all import *"
   ]
  },
  {
   "cell_type": "code",
   "execution_count": 30,
   "id": "b17bf051-d58c-48ab-9326-d16c1d441f16",
   "metadata": {
    "execution": {
     "iopub.execute_input": "2023-06-18T08:31:13.134206Z",
     "iopub.status.busy": "2023-06-18T08:31:13.133843Z",
     "iopub.status.idle": "2023-06-18T08:31:13.920409Z",
     "shell.execute_reply": "2023-06-18T08:31:13.919196Z",
     "shell.execute_reply.started": "2023-06-18T08:31:13.134179Z"
    }
   },
   "outputs": [
    {
     "data": {
      "text/plain": [
       "<fastai.text.learner.TextLearner at 0x7f8038894220>"
      ]
     },
     "execution_count": 30,
     "metadata": {},
     "output_type": "execute_result"
    }
   ],
   "source": [
    "learn = text_classifier_learner(dls, AWD_LSTM, metrics=[accuracy, FBeta(beta=1)]).to_fp16()\n",
    "learn.load_encoder('ulmfit_ftuned_encoder')"
   ]
  },
  {
   "cell_type": "code",
   "execution_count": 31,
   "id": "e2e0f70b-9f92-434f-b695-48c0681fa01c",
   "metadata": {
    "execution": {
     "iopub.execute_input": "2023-06-18T08:31:28.943537Z",
     "iopub.status.busy": "2023-06-18T08:31:28.942596Z",
     "iopub.status.idle": "2023-06-18T08:31:28.949527Z",
     "shell.execute_reply": "2023-06-18T08:31:28.948844Z",
     "shell.execute_reply.started": "2023-06-18T08:31:28.943497Z"
    }
   },
   "outputs": [
    {
     "data": {
      "text/plain": [
       "SequentialRNN(\n",
       "  (0): SentenceEncoder(\n",
       "    (module): AWD_LSTM(\n",
       "      (encoder): Embedding(9512, 400, padding_idx=1)\n",
       "      (encoder_dp): EmbeddingDropout(\n",
       "        (emb): Embedding(9512, 400, padding_idx=1)\n",
       "      )\n",
       "      (rnns): ModuleList(\n",
       "        (0): WeightDropout(\n",
       "          (module): LSTM(400, 1152, batch_first=True)\n",
       "        )\n",
       "        (1): WeightDropout(\n",
       "          (module): LSTM(1152, 1152, batch_first=True)\n",
       "        )\n",
       "        (2): WeightDropout(\n",
       "          (module): LSTM(1152, 400, batch_first=True)\n",
       "        )\n",
       "      )\n",
       "      (input_dp): RNNDropout()\n",
       "      (hidden_dps): ModuleList(\n",
       "        (0): RNNDropout()\n",
       "        (1): RNNDropout()\n",
       "        (2): RNNDropout()\n",
       "      )\n",
       "    )\n",
       "  )\n",
       "  (1): PoolingLinearClassifier(\n",
       "    (layers): Sequential(\n",
       "      (0): LinBnDrop(\n",
       "        (0): BatchNorm1d(1200, eps=1e-05, momentum=0.1, affine=True, track_running_stats=True)\n",
       "        (1): Dropout(p=0.2, inplace=False)\n",
       "        (2): Linear(in_features=1200, out_features=50, bias=False)\n",
       "        (3): ReLU(inplace=True)\n",
       "      )\n",
       "      (1): LinBnDrop(\n",
       "        (0): BatchNorm1d(50, eps=1e-05, momentum=0.1, affine=True, track_running_stats=True)\n",
       "        (1): Dropout(p=0.1, inplace=False)\n",
       "        (2): Linear(in_features=50, out_features=2, bias=False)\n",
       "      )\n",
       "    )\n",
       "  )\n",
       ")"
      ]
     },
     "execution_count": 31,
     "metadata": {},
     "output_type": "execute_result"
    }
   ],
   "source": [
    "learn.model"
   ]
  },
  {
   "cell_type": "code",
   "execution_count": 32,
   "id": "ab9c9324-77a1-4af3-a5cd-937acff5d327",
   "metadata": {
    "execution": {
     "iopub.execute_input": "2023-06-18T08:31:48.790816Z",
     "iopub.status.busy": "2023-06-18T08:31:48.790422Z",
     "iopub.status.idle": "2023-06-18T08:32:11.026321Z",
     "shell.execute_reply": "2023-06-18T08:32:11.024979Z",
     "shell.execute_reply.started": "2023-06-18T08:31:48.790790Z"
    }
   },
   "outputs": [
    {
     "data": {
      "text/html": [
       "\n",
       "<style>\n",
       "    /* Turns off some styling */\n",
       "    progress {\n",
       "        /* gets rid of default border in Firefox and Opera. */\n",
       "        border: none;\n",
       "        /* Needs to be in here for Safari polyfill so background images work as expected. */\n",
       "        background-size: auto;\n",
       "    }\n",
       "    progress:not([value]), progress:not([value])::-webkit-progress-bar {\n",
       "        background: repeating-linear-gradient(45deg, #7e7e7e, #7e7e7e 10px, #5c5c5c 10px, #5c5c5c 20px);\n",
       "    }\n",
       "    .progress-bar-interrupted, .progress-bar-interrupted::-webkit-progress-bar {\n",
       "        background: #F44336;\n",
       "    }\n",
       "</style>\n"
      ],
      "text/plain": [
       "<IPython.core.display.HTML object>"
      ]
     },
     "metadata": {},
     "output_type": "display_data"
    },
    {
     "data": {
      "text/html": [],
      "text/plain": [
       "<IPython.core.display.HTML object>"
      ]
     },
     "metadata": {},
     "output_type": "display_data"
    },
    {
     "data": {
      "text/plain": [
       "SuggestedLRs(valley=0.007585775572806597)"
      ]
     },
     "execution_count": 32,
     "metadata": {},
     "output_type": "execute_result"
    },
    {
     "data": {
      "image/png": "[encoded data removed]",
      "text/plain": [
       "<Figure size 432x288 with 1 Axes>"
      ]
     },
     "metadata": {
      "needs_background": "light"
     },
     "output_type": "display_data"
    }
   ],
   "source": [
    "learn.lr_find()"
   ]
  },
  {
   "cell_type": "code",
   "execution_count": 33,
   "id": "d400b945-3419-426e-99fe-e8a1e9bf534f",
   "metadata": {
    "execution": {
     "iopub.execute_input": "2023-06-18T08:32:27.026822Z",
     "iopub.status.busy": "2023-06-18T08:32:27.026482Z",
     "iopub.status.idle": "2023-06-18T08:32:36.136394Z",
     "shell.execute_reply": "2023-06-18T08:32:36.135649Z",
     "shell.execute_reply.started": "2023-06-18T08:32:27.026797Z"
    }
   },
   "outputs": [
    {
     "data": {
      "text/html": [
       "\n",
       "<style>\n",
       "    /* Turns off some styling */\n",
       "    progress {\n",
       "        /* gets rid of default border in Firefox and Opera. */\n",
       "        border: none;\n",
       "        /* Needs to be in here for Safari polyfill so background images work as expected. */\n",
       "        background-size: auto;\n",
       "    }\n",
       "    progress:not([value]), progress:not([value])::-webkit-progress-bar {\n",
       "        background: repeating-linear-gradient(45deg, #7e7e7e, #7e7e7e 10px, #5c5c5c 10px, #5c5c5c 20px);\n",
       "    }\n",
       "    .progress-bar-interrupted, .progress-bar-interrupted::-webkit-progress-bar {\n",
       "        background: #F44336;\n",
       "    }\n",
       "</style>\n"
      ],
      "text/plain": [
       "<IPython.core.display.HTML object>"
      ]
     },
     "metadata": {},
     "output_type": "display_data"
    },
    {
     "data": {
      "text/html": [
       "<table border=\"1\" class=\"dataframe\">\n",
       "  <thead>\n",
       "    <tr style=\"text-align: left;\">\n",
       "      <th>epoch</th>\n",
       "      <th>train_loss</th>\n",
       "      <th>valid_loss</th>\n",
       "      <th>accuracy</th>\n",
       "      <th>fbeta_score</th>\n",
       "      <th>time</th>\n",
       "    </tr>\n",
       "  </thead>\n",
       "  <tbody>\n",
       "    <tr>\n",
       "      <td>0</td>\n",
       "      <td>0.725059</td>\n",
       "      <td>0.644162</td>\n",
       "      <td>0.625337</td>\n",
       "      <td>0.739212</td>\n",
       "      <td>00:09</td>\n",
       "    </tr>\n",
       "  </tbody>\n",
       "</table>"
      ],
      "text/plain": [
       "<IPython.core.display.HTML object>"
      ]
     },
     "metadata": {},
     "output_type": "display_data"
    }
   ],
   "source": [
    "learn.fit_one_cycle(1, 1e-2)"
   ]
  },
  {
   "cell_type": "code",
   "execution_count": 34,
   "id": "f6fd93e2-d1f4-46e9-83b0-824adedd71a6",
   "metadata": {
    "execution": {
     "iopub.execute_input": "2023-06-18T08:32:50.662487Z",
     "iopub.status.busy": "2023-06-18T08:32:50.661480Z",
     "iopub.status.idle": "2023-06-18T08:33:12.423968Z",
     "shell.execute_reply": "2023-06-18T08:33:12.423181Z",
     "shell.execute_reply.started": "2023-06-18T08:32:50.662456Z"
    }
   },
   "outputs": [
    {
     "data": {
      "text/html": [
       "\n",
       "<style>\n",
       "    /* Turns off some styling */\n",
       "    progress {\n",
       "        /* gets rid of default border in Firefox and Opera. */\n",
       "        border: none;\n",
       "        /* Needs to be in here for Safari polyfill so background images work as expected. */\n",
       "        background-size: auto;\n",
       "    }\n",
       "    progress:not([value]), progress:not([value])::-webkit-progress-bar {\n",
       "        background: repeating-linear-gradient(45deg, #7e7e7e, #7e7e7e 10px, #5c5c5c 10px, #5c5c5c 20px);\n",
       "    }\n",
       "    .progress-bar-interrupted, .progress-bar-interrupted::-webkit-progress-bar {\n",
       "        background: #F44336;\n",
       "    }\n",
       "</style>\n"
      ],
      "text/plain": [
       "<IPython.core.display.HTML object>"
      ]
     },
     "metadata": {},
     "output_type": "display_data"
    },
    {
     "data": {
      "text/html": [],
      "text/plain": [
       "<IPython.core.display.HTML object>"
      ]
     },
     "metadata": {},
     "output_type": "display_data"
    },
    {
     "data": {
      "text/plain": [
       "SuggestedLRs(valley=0.00363078061491251)"
      ]
     },
     "execution_count": 34,
     "metadata": {},
     "output_type": "execute_result"
    },
    {
     "data": {
      "image/png": "[encoded data removed]",
      "text/plain": [
       "<Figure size 432x288 with 1 Axes>"
      ]
     },
     "metadata": {
      "needs_background": "light"
     },
     "output_type": "display_data"
    }
   ],
   "source": [
    "learn.lr_find()"
   ]
  },
  {
   "cell_type": "markdown",
   "id": "7bdacd6a-f8ed-4eda-b4f4-d194a63f0ce9",
   "metadata": {},
   "source": [
    "### Gradual unfreezing"
   ]
  },
  {
   "cell_type": "code",
   "execution_count": 35,
   "id": "6417de8b-0fd5-4598-a41a-355f0978d71e",
   "metadata": {
    "execution": {
     "iopub.execute_input": "2023-06-18T08:33:27.645369Z",
     "iopub.status.busy": "2023-06-18T08:33:27.644356Z",
     "iopub.status.idle": "2023-06-18T08:33:37.872099Z",
     "shell.execute_reply": "2023-06-18T08:33:37.871263Z",
     "shell.execute_reply.started": "2023-06-18T08:33:27.645317Z"
    }
   },
   "outputs": [
    {
     "data": {
      "text/html": [
       "\n",
       "<style>\n",
       "    /* Turns off some styling */\n",
       "    progress {\n",
       "        /* gets rid of default border in Firefox and Opera. */\n",
       "        border: none;\n",
       "        /* Needs to be in here for Safari polyfill so background images work as expected. */\n",
       "        background-size: auto;\n",
       "    }\n",
       "    progress:not([value]), progress:not([value])::-webkit-progress-bar {\n",
       "        background: repeating-linear-gradient(45deg, #7e7e7e, #7e7e7e 10px, #5c5c5c 10px, #5c5c5c 20px);\n",
       "    }\n",
       "    .progress-bar-interrupted, .progress-bar-interrupted::-webkit-progress-bar {\n",
       "        background: #F44336;\n",
       "    }\n",
       "</style>\n"
      ],
      "text/plain": [
       "<IPython.core.display.HTML object>"
      ]
     },
     "metadata": {},
     "output_type": "display_data"
    },
    {
     "data": {
      "text/html": [
       "<table border=\"1\" class=\"dataframe\">\n",
       "  <thead>\n",
       "    <tr style=\"text-align: left;\">\n",
       "      <th>epoch</th>\n",
       "      <th>train_loss</th>\n",
       "      <th>valid_loss</th>\n",
       "      <th>accuracy</th>\n",
       "      <th>fbeta_score</th>\n",
       "      <th>time</th>\n",
       "    </tr>\n",
       "  </thead>\n",
       "  <tbody>\n",
       "    <tr>\n",
       "      <td>0</td>\n",
       "      <td>0.664037</td>\n",
       "      <td>0.636472</td>\n",
       "      <td>0.638814</td>\n",
       "      <td>0.755474</td>\n",
       "      <td>00:10</td>\n",
       "    </tr>\n",
       "  </tbody>\n",
       "</table>"
      ],
      "text/plain": [
       "<IPython.core.display.HTML object>"
      ]
     },
     "metadata": {},
     "output_type": "display_data"
    }
   ],
   "source": [
    "## Applying gradual unfreezing of one layer after another\n",
    "\n",
    "learn.freeze_to(-2)\n",
    "learn.fit_one_cycle(1, slice(1e-3/(2.6**4),1e-2))"
   ]
  },
  {
   "cell_type": "code",
   "execution_count": 36,
   "id": "2d4d7026-26b8-4002-a0df-1f987de6e3e9",
   "metadata": {
    "execution": {
     "iopub.execute_input": "2023-06-18T08:33:43.414950Z",
     "iopub.status.busy": "2023-06-18T08:33:43.414073Z",
     "iopub.status.idle": "2023-06-18T08:33:58.421523Z",
     "shell.execute_reply": "2023-06-18T08:33:58.420757Z",
     "shell.execute_reply.started": "2023-06-18T08:33:43.414896Z"
    }
   },
   "outputs": [
    {
     "data": {
      "text/html": [
       "\n",
       "<style>\n",
       "    /* Turns off some styling */\n",
       "    progress {\n",
       "        /* gets rid of default border in Firefox and Opera. */\n",
       "        border: none;\n",
       "        /* Needs to be in here for Safari polyfill so background images work as expected. */\n",
       "        background-size: auto;\n",
       "    }\n",
       "    progress:not([value]), progress:not([value])::-webkit-progress-bar {\n",
       "        background: repeating-linear-gradient(45deg, #7e7e7e, #7e7e7e 10px, #5c5c5c 10px, #5c5c5c 20px);\n",
       "    }\n",
       "    .progress-bar-interrupted, .progress-bar-interrupted::-webkit-progress-bar {\n",
       "        background: #F44336;\n",
       "    }\n",
       "</style>\n"
      ],
      "text/plain": [
       "<IPython.core.display.HTML object>"
      ]
     },
     "metadata": {},
     "output_type": "display_data"
    },
    {
     "data": {
      "text/html": [
       "<table border=\"1\" class=\"dataframe\">\n",
       "  <thead>\n",
       "    <tr style=\"text-align: left;\">\n",
       "      <th>epoch</th>\n",
       "      <th>train_loss</th>\n",
       "      <th>valid_loss</th>\n",
       "      <th>accuracy</th>\n",
       "      <th>fbeta_score</th>\n",
       "      <th>time</th>\n",
       "    </tr>\n",
       "  </thead>\n",
       "  <tbody>\n",
       "    <tr>\n",
       "      <td>0</td>\n",
       "      <td>0.633595</td>\n",
       "      <td>0.626010</td>\n",
       "      <td>0.668464</td>\n",
       "      <td>0.791171</td>\n",
       "      <td>00:14</td>\n",
       "    </tr>\n",
       "  </tbody>\n",
       "</table>"
      ],
      "text/plain": [
       "<IPython.core.display.HTML object>"
      ]
     },
     "metadata": {},
     "output_type": "display_data"
    }
   ],
   "source": [
    "learn.freeze_to(-3)\n",
    "learn.fit_one_cycle(1, slice(5e-3/(2.6**4),1e-2))"
   ]
  },
  {
   "cell_type": "code",
   "execution_count": 37,
   "id": "5ecc5020-917b-4090-b611-d4d15558aa21",
   "metadata": {
    "execution": {
     "iopub.execute_input": "2023-06-18T08:34:09.542313Z",
     "iopub.status.busy": "2023-06-18T08:34:09.541762Z",
     "iopub.status.idle": "2023-06-18T08:34:46.286045Z",
     "shell.execute_reply": "2023-06-18T08:34:46.285064Z",
     "shell.execute_reply.started": "2023-06-18T08:34:09.542282Z"
    }
   },
   "outputs": [
    {
     "data": {
      "text/html": [
       "\n",
       "<style>\n",
       "    /* Turns off some styling */\n",
       "    progress {\n",
       "        /* gets rid of default border in Firefox and Opera. */\n",
       "        border: none;\n",
       "        /* Needs to be in here for Safari polyfill so background images work as expected. */\n",
       "        background-size: auto;\n",
       "    }\n",
       "    progress:not([value]), progress:not([value])::-webkit-progress-bar {\n",
       "        background: repeating-linear-gradient(45deg, #7e7e7e, #7e7e7e 10px, #5c5c5c 10px, #5c5c5c 20px);\n",
       "    }\n",
       "    .progress-bar-interrupted, .progress-bar-interrupted::-webkit-progress-bar {\n",
       "        background: #F44336;\n",
       "    }\n",
       "</style>\n"
      ],
      "text/plain": [
       "<IPython.core.display.HTML object>"
      ]
     },
     "metadata": {},
     "output_type": "display_data"
    },
    {
     "data": {
      "text/html": [
       "<table border=\"1\" class=\"dataframe\">\n",
       "  <thead>\n",
       "    <tr style=\"text-align: left;\">\n",
       "      <th>epoch</th>\n",
       "      <th>train_loss</th>\n",
       "      <th>valid_loss</th>\n",
       "      <th>accuracy</th>\n",
       "      <th>fbeta_score</th>\n",
       "      <th>time</th>\n",
       "    </tr>\n",
       "  </thead>\n",
       "  <tbody>\n",
       "    <tr>\n",
       "      <td>0</td>\n",
       "      <td>0.586074</td>\n",
       "      <td>0.619031</td>\n",
       "      <td>0.668464</td>\n",
       "      <td>0.786828</td>\n",
       "      <td>00:18</td>\n",
       "    </tr>\n",
       "    <tr>\n",
       "      <td>1</td>\n",
       "      <td>0.544107</td>\n",
       "      <td>0.644755</td>\n",
       "      <td>0.687332</td>\n",
       "      <td>0.802048</td>\n",
       "      <td>00:18</td>\n",
       "    </tr>\n",
       "  </tbody>\n",
       "</table>"
      ],
      "text/plain": [
       "<IPython.core.display.HTML object>"
      ]
     },
     "metadata": {},
     "output_type": "display_data"
    }
   ],
   "source": [
    "learn.unfreeze()\n",
    "learn.fit_one_cycle(2, slice(1e-3/(2.6**4),3e-3))"
   ]
  },
  {
   "cell_type": "code",
   "execution_count": 38,
   "id": "5e048112-124f-4085-8707-2b501d0cd07b",
   "metadata": {
    "execution": {
     "iopub.execute_input": "2023-06-18T08:34:56.614367Z",
     "iopub.status.busy": "2023-06-18T08:34:56.613973Z",
     "iopub.status.idle": "2023-06-18T08:34:57.023720Z",
     "shell.execute_reply": "2023-06-18T08:34:57.022685Z",
     "shell.execute_reply.started": "2023-06-18T08:34:56.614337Z"
    }
   },
   "outputs": [
    {
     "data": {
      "text/plain": [
       "Path('models/final_model.pth')"
      ]
     },
     "execution_count": 38,
     "metadata": {},
     "output_type": "execute_result"
    }
   ],
   "source": [
    "learn.save('final_model')"
   ]
  },
  {
   "cell_type": "code",
   "execution_count": 39,
   "id": "4aa85060-08bb-47aa-a548-595840092a36",
   "metadata": {
    "execution": {
     "iopub.execute_input": "2023-06-18T08:34:59.352842Z",
     "iopub.status.busy": "2023-06-18T08:34:59.352468Z",
     "iopub.status.idle": "2023-06-18T08:34:59.660023Z",
     "shell.execute_reply": "2023-06-18T08:34:59.659042Z",
     "shell.execute_reply.started": "2023-06-18T08:34:59.352816Z"
    }
   },
   "outputs": [],
   "source": [
    "learn.export()"
   ]
  },
  {
   "cell_type": "markdown",
   "id": "5856b3bf-7bd0-4feb-a7fb-d0103b17983e",
   "metadata": {},
   "source": [
    "## Submission"
   ]
  },
  {
   "cell_type": "code",
   "execution_count": 42,
   "id": "a49aca2f-0bbe-49cb-b263-743ca52c0388",
   "metadata": {
    "execution": {
     "iopub.execute_input": "2023-06-18T08:36:57.735145Z",
     "iopub.status.busy": "2023-06-18T08:36:57.734287Z",
     "iopub.status.idle": "2023-06-18T08:36:57.756134Z",
     "shell.execute_reply": "2023-06-18T08:36:57.755325Z",
     "shell.execute_reply.started": "2023-06-18T08:36:57.735104Z"
    }
   },
   "outputs": [],
   "source": [
    "test = pd.read_csv(path/'test.csv')"
   ]
  },
  {
   "cell_type": "code",
   "execution_count": 43,
   "id": "9c23671d-9a52-4fb5-8e9c-b0b2898563a8",
   "metadata": {
    "execution": {
     "iopub.execute_input": "2023-06-18T08:36:59.145026Z",
     "iopub.status.busy": "2023-06-18T08:36:59.144640Z",
     "iopub.status.idle": "2023-06-18T08:37:03.729181Z",
     "shell.execute_reply": "2023-06-18T08:37:03.728132Z",
     "shell.execute_reply.started": "2023-06-18T08:36:59.144993Z"
    }
   },
   "outputs": [],
   "source": [
    "dl = learn.dls.test_dl(test['facts'])"
   ]
  },
  {
   "cell_type": "code",
   "execution_count": 44,
   "id": "3ea0f2d1-12e8-4a2c-b98c-2ecf28b8be9d",
   "metadata": {
    "execution": {
     "iopub.execute_input": "2023-06-18T08:37:08.659395Z",
     "iopub.status.busy": "2023-06-18T08:37:08.659035Z",
     "iopub.status.idle": "2023-06-18T08:37:14.287228Z",
     "shell.execute_reply": "2023-06-18T08:37:14.286131Z",
     "shell.execute_reply.started": "2023-06-18T08:37:08.659367Z"
    }
   },
   "outputs": [
    {
     "data": {
      "text/html": [
       "\n",
       "<style>\n",
       "    /* Turns off some styling */\n",
       "    progress {\n",
       "        /* gets rid of default border in Firefox and Opera. */\n",
       "        border: none;\n",
       "        /* Needs to be in here for Safari polyfill so background images work as expected. */\n",
       "        background-size: auto;\n",
       "    }\n",
       "    progress:not([value]), progress:not([value])::-webkit-progress-bar {\n",
       "        background: repeating-linear-gradient(45deg, #7e7e7e, #7e7e7e 10px, #5c5c5c 10px, #5c5c5c 20px);\n",
       "    }\n",
       "    .progress-bar-interrupted, .progress-bar-interrupted::-webkit-progress-bar {\n",
       "        background: #F44336;\n",
       "    }\n",
       "</style>\n"
      ],
      "text/plain": [
       "<IPython.core.display.HTML object>"
      ]
     },
     "metadata": {},
     "output_type": "display_data"
    },
    {
     "data": {
      "text/html": [],
      "text/plain": [
       "<IPython.core.display.HTML object>"
      ]
     },
     "metadata": {},
     "output_type": "display_data"
    }
   ],
   "source": [
    "preds = learn.get_preds(dl=dl)"
   ]
  },
  {
   "cell_type": "code",
   "execution_count": 45,
   "id": "826f31da-7fe8-4218-92d0-beb955a9e417",
   "metadata": {
    "execution": {
     "iopub.execute_input": "2023-06-18T08:37:16.650865Z",
     "iopub.status.busy": "2023-06-18T08:37:16.650306Z",
     "iopub.status.idle": "2023-06-18T08:37:16.659962Z",
     "shell.execute_reply": "2023-06-18T08:37:16.658722Z",
     "shell.execute_reply.started": "2023-06-18T08:37:16.650820Z"
    }
   },
   "outputs": [
    {
     "data": {
      "text/plain": [
       "array([0.34820172, 0.6517983 ], dtype=float32)"
      ]
     },
     "execution_count": 45,
     "metadata": {},
     "output_type": "execute_result"
    }
   ],
   "source": [
    "preds[0][0].cpu().numpy()"
   ]
  },
  {
   "cell_type": "code",
   "execution_count": 46,
   "id": "57f26dae-d981-430e-908c-835853f843dc",
   "metadata": {
    "execution": {
     "iopub.execute_input": "2023-06-18T08:37:38.710258Z",
     "iopub.status.busy": "2023-06-18T08:37:38.709928Z",
     "iopub.status.idle": "2023-06-18T08:37:38.716472Z",
     "shell.execute_reply": "2023-06-18T08:37:38.715865Z",
     "shell.execute_reply.started": "2023-06-18T08:37:38.710232Z"
    }
   },
   "outputs": [
    {
     "data": {
      "text/plain": [
       "tensor(1)"
      ]
     },
     "execution_count": 46,
     "metadata": {},
     "output_type": "execute_result"
    }
   ],
   "source": [
    "preds[0][0].cpu().argmax(dim=-1)"
   ]
  },
  {
   "cell_type": "code",
   "execution_count": 51,
   "id": "de5d606a-5e8a-491d-aaaa-752f20f67e6c",
   "metadata": {
    "execution": {
     "iopub.execute_input": "2023-06-18T08:38:21.929223Z",
     "iopub.status.busy": "2023-06-18T08:38:21.928841Z",
     "iopub.status.idle": "2023-06-18T08:38:21.938790Z",
     "shell.execute_reply": "2023-06-18T08:38:21.937885Z",
     "shell.execute_reply.started": "2023-06-18T08:38:21.929197Z"
    }
   },
   "outputs": [],
   "source": [
    "submission['first_party_winner'] = preds[0].argmax(dim=-1)"
   ]
  },
  {
   "cell_type": "code",
   "execution_count": 52,
   "id": "b683fb26-6358-4ae6-96de-6c21004c31dc",
   "metadata": {
    "execution": {
     "iopub.execute_input": "2023-06-18T08:38:22.670263Z",
     "iopub.status.busy": "2023-06-18T08:38:22.669902Z",
     "iopub.status.idle": "2023-06-18T08:38:22.679907Z",
     "shell.execute_reply": "2023-06-18T08:38:22.679002Z",
     "shell.execute_reply.started": "2023-06-18T08:38:22.670237Z"
    }
   },
   "outputs": [
    {
     "data": {
      "text/html": [
       "<div>\n",
       "<style scoped>\n",
       "    .dataframe tbody tr th:only-of-type {\n",
       "        vertical-align: middle;\n",
       "    }\n",
       "\n",
       "    .dataframe tbody tr th {\n",
       "        vertical-align: top;\n",
       "    }\n",
       "\n",
       "    .dataframe thead th {\n",
       "        text-align: right;\n",
       "    }\n",
       "</style>\n",
       "<table border=\"1\" class=\"dataframe\">\n",
       "  <thead>\n",
       "    <tr style=\"text-align: right;\">\n",
       "      <th></th>\n",
       "      <th>ID</th>\n",
       "      <th>first_party_winner</th>\n",
       "    </tr>\n",
       "  </thead>\n",
       "  <tbody>\n",
       "    <tr>\n",
       "      <th>0</th>\n",
       "      <td>TEST_0000</td>\n",
       "      <td>1</td>\n",
       "    </tr>\n",
       "    <tr>\n",
       "      <th>1</th>\n",
       "      <td>TEST_0001</td>\n",
       "      <td>1</td>\n",
       "    </tr>\n",
       "    <tr>\n",
       "      <th>2</th>\n",
       "      <td>TEST_0002</td>\n",
       "      <td>0</td>\n",
       "    </tr>\n",
       "    <tr>\n",
       "      <th>3</th>\n",
       "      <td>TEST_0003</td>\n",
       "      <td>1</td>\n",
       "    </tr>\n",
       "    <tr>\n",
       "      <th>4</th>\n",
       "      <td>TEST_0004</td>\n",
       "      <td>1</td>\n",
       "    </tr>\n",
       "  </tbody>\n",
       "</table>\n",
       "</div>"
      ],
      "text/plain": [
       "          ID  first_party_winner\n",
       "0  TEST_0000                   1\n",
       "1  TEST_0001                   1\n",
       "2  TEST_0002                   0\n",
       "3  TEST_0003                   1\n",
       "4  TEST_0004                   1"
      ]
     },
     "execution_count": 52,
     "metadata": {},
     "output_type": "execute_result"
    }
   ],
   "source": [
    "submission.head()"
   ]
  },
  {
   "cell_type": "code",
   "execution_count": 56,
   "id": "627391dd-a0db-4f0e-b86c-2936d235b015",
   "metadata": {
    "execution": {
     "iopub.execute_input": "2023-06-18T08:40:44.634542Z",
     "iopub.status.busy": "2023-06-18T08:40:44.634027Z",
     "iopub.status.idle": "2023-06-18T08:40:44.644278Z",
     "shell.execute_reply": "2023-06-18T08:40:44.643318Z",
     "shell.execute_reply.started": "2023-06-18T08:40:44.634515Z"
    }
   },
   "outputs": [
    {
     "name": "stdout",
     "output_type": "stream",
     "text": [
      "Done\n"
     ]
    }
   ],
   "source": [
    "submission.to_csv('./fastai+LSTM.csv', index=False)\n",
    "print('Done')"
   ]
  },
  {
   "cell_type": "code",
   "execution_count": 58,
   "id": "afbab6b5-a7e3-4e00-bfa6-e94b7832c824",
   "metadata": {
    "execution": {
     "iopub.execute_input": "2023-06-18T08:41:05.972096Z",
     "iopub.status.busy": "2023-06-18T08:41:05.971321Z",
     "iopub.status.idle": "2023-06-18T08:41:05.981378Z",
     "shell.execute_reply": "2023-06-18T08:41:05.980071Z",
     "shell.execute_reply.started": "2023-06-18T08:41:05.972060Z"
    }
   },
   "outputs": [
    {
     "data": {
      "text/plain": [
       "1    1046\n",
       "0     194\n",
       "Name: first_party_winner, dtype: int64"
      ]
     },
     "execution_count": 58,
     "metadata": {},
     "output_type": "execute_result"
    }
   ],
   "source": [
    "submission['first_party_winner'].value_counts()"
   ]
  },
  {
   "cell_type": "code",
   "execution_count": 59,
   "id": "8eb57a7f-2b96-456b-9b0f-b6facbe77a55",
   "metadata": {
    "execution": {
     "iopub.execute_input": "2023-06-18T08:41:23.231649Z",
     "iopub.status.busy": "2023-06-18T08:41:23.230841Z",
     "iopub.status.idle": "2023-06-18T08:41:23.239278Z",
     "shell.execute_reply": "2023-06-18T08:41:23.237999Z",
     "shell.execute_reply.started": "2023-06-18T08:41:23.231622Z"
    }
   },
   "outputs": [
    {
     "data": {
      "text/plain": [
       "1    1649\n",
       "0     829\n",
       "Name: first_party_winner, dtype: int64"
      ]
     },
     "execution_count": 59,
     "metadata": {},
     "output_type": "execute_result"
    }
   ],
   "source": [
    "train['first_party_winner'].value_counts()"
   ]
  },
  {
   "cell_type": "markdown",
   "id": "b54113b9-c67a-45e1-b3d5-c4758d629e70",
   "metadata": {},
   "source": [
    "## Conclusion"
   ]
  },
  {
   "cell_type": "markdown",
   "id": "c4c7484b-4aca-464f-8c89-6a478b252cc5",
   "metadata": {},
   "source": [
    "- 1로 지나치게 많이 예측하는 문제는 여전함 (정확도는 올라가나 '재현률'이 낮아지는 문제...)\n",
    "- 생각보다 성능향상이 별로 없다... 시무룩..."
   ]
  },
  {
   "cell_type": "code",
   "execution_count": null,
   "id": "c625b3c4-0168-42e7-b2d4-e339fbd0f9f0",
   "metadata": {
    "editable": true,
    "slideshow": {
     "slide_type": ""
    },
    "tags": []
   },
   "outputs": [],
   "source": []
  }
 ],
 "metadata": {
  "kernelspec": {
   "display_name": "Python 3 (ipykernel)",
   "language": "python",
   "name": "python3"
  },
  "language_info": {
   "codemirror_mode": {
    "name": "ipython",
    "version": 3
   },
   "file_extension": ".py",
   "mimetype": "text/x-python",
   "name": "python",
   "nbconvert_exporter": "python",
   "pygments_lexer": "ipython3",
   "version": "3.11.4"
  }
 },
 "nbformat": 4,
 "nbformat_minor": 5
}
