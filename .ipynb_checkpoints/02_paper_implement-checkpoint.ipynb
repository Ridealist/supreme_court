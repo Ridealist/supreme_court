{
 "cells": [
  {
   "cell_type": "markdown",
   "id": "810f3dd9-64b6-47eb-96c0-23d1ac2456fa",
   "metadata": {},
   "source": [
    "# LJP Paper implement"
   ]
  },
  {
   "cell_type": "markdown",
   "id": "a096e062-a523-4aae-a90d-22a615335af2",
   "metadata": {
    "editable": true,
    "slideshow": {
     "slide_type": ""
    },
    "tags": []
   },
   "source": [
    "Competition Dataset의 원본 논문\n",
    "\n",
    "- [JUSTICE: A Benchmark Dataset for Supreme Court's Judgment Prediction](https://arxiv.org/abs/2112.03414)\n",
    "    - https://arxiv.org/pdf/2112.03414.pdf"
   ]
  },
  {
   "cell_type": "code",
   "execution_count": 1,
   "id": "1f878e9d-0220-4efe-9a4a-607cec5de0d0",
   "metadata": {
    "editable": true,
    "slideshow": {
     "slide_type": ""
    },
    "tags": []
   },
   "outputs": [],
   "source": [
    "import pandas as pd\n",
    "import numpy as np\n",
    "from sklearn.feature_extraction.text import TfidfVectorizer\n",
    "from sklearn.linear_model import LogisticRegression"
   ]
  },
  {
   "cell_type": "code",
   "execution_count": 2,
   "id": "e8889a1f-43d2-4bc8-a9cf-cd50240d513a",
   "metadata": {},
   "outputs": [],
   "source": [
    "import os\n",
    "from pathlib import Path\n",
    "\n",
    "path = Path(os.getcwd() + '/datasets')"
   ]
  },
  {
   "cell_type": "code",
   "execution_count": 3,
   "id": "0600b2d9-5df3-42ed-b51c-3986b50036d0",
   "metadata": {},
   "outputs": [],
   "source": [
    "train = pd.read_csv(path / 'train.csv')\n",
    "test = pd.read_csv(path / 'test.csv')\n",
    "submission = pd.read_csv(path / 'sample_submission.csv')"
   ]
  },
  {
   "cell_type": "code",
   "execution_count": 4,
   "id": "12e47ea4-3c56-40d8-8c5b-626b96dcb23a",
   "metadata": {},
   "outputs": [
    {
     "data": {
      "text/html": [
       "<div>\n",
       "<style scoped>\n",
       "    .dataframe tbody tr th:only-of-type {\n",
       "        vertical-align: middle;\n",
       "    }\n",
       "\n",
       "    .dataframe tbody tr th {\n",
       "        vertical-align: top;\n",
       "    }\n",
       "\n",
       "    .dataframe thead th {\n",
       "        text-align: right;\n",
       "    }\n",
       "</style>\n",
       "<table border=\"1\" class=\"dataframe\">\n",
       "  <thead>\n",
       "    <tr style=\"text-align: right;\">\n",
       "      <th></th>\n",
       "      <th>ID</th>\n",
       "      <th>first_party</th>\n",
       "      <th>second_party</th>\n",
       "      <th>facts</th>\n",
       "      <th>first_party_winner</th>\n",
       "    </tr>\n",
       "  </thead>\n",
       "  <tbody>\n",
       "    <tr>\n",
       "      <th>0</th>\n",
       "      <td>TRAIN_0000</td>\n",
       "      <td>Phil A. St. Amant</td>\n",
       "      <td>Herman A. Thompson</td>\n",
       "      <td>On June 27, 1962, Phil St. Amant, a candidate ...</td>\n",
       "      <td>1</td>\n",
       "    </tr>\n",
       "    <tr>\n",
       "      <th>1</th>\n",
       "      <td>TRAIN_0001</td>\n",
       "      <td>Stephen Duncan</td>\n",
       "      <td>Lawrence Owens</td>\n",
       "      <td>Ramon Nelson was riding his bike when he suffe...</td>\n",
       "      <td>0</td>\n",
       "    </tr>\n",
       "    <tr>\n",
       "      <th>2</th>\n",
       "      <td>TRAIN_0002</td>\n",
       "      <td>Billy Joe Magwood</td>\n",
       "      <td>Tony Patterson, Warden, et al.</td>\n",
       "      <td>An Alabama state court convicted Billy Joe Mag...</td>\n",
       "      <td>1</td>\n",
       "    </tr>\n",
       "    <tr>\n",
       "      <th>3</th>\n",
       "      <td>TRAIN_0003</td>\n",
       "      <td>Linkletter</td>\n",
       "      <td>Walker</td>\n",
       "      <td>Victor Linkletter was convicted in state court...</td>\n",
       "      <td>0</td>\n",
       "    </tr>\n",
       "    <tr>\n",
       "      <th>4</th>\n",
       "      <td>TRAIN_0004</td>\n",
       "      <td>William Earl Fikes</td>\n",
       "      <td>Alabama</td>\n",
       "      <td>On April 24, 1953 in Selma, Alabama, an intrud...</td>\n",
       "      <td>1</td>\n",
       "    </tr>\n",
       "  </tbody>\n",
       "</table>\n",
       "</div>"
      ],
      "text/plain": [
       "           ID         first_party                    second_party   \n",
       "0  TRAIN_0000   Phil A. St. Amant              Herman A. Thompson  \\\n",
       "1  TRAIN_0001      Stephen Duncan                  Lawrence Owens   \n",
       "2  TRAIN_0002   Billy Joe Magwood  Tony Patterson, Warden, et al.   \n",
       "3  TRAIN_0003          Linkletter                          Walker   \n",
       "4  TRAIN_0004  William Earl Fikes                         Alabama   \n",
       "\n",
       "                                               facts  first_party_winner  \n",
       "0  On June 27, 1962, Phil St. Amant, a candidate ...                   1  \n",
       "1  Ramon Nelson was riding his bike when he suffe...                   0  \n",
       "2  An Alabama state court convicted Billy Joe Mag...                   1  \n",
       "3  Victor Linkletter was convicted in state court...                   0  \n",
       "4  On April 24, 1953 in Selma, Alabama, an intrud...                   1  "
      ]
     },
     "execution_count": 4,
     "metadata": {},
     "output_type": "execute_result"
    }
   ],
   "source": [
    "train.head()"
   ]
  },
  {
   "cell_type": "markdown",
   "id": "12d3615f-6951-41e2-991f-e9e0aa29c33d",
   "metadata": {},
   "source": [
    "## Data Processing"
   ]
  },
  {
   "cell_type": "code",
   "execution_count": 5,
   "id": "ef4ed139-ba09-43b2-9cfa-7d6fe499e756",
   "metadata": {},
   "outputs": [],
   "source": [
    "from sklearn.model_selection import train_test_split\n",
    "from sklearn.feature_extraction.text import TfidfVectorizer"
   ]
  },
  {
   "cell_type": "code",
   "execution_count": 6,
   "id": "63df6a5b-c956-4baf-ad4d-9f86128d9723",
   "metadata": {},
   "outputs": [],
   "source": [
    "# # Perform an 80-20 split for training and testing data\n",
    "X_train_party1_text, X_val_party1_text, \\\n",
    "X_train_party2_text, X_val_party2_text, \\\n",
    "X_train_facts_text, X_val_facts_text, \\\n",
    "y_train, y_val = train_test_split(\n",
    "    train['first_party'],\n",
    "    train['second_party'],\n",
    "    train['facts'],\n",
    "    train['first_party_winner'],\n",
    "    test_size=0.2,\n",
    "    stratify=train['first_party_winner'],\n",
    "    random_state=144\n",
    ")"
   ]
  },
  {
   "cell_type": "code",
   "execution_count": 7,
   "id": "47915275-20b2-4cef-a706-c1eb4edbac71",
   "metadata": {},
   "outputs": [],
   "source": [
    "# TF-IDF Feature Extraction\n",
    "vectorizer = TfidfVectorizer()\n",
    "X_train_facts = vectorizer.fit_transform(X_train_facts_text)\n",
    "\n",
    "X_val_facts = vectorizer.transform(X_val_facts_text)\n",
    "X_train_party1 = vectorizer.transform(X_train_party1_text)\n",
    "X_val_party1 = vectorizer.transform(X_val_party1_text)\n",
    "X_train_party2 = vectorizer.transform(X_train_party2_text)\n",
    "X_val_party2 = vectorizer.transform(X_val_party2_text)\n",
    "\n",
    "X_train = np.concatenate([X_train_party1.todense(), X_train_party2.todense(), X_train_facts.todense()], axis=1)\n",
    "X_val = np.concatenate([X_val_party1.todense(), X_val_party2.todense(), X_val_facts.todense()], axis=1)\n",
    "\n",
    "X_train = np.asarray(X_train)\n",
    "X_val = np.asarray(X_val)\n",
    "\n",
    "del X_train_facts, X_train_party1, X_train_party2\n",
    "del X_val_facts, X_val_party1, X_val_party2"
   ]
  },
  {
   "cell_type": "code",
   "execution_count": 8,
   "id": "91e15ba0-c0b8-4386-81e4-4d3857379d72",
   "metadata": {},
   "outputs": [],
   "source": [
    "X_test_facts = vectorizer.transform(test['facts'])\n",
    "X_test_party1 = vectorizer.transform(test['first_party'])\n",
    "X_test_party2 = vectorizer.transform(test['second_party'])\n",
    "\n",
    "X_test = np.concatenate([X_test_party1.todense(), X_test_party2.todense(), X_test_facts.todense()], axis=1)\n",
    "X_test = np.asarray(X_test)\n",
    "\n",
    "del X_test_facts, X_test_party1, X_test_party2"
   ]
  },
  {
   "cell_type": "markdown",
   "id": "069091d1-eefb-401c-adb3-7914bc0bbd52",
   "metadata": {
    "tags": []
   },
   "source": [
    "## Modeling"
   ]
  },
  {
   "cell_type": "code",
   "execution_count": 9,
   "id": "5a137a0b-2fbb-4bd4-be5a-4b46e0bfa796",
   "metadata": {},
   "outputs": [],
   "source": [
    "from sklearn.neural_network import MLPClassifier\n",
    "from sklearn.linear_model import Perceptron\n",
    "from sklearn.svm import LinearSVC\n",
    "from sklearn.linear_model import LogisticRegression\n",
    "from sklearn.naive_bayes import MultinomialNB\n",
    "from sklearn.neighbors import KNeighborsClassifier\n",
    "from sklearn.ensemble import VotingClassifier\n",
    "from sklearn.calibration import CalibratedClassifierCV"
   ]
  },
  {
   "cell_type": "code",
   "execution_count": 10,
   "id": "e7d069a2-f2a9-41be-a9e1-3e3aeae18fe0",
   "metadata": {},
   "outputs": [],
   "source": [
    "from sklearn.metrics import classification_report"
   ]
  },
  {
   "cell_type": "markdown",
   "id": "11769fc0-bb07-4275-9dc8-94c427ef76f3",
   "metadata": {},
   "source": [
    "### Perceptron"
   ]
  },
  {
   "cell_type": "code",
   "execution_count": 11,
   "id": "6eb8910a-41b9-4acc-b37a-7d32147013a5",
   "metadata": {},
   "outputs": [
    {
     "name": "stdout",
     "output_type": "stream",
     "text": [
      "Perceptron - Train\n",
      "               precision    recall  f1-score   support\n",
      "\n",
      "           0       0.64      1.00      0.78       663\n",
      "           1       1.00      0.72      0.83      1319\n",
      "\n",
      "    accuracy                           0.81      1982\n",
      "   macro avg       0.82      0.86      0.81      1982\n",
      "weighted avg       0.88      0.81      0.82      1982\n",
      "\n",
      "Perceptron - Test\n",
      "               precision    recall  f1-score   support\n",
      "\n",
      "           0       0.38      0.69      0.49       166\n",
      "           1       0.74      0.44      0.55       330\n",
      "\n",
      "    accuracy                           0.52       496\n",
      "   macro avg       0.56      0.56      0.52       496\n",
      "weighted avg       0.62      0.52      0.53       496\n",
      "\n"
     ]
    }
   ],
   "source": [
    "# Perceptron\n",
    "model_perceptron = Perceptron(\n",
    "    alpha=0.0001,\n",
    "    max_iter=30,\n",
    "    n_iter_no_change=5,\n",
    "    penalty='l1',\n",
    "    tol=1e-3,\n",
    "    validation_fraction=0.1\n",
    ")\n",
    "model_perceptron.fit(X_train, y_train)\n",
    "\n",
    "y_train_pred = model_perceptron.predict(X_train)\n",
    "y_val_pred = model_perceptron.predict(X_val)\n",
    "\n",
    "print('Perceptron - Train\\n', classification_report(y_train, y_train_pred, zero_division=0))\n",
    "print('Perceptron - Test\\n', classification_report(y_val, y_val_pred, zero_division=0))"
   ]
  },
  {
   "cell_type": "markdown",
   "id": "72b4d807-cbfe-4708-9d93-1894ea8a2365",
   "metadata": {},
   "source": [
    "### Support Vector Machine"
   ]
  },
  {
   "cell_type": "code",
   "execution_count": 12,
   "id": "df024f15-bacd-4087-a8e5-88bbed57853d",
   "metadata": {},
   "outputs": [
    {
     "name": "stdout",
     "output_type": "stream",
     "text": [
      "SVM - Train\n",
      "               precision    recall  f1-score   support\n",
      "\n",
      "           0       1.00      0.78      0.88       663\n",
      "           1       0.90      1.00      0.95      1319\n",
      "\n",
      "    accuracy                           0.93      1982\n",
      "   macro avg       0.95      0.89      0.91      1982\n",
      "weighted avg       0.93      0.93      0.92      1982\n",
      "\n",
      "SVM - Test\n",
      "               precision    recall  f1-score   support\n",
      "\n",
      "           0       0.39      0.08      0.13       166\n",
      "           1       0.67      0.94      0.78       330\n",
      "\n",
      "    accuracy                           0.65       496\n",
      "   macro avg       0.53      0.51      0.46       496\n",
      "weighted avg       0.58      0.65      0.56       496\n",
      "\n"
     ]
    }
   ],
   "source": [
    "# SVM\n",
    "model_svm = LinearSVC(\n",
    "    max_iter=20,\n",
    "    C=0.1,\n",
    "    intercept_scaling=0.1,\n",
    "    loss='squared_hinge',\n",
    "    penalty='l2',\n",
    "    tol=1e-2\n",
    ")\n",
    "model_svm.fit(X_train, y_train)\n",
    "\n",
    "y_train_pred = model_svm.predict(X_train)\n",
    "y_val_pred = model_svm.predict(X_val)\n",
    "\n",
    "print('SVM - Train\\n', classification_report(y_train, y_train_pred, zero_division=0))\n",
    "print('SVM - Test\\n', classification_report(y_val, y_val_pred, zero_division=0))"
   ]
  },
  {
   "cell_type": "markdown",
   "id": "6906ad8e-e994-4f9c-b8fe-405680bd930a",
   "metadata": {
    "tags": []
   },
   "source": [
    "### Logistic Regression"
   ]
  },
  {
   "cell_type": "code",
   "execution_count": 13,
   "id": "a2ac345e-2cef-4ad9-8433-09f72b902715",
   "metadata": {},
   "outputs": [
    {
     "name": "stdout",
     "output_type": "stream",
     "text": [
      "Logistic Regression - Train\n",
      "               precision    recall  f1-score   support\n",
      "\n",
      "           0       1.00      0.81      0.90       663\n",
      "           1       0.91      1.00      0.95      1319\n",
      "\n",
      "    accuracy                           0.94      1982\n",
      "   macro avg       0.96      0.91      0.92      1982\n",
      "weighted avg       0.94      0.94      0.93      1982\n",
      "\n",
      "Logistic Regression - Test\n",
      "               precision    recall  f1-score   support\n",
      "\n",
      "           0       0.44      0.10      0.17       166\n",
      "           1       0.67      0.93      0.78       330\n",
      "\n",
      "    accuracy                           0.66       496\n",
      "   macro avg       0.55      0.52      0.47       496\n",
      "weighted avg       0.59      0.66      0.58       496\n",
      "\n"
     ]
    }
   ],
   "source": [
    "# Logistic Regression\n",
    "model_log_reg = LogisticRegression()\n",
    "model_log_reg.fit(X_train, y_train)\n",
    "\n",
    "y_train_pred = model_log_reg.predict(X_train)\n",
    "y_val_pred = model_log_reg.predict(X_val)\n",
    "\n",
    "print('Logistic Regression - Train\\n', classification_report(y_train, y_train_pred, zero_division=0))\n",
    "print('Logistic Regression - Test\\n', classification_report(y_val, y_val_pred, zero_division=0))"
   ]
  },
  {
   "cell_type": "markdown",
   "id": "9911f1b8-91a4-43f2-ad4a-84799ad45b2e",
   "metadata": {},
   "source": [
    "### Naive Bayes"
   ]
  },
  {
   "cell_type": "code",
   "execution_count": 14,
   "id": "ce179c92-4634-46c1-bfa7-463f8ae17312",
   "metadata": {},
   "outputs": [
    {
     "name": "stdout",
     "output_type": "stream",
     "text": [
      "Naive Bayes - Train\n",
      "               precision    recall  f1-score   support\n",
      "\n",
      "           0       0.00      0.00      0.00       663\n",
      "           1       0.67      1.00      0.80      1319\n",
      "\n",
      "    accuracy                           0.67      1982\n",
      "   macro avg       0.33      0.50      0.40      1982\n",
      "weighted avg       0.44      0.67      0.53      1982\n",
      "\n",
      "Naive Bayes - Test\n",
      "               precision    recall  f1-score   support\n",
      "\n",
      "           0       0.00      0.00      0.00       166\n",
      "           1       0.67      1.00      0.80       330\n",
      "\n",
      "    accuracy                           0.67       496\n",
      "   macro avg       0.33      0.50      0.40       496\n",
      "weighted avg       0.44      0.67      0.53       496\n",
      "\n"
     ]
    }
   ],
   "source": [
    "# Naive Bayes\n",
    "model_naive_bayes = MultinomialNB(\n",
    "    alpha=3\n",
    ")\n",
    "model_naive_bayes.fit(X_train, y_train)\n",
    "\n",
    "y_train_pred = model_naive_bayes.predict(X_train)\n",
    "y_val_pred = model_naive_bayes.predict(X_val)\n",
    "\n",
    "print('Naive Bayes - Train\\n', classification_report(y_train, y_train_pred, zero_division=0))\n",
    "print('Naive Bayes - Test\\n', classification_report(y_val, y_val_pred, zero_division=0))"
   ]
  },
  {
   "cell_type": "markdown",
   "id": "502296af-3508-4e94-8dc3-6354a86bddeb",
   "metadata": {},
   "source": [
    "### Multi-layer Perceptron\n"
   ]
  },
  {
   "cell_type": "code",
   "execution_count": 15,
   "id": "1ba08d14-6592-40b7-aca9-38f987a4a3ab",
   "metadata": {},
   "outputs": [
    {
     "name": "stdout",
     "output_type": "stream",
     "text": [
      "MLP - Train\n",
      "               precision    recall  f1-score   support\n",
      "\n",
      "           0       0.77      0.43      0.55       663\n",
      "           1       0.77      0.94      0.84      1319\n",
      "\n",
      "    accuracy                           0.77      1982\n",
      "   macro avg       0.77      0.68      0.70      1982\n",
      "weighted avg       0.77      0.77      0.75      1982\n",
      "\n",
      "MLP - Test\n",
      "               precision    recall  f1-score   support\n",
      "\n",
      "           0       0.30      0.14      0.19       166\n",
      "           1       0.66      0.84      0.74       330\n",
      "\n",
      "    accuracy                           0.60       496\n",
      "   macro avg       0.48      0.49      0.46       496\n",
      "weighted avg       0.54      0.60      0.55       496\n",
      "\n"
     ]
    }
   ],
   "source": [
    "# MLP\n",
    "model_mlp = MLPClassifier(\n",
    "    early_stopping=True,\n",
    "    beta_2=0,\n",
    "    max_iter=20,\n",
    ")\n",
    "model_mlp.fit(X_train, y_train)\n",
    "\n",
    "y_train_pred = model_mlp.predict(X_train)\n",
    "y_val_pred = model_mlp.predict(X_val)\n",
    "\n",
    "print('MLP - Train\\n', classification_report(y_train, y_train_pred, zero_division=0))\n",
    "print('MLP - Test\\n', classification_report(y_val, y_val_pred, zero_division=0))"
   ]
  },
  {
   "cell_type": "markdown",
   "id": "c028ffbd-fe87-4ff6-8c3f-42fe5d56cccc",
   "metadata": {},
   "source": [
    "### K-Nearest Neighbors"
   ]
  },
  {
   "cell_type": "code",
   "execution_count": 16,
   "id": "9ad860f1-5014-4b5f-ad1d-ce649337ba04",
   "metadata": {},
   "outputs": [
    {
     "name": "stdout",
     "output_type": "stream",
     "text": [
      "KNN - Train\n",
      "               precision    recall  f1-score   support\n",
      "\n",
      "           0       1.00      1.00      1.00       663\n",
      "           1       1.00      1.00      1.00      1319\n",
      "\n",
      "    accuracy                           1.00      1982\n",
      "   macro avg       1.00      1.00      1.00      1982\n",
      "weighted avg       1.00      1.00      1.00      1982\n",
      "\n",
      "KNN - Val\n",
      "               precision    recall  f1-score   support\n",
      "\n",
      "           0       0.42      0.20      0.27       166\n",
      "           1       0.68      0.86      0.76       330\n",
      "\n",
      "    accuracy                           0.64       496\n",
      "   macro avg       0.55      0.53      0.51       496\n",
      "weighted avg       0.59      0.64      0.60       496\n",
      "\n"
     ]
    }
   ],
   "source": [
    "# KNN\n",
    "\n",
    "model_knn = KNeighborsClassifier(n_neighbors=3, weights='distance')\n",
    "model_knn.fit(X_train, y_train)\n",
    "\n",
    "y_train_pred = model_knn.predict(X_train)\n",
    "y_val_pred = model_knn.predict(X_val)\n",
    "\n",
    "print('KNN - Train\\n', classification_report(y_train, y_train_pred, zero_division=0))\n",
    "print('KNN - Val\\n', classification_report(y_val, y_val_pred, zero_division=0))"
   ]
  },
  {
   "cell_type": "markdown",
   "id": "84f392fd-2712-4a7f-b4c7-d211d89e309c",
   "metadata": {},
   "source": [
    "## Create Ensemble"
   ]
  },
  {
   "cell_type": "code",
   "execution_count": 17,
   "id": "ba5b02f9-375c-4ad3-b6a4-2a18f2afdfd1",
   "metadata": {},
   "outputs": [],
   "source": [
    "models = []\n",
    "models.append(('perceptron', model_perceptron))\n",
    "models.append(('svm', model_svm))\n",
    "models.append(('logistic_regression', model_log_reg))\n",
    "models.append(('naive_bayes', model_naive_bayes))\n",
    "models.append(('multi_layer_perceptron', model_mlp))\n",
    "models.append(('k_nearest_neighbors', model_knn))"
   ]
  },
  {
   "cell_type": "code",
   "execution_count": 18,
   "id": "7f8cd02e-bd34-43fb-b4d7-989b7a133c3f",
   "metadata": {},
   "outputs": [
    {
     "name": "stdout",
     "output_type": "stream",
     "text": [
      "Ensemble - Train\n",
      "               precision    recall  f1-score   support\n",
      "\n",
      "           0       1.00      0.89      0.94       663\n",
      "           1       0.95      1.00      0.97      1319\n",
      "\n",
      "    accuracy                           0.96      1982\n",
      "   macro avg       0.97      0.94      0.96      1982\n",
      "weighted avg       0.96      0.96      0.96      1982\n",
      "\n",
      "Ensemble - Test\n",
      "               precision    recall  f1-score   support\n",
      "\n",
      "           0       0.44      0.14      0.21       166\n",
      "           1       0.68      0.91      0.78       330\n",
      "\n",
      "    accuracy                           0.65       496\n",
      "   macro avg       0.56      0.53      0.49       496\n",
      "weighted avg       0.60      0.65      0.59       496\n",
      "\n"
     ]
    }
   ],
   "source": [
    "# Ensemble\n",
    "ensemble = VotingClassifier(models, voting='hard')\n",
    "ensemble.fit(X_train, y_train)\n",
    "\n",
    "y_train_pred = ensemble.predict(X_train)\n",
    "y_val_pred = ensemble.predict(X_val)\n",
    "\n",
    "print('Ensemble - Train\\n', classification_report(y_train, y_train_pred, zero_division=0))\n",
    "print('Ensemble - Test\\n', classification_report(y_val, y_val_pred, zero_division=0))"
   ]
  },
  {
   "cell_type": "code",
   "execution_count": 19,
   "id": "81ec0358-1790-49ca-872a-e190eef9f9fc",
   "metadata": {},
   "outputs": [
    {
     "name": "stdout",
     "output_type": "stream",
     "text": [
      "VotingClassifier(estimators=[('perceptron',\n",
      "                              Perceptron(max_iter=30, penalty='l1')),\n",
      "                             ('svm',\n",
      "                              LinearSVC(C=0.1, intercept_scaling=0.1,\n",
      "                                        max_iter=20, tol=0.01)),\n",
      "                             ('logistic_regression', LogisticRegression()),\n",
      "                             ('naive_bayes', MultinomialNB(alpha=3)),\n",
      "                             ('multi_layer_perceptron',\n",
      "                              MLPClassifier(beta_2=0, early_stopping=True,\n",
      "                                            max_iter=20)),\n",
      "                             ('k_nearest_neighbors',\n",
      "                              KNeighborsClassifier(n_neighbors=3,\n",
      "                                                   weights='distance'))])\n"
     ]
    }
   ],
   "source": [
    "print(ensemble)"
   ]
  },
  {
   "cell_type": "markdown",
   "id": "17d5ea54-c8fd-4a7c-88f9-4199b92b955a",
   "metadata": {
    "tags": []
   },
   "source": [
    "## Inference"
   ]
  },
  {
   "cell_type": "code",
   "execution_count": 20,
   "id": "e3abf70e-7151-4f52-b8ac-56f5a8a54e54",
   "metadata": {},
   "outputs": [
    {
     "name": "stdout",
     "output_type": "stream",
     "text": [
      "Done\n"
     ]
    }
   ],
   "source": [
    "pred = ensemble.predict(X_test)\n",
    "submission['first_party_winner'] = pred\n",
    "submission.to_csv('./baseline+ensemble.csv', index=False)\n",
    "print('Done')"
   ]
  },
  {
   "cell_type": "markdown",
   "id": "89431908-fd25-4f55-9f91-e8911f584960",
   "metadata": {},
   "source": [
    "## Demo"
   ]
  },
  {
   "cell_type": "code",
   "execution_count": 21,
   "id": "b3a5527f-c89f-4330-aef7-ef0b7ccda484",
   "metadata": {},
   "outputs": [],
   "source": [
    "def predict(party1, party2, facts):\n",
    "    X_party1 = vectorizer.transform([party1]).todense()\n",
    "    X_party2 = vectorizer.transform([party2]).todense()\n",
    "    X_facts = vectorizer.transform([facts]).todense()\n",
    "    X = np.concatenate([X_party1, X_party2, X_facts], axis=1)\n",
    "    X = np.asarray(X)\n",
    "    return ensemble.predict(X)[0]"
   ]
  },
  {
   "cell_type": "code",
   "execution_count": 22,
   "id": "ae455f6a-db81-4c2f-93b3-37aaf7fca887",
   "metadata": {},
   "outputs": [
    {
     "name": "stdout",
     "output_type": "stream",
     "text": [
      "Expecting 1 but got 1\n"
     ]
    }
   ],
   "source": [
    "out = predict('Jake', 'John', 'John was assaulted by Jake at gun point. He bled severely while Jake escaped the crime scene. The entire footage was captured by a CCTV of a nearby gas station.')\n",
    "print(f'Expecting 1 but got {out}')"
   ]
  },
  {
   "cell_type": "code",
   "execution_count": 23,
   "id": "95d73910-2ac3-4f7b-9d68-0b583154da6b",
   "metadata": {},
   "outputs": [
    {
     "name": "stdout",
     "output_type": "stream",
     "text": [
      "Expecting 0 but got 1\n"
     ]
    }
   ],
   "source": [
    "out = predict('The Florida Bar', 'Lanell Williams-Yulee', \"\"\"During her candidacy for County Court Judge in Hillsborough County, Florida, Lanell Williams-Yulee personally solicited campaign contributions. She stated that she served as the \"community Public Defender\" – although her title was \"assistant public defender\" – and inaccurately stated in the media that there was no incumbent in the judicial race for which she was running. The Florida Bar filed a complaint against Williams-Yulee and alleged that her actions during the campaign violated the rules regulating The Florida Bar. A referee was appointed who suggested that Williams-Yulee receive a public reprimand. Williams-Yulee appealed the referee's finding, and the Supreme Court of Florida held that Williams-Yulee violated bar rules for directly soliciting funds for her judicial campaign. Williams-Yulee appealed and claimed that The Florida Bar rule prohibiting a candidate from personal solicitation of funds violated the First Amendment protection of freedom of speech.\"\"\")\n",
    "print(f'Expecting 0 but got {out}')"
   ]
  },
  {
   "cell_type": "code",
   "execution_count": 24,
   "id": "39cc04b2-5c99-4354-8fe3-21a718cf94b4",
   "metadata": {},
   "outputs": [
    {
     "name": "stdout",
     "output_type": "stream",
     "text": [
      "Expecting 1 but got 1\n"
     ]
    }
   ],
   "source": [
    "out = predict('Rob Bonta, Attorney General of California', 'Americans for Prosperity Foundation', \"\"\"The California Attorney General’s office has a policy requiring charities to provide the state, on a confidential basis, information about their major donors, purportedly to help the state protect consumers from fraud and the misuse of their charitable contributions. Petitioner Americans for Prosperity (and the petitioner in the consolidated case, Thomas More Law Center) either failed to file or filed redacted lists of their major donors with the California Attorney General’s office, despite filing complete lists with the federal Internal Revenue Service, as required by federal law. In response to demands by the California Attorney General that they file the lists, the organizations filed a lawsuit alleging that the filing requirement unconstitutionally burdened their First Amendment right to free association by deterring individuals from financially supporting them. The organizations provided evidence that although the state is required to keep donor names private, the state’s database was vulnerable to hacking, and many donor names were repeatedly released to the public. Based in part on this finding, the district court granted both organizations’ motions for a preliminary injunction and then ultimately found for them after a trial, holding that the organizations and their donors were entitled to First Amendment protection under the principles established in the Supreme Court’s decision in NAACP v. Alabama. In so holding, the court reasoned that the government’s filing demands were not the “least restrictive means” of obtaining the information and thus did not satisfy “strict scrutiny.” A panel of the you.S. Court of Appeals for the Ninth Circuit reversed, based on its conclusion that “exacting scrutiny” rather than “strict scrutiny” was the appropriate standard, and “exacting scrutiny” requires that the government show that the disclosure and reporting requirements are justified by a compelling government interest and that the legislation is narrowly tailored to serve that interest. The Ninth Circuit denied the petition for a rehearing en banc.\"\"\")\n",
    "print(f'Expecting 1 but got {out}')"
   ]
  },
  {
   "cell_type": "code",
   "execution_count": 25,
   "id": "30007007-4659-4952-b482-b8b63fe9443a",
   "metadata": {},
   "outputs": [
    {
     "name": "stdout",
     "output_type": "stream",
     "text": [
      "Expecting 0 but got 1\n"
     ]
    }
   ],
   "source": [
    "out = predict('Max', 'University of Washington Law School', \"\"\"Max was denied admission to the University of Washington Law School despite test scores that were higher than some of the minorities admitted. Max then successfully asked a trial court to require the school to admit him. On appeal, the Washington Supreme Court reversed, upholding the school's decision to deny Max admission. The you.S. Supreme Court considered the case as Max was entering his final year of school.\"\"\")\n",
    "print(f'Expecting 0 but got {out}')"
   ]
  },
  {
   "cell_type": "markdown",
   "id": "db4b5d71-f79d-4065-8bf0-3b89b38f70a5",
   "metadata": {},
   "source": [
    "## Conclusion\n",
    "\n",
    "- Recall이 너무 딸림...\n",
    "- 논문과 좀 다른 결과 나옴"
   ]
  },
  {
   "cell_type": "code",
   "execution_count": null,
   "id": "72d21a4d-0d9e-451d-8678-e2b518a74089",
   "metadata": {
    "editable": true,
    "slideshow": {
     "slide_type": ""
    },
    "tags": []
   },
   "outputs": [],
   "source": []
  }
 ],
 "metadata": {
  "kernelspec": {
   "display_name": "Python 3.9 (fastbook)",
   "language": "python",
   "name": "fastbook"
  },
  "language_info": {
   "codemirror_mode": {
    "name": "ipython",
    "version": 3
   },
   "file_extension": ".py",
   "mimetype": "text/x-python",
   "name": "python",
   "nbconvert_exporter": "python",
   "pygments_lexer": "ipython3",
   "version": "3.9.16"
  }
 },
 "nbformat": 4,
 "nbformat_minor": 5
}
