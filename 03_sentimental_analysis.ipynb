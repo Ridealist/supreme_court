{
 "cells": [
  {
   "cell_type": "markdown",
   "id": "25b8f448-8a02-4500-aaf4-40c383d866af",
   "metadata": {},
   "source": [
    "# Sentimental_Analysis + LJP ??"
   ]
  },
  {
   "cell_type": "markdown",
   "id": "3151d48f-aacd-42a2-9c86-bfa0acc9b458",
   "metadata": {},
   "source": [
    "## Idea\n",
    "\n",
    "- facts에 대한 긍정 / 부정 감정도를 조사하면 target 값에 유의미한 연관성이 있지 않을까?"
   ]
  },
  {
   "cell_type": "code",
   "execution_count": 12,
   "id": "4e7664fe-e18d-4170-9af8-90f56515be01",
   "metadata": {},
   "outputs": [],
   "source": [
    "import pandas as pd\n",
    "import numpy as np"
   ]
  },
  {
   "cell_type": "code",
   "execution_count": 13,
   "id": "8f0023ae-d504-4ee3-a1c5-f1df058e3e52",
   "metadata": {},
   "outputs": [],
   "source": [
    "import os\n",
    "from pathlib import Path\n",
    "\n",
    "path = Path(os.getcwd() + '/datasets')"
   ]
  },
  {
   "cell_type": "code",
   "execution_count": 14,
   "id": "5d8a1194-8ea1-4860-b21f-babde8004d3d",
   "metadata": {},
   "outputs": [],
   "source": [
    "train = pd.read_csv(path / 'train.csv')\n",
    "test = pd.read_csv(path / 'test.csv')\n",
    "submission = pd.read_csv(path / 'sample_submission.csv')"
   ]
  },
  {
   "cell_type": "markdown",
   "id": "02c3faa6-24b6-46da-8037-521fa72f2d8c",
   "metadata": {},
   "source": [
    "## Data Overview"
   ]
  },
  {
   "cell_type": "code",
   "execution_count": 22,
   "id": "42966b15-791f-45c7-9009-b1b258182d8f",
   "metadata": {
    "editable": true,
    "slideshow": {
     "slide_type": ""
    },
    "tags": []
   },
   "outputs": [
    {
     "data": {
      "text/html": [
       "<div>\n",
       "<style scoped>\n",
       "    .dataframe tbody tr th:only-of-type {\n",
       "        vertical-align: middle;\n",
       "    }\n",
       "\n",
       "    .dataframe tbody tr th {\n",
       "        vertical-align: top;\n",
       "    }\n",
       "\n",
       "    .dataframe thead th {\n",
       "        text-align: right;\n",
       "    }\n",
       "</style>\n",
       "<table border=\"1\" class=\"dataframe\">\n",
       "  <thead>\n",
       "    <tr style=\"text-align: right;\">\n",
       "      <th></th>\n",
       "      <th>ID</th>\n",
       "      <th>first_party</th>\n",
       "      <th>second_party</th>\n",
       "      <th>facts</th>\n",
       "      <th>first_party_winner</th>\n",
       "    </tr>\n",
       "  </thead>\n",
       "  <tbody>\n",
       "    <tr>\n",
       "      <th>0</th>\n",
       "      <td>TRAIN_0000</td>\n",
       "      <td>Phil A. St. Amant</td>\n",
       "      <td>Herman A. Thompson</td>\n",
       "      <td>On June 27, 1962, Phil St. Amant, a candidate for public office, made a television speech in Baton Rouge, Louisiana.  During this speech, St. Amant accused his political opponent of being a Communist and of being involved in criminal activities with the head of the local Teamsters Union.  Finally, St. Amant implicated Herman Thompson, an East Baton Rouge deputy sheriff, in a scheme to move money between the Teamsters Union and St. Amant’s political opponent. \\nThompson successfully sued St. Amant for defamation.  Louisiana’s First Circuit Court of Appeals reversed, holding that Thompson did not show St. Amant acted with “malice.”  Thompson then appealed to the Supreme Court of Louisiana.  That court held that, although public figures forfeit some of their First Amendment protection from defamation, St. Amant accused Thompson of a crime with utter disregard of whether the remarks were true.  Finally, that court held that the First Amendment protects uninhibited, robust debate, rather than an open season to shoot down the good name of anyone who happens to be a public servant. \\n</td>\n",
       "      <td>1</td>\n",
       "    </tr>\n",
       "    <tr>\n",
       "      <th>1</th>\n",
       "      <td>TRAIN_0001</td>\n",
       "      <td>Stephen Duncan</td>\n",
       "      <td>Lawrence Owens</td>\n",
       "      <td>Ramon Nelson was riding his bike when he suffered a lethal blow to the back of his head with a baseball bat. After two eyewitnesses identified Lawrence Owens from an array of photos and then a lineup, he was tried and convicted for Nelson’s death. Because Nelson was carrying cocaine and crack cocaine potentially for distribution, the judge at Owens’ bench trial ruled that Owens was probably also a drug dealer and was trying to “knock [Nelson] off.” Owens was found guilty of first-degree murder and sentenced to 25 years in prison.\\nOwens filed a petition for a writ of habeas corpus on the grounds that his constitutional right to due process was violated during the trial. He argued that the eyewitness identification should have been inadmissible based on unreliability and that the judge impermissibly inferred a motive when a motive was not an element of the offense. The district court denied the writ of habeas corpus, and Owens appealed. The U.S. Court of Appeals for the Seventh Circuit reversed the denial and held that the trial judge’s inference about Owens’s motive violated his right to have his guilt adjudicated solely based on the evidence presented at trial.\\n</td>\n",
       "      <td>0</td>\n",
       "    </tr>\n",
       "    <tr>\n",
       "      <th>2</th>\n",
       "      <td>TRAIN_0002</td>\n",
       "      <td>Billy Joe Magwood</td>\n",
       "      <td>Tony Patterson, Warden, et al.</td>\n",
       "      <td>An Alabama state court convicted Billy Joe Magwood of murder and sentenced him to death. Subsequently, an Alabama federal district court partially granted Mr. Magwood's petition for federal habeas corpus relief. The court upheld his conviction but instructed the state court to look at mitigating evidence when resentencing Mr. Magwood. Upon resentencing, the state court sentenced Mr. Magwood to death once again. Mr. Magwood filed a second petition for federal habeas corpus relief with the federal district court arguing that a judicial rule was retroactively applied in his case and that he lacked effective counsel at sentencing. The district court granted the petition and vacated Mr. Magwood's death sentence.\\nOn appeal, the U.S. Court of Appeals for the Eleventh circuit reversed, holding that prisoners may not raise challenges to an original sentence that could have been raised in an earlier petition. The court also held that Mr. Magwood's counsel was not ineffective because he failed to raise an argument that had already been decided by the state's highest court adverse to his client's position.\\n</td>\n",
       "      <td>1</td>\n",
       "    </tr>\n",
       "    <tr>\n",
       "      <th>3</th>\n",
       "      <td>TRAIN_0003</td>\n",
       "      <td>Linkletter</td>\n",
       "      <td>Walker</td>\n",
       "      <td>Victor Linkletter was convicted in state court on evidence illegally obtained by police prior to the Supreme Court decision concerning the Fourth Amendment in Mapp v. Ohio. Mapp applied the exclusionary rule to state criminal proceedings, denying the use of illegally obtained evidence at trial. Linkletter argued for a retrial based on the Mapp decision.\\n</td>\n",
       "      <td>0</td>\n",
       "    </tr>\n",
       "    <tr>\n",
       "      <th>4</th>\n",
       "      <td>TRAIN_0004</td>\n",
       "      <td>William Earl Fikes</td>\n",
       "      <td>Alabama</td>\n",
       "      <td>On April 24, 1953 in Selma, Alabama, an intruder broke into the apartment of the daughter of the city mayor. The daughter and the intruder struggled through several rooms until she was able to seize his knife, and he fled. The assailant had a towel over his head, so the victim could not identify the defendant during the trial. The police apprehended William Earl Fikes on the basis of a call from a private citizen and held him “on an open charge of investigation.” The police questioned Fikes for hours, placed him in jail, and limited his access to anyone familiar. After nearly a week of this treatment, Fikes confessed in the form of answers to the interrogator’s leading questions. Five days later, Fikes confessed under questioning a second time. When these confessions were admitted into the trial as evidence, Fikes did not testify regarding the events surrounding his interrogation because the judge had ruled he would be subjected to unlimited cross-examination. The jury convicted Fikes and sentenced him to death. The Supreme Court of Alabama affirmed.\\n</td>\n",
       "      <td>1</td>\n",
       "    </tr>\n",
       "  </tbody>\n",
       "</table>\n",
       "</div>"
      ],
      "text/plain": [
       "           ID         first_party                    second_party  \\\n",
       "0  TRAIN_0000   Phil A. St. Amant              Herman A. Thompson   \n",
       "1  TRAIN_0001      Stephen Duncan                  Lawrence Owens   \n",
       "2  TRAIN_0002   Billy Joe Magwood  Tony Patterson, Warden, et al.   \n",
       "3  TRAIN_0003          Linkletter                          Walker   \n",
       "4  TRAIN_0004  William Earl Fikes                         Alabama   \n",
       "\n",
       "                                                                                                                                                                                                                                                                                                                                                                                                                                                                                                                                                                                                                                                                                                                                                                                                                                                                                                                                                                                                                                                                                                                                                                                                                            facts  \\\n",
       "0                                                                                          On June 27, 1962, Phil St. Amant, a candidate for public office, made a television speech in Baton Rouge, Louisiana.  During this speech, St. Amant accused his political opponent of being a Communist and of being involved in criminal activities with the head of the local Teamsters Union.  Finally, St. Amant implicated Herman Thompson, an East Baton Rouge deputy sheriff, in a scheme to move money between the Teamsters Union and St. Amant’s political opponent. \\nThompson successfully sued St. Amant for defamation.  Louisiana’s First Circuit Court of Appeals reversed, holding that Thompson did not show St. Amant acted with “malice.”  Thompson then appealed to the Supreme Court of Louisiana.  That court held that, although public figures forfeit some of their First Amendment protection from defamation, St. Amant accused Thompson of a crime with utter disregard of whether the remarks were true.  Finally, that court held that the First Amendment protects uninhibited, robust debate, rather than an open season to shoot down the good name of anyone who happens to be a public servant. \\n   \n",
       "1  Ramon Nelson was riding his bike when he suffered a lethal blow to the back of his head with a baseball bat. After two eyewitnesses identified Lawrence Owens from an array of photos and then a lineup, he was tried and convicted for Nelson’s death. Because Nelson was carrying cocaine and crack cocaine potentially for distribution, the judge at Owens’ bench trial ruled that Owens was probably also a drug dealer and was trying to “knock [Nelson] off.” Owens was found guilty of first-degree murder and sentenced to 25 years in prison.\\nOwens filed a petition for a writ of habeas corpus on the grounds that his constitutional right to due process was violated during the trial. He argued that the eyewitness identification should have been inadmissible based on unreliability and that the judge impermissibly inferred a motive when a motive was not an element of the offense. The district court denied the writ of habeas corpus, and Owens appealed. The U.S. Court of Appeals for the Seventh Circuit reversed the denial and held that the trial judge’s inference about Owens’s motive violated his right to have his guilt adjudicated solely based on the evidence presented at trial.\\n   \n",
       "2                                                                      An Alabama state court convicted Billy Joe Magwood of murder and sentenced him to death. Subsequently, an Alabama federal district court partially granted Mr. Magwood's petition for federal habeas corpus relief. The court upheld his conviction but instructed the state court to look at mitigating evidence when resentencing Mr. Magwood. Upon resentencing, the state court sentenced Mr. Magwood to death once again. Mr. Magwood filed a second petition for federal habeas corpus relief with the federal district court arguing that a judicial rule was retroactively applied in his case and that he lacked effective counsel at sentencing. The district court granted the petition and vacated Mr. Magwood's death sentence.\\nOn appeal, the U.S. Court of Appeals for the Eleventh circuit reversed, holding that prisoners may not raise challenges to an original sentence that could have been raised in an earlier petition. The court also held that Mr. Magwood's counsel was not ineffective because he failed to raise an argument that had already been decided by the state's highest court adverse to his client's position.\\n   \n",
       "3                                                                                                                                                                                                                                                                                                                                                                                                                                                                                                                                                                                                                                                                                                                                                                                                                                                           Victor Linkletter was convicted in state court on evidence illegally obtained by police prior to the Supreme Court decision concerning the Fourth Amendment in Mapp v. Ohio. Mapp applied the exclusionary rule to state criminal proceedings, denying the use of illegally obtained evidence at trial. Linkletter argued for a retrial based on the Mapp decision.\\n   \n",
       "4                                                                                                                    On April 24, 1953 in Selma, Alabama, an intruder broke into the apartment of the daughter of the city mayor. The daughter and the intruder struggled through several rooms until she was able to seize his knife, and he fled. The assailant had a towel over his head, so the victim could not identify the defendant during the trial. The police apprehended William Earl Fikes on the basis of a call from a private citizen and held him “on an open charge of investigation.” The police questioned Fikes for hours, placed him in jail, and limited his access to anyone familiar. After nearly a week of this treatment, Fikes confessed in the form of answers to the interrogator’s leading questions. Five days later, Fikes confessed under questioning a second time. When these confessions were admitted into the trial as evidence, Fikes did not testify regarding the events surrounding his interrogation because the judge had ruled he would be subjected to unlimited cross-examination. The jury convicted Fikes and sentenced him to death. The Supreme Court of Alabama affirmed.\\n   \n",
       "\n",
       "   first_party_winner  \n",
       "0                   1  \n",
       "1                   0  \n",
       "2                   1  \n",
       "3                   0  \n",
       "4                   1  "
      ]
     },
     "execution_count": 22,
     "metadata": {},
     "output_type": "execute_result"
    }
   ],
   "source": [
    "pd.set_option('display.max_colwidth', None)\n",
    "train.head(5)"
   ]
  },
  {
   "cell_type": "markdown",
   "id": "49ddf2c5-5761-4865-ab3e-87e1f2f46fc1",
   "metadata": {
    "editable": true,
    "slideshow": {
     "slide_type": ""
    },
    "tags": []
   },
   "source": [
    "## facts : en->ko 번역하여 내용 확인"
   ]
  },
  {
   "cell_type": "code",
   "execution_count": 15,
   "id": "bb6dc29e-b872-44f4-a706-ad5e154042ba",
   "metadata": {},
   "outputs": [],
   "source": [
    "from googletrans import Translator\n",
    "translator = Translator()\n",
    "translator = Translator(service_urls=['translate.googleapis.com'])\n",
    "res = translator.translate('안녕하세요.', dest='en');"
   ]
  },
  {
   "cell_type": "code",
   "execution_count": 16,
   "id": "642e0e21-401f-4441-ab1e-e9d63e8e232b",
   "metadata": {},
   "outputs": [
    {
     "name": "stdout",
     "output_type": "stream",
     "text": [
      "hello.\n"
     ]
    }
   ],
   "source": [
    "print(res.text)"
   ]
  },
  {
   "cell_type": "code",
   "execution_count": 17,
   "id": "9bbabbb3-ea94-423c-9868-1cda9fc43aa3",
   "metadata": {},
   "outputs": [
    {
     "data": {
      "text/plain": [
       "1    1649\n",
       "0     829\n",
       "Name: first_party_winner, dtype: int64"
      ]
     },
     "execution_count": 17,
     "metadata": {},
     "output_type": "execute_result"
    }
   ],
   "source": [
    "train['first_party_winner'].value_counts()"
   ]
  },
  {
   "cell_type": "code",
   "execution_count": 18,
   "id": "eefb46fa-82b1-4528-8843-f288f2887efc",
   "metadata": {},
   "outputs": [
    {
     "data": {
      "text/plain": [
       "(2478, 5)"
      ]
     },
     "execution_count": 18,
     "metadata": {},
     "output_type": "execute_result"
    }
   ],
   "source": [
    "train.shape"
   ]
  },
  {
   "cell_type": "code",
   "execution_count": 19,
   "id": "beaf5b17-87b5-43f1-802c-403f06ec7398",
   "metadata": {},
   "outputs": [
    {
     "name": "stdout",
     "output_type": "stream",
     "text": [
      "1962년 6월 27일, 공직 후보인 Phil St. Amant는 루이지애나주 배턴루지에서 텔레비전 연설을 했습니다. 이 연설에서 St. Amant는 그의 정적이 공산주의자이며 지역 Teamsters Union의 수장과 함께 범죄 활동에 연루되어 있다고 비난했습니다. 마지막으로 St. Amant는 East Baton Rouge 부 보안관인 Herman Thompson을 Teamsters Union과 St. Amant의 정적 사이에서 자금을 이동시키려는 계획에 연루시켰습니다.\n",
      "Thompson은 명예 훼손으로 St. Amant를 성공적으로 고소했습니다. 루이지애나의 제1 순회 항소 법원은 Thompson이 St. Amant가 \"악의\"로 행동했음을 보여주지 않았다고 주장하며 뒤집었습니다. 그런 다음 Thompson은 루이지애나 대법원에 항소했습니다. 그 법원은 공인들이 명예 훼손에 대한 수정헌법 제1조의 일부 보호를 박탈당했지만 St. Amant는 발언이 사실인지 여부를 완전히 무시하고 Thompson을 범죄로 고발했다고 판결했습니다. 마지막으로, 그 법원은 수정헌법 제1조가 우연히 공무원이 된 사람의 명예를 깎아내리기 위한 공개적인 시즌보다는 자유롭고 활발한 토론을 보호한다고 판결했습니다.\n",
      "--------------------------------------------------\n",
      "Ramon Nelson은 자전거를 타고 가다가 야구 방망이로 머리 뒤쪽을 치명상을 입었습니다. 두 명의 목격자가 일련의 사진과 라인업에서 Lawrence Owens를 확인한 후 그는 Nelson의 죽음으로 재판을 받고 유죄 판결을 받았습니다. Nelson은 유통 가능성이 있는 코카인과 크랙 코카인을 소지하고 있었기 때문에 Owens의 벤치 재판에서 판사는 Owens가 마약상이기도 했으며 \"[Nelson]을 노크\"하려 했다고 판결했습니다. Owens는 1급 살인죄로 유죄 판결을 받고 25년형을 선고 받았습니다.\n",
      "Owens는 재판 중에 적법 절차에 대한 헌법상의 권리가 침해되었다는 이유로 인신 보호 영장을 청원했습니다. 그는 목격자 신원 확인은 신뢰할 수 없기 때문에 허용할 수 없었어야 했으며, 동기가 범죄의 요소가 아닌 경우 판사가 허용할 수 없게 동기를 추론했다고 주장했습니다. 지방 법원은 인신 보호 영장을 기각했고 Owens는 항소했습니다. 미국 제7순회항소법원은 기각 판결을 뒤집고 Owens의 동기에 대한 1심 판사의 추론이 재판에서 제시된 증거만을 근거로 유죄 판결을 받을 그의 권리를 침해했다고 판결했습니다.\n",
      "--------------------------------------------------\n",
      "앨라배마 주 법원은 Billy Joe Magwood에게 살인죄를 선고하고 사형을 선고했습니다. 그 후, 앨라배마 연방 지방 법원은 연방 인신 보호 영장 구제에 대한 Mr. Magwood의 청원을 부분적으로 승인했습니다. 법원은 그의 유죄 판결을 지지했지만 매그우드 씨를 재선고할 때 감경 증거를 살펴보라고 주 법원에 지시했습니다. 재선고 후 주 법원은 Magwood 씨에게 다시 한 번 사형을 선고했습니다. Magwood 씨는 자신의 사건에 사법 규칙이 소급 적용되었으며 선고 시 효과적인 변호인이 부족하다고 주장하며 연방 지방 법원에 연방 인신 보호 영장 구제를 위한 두 번째 청원서를 제출했습니다. 지방 법원은 청원을 승인하고 Magwood 씨의 사형 선고를 취소했습니다.\n",
      "항소심에서 미국 제11순회항소법원은 수감자들이 이전 청원에서 제기할 수 있었던 원래 형량에 대해 이의를 제기할 수 없다고 판결하면서 파기했습니다. 법원은 또한 Mr. Magwood의 변호인이 의뢰인의 입장에 불리하게 이미 주 최고 법원에서 결정한 주장을 제기하지 않았기 때문에 무효가 아니라고 판결했습니다.\n",
      "--------------------------------------------------\n",
      "Victor Linkletter는 Mapp 대 오하이오 사건의 제4차 수정안에 관한 대법원 결정 이전에 경찰이 불법적으로 입수한 증거로 주 법원에서 유죄 판결을 받았습니다. Mapp은 배타적 규칙을 국가 형사 절차에 적용하여 재판에서 불법적으로 얻은 증거의 사용을 거부했습니다. Linkletter는 Mapp 판결에 따라 재심을 주장했습니다.\n",
      "--------------------------------------------------\n",
      "1953년 4월 24일 앨라배마 주 셀마에서 시장의 딸의 아파트에 침입자가 침입했습니다. 딸과 침입자는 그녀가 그의 칼을 잡을 수 있을 때까지 여러 방을 헤쳐나갔고 그는 도망쳤습니다. 가해자는 머리에 수건을 두르고 있어 피해자가 재판 중에 피고인을 확인할 수 없었다. 경찰은 한 시민의 전화를 기반으로 William Earl Fikes를 체포하고 그를 \"공개 수사 혐의\"로 구금했습니다. 경찰은 파이크스를 몇 시간 동안 심문하고 그를 감옥에 가두었으며 아는 사람에게 접근을 제한했습니다. 거의 일주일 동안 이러한 치료를 받은 후 Fikes는 심문관의 주요 질문에 대한 답변의 형태로 자백했습니다. 5일 후 파이크스는 두 번째 심문을 받고 자백했다. 이러한 자백이 증거로 재판에 채택되었을 때 Fikes는 판사가 무제한 교차 심문을 받게 될 것이라고 판결했기 때문에 그의 심문을 둘러싼 사건에 대해 증언하지 않았습니다. 배심원단은 Fikes에게 유죄 판결을 내리고 사형을 선고했습니다. 앨라배마 주 대법원은 이를 확인했습니다.\n",
      "--------------------------------------------------\n"
     ]
    }
   ],
   "source": [
    "for i in range(5):\n",
    "    text = train.iloc[i]['facts']\n",
    "    res = translator.translate(text, dest='ko');\n",
    "    print(res.text)\n",
    "    print(\"-\"*50)"
   ]
  },
  {
   "cell_type": "markdown",
   "id": "a1ca4dfc-8cc7-4897-9b30-186f7b68d199",
   "metadata": {},
   "source": [
    "## 감정분석 NN 학습시키기"
   ]
  },
  {
   "cell_type": "markdown",
   "id": "480f07cb-ddf7-4ac3-b395-0a77cd73cf73",
   "metadata": {},
   "source": [
    "### imdb 데이터 로드"
   ]
  },
  {
   "cell_type": "code",
   "execution_count": 8,
   "id": "e28c0342-62b3-42cb-a7bf-c2ddc47453fe",
   "metadata": {},
   "outputs": [],
   "source": [
    "import numpy as np\n",
    "import matplotlib.pyplot as plt\n",
    "from tensorflow.keras.datasets import imdb"
   ]
  },
  {
   "cell_type": "code",
   "execution_count": 9,
   "id": "ac5c63e1-00b9-479c-a368-a033f9b3fe7c",
   "metadata": {},
   "outputs": [
    {
     "name": "stdout",
     "output_type": "stream",
     "text": [
      "훈련용 리뷰 개수 : 25000\n",
      "테스트용 리뷰 개수 : 25000\n",
      "카테고리 : 2\n"
     ]
    }
   ],
   "source": [
    "(X_train, y_train), (X_test, y_test) = imdb.load_data()\n",
    "\n",
    "print('훈련용 리뷰 개수 : {}'.format(len(X_train)))\n",
    "print('테스트용 리뷰 개수 : {}'.format(len(X_test)))\n",
    "num_classes = len(set(y_train))\n",
    "print('카테고리 : {}'.format(num_classes))"
   ]
  },
  {
   "cell_type": "code",
   "execution_count": 10,
   "id": "7a09b9db-43a8-4ad1-8b13-1c6eec3ebb6c",
   "metadata": {},
   "outputs": [
    {
     "name": "stdout",
     "output_type": "stream",
     "text": [
      "첫번째 훈련용 리뷰 : [1, 14, 22, 16, 43, 530, 973, 1622, 1385, 65, 458, 4468, 66, 3941, 4, 173, 36, 256, 5, 25, 100, 43, 838, 112, 50, 670, 22665, 9, 35, 480, 284, 5, 150, 4, 172, 112, 167, 21631, 336, 385, 39, 4, 172, 4536, 1111, 17, 546, 38, 13, 447, 4, 192, 50, 16, 6, 147, 2025, 19, 14, 22, 4, 1920, 4613, 469, 4, 22, 71, 87, 12, 16, 43, 530, 38, 76, 15, 13, 1247, 4, 22, 17, 515, 17, 12, 16, 626, 18, 19193, 5, 62, 386, 12, 8, 316, 8, 106, 5, 4, 2223, 5244, 16, 480, 66, 3785, 33, 4, 130, 12, 16, 38, 619, 5, 25, 124, 51, 36, 135, 48, 25, 1415, 33, 6, 22, 12, 215, 28, 77, 52, 5, 14, 407, 16, 82, 10311, 8, 4, 107, 117, 5952, 15, 256, 4, 31050, 7, 3766, 5, 723, 36, 71, 43, 530, 476, 26, 400, 317, 46, 7, 4, 12118, 1029, 13, 104, 88, 4, 381, 15, 297, 98, 32, 2071, 56, 26, 141, 6, 194, 7486, 18, 4, 226, 22, 21, 134, 476, 26, 480, 5, 144, 30, 5535, 18, 51, 36, 28, 224, 92, 25, 104, 4, 226, 65, 16, 38, 1334, 88, 12, 16, 283, 5, 16, 4472, 113, 103, 32, 15, 16, 5345, 19, 178, 32]\n",
      "첫번째 훈련용 리뷰의 레이블 : 1\n"
     ]
    }
   ],
   "source": [
    "print('첫번째 훈련용 리뷰 :',X_train[0])\n",
    "print('첫번째 훈련용 리뷰의 레이블 :',y_train[0])"
   ]
  },
  {
   "cell_type": "markdown",
   "id": "090b058a-ab9d-412b-8f9e-f58c9694b171",
   "metadata": {},
   "source": [
    "### 감정 분석 Modeling"
   ]
  },
  {
   "cell_type": "code",
   "execution_count": 7,
   "id": "a552bd41-a7ce-4126-ad33-bc49ce3e9d42",
   "metadata": {},
   "outputs": [],
   "source": [
    "import re\n",
    "from tensorflow.keras.datasets import imdb\n",
    "from tensorflow.keras.preprocessing.sequence import pad_sequences\n",
    "from tensorflow.keras.models import Sequential\n",
    "from tensorflow.keras.layers import Dense, GRU, Embedding\n",
    "from tensorflow.keras.callbacks import EarlyStopping, ModelCheckpoint\n",
    "from tensorflow.keras.models import load_model\n",
    "\n",
    "vocab_size = 10000\n",
    "max_len = 500\n",
    "\n",
    "(X_train, y_train), (X_test, y_test) = imdb.load_data(num_words=vocab_size)\n",
    "\n",
    "X_train = pad_sequences(X_train, maxlen=max_len)\n",
    "X_test = pad_sequences(X_test, maxlen=max_len)"
   ]
  },
  {
   "cell_type": "code",
   "execution_count": 5,
   "id": "d71d34e6-2e87-4e11-a52c-cbd67bc728a4",
   "metadata": {},
   "outputs": [],
   "source": [
    "### 너무 느려서 유료 GPU 서버에서 학습시킴 -> 모델 export 해옴\n",
    "\n",
    "\n",
    "# embedding_dim = 100\n",
    "# hidden_units = 128\n",
    "\n",
    "# model = Sequential()\n",
    "# model.add(Embedding(vocab_size, embedding_dim))\n",
    "# model.add(GRU(hidden_units))\n",
    "# model.add(Dense(1, activation='sigmoid'))\n",
    "\n",
    "# es = EarlyStopping(monitor='val_loss', mode='min', verbose=1, patience=4)\n",
    "# mc = ModelCheckpoint('GRU_model.h5', monitor='val_acc', mode='max', verbose=1, save_best_only=True)\n",
    "\n",
    "# model.compile(optimizer='rmsprop', loss='binary_crossentropy', metrics=['acc'])\n",
    "# history = model.fit(X_train, y_train, epochs=15, callbacks=[es, mc], batch_size=64, validation_split=0.2)"
   ]
  },
  {
   "cell_type": "code",
   "execution_count": 8,
   "id": "b69fb04a-e690-48d0-a502-4962fc924b8b",
   "metadata": {},
   "outputs": [
    {
     "name": "stdout",
     "output_type": "stream",
     "text": [
      "Metal device set to: Apple M1 Pro\n"
     ]
    },
    {
     "name": "stderr",
     "output_type": "stream",
     "text": [
      "2023-06-19 18:55:49.873058: I tensorflow/core/common_runtime/pluggable_device/pluggable_device_factory.cc:305] Could not identify NUMA node of platform GPU ID 0, defaulting to 0. Your kernel may not have been built with NUMA support.\n",
      "2023-06-19 18:55:49.873732: I tensorflow/core/common_runtime/pluggable_device/pluggable_device_factory.cc:271] Created TensorFlow device (/job:localhost/replica:0/task:0/device:GPU:0 with 0 MB memory) -> physical PluggableDevice (device: 0, name: METAL, pci bus id: <undefined>)\n",
      "2023-06-19 18:55:51.805483: W tensorflow/core/platform/profile_utils/cpu_utils.cc:128] Failed to get CPU frequency: 0 Hz\n",
      "2023-06-19 18:55:51.948914: I tensorflow/core/grappler/optimizers/custom_graph_optimizer_registry.cc:113] Plugin optimizer for device_type GPU is enabled.\n",
      "2023-06-19 18:55:52.008251: I tensorflow/core/grappler/optimizers/custom_graph_optimizer_registry.cc:113] Plugin optimizer for device_type GPU is enabled.\n"
     ]
    },
    {
     "name": "stdout",
     "output_type": "stream",
     "text": [
      "782/782 [==============================] - 54s 66ms/step - loss: 0.4372 - acc: 0.8179\n",
      "\n",
      " 테스트 정확도: 0.8179\n"
     ]
    }
   ],
   "source": [
    "loaded_model = load_model( './gru_model')\n",
    "print(\"\\n 테스트 정확도: %.4f\" % (loaded_model.evaluate(X_test, y_test)[1]))"
   ]
  },
  {
   "cell_type": "code",
   "execution_count": 9,
   "id": "87574934-1997-404c-a8e7-b1bf0dad7b17",
   "metadata": {},
   "outputs": [],
   "source": [
    "word_to_index = imdb.get_word_index()\n",
    "index_to_word = {}\n",
    "for key, value in word_to_index.items():\n",
    "    index_to_word[value+3] = key"
   ]
  },
  {
   "cell_type": "code",
   "execution_count": 25,
   "id": "5171d26c-8b14-4bf6-aa6f-7ae73b8e3b61",
   "metadata": {},
   "outputs": [],
   "source": [
    "def sentiment_predict(new_sentence):\n",
    "  # 알파벳과 숫자를 제외하고 모두 제거 및 알파벳 소문자화\n",
    "    new_sentence = re.sub('[^0-9a-zA-Z ]', '', new_sentence).lower()\n",
    "    encoded = []\n",
    "\n",
    "    # 띄어쓰기 단위 토큰화 후 정수 인코딩\n",
    "    for word in new_sentence.split():\n",
    "        try:\n",
    "          # 단어 집합의 크기를 10,000으로 제한.\n",
    "            if word_to_index[word] <= 10000:\n",
    "                encoded.append(word_to_index[word]+3)\n",
    "            else:\n",
    "                # 10,000 이상의 숫자는 <unk> 토큰으로 변환.encoded.append(2)\n",
    "                encoded.append(2)\n",
    "        # 단어 집합에 없는 단어는 <unk> 토큰으로 변환.\n",
    "        except KeyError:\n",
    "            encoded.append(2)\n",
    "\n",
    "    pad_sequence = pad_sequences([encoded], maxlen=max_len)\n",
    "    score = float(loaded_model.predict(pad_sequence)) # 예측\n",
    "    \n",
    "    if(score > 0.5):\n",
    "        return 'pos'\n",
    "    else:\n",
    "        return 'neg'"
   ]
  },
  {
   "cell_type": "code",
   "execution_count": 26,
   "id": "49166082-5c4e-4a90-968a-d5922ed4e692",
   "metadata": {},
   "outputs": [
    {
     "name": "stdout",
     "output_type": "stream",
     "text": [
      "1/1 [==============================] - 0s 108ms/step\n",
      "1/1 [==============================] - 0s 68ms/step\n",
      "1/1 [==============================] - 0s 62ms/step\n",
      "1/1 [==============================] - 0s 68ms/step\n",
      "1/1 [==============================] - 0s 63ms/step\n",
      "1/1 [==============================] - 0s 65ms/step\n",
      "1/1 [==============================] - 0s 63ms/step\n",
      "1/1 [==============================] - 0s 62ms/step\n",
      "1/1 [==============================] - 0s 62ms/step\n",
      "1/1 [==============================] - 0s 62ms/step\n"
     ]
    }
   ],
   "source": [
    "s = train.sample(10)\n",
    "\n",
    "s['fact_kor'] = s['facts'].apply(lambda x: translator.translate(x, dest='ko').text)\n",
    "s['sentiment_score'] = s['facts'].apply(lambda x: sentiment_predict(x))"
   ]
  },
  {
   "cell_type": "code",
   "execution_count": 28,
   "id": "e078fd7d-49db-4c0e-ab33-fdeaf5b16099",
   "metadata": {
    "editable": true,
    "slideshow": {
     "slide_type": ""
    },
    "tags": []
   },
   "outputs": [
    {
     "data": {
      "text/html": [
       "<div>\n",
       "<style scoped>\n",
       "    .dataframe tbody tr th:only-of-type {\n",
       "        vertical-align: middle;\n",
       "    }\n",
       "\n",
       "    .dataframe tbody tr th {\n",
       "        vertical-align: top;\n",
       "    }\n",
       "\n",
       "    .dataframe thead th {\n",
       "        text-align: right;\n",
       "    }\n",
       "</style>\n",
       "<table border=\"1\" class=\"dataframe\">\n",
       "  <thead>\n",
       "    <tr style=\"text-align: right;\">\n",
       "      <th></th>\n",
       "      <th>ID</th>\n",
       "      <th>first_party</th>\n",
       "      <th>second_party</th>\n",
       "      <th>facts</th>\n",
       "      <th>first_party_winner</th>\n",
       "      <th>fact_kor</th>\n",
       "      <th>sentiment_score</th>\n",
       "    </tr>\n",
       "  </thead>\n",
       "  <tbody>\n",
       "    <tr>\n",
       "      <th>2035</th>\n",
       "      <td>TRAIN_2035</td>\n",
       "      <td>Richardson</td>\n",
       "      <td>United States</td>\n",
       "      <td>A federal criminal statute, 21 U.S.C. section 848(a), proscribes any person from engaging in \"continuing criminal enterprise (CCE),\" which is defined as involving a violation of federal drug statutes where such a violation was part of a \"continuing series of violations.\" Eddie Richardson, who had organized and managed the Chicago street gang called the Undertaker Vice Lords in order to sell drugs, was charge with a CCE violation. At trial, Richardson proposed to instruct the jury that it must unanimously agree not only that he committed some \"continuing series of violations\" but also that the he committed each of the individual \"violations\" necessary to make up that \"continuing series.\" In other words, the proposed instruction would have required the jury to unanimously agree on which three acts constituted the alleged series of violations. The judge rejected Richardson's proposal and, instead, instructed the jurors that they must unanimously agree that the defendant committed at least three federal narcotics offenses, but did not have to agree as to the particular offenses. Subsequently, the jury convicted Richardson. The Court of Appeals upheld the trial judge's jury instruction.\\n</td>\n",
       "      <td>1</td>\n",
       "      <td>연방 형법, 21 U.S.C. 섹션 848(a)는 위반이 \"계속되는 일련의 위반\"의 일부인 연방 마약 법령 위반과 관련된 것으로 정의되는 \"지속적인 범죄 기업(CCE)\"에 관여하는 사람을 금지합니다. 마약을 판매하기 위해 Undertaker Vice Lords라고 불리는 시카고 거리 갱단을 조직하고 관리했던 Eddie Richardson은 CCE 위반 혐의로 기소되었습니다. 재판에서 Richardson은 배심원단에게 자신이 \"계속되는 일련의 위반\"을 저질렀을 뿐만 아니라 \"계속되는 일련의 위반\"을 구성하는 데 필요한 각 개별 \"위반\"을 저질렀다는 데 만장일치로 동의해야 한다고 지시할 것을 제안했습니다. 즉, 제안된 지침은 배심원단이 일련의 위반 혐의를 구성하는 세 가지 행위에 대해 만장일치로 동의하도록 요구했을 것입니다. 판사는 Richardson의 제안을 거부하고 대신 피고가 최소 3건의 연방 마약 범죄를 저질렀다는 데 만장일치로 동의해야 하지만 특정 범죄에 대해서는 동의할 필요가 없다고 배심원들에게 지시했습니다. 그 후 배심원은 Richardson에게 유죄를 선고했습니다. 항소법원은 예심 판사의 배심원단 지시를 지지했다.</td>\n",
       "      <td>pos</td>\n",
       "    </tr>\n",
       "    <tr>\n",
       "      <th>856</th>\n",
       "      <td>TRAIN_0856</td>\n",
       "      <td>Ashbel T. Wall, II, Director of Rhode Island Department of Corrections</td>\n",
       "      <td>Khalil Kholi</td>\n",
       "      <td>In December 1993, a Rhode Island jury convicted Khalil Kholi on 10 counts of first-degree sexual assault. The charges stemmed from the alleged molestation of his two step-daughters. A judge on the state superior court sentenced Kholi to two consecutive terms of life imprisonment, and the state supreme court affirmed the conviction in February 1996. Kholi did not file a federal writ of habeas corpus at that time. Instead, he filed a motion seeking sentence reduction as a form of post-conviction relief, which was denied. Kholi exhausted his procedural options regarding sentence reduction in 2007, at which time he began his appeal for federal writ of habeas corpus, which was well beyond the Antiterrorism and Effective Death Penalty Act's standard one-year limitation on filing. In September 2009, the U.S. Court of Appeals for the First Circuit reversed and remanded the district court's judgment that a petition for leniency is different from an appeal to correct legal errors and therefore does not result in a tolling of the statute of limitations under AEDPA. A circuit split exists on the issue. The First Circuit's decision was in line with a Tenth Circuit ruling on the same issue, but the Third, Fourth and Eleventh Circuits have previously ruled that a petition for leniency does not toll the statute of limitations under AEDPA.\\n</td>\n",
       "      <td>0</td>\n",
       "      <td>1993년 12월 로드 아일랜드 배심원단은 Khalil Kholi를 10건의 1급 성폭행 혐의로 유죄 판결했습니다. 혐의는 그의 두 의붓 딸에 대한 성추행 혐의에서 비롯되었습니다. 주 고등 법원의 판사는 콜리에게 2년 연속 종신형을 선고했고 주 대법원은 1996년 2월 유죄 판결을 확정했습니다. 콜리는 당시 인신 보호 영장을 연방 영장으로 제출하지 않았습니다. 대신 그는 유죄판결 후 구제의 한 형태로 형량 감면을 요청했지만 거부당했습니다. 콜리는 2007년 형량 감형에 관한 절차적 선택권을 모두 소진했으며, 당시 그는 반테러 및 효과적인 사형법의 제출에 대한 표준 1년 제한을 훨씬 넘어서는 인신 보호 영장에 대한 연방 영장에 대한 항소를 시작했습니다. 2009년 9월, 미국 제1순회항소법원은 관용 청원은 법적 오류 수정에 대한 항소와 다르므로 AEDPA에 따른 소멸 시효에 영향을 미치지 않는다는 지방 법원의 판결을 파기하고 환송했습니다. 문제에 회로 분할이 존재합니다. 제1 순회 법원의 결정은 같은 문제에 대한 제10 순회 판결과 일치했지만, 제3, 제4 및 제11 순회 법원은 이전에 관용 청원이 AEDPA에 따른 시효에 영향을 미치지 않는다고 판결했습니다.</td>\n",
       "      <td>pos</td>\n",
       "    </tr>\n",
       "    <tr>\n",
       "      <th>497</th>\n",
       "      <td>TRAIN_0497</td>\n",
       "      <td>Amgen Inc, Kevin W. Sharer, Richard D. Nanula, Roger M. Perlmutter, George J. Morrow</td>\n",
       "      <td>Connecticut Retirement Plans and Trust Funds</td>\n",
       "      <td>Amgen, Inc. is an American pharmaceutical corporation. The Food and Drug Administration (FDA) approved two Amgen products that stimulate production of red blood cells and reduce the need for blood transfusions in anemic patients. Amgen allegedly made misrepresentations to the FDA about the safety of these products. Connecticut Retirement Plans &amp; Trust Funds brought an action against Amgen alleging four counts of misrepresentation. Connecticut Retirement Plans specifically alleged that Amgen misrepresented the nature of several FDA committee meetings to shareholders. It sought to certify a class of persons who purchased Amgen stock between April 22, 2004 and May 10, 2007, the dates when two of the meetings in question occurred. On May 10, 2007, Amgen's stock value dropped by more than nine percent.\\nTo certify a class under Rule 23 of the Federal Rules of Civil Procedure, a plaintiff must show that there are questions of law or fact common to the class, and that these questions predominate over questions affecting only individual members. Amgen opposed the class certification, arguing that the that the misrepresentations did not have any impact on the price of Amgen stock. The district court rejected Amgen's arguments and granted the class certification. The United States Court of Appeals, Ninth Circuit, affirmed, rejecting Amgen's argument that a plaintiff must give proof that the misrepresentations were material at the class certification stage.\\n</td>\n",
       "      <td>0</td>\n",
       "      <td>Amgen, Inc.는 미국 제약 회사입니다. 미국식품의약국(FDA)은 적혈구 생성을 자극하고 빈혈 환자의 수혈 필요성을 줄이는 두 가지 Amgen 제품을 승인했습니다. Amgen은 이러한 제품의 안전성에 대해 FDA에 허위 진술을 한 것으로 알려졌습니다. 코네티컷 은퇴 계획 및 신탁 기금(Connecticut Retirement Plans &amp; Trust Funds)은 4가지 허위 진술을 주장하며 Amgen을 상대로 소송을 제기했습니다. Connecticut Retirement Plans는 특히 Amgen이 여러 FDA 위원회 회의의 성격을 주주들에게 잘못 전달했다고 주장했습니다. 그것은 2004년 4월 22일과 2007년 5월 10일 사이에 Amgen 주식을 구입한 사람들의 클래스를 인증하려고 했습니다. 2007년 5월 10일 암젠의 주식 가치는 9% 이상 하락했습니다.\\n연방 민사 소송 규칙의 규칙 23에 따라 집단을 인증하려면 원고는 집단에 공통적인 법률 또는 사실 문제가 있고 이러한 질문이 개인 구성원에게만 영향을 미치는 질문보다 우세하다는 것을 보여주어야 합니다. 암젠은 허위 진술이 암젠 주가에 영향을 미치지 않았다며 등급 인증에 반대했다. 지방 법원은 Amgen의 주장을 기각하고 집단 인증을 부여했습니다. 미국 항소 법원 제9 순회 법원은 원고가 허위 진술이 집단 인증 단계에서 중요하다는 증거를 제시해야 한다는 Amgen의 주장을 기각하면서 확인했습니다.</td>\n",
       "      <td>pos</td>\n",
       "    </tr>\n",
       "    <tr>\n",
       "      <th>2151</th>\n",
       "      <td>TRAIN_2151</td>\n",
       "      <td>Mcmillian</td>\n",
       "      <td>Monroe County, Alabama</td>\n",
       "      <td>A Monroe County court sentenced Walter McMillian to death for murder. Later evidence, suppressed by Monroe County Sheriff Tom Tate, exonerated McMillian after six years on Alabama's death row. McMillian sued Monroe County, claiming that Tate's actions were unconstitutional. McMillian argued that under 42 U.S.C. Section 1983, a county is liable for the actions of its sheriffs that constitute county policy. A District Court decided that Monroe County was not liable for Tate's actions because the county had no authority over law enforcement.\\nMcMillian appealed, claiming that since the county employed Tate, the county should be liable for Tate. The U.S. Court of Appeals for the Eleventh Circuit ruled in favor of Monroe County. The Eleventh Circuit held that though Tate was employed by Monroe County, he acted under the authority of the state.\\n</td>\n",
       "      <td>0</td>\n",
       "      <td>먼로 카운티 법원은 월터 맥밀리언에게 살인죄로 사형을 선고했습니다. 이후 증거는 먼로 카운티 보안관 톰 테이트(Tom Tate)에 의해 억눌려 앨라배마에서 6년 동안 사형수로 복역한 후 맥밀리언의 면책을 입증했습니다. McMillian은 Tate의 행동이 위헌이라고 주장하면서 Monroe County를 고소했습니다. McMillian은 42 U.S.C. 섹션 1983, 카운티는 카운티 정책을 구성하는 보안관의 조치에 대해 책임을 집니다. 지방 법원은 카운티가 법 집행에 대한 권한이 없기 때문에 먼로 카운티가 Tate의 조치에 대해 책임이 없다고 판결했습니다.\\nMcMillian은 카운티가 Tate를 고용했으므로 카운티가 Tate에 대해 책임을 져야 한다고 주장하며 항소했습니다. 미국 제11순회항소법원은 먼로 카운티에 유리한 판결을 내렸습니다. Eleventh Circuit은 Tate가 Monroe 카운티에 고용되었지만 주의 권위 아래 행동했다고 판결했습니다.</td>\n",
       "      <td>pos</td>\n",
       "    </tr>\n",
       "    <tr>\n",
       "      <th>2322</th>\n",
       "      <td>TRAIN_2322</td>\n",
       "      <td>Edward G. McDonough</td>\n",
       "      <td>Youel Smith</td>\n",
       "      <td>During the 2009 Working Families Party primary election in Troy, New York, several individuals forged signatures and provided false information on absentee ballot applications in an attempt to affect the outcome of the primary. The individuals submitted the forged applications to the commissioner of the Rensselaer County elections board, Edward G. McDonough. McDonough approved the applications but later claimed that he did not know they had been forged.\\nAfter the plot was uncovered, the state court appointed Youel Smith as a special district attorney to lead the investigation and prosecution of those involved. McDonough claimed that Smith engaged in an elaborate scheme to frame McDonough for the crimes. According to McDonough, Smith knew that McDonough was innocent and fabricated evidence in the form of forged affidavits, false testimony, and faulty DNA methods. After the first trial ended in a mistrial, the second trial ended in McDonough’s acquittal on December 21, 2012.\\nOn December 18, 2015, McDonough filed a lawsuit under 42 U.S.C. § 1983 claiming that Smith and the other defendants violated his due process rights by fabricating evidence and using it against him before a grand jury and in two trials. The defendants filed a motion to dismiss, claiming, among other things, that McDonough’s claim was barred by the three-year statute of limitations because the allegedly fabricated evidence had been disclosed to McDonough over three years before he filed his Section 1983 claim.\\nThe district court granted the motions to dismiss as to McDonough’s due process claims, citing the statute of limitations. The US Court of Appeals for the Second Circuit affirmed, finding that the precedent in that circuit established that the statute of limitations begins to run on a fabrication of evidence claim when the plaintiff has “reason to know of the injury which is the basis of his action.” The Second Circuit acknowledged that Third, Ninth, and Tenth Circuits have held otherwise but expressly disagreed with those decisions.\\n</td>\n",
       "      <td>1</td>\n",
       "      <td>2009년 뉴욕주 트로이에서 열린 근로가족당(Working Families Party) 예비선거에서 여러 개인이 예비선거 결과에 영향을 미치기 위해 서명을 위조하고 부재자 투표 신청서에 허위 정보를 제공했습니다. 개인들은 위조된 지원서를 Rensselaer 카운티 선거 위원회 커미셔너인 Edward G. McDonough에게 제출했습니다. McDonough는 신청서를 승인했지만 나중에 위조된 사실을 몰랐다고 주장했습니다.\\n음모가 밝혀진 후 주 법원은 관련된 사람들의 조사와 기소를 이끌 특별 지방 검사로 Youel Smith를 임명했습니다. McDonough는 Smith가 범죄에 대해 McDonough를 모함하기 위해 정교한 계획에 관여했다고 주장했습니다. McDonough에 따르면 Smith는 McDonough가 결백하고 위조 진술서, 거짓 증언 및 잘못된 DNA 방법의 형태로 조작된 증거임을 알고 있었습니다. 첫 번째 재판이 오심으로 끝난 후 두 번째 재판은 2012년 12월 21일 McDonough의 무죄 판결로 끝났습니다.\\n2015년 12월 18일 McDonough는 42 U.S.C. § 1983은 Smith와 다른 피고인이 증거를 조작하고 대배심과 두 번의 재판에서 자신에게 불리하게 사용함으로써 적법 절차 권리를 침해했다고 주장합니다. 피고인들은 McDonough가 1983항 청구를 제기하기 3년 전에 조작된 것으로 의심되는 증거가 McDonough에게 공개되었기 때문에 McDonough의 청구가 3년 시효에 의해 금지되었다고 주장하면서 기각 신청서를 제출했습니다.\\n지방법원은 공소시효를 인용하여 McDonough의 적법 절차 청구에 대한 기각 신청을 승인했습니다. 미국 제2 순회 항소 법원은 그 순회 판례가 원고가 \"피고의 근거가 되는 상해에 대해 알아야 할 이유가 있을 때 증거 조작 주장에 대해 공소시효가 실행되기 시작한다고 확증했습니다. 행동.\" 제2순회법원은 제3순회, 제9순회 및 제10순회법원이 달리 판단했음을 인정했지만 이러한 결정에 명시적으로 동의하지 않았습니다.</td>\n",
       "      <td>pos</td>\n",
       "    </tr>\n",
       "    <tr>\n",
       "      <th>2168</th>\n",
       "      <td>TRAIN_2168</td>\n",
       "      <td>Beverly R. Gill</td>\n",
       "      <td>William Whitford</td>\n",
       "      <td>In 2010, for the first time in over forty years, Wisconsin voters elected a Republican majority in the state assembly and the senate, and a Republican governor. As a result, the Republican leadership developed a voting district map that its drafters calculated would allow Republicans to maintain a majority under any likely voting scenario. The redistricting plan was introduced in July 2011, and both the senate and the assembly passed the bill shortly thereafter. The governor signed the bill into law in August 2011. Even before it was enacted, the plan faced two legal challenges, on constitutional and statutory grounds. A federal court upheld the plan as not violating the “one person one vote” principle nor violating the Equal Protection Clause.\\nPlaintiffs in this case challenge the plan as an unconstitutional partisan gerrymander. At issue is whether the plan systematically dilutes the voting strength of Democratic voters statewide.\\n \\n</td>\n",
       "      <td>1</td>\n",
       "      <td>2010년, 40년 만에 처음으로 위스콘신 유권자들은 주 의회와 상원에서 공화당 다수당과 공화당 주지사를 선출했습니다. 결과적으로 공화당 지도부는 기안자들이 계산한 투표 구역 지도를 개발하여 공화당이 어떤 투표 시나리오에서도 다수를 유지할 수 있도록 했습니다. 선거구 재조정 계획은 2011년 7월에 도입되었으며 상원과 하원은 그 직후 법안을 통과시켰습니다. 주지사는 2011년 8월에 이 법안에 서명했습니다. 법안이 제정되기 전에도 이 계획은 헌법 및 법률상의 두 가지 법적 문제에 직면했습니다. 연방 법원은 이 계획이 \"1인 1표\" 원칙을 위반하지 않았으며 평등한 보호 조항을 위반하지 않았다고 판결했습니다.\\n이 사건의 원고는 위헌적 당파적 게리맨더로서 계획에 이의를 제기합니다. 문제는 이 계획이 주 전역의 민주당 유권자들의 투표력을 체계적으로 희석시키는지 여부입니다.\\n</td>\n",
       "      <td>pos</td>\n",
       "    </tr>\n",
       "    <tr>\n",
       "      <th>98</th>\n",
       "      <td>TRAIN_0098</td>\n",
       "      <td>Terrance Williams</td>\n",
       "      <td>Pennsylvania</td>\n",
       "      <td>Terrance Williams was convicted and sentenced to death for the robbery and murder of Amos Norwood. The Supreme Court affirmed Williams’ conviction and sentence, and he filed three petitions under the Post-Conviction Relief Act, all of which were denied and the denials affirmed by the Pennsylvania Supreme Court. Williams also petitioned for federal habeas relief, which was denied. On his fourth petition for relief under the Post-Conviction Relief Act, the state court determined that Williams had sufficiently demonstrated that there was governmental interference in his trial and granted the relief. The Pennsylvania Supreme Court reversed the lower court’s decision and lifted the stay of execution.\\nThe Chief Justice of the Pennsylvania Supreme Court at that point was Ronald Castille, who had been the District Attorney for Philadelphia throughout Williams’ trial, sentencing, and appeal, and who had personally authorized his office to seek the death penalty in this case. Prior to having his case heard by the Pennsylvania Supreme Court, Williams moved to have Chief Justice Castille recuse himself from this case. Chief Justice Castille refused to do so and ultimately joined the opinion that reversed the lower court’s grant of habeas relief and lifted the stay of execution.\\n</td>\n",
       "      <td>1</td>\n",
       "      <td>Terrance Williams는 Amos Norwood의 강도와 살인 혐의로 유죄 판결을 받고 사형을 선고 받았습니다. 대법원은 윌리엄스의 유죄 판결과 선고를 확인했으며 유죄 판결 후 구제법에 따라 3건의 청원을 제출했지만 모두 거부되었고 펜실베이니아 대법원에서 거부를 확인했습니다. Williams는 또한 연방 인신 보호 구호를 청원했지만 거부되었습니다. 유죄 판결 후 구제법(Post-Conviction Relief Act)에 따른 구제를 위한 그의 네 번째 청원에서 주 법원은 Williams가 그의 재판에 대한 정부의 간섭이 있음을 충분히 입증했다고 판단하고 구제를 승인했습니다. 펜실베니아 대법원은 하급 법원의 판결을 뒤집고 집행 유예를 해제했습니다.\\n그 시점에서 펜실베니아 대법원의 대법원장은 윌리엄스의 재판, 판결, 항소 기간 동안 필라델피아의 지방 검사였으며 이 사건에서 사형을 선고할 수 있도록 자신의 사무실을 개인적으로 승인한 로널드 카스티유였습니다. 펜실베니아 대법원에서 자신의 사건을 심리하기 전에 Williams는 Castille 대법원장이 이 사건에서 자신을 기피하도록 했습니다. Castille 대법원장은 이를 거부했고 결국 하급 법원의 인신구제 승인을 뒤집고 집행 유예를 해제하는 의견에 동참했습니다.</td>\n",
       "      <td>pos</td>\n",
       "    </tr>\n",
       "    <tr>\n",
       "      <th>334</th>\n",
       "      <td>TRAIN_0334</td>\n",
       "      <td>State of Kansas</td>\n",
       "      <td>Charles Glover</td>\n",
       "      <td>While on patrol, a Kansas police officer ran a registration check on a pickup truck with a Kansas license plate. Upon running the check, the officer learned that the truck was registered to Charles Glover, Jr., and that his license had been revoked. Acting on suspicion that the owner was unlawfully operating the vehicle (based on the assumption that the registered owner of the truck was also the driver), the officer stopped the truck. The officer confirmed that Glover was the driver and issued him a citation for being a habitual violator of Kansas traffic laws.\\nGlover moved to suppress all evidence from the stop, arguing that the stop violated his Fourth Amendment right against unreasonable searches and seizures. According to Glover, the police officer lacked reasonable suspicion to pull him over. The state argued that a law enforcement officer may infer that the owner of a vehicle is the one driving the vehicle, absent information to the contrary, and the knowledge that the owner has a revoked license combined with that inference gives rise to reasonable suspicion to conduct an investigative stop.\\nThe state trial court concluded that it is not reasonable for an officer to infer that the registered owner of a vehicle is also its driver and granted Glover’s motion to suppress. The appellate court reversed, and the Kansas Supreme Court granted review. The supreme court reversed the lower court, holding that the inference impermissibly “stacked” assumptions and would relieve the state of its burden of showing reasonable suspicion for a stop.\\n</td>\n",
       "      <td>1</td>\n",
       "      <td>순찰 중 캔자스 경찰이 캔자스 번호판이 달린 픽업 트럭에 대한 등록 확인을 실시했습니다. 수표를 실행한 후 경찰관은 트럭이 Charles Glover, Jr.에 등록되어 있고 그의 면허가 취소되었음을 알게 되었습니다. 경찰은 차주가 불법으로 차량을 운행했다고 의심해(트럭의 등록된 차주가 운전자이기도 하다는 가정하에) 트럭을 세웠다. 경찰은 글로버가 운전사임을 확인하고 상습적으로 캔자스 교통법을 위반한 혐의로 소환장을 발부했습니다.\\n글로버는 정지가 불합리한 수색과 압수에 대한 수정헌법 제4조의 권리를 위반했다고 주장하면서 정지에서 모든 증거를 억제하기 위해 움직였습니다. 글로버에 따르면 경찰은 그를 세울 합리적인 의심이 부족했습니다. 주정부는 법집행관이 차량 소유자가 차량을 운전하는 사람이라고 추론할 수 있고, 반대 정보가 없으며, 소유자가 취소된 면허를 가지고 있다는 사실을 알면 그러한 추론이 합당한 의심을 불러일으킬 수 있다고 주장했습니다. 수사 정지.\\n주 예심 법원은 경찰관이 차량의 등록된 소유자가 또한 운전자라고 추론하는 것이 합리적이지 않다고 결론을 내리고 Glover의 진압 신청을 승인했습니다. 항소 법원은 파기되었고 캔자스 대법원은 검토를 승인했습니다. 대법원은 추론이 용인할 수 없을 정도로 가정을 \"누적\"했으며 중지에 대한 합리적인 의심을 보여야 하는 국가의 부담을 덜어줄 것이라고 판단하여 하급 법원을 뒤집었습니다.</td>\n",
       "      <td>neg</td>\n",
       "    </tr>\n",
       "    <tr>\n",
       "      <th>684</th>\n",
       "      <td>TRAIN_0684</td>\n",
       "      <td>T-Mobile South, LLC</td>\n",
       "      <td>City of Roswell, Georgia</td>\n",
       "      <td>Telecommunications service provider T-mobile South, LLC (T-mobile) submitted an application to construct a 108–foot cell tower resembling a man-made tree (monopine) in Roswell, Georgia. The location of the site, though planned inside a vacant lot, would be in an area zoned for single-family residences within a well-established residential neighborhood. Following an outpouring of public opposition to the tower, Roswell's Planning and Zoning Division recommended that the Mayor and city council, who ultimately approve applications after a public hearing, impose certain conditions before approving the application. Specifically, the Planning and Zoning Division recommended that T-Mobile should relocate the site to another part of the property, erect a fence around the tower, and plant pine trees to shield it from residential owners' view. At the public hearing, city council members voted to deny the application.\\nTwo days later, Roswell sent T-Mobile a letter notifying the company that the application was denied and referred the company to the minutes of the public hearing. T-Mobile sued Roswell and claimed that the city had not provided substantial evidence that would support a denial of the application. T-Mobile also alleged that, by prohibiting T-Mobile from building the structure, Roswell violated the Telecommunications Act of 1996 (TCA). The district court did not rule on the substantial evidence question and instead held that Roswell had not met the \"in writing\" component of the TCA, which required the government to state the reason(s) for denying an application. The district court ordered Roswell to grant the permit, and Roswell appealed. The U.S. Court of Appeals for the Eleventh Circuit held that Roswell had met the \"in writing\" requirement by issuing a written denial and referring to the minutes of the hearing for the reasoning.\\n</td>\n",
       "      <td>1</td>\n",
       "      <td>통신 서비스 제공업체인 T-mobile South, LLC(T-mobile)는 조지아주 로스웰에 인조 나무(모노파인)를 닮은 108피트 셀 타워를 건설하기 위한 신청서를 제출했습니다. 대지의 위치는 공터 내로 계획되었으나, 잘 정립된 주거지역 내 단독주택 지역으로 계획되었다. 타워에 대한 대중의 반대가 쏟아지자 Roswell의 계획 및 구역 설정 부서는 시장과 시의회가 궁극적으로 공청회 후 신청서를 승인하기 전에 신청서를 승인하기 전에 특정 조건을 부과할 것을 권고했습니다. 구체적으로 계획 및 구역 설정 부서는 T-Mobile이 건물의 다른 부분으로 사이트를 이전하고 타워 주변에 울타리를 세우고 소나무를 심어 주택 소유자의 시야에서 보호해야 한다고 권고했습니다. 공청회에서 시의원들은 신청을 거부하기로 투표했습니다.\\n이틀 후 Roswell은 T-Mobile에 신청이 거부되었음을 알리는 편지를 보냈고 회사에 공청회 의사록을 회부했습니다. T-Mobile은 Roswell을 고소하고 시가 신청 거부를 뒷받침할 실질적인 증거를 제공하지 않았다고 주장했습니다. T-Mobile은 또한 T-Mobile이 건물을 짓는 것을 금지함으로써 Roswell이 1996년 통신법(TCA)을 위반했다고 주장했습니다. 지방 법원은 실질적 증거 문제에 대해 판결을 내리지 않았고 대신 Roswell이 TCA의 \"서면\" 구성 요소를 충족하지 못했다고 판결했습니다. TCA는 정부가 신청을 거부한 이유를 명시해야 했습니다. 지방 법원은 Roswell에게 허가를 승인하도록 명령했고 Roswell은 항소했습니다. 미국 제11순회 항소법원은 Roswell이 서면 거부를 발표하고 추론에 대한 청문회 의사록을 참조함으로써 \"서면\" 요건을 충족했다고 판결했습니다.</td>\n",
       "      <td>pos</td>\n",
       "    </tr>\n",
       "    <tr>\n",
       "      <th>1440</th>\n",
       "      <td>TRAIN_1440</td>\n",
       "      <td>Lilly</td>\n",
       "      <td>Virginia</td>\n",
       "      <td>Benjamin Lee Lilly, his brother Mark Lilly, and Gary Barker were arrested after stealing liquor and guns and abducting Alex DeFilippis, who was later shot and killed. Under police questioning, Mark admitted stealing liquor, but claimed that Benjamin and Barker stole the guns and that Benjamin shot DeFilippis. When Virginia called Mark as a witness at Benjamin's subsequent criminal trial, Mark invoked his Fifth Amendment privilege against self-incrimination. The trial court then admitted his statements to the police as declarations of an unavailable witness against penal interest. The court overruled Benjamin's objections that the statements were not against Mark's penal interest because they shifted responsibility for the crimes to Barker and Benjamin, and that their admission would violate the Sixth Amendment's Confrontation Clause. Subsequently, Benjamin was convicted of the DeFilippis murder and other crimes. In affirming, the Virginia Supreme Court found that the Confrontation Clause was satisfied because Mark's statements fell within a firmly rooted exception to the hearsay rule. The court also held that the statements were reliable because Mark knew that he was implicating himself as a participant in numerous crimes and because the statements were independently corroborated by other evidence at trial.\\n</td>\n",
       "      <td>1</td>\n",
       "      <td>Benjamin Lee Lilly, 그의 형제 Mark Lilly 및 Gary Barker는 술과 총을 훔치고 나중에 총에 맞아 살해된 Alex DeFilippis를 납치한 후 체포되었습니다. 경찰 심문에서 Mark는 술을 훔친 것을 인정했지만 Benjamin과 Barker가 총을 훔쳤고 Benjamin이 DeFilippis를 쐈다고 주장했습니다. 버지니아가 벤자민의 후속 형사 재판에서 마크를 증인으로 불렀을 때 마크는 자기 부죄에 대한 수정 헌법 제5조의 특권을 발동했습니다. 재판 법원은 형사 이익에 대해 사용할 수없는 증인의 선언으로 경찰에 대한 그의 진술을 인정했습니다. 법원은 그들이 범죄에 대한 책임을 Barker와 Benjamin에게 전가했기 때문에 진술이 Mark의 형벌 이익에 반하지 않으며 그들의 인정이 수정 헌법 제6조의 대결 조항을 위반한다는 Benjamin의 반대를 기각했습니다. 그 후 Benjamin은 DeFilippis 살인 및 기타 범죄로 유죄 판결을 받았습니다. 확인하면서 버지니아 대법원은 Mark의 진술이 소문 규칙에 대한 확고한 예외에 속했기 때문에 대결 조항이 충족되었다고 판결했습니다. 법원은 또한 Mark가 자신이 수많은 범죄에 연루되어 있음을 알고 있었고 그 진술이 재판에서 다른 증거에 의해 독립적으로 확증되었기 때문에 진술이 신뢰할 수 있다고 판결했습니다.</td>\n",
       "      <td>pos</td>\n",
       "    </tr>\n",
       "  </tbody>\n",
       "</table>\n",
       "</div>"
      ],
      "text/plain": [
       "              ID  \\\n",
       "2035  TRAIN_2035   \n",
       "856   TRAIN_0856   \n",
       "497   TRAIN_0497   \n",
       "2151  TRAIN_2151   \n",
       "2322  TRAIN_2322   \n",
       "2168  TRAIN_2168   \n",
       "98    TRAIN_0098   \n",
       "334   TRAIN_0334   \n",
       "684   TRAIN_0684   \n",
       "1440  TRAIN_1440   \n",
       "\n",
       "                                                                               first_party  \\\n",
       "2035                                                                            Richardson   \n",
       "856                 Ashbel T. Wall, II, Director of Rhode Island Department of Corrections   \n",
       "497   Amgen Inc, Kevin W. Sharer, Richard D. Nanula, Roger M. Perlmutter, George J. Morrow   \n",
       "2151                                                                             Mcmillian   \n",
       "2322                                                                   Edward G. McDonough   \n",
       "2168                                                                       Beverly R. Gill   \n",
       "98                                                                       Terrance Williams   \n",
       "334                                                                        State of Kansas   \n",
       "684                                                                    T-Mobile South, LLC   \n",
       "1440                                                                                 Lilly   \n",
       "\n",
       "                                      second_party  \\\n",
       "2035                                 United States   \n",
       "856                                   Khalil Kholi   \n",
       "497   Connecticut Retirement Plans and Trust Funds   \n",
       "2151                        Monroe County, Alabama   \n",
       "2322                                   Youel Smith   \n",
       "2168                              William Whitford   \n",
       "98                                    Pennsylvania   \n",
       "334                                 Charles Glover   \n",
       "684                       City of Roswell, Georgia   \n",
       "1440                                      Virginia   \n",
       "\n",
       "                                                                                                                                                                                                                                                                                                                                                                                                                                                                                                                                                                                                                                                                                                                                                                                                                                                                                                                                                                                                                                                                                                                                                                                                                                                                                                                                                                                                                                                                                                                                                                                                                                                                                                                                                                                                                                                                                                                                                                                                                                                                                                                               facts  \\\n",
       "2035                                                                                                                                                                                                                                                                                                                                                                                                                                                                                                                                                                                                                                                                                                                                                                                                                                                                              A federal criminal statute, 21 U.S.C. section 848(a), proscribes any person from engaging in \"continuing criminal enterprise (CCE),\" which is defined as involving a violation of federal drug statutes where such a violation was part of a \"continuing series of violations.\" Eddie Richardson, who had organized and managed the Chicago street gang called the Undertaker Vice Lords in order to sell drugs, was charge with a CCE violation. At trial, Richardson proposed to instruct the jury that it must unanimously agree not only that he committed some \"continuing series of violations\" but also that the he committed each of the individual \"violations\" necessary to make up that \"continuing series.\" In other words, the proposed instruction would have required the jury to unanimously agree on which three acts constituted the alleged series of violations. The judge rejected Richardson's proposal and, instead, instructed the jurors that they must unanimously agree that the defendant committed at least three federal narcotics offenses, but did not have to agree as to the particular offenses. Subsequently, the jury convicted Richardson. The Court of Appeals upheld the trial judge's jury instruction.\\n   \n",
       "856                                                                                                                                                                                                                                                                                                                                                                                                                                                                                                                                                                                                                                                                                                                               In December 1993, a Rhode Island jury convicted Khalil Kholi on 10 counts of first-degree sexual assault. The charges stemmed from the alleged molestation of his two step-daughters. A judge on the state superior court sentenced Kholi to two consecutive terms of life imprisonment, and the state supreme court affirmed the conviction in February 1996. Kholi did not file a federal writ of habeas corpus at that time. Instead, he filed a motion seeking sentence reduction as a form of post-conviction relief, which was denied. Kholi exhausted his procedural options regarding sentence reduction in 2007, at which time he began his appeal for federal writ of habeas corpus, which was well beyond the Antiterrorism and Effective Death Penalty Act's standard one-year limitation on filing. In September 2009, the U.S. Court of Appeals for the First Circuit reversed and remanded the district court's judgment that a petition for leniency is different from an appeal to correct legal errors and therefore does not result in a tolling of the statute of limitations under AEDPA. A circuit split exists on the issue. The First Circuit's decision was in line with a Tenth Circuit ruling on the same issue, but the Third, Fourth and Eleventh Circuits have previously ruled that a petition for leniency does not toll the statute of limitations under AEDPA.\\n   \n",
       "497                                                                                                                                                                                                                                                                                                                                                                                                                                                                                                                                                                                                 Amgen, Inc. is an American pharmaceutical corporation. The Food and Drug Administration (FDA) approved two Amgen products that stimulate production of red blood cells and reduce the need for blood transfusions in anemic patients. Amgen allegedly made misrepresentations to the FDA about the safety of these products. Connecticut Retirement Plans & Trust Funds brought an action against Amgen alleging four counts of misrepresentation. Connecticut Retirement Plans specifically alleged that Amgen misrepresented the nature of several FDA committee meetings to shareholders. It sought to certify a class of persons who purchased Amgen stock between April 22, 2004 and May 10, 2007, the dates when two of the meetings in question occurred. On May 10, 2007, Amgen's stock value dropped by more than nine percent.\\nTo certify a class under Rule 23 of the Federal Rules of Civil Procedure, a plaintiff must show that there are questions of law or fact common to the class, and that these questions predominate over questions affecting only individual members. Amgen opposed the class certification, arguing that the that the misrepresentations did not have any impact on the price of Amgen stock. The district court rejected Amgen's arguments and granted the class certification. The United States Court of Appeals, Ninth Circuit, affirmed, rejecting Amgen's argument that a plaintiff must give proof that the misrepresentations were material at the class certification stage.\\n   \n",
       "2151                                                                                                                                                                                                                                                                                                                                                                                                                                                                                                                                                                                                                                                                                                                                                                                                                                                                                                                                                                                                                                                                                                                                                                                                                                            A Monroe County court sentenced Walter McMillian to death for murder. Later evidence, suppressed by Monroe County Sheriff Tom Tate, exonerated McMillian after six years on Alabama's death row. McMillian sued Monroe County, claiming that Tate's actions were unconstitutional. McMillian argued that under 42 U.S.C. Section 1983, a county is liable for the actions of its sheriffs that constitute county policy. A District Court decided that Monroe County was not liable for Tate's actions because the county had no authority over law enforcement.\\nMcMillian appealed, claiming that since the county employed Tate, the county should be liable for Tate. The U.S. Court of Appeals for the Eleventh Circuit ruled in favor of Monroe County. The Eleventh Circuit held that though Tate was employed by Monroe County, he acted under the authority of the state.\\n   \n",
       "2322  During the 2009 Working Families Party primary election in Troy, New York, several individuals forged signatures and provided false information on absentee ballot applications in an attempt to affect the outcome of the primary. The individuals submitted the forged applications to the commissioner of the Rensselaer County elections board, Edward G. McDonough. McDonough approved the applications but later claimed that he did not know they had been forged.\\nAfter the plot was uncovered, the state court appointed Youel Smith as a special district attorney to lead the investigation and prosecution of those involved. McDonough claimed that Smith engaged in an elaborate scheme to frame McDonough for the crimes. According to McDonough, Smith knew that McDonough was innocent and fabricated evidence in the form of forged affidavits, false testimony, and faulty DNA methods. After the first trial ended in a mistrial, the second trial ended in McDonough’s acquittal on December 21, 2012.\\nOn December 18, 2015, McDonough filed a lawsuit under 42 U.S.C. § 1983 claiming that Smith and the other defendants violated his due process rights by fabricating evidence and using it against him before a grand jury and in two trials. The defendants filed a motion to dismiss, claiming, among other things, that McDonough’s claim was barred by the three-year statute of limitations because the allegedly fabricated evidence had been disclosed to McDonough over three years before he filed his Section 1983 claim.\\nThe district court granted the motions to dismiss as to McDonough’s due process claims, citing the statute of limitations. The US Court of Appeals for the Second Circuit affirmed, finding that the precedent in that circuit established that the statute of limitations begins to run on a fabrication of evidence claim when the plaintiff has “reason to know of the injury which is the basis of his action.” The Second Circuit acknowledged that Third, Ninth, and Tenth Circuits have held otherwise but expressly disagreed with those decisions.\\n   \n",
       "2168                                                                                                                                                                                                                                                                                                                                                                                                                                                                                                                                                                                                                                                                                                                                                                                                                                                                                                                                                                                                                                                                                                                                        In 2010, for the first time in over forty years, Wisconsin voters elected a Republican majority in the state assembly and the senate, and a Republican governor. As a result, the Republican leadership developed a voting district map that its drafters calculated would allow Republicans to maintain a majority under any likely voting scenario. The redistricting plan was introduced in July 2011, and both the senate and the assembly passed the bill shortly thereafter. The governor signed the bill into law in August 2011. Even before it was enacted, the plan faced two legal challenges, on constitutional and statutory grounds. A federal court upheld the plan as not violating the “one person one vote” principle nor violating the Equal Protection Clause.\\nPlaintiffs in this case challenge the plan as an unconstitutional partisan gerrymander. At issue is whether the plan systematically dilutes the voting strength of Democratic voters statewide.\\n \\n   \n",
       "98                                                                                                                                                                                                                                                                                                                                                                                                                                                                                                                                                                                                                                                                                                                                                                                         Terrance Williams was convicted and sentenced to death for the robbery and murder of Amos Norwood. The Supreme Court affirmed Williams’ conviction and sentence, and he filed three petitions under the Post-Conviction Relief Act, all of which were denied and the denials affirmed by the Pennsylvania Supreme Court. Williams also petitioned for federal habeas relief, which was denied. On his fourth petition for relief under the Post-Conviction Relief Act, the state court determined that Williams had sufficiently demonstrated that there was governmental interference in his trial and granted the relief. The Pennsylvania Supreme Court reversed the lower court’s decision and lifted the stay of execution.\\nThe Chief Justice of the Pennsylvania Supreme Court at that point was Ronald Castille, who had been the District Attorney for Philadelphia throughout Williams’ trial, sentencing, and appeal, and who had personally authorized his office to seek the death penalty in this case. Prior to having his case heard by the Pennsylvania Supreme Court, Williams moved to have Chief Justice Castille recuse himself from this case. Chief Justice Castille refused to do so and ultimately joined the opinion that reversed the lower court’s grant of habeas relief and lifted the stay of execution.\\n   \n",
       "334                                                                                                                                                                                                                                                                                                                                                                                                                                                                                                 While on patrol, a Kansas police officer ran a registration check on a pickup truck with a Kansas license plate. Upon running the check, the officer learned that the truck was registered to Charles Glover, Jr., and that his license had been revoked. Acting on suspicion that the owner was unlawfully operating the vehicle (based on the assumption that the registered owner of the truck was also the driver), the officer stopped the truck. The officer confirmed that Glover was the driver and issued him a citation for being a habitual violator of Kansas traffic laws.\\nGlover moved to suppress all evidence from the stop, arguing that the stop violated his Fourth Amendment right against unreasonable searches and seizures. According to Glover, the police officer lacked reasonable suspicion to pull him over. The state argued that a law enforcement officer may infer that the owner of a vehicle is the one driving the vehicle, absent information to the contrary, and the knowledge that the owner has a revoked license combined with that inference gives rise to reasonable suspicion to conduct an investigative stop.\\nThe state trial court concluded that it is not reasonable for an officer to infer that the registered owner of a vehicle is also its driver and granted Glover’s motion to suppress. The appellate court reversed, and the Kansas Supreme Court granted review. The supreme court reversed the lower court, holding that the inference impermissibly “stacked” assumptions and would relieve the state of its burden of showing reasonable suspicion for a stop.\\n   \n",
       "684                                                                                                                                                                                      Telecommunications service provider T-mobile South, LLC (T-mobile) submitted an application to construct a 108–foot cell tower resembling a man-made tree (monopine) in Roswell, Georgia. The location of the site, though planned inside a vacant lot, would be in an area zoned for single-family residences within a well-established residential neighborhood. Following an outpouring of public opposition to the tower, Roswell's Planning and Zoning Division recommended that the Mayor and city council, who ultimately approve applications after a public hearing, impose certain conditions before approving the application. Specifically, the Planning and Zoning Division recommended that T-Mobile should relocate the site to another part of the property, erect a fence around the tower, and plant pine trees to shield it from residential owners' view. At the public hearing, city council members voted to deny the application.\\nTwo days later, Roswell sent T-Mobile a letter notifying the company that the application was denied and referred the company to the minutes of the public hearing. T-Mobile sued Roswell and claimed that the city had not provided substantial evidence that would support a denial of the application. T-Mobile also alleged that, by prohibiting T-Mobile from building the structure, Roswell violated the Telecommunications Act of 1996 (TCA). The district court did not rule on the substantial evidence question and instead held that Roswell had not met the \"in writing\" component of the TCA, which required the government to state the reason(s) for denying an application. The district court ordered Roswell to grant the permit, and Roswell appealed. The U.S. Court of Appeals for the Eleventh Circuit held that Roswell had met the \"in writing\" requirement by issuing a written denial and referring to the minutes of the hearing for the reasoning.\\n   \n",
       "1440                                                                                                                                                                                                                                                                                                                                                                                                                                                                                                                                                                                                                                                                                                                                              Benjamin Lee Lilly, his brother Mark Lilly, and Gary Barker were arrested after stealing liquor and guns and abducting Alex DeFilippis, who was later shot and killed. Under police questioning, Mark admitted stealing liquor, but claimed that Benjamin and Barker stole the guns and that Benjamin shot DeFilippis. When Virginia called Mark as a witness at Benjamin's subsequent criminal trial, Mark invoked his Fifth Amendment privilege against self-incrimination. The trial court then admitted his statements to the police as declarations of an unavailable witness against penal interest. The court overruled Benjamin's objections that the statements were not against Mark's penal interest because they shifted responsibility for the crimes to Barker and Benjamin, and that their admission would violate the Sixth Amendment's Confrontation Clause. Subsequently, Benjamin was convicted of the DeFilippis murder and other crimes. In affirming, the Virginia Supreme Court found that the Confrontation Clause was satisfied because Mark's statements fell within a firmly rooted exception to the hearsay rule. The court also held that the statements were reliable because Mark knew that he was implicating himself as a participant in numerous crimes and because the statements were independently corroborated by other evidence at trial.\\n   \n",
       "\n",
       "      first_party_winner  \\\n",
       "2035                   1   \n",
       "856                    0   \n",
       "497                    0   \n",
       "2151                   0   \n",
       "2322                   1   \n",
       "2168                   1   \n",
       "98                     1   \n",
       "334                    1   \n",
       "684                    1   \n",
       "1440                   1   \n",
       "\n",
       "                                                                                                                                                                                                                                                                                                                                                                                                                                                                                                                                                                                                                                                                                                                                                                                                                                                                                                                                                                                                                                                     fact_kor  \\\n",
       "2035                                                                                                                                                                                                                                                                                                                                                                                                                                                    연방 형법, 21 U.S.C. 섹션 848(a)는 위반이 \"계속되는 일련의 위반\"의 일부인 연방 마약 법령 위반과 관련된 것으로 정의되는 \"지속적인 범죄 기업(CCE)\"에 관여하는 사람을 금지합니다. 마약을 판매하기 위해 Undertaker Vice Lords라고 불리는 시카고 거리 갱단을 조직하고 관리했던 Eddie Richardson은 CCE 위반 혐의로 기소되었습니다. 재판에서 Richardson은 배심원단에게 자신이 \"계속되는 일련의 위반\"을 저질렀을 뿐만 아니라 \"계속되는 일련의 위반\"을 구성하는 데 필요한 각 개별 \"위반\"을 저질렀다는 데 만장일치로 동의해야 한다고 지시할 것을 제안했습니다. 즉, 제안된 지침은 배심원단이 일련의 위반 혐의를 구성하는 세 가지 행위에 대해 만장일치로 동의하도록 요구했을 것입니다. 판사는 Richardson의 제안을 거부하고 대신 피고가 최소 3건의 연방 마약 범죄를 저질렀다는 데 만장일치로 동의해야 하지만 특정 범죄에 대해서는 동의할 필요가 없다고 배심원들에게 지시했습니다. 그 후 배심원은 Richardson에게 유죄를 선고했습니다. 항소법원은 예심 판사의 배심원단 지시를 지지했다.   \n",
       "856                                                                                                                                                                                                                                                                                                                                                                                                                                  1993년 12월 로드 아일랜드 배심원단은 Khalil Kholi를 10건의 1급 성폭행 혐의로 유죄 판결했습니다. 혐의는 그의 두 의붓 딸에 대한 성추행 혐의에서 비롯되었습니다. 주 고등 법원의 판사는 콜리에게 2년 연속 종신형을 선고했고 주 대법원은 1996년 2월 유죄 판결을 확정했습니다. 콜리는 당시 인신 보호 영장을 연방 영장으로 제출하지 않았습니다. 대신 그는 유죄판결 후 구제의 한 형태로 형량 감면을 요청했지만 거부당했습니다. 콜리는 2007년 형량 감형에 관한 절차적 선택권을 모두 소진했으며, 당시 그는 반테러 및 효과적인 사형법의 제출에 대한 표준 1년 제한을 훨씬 넘어서는 인신 보호 영장에 대한 연방 영장에 대한 항소를 시작했습니다. 2009년 9월, 미국 제1순회항소법원은 관용 청원은 법적 오류 수정에 대한 항소와 다르므로 AEDPA에 따른 소멸 시효에 영향을 미치지 않는다는 지방 법원의 판결을 파기하고 환송했습니다. 문제에 회로 분할이 존재합니다. 제1 순회 법원의 결정은 같은 문제에 대한 제10 순회 판결과 일치했지만, 제3, 제4 및 제11 순회 법원은 이전에 관용 청원이 AEDPA에 따른 시효에 영향을 미치지 않는다고 판결했습니다.   \n",
       "497                                                                                                                                                                                                                                                                                                            Amgen, Inc.는 미국 제약 회사입니다. 미국식품의약국(FDA)은 적혈구 생성을 자극하고 빈혈 환자의 수혈 필요성을 줄이는 두 가지 Amgen 제품을 승인했습니다. Amgen은 이러한 제품의 안전성에 대해 FDA에 허위 진술을 한 것으로 알려졌습니다. 코네티컷 은퇴 계획 및 신탁 기금(Connecticut Retirement Plans & Trust Funds)은 4가지 허위 진술을 주장하며 Amgen을 상대로 소송을 제기했습니다. Connecticut Retirement Plans는 특히 Amgen이 여러 FDA 위원회 회의의 성격을 주주들에게 잘못 전달했다고 주장했습니다. 그것은 2004년 4월 22일과 2007년 5월 10일 사이에 Amgen 주식을 구입한 사람들의 클래스를 인증하려고 했습니다. 2007년 5월 10일 암젠의 주식 가치는 9% 이상 하락했습니다.\\n연방 민사 소송 규칙의 규칙 23에 따라 집단을 인증하려면 원고는 집단에 공통적인 법률 또는 사실 문제가 있고 이러한 질문이 개인 구성원에게만 영향을 미치는 질문보다 우세하다는 것을 보여주어야 합니다. 암젠은 허위 진술이 암젠 주가에 영향을 미치지 않았다며 등급 인증에 반대했다. 지방 법원은 Amgen의 주장을 기각하고 집단 인증을 부여했습니다. 미국 항소 법원 제9 순회 법원은 원고가 허위 진술이 집단 인증 단계에서 중요하다는 증거를 제시해야 한다는 Amgen의 주장을 기각하면서 확인했습니다.   \n",
       "2151                                                                                                                                                                                                                                                                                                                                                                                                                                                                                                                                                   먼로 카운티 법원은 월터 맥밀리언에게 살인죄로 사형을 선고했습니다. 이후 증거는 먼로 카운티 보안관 톰 테이트(Tom Tate)에 의해 억눌려 앨라배마에서 6년 동안 사형수로 복역한 후 맥밀리언의 면책을 입증했습니다. McMillian은 Tate의 행동이 위헌이라고 주장하면서 Monroe County를 고소했습니다. McMillian은 42 U.S.C. 섹션 1983, 카운티는 카운티 정책을 구성하는 보안관의 조치에 대해 책임을 집니다. 지방 법원은 카운티가 법 집행에 대한 권한이 없기 때문에 먼로 카운티가 Tate의 조치에 대해 책임이 없다고 판결했습니다.\\nMcMillian은 카운티가 Tate를 고용했으므로 카운티가 Tate에 대해 책임을 져야 한다고 주장하며 항소했습니다. 미국 제11순회항소법원은 먼로 카운티에 유리한 판결을 내렸습니다. Eleventh Circuit은 Tate가 Monroe 카운티에 고용되었지만 주의 권위 아래 행동했다고 판결했습니다.   \n",
       "2322  2009년 뉴욕주 트로이에서 열린 근로가족당(Working Families Party) 예비선거에서 여러 개인이 예비선거 결과에 영향을 미치기 위해 서명을 위조하고 부재자 투표 신청서에 허위 정보를 제공했습니다. 개인들은 위조된 지원서를 Rensselaer 카운티 선거 위원회 커미셔너인 Edward G. McDonough에게 제출했습니다. McDonough는 신청서를 승인했지만 나중에 위조된 사실을 몰랐다고 주장했습니다.\\n음모가 밝혀진 후 주 법원은 관련된 사람들의 조사와 기소를 이끌 특별 지방 검사로 Youel Smith를 임명했습니다. McDonough는 Smith가 범죄에 대해 McDonough를 모함하기 위해 정교한 계획에 관여했다고 주장했습니다. McDonough에 따르면 Smith는 McDonough가 결백하고 위조 진술서, 거짓 증언 및 잘못된 DNA 방법의 형태로 조작된 증거임을 알고 있었습니다. 첫 번째 재판이 오심으로 끝난 후 두 번째 재판은 2012년 12월 21일 McDonough의 무죄 판결로 끝났습니다.\\n2015년 12월 18일 McDonough는 42 U.S.C. § 1983은 Smith와 다른 피고인이 증거를 조작하고 대배심과 두 번의 재판에서 자신에게 불리하게 사용함으로써 적법 절차 권리를 침해했다고 주장합니다. 피고인들은 McDonough가 1983항 청구를 제기하기 3년 전에 조작된 것으로 의심되는 증거가 McDonough에게 공개되었기 때문에 McDonough의 청구가 3년 시효에 의해 금지되었다고 주장하면서 기각 신청서를 제출했습니다.\\n지방법원은 공소시효를 인용하여 McDonough의 적법 절차 청구에 대한 기각 신청을 승인했습니다. 미국 제2 순회 항소 법원은 그 순회 판례가 원고가 \"피고의 근거가 되는 상해에 대해 알아야 할 이유가 있을 때 증거 조작 주장에 대해 공소시효가 실행되기 시작한다고 확증했습니다. 행동.\" 제2순회법원은 제3순회, 제9순회 및 제10순회법원이 달리 판단했음을 인정했지만 이러한 결정에 명시적으로 동의하지 않았습니다.   \n",
       "2168                                                                                                                                                                                                                                                                                                                                                                                                                                                                                                                                                                                                     2010년, 40년 만에 처음으로 위스콘신 유권자들은 주 의회와 상원에서 공화당 다수당과 공화당 주지사를 선출했습니다. 결과적으로 공화당 지도부는 기안자들이 계산한 투표 구역 지도를 개발하여 공화당이 어떤 투표 시나리오에서도 다수를 유지할 수 있도록 했습니다. 선거구 재조정 계획은 2011년 7월에 도입되었으며 상원과 하원은 그 직후 법안을 통과시켰습니다. 주지사는 2011년 8월에 이 법안에 서명했습니다. 법안이 제정되기 전에도 이 계획은 헌법 및 법률상의 두 가지 법적 문제에 직면했습니다. 연방 법원은 이 계획이 \"1인 1표\" 원칙을 위반하지 않았으며 평등한 보호 조항을 위반하지 않았다고 판결했습니다.\\n이 사건의 원고는 위헌적 당파적 게리맨더로서 계획에 이의를 제기합니다. 문제는 이 계획이 주 전역의 민주당 유권자들의 투표력을 체계적으로 희석시키는지 여부입니다.\\n   \n",
       "98                                                                                                                                                                                                                                                                                                                                                                                                 Terrance Williams는 Amos Norwood의 강도와 살인 혐의로 유죄 판결을 받고 사형을 선고 받았습니다. 대법원은 윌리엄스의 유죄 판결과 선고를 확인했으며 유죄 판결 후 구제법에 따라 3건의 청원을 제출했지만 모두 거부되었고 펜실베이니아 대법원에서 거부를 확인했습니다. Williams는 또한 연방 인신 보호 구호를 청원했지만 거부되었습니다. 유죄 판결 후 구제법(Post-Conviction Relief Act)에 따른 구제를 위한 그의 네 번째 청원에서 주 법원은 Williams가 그의 재판에 대한 정부의 간섭이 있음을 충분히 입증했다고 판단하고 구제를 승인했습니다. 펜실베니아 대법원은 하급 법원의 판결을 뒤집고 집행 유예를 해제했습니다.\\n그 시점에서 펜실베니아 대법원의 대법원장은 윌리엄스의 재판, 판결, 항소 기간 동안 필라델피아의 지방 검사였으며 이 사건에서 사형을 선고할 수 있도록 자신의 사무실을 개인적으로 승인한 로널드 카스티유였습니다. 펜실베니아 대법원에서 자신의 사건을 심리하기 전에 Williams는 Castille 대법원장이 이 사건에서 자신을 기피하도록 했습니다. Castille 대법원장은 이를 거부했고 결국 하급 법원의 인신구제 승인을 뒤집고 집행 유예를 해제하는 의견에 동참했습니다.   \n",
       "334                                                                                                                                                                                                                                                                                                                               순찰 중 캔자스 경찰이 캔자스 번호판이 달린 픽업 트럭에 대한 등록 확인을 실시했습니다. 수표를 실행한 후 경찰관은 트럭이 Charles Glover, Jr.에 등록되어 있고 그의 면허가 취소되었음을 알게 되었습니다. 경찰은 차주가 불법으로 차량을 운행했다고 의심해(트럭의 등록된 차주가 운전자이기도 하다는 가정하에) 트럭을 세웠다. 경찰은 글로버가 운전사임을 확인하고 상습적으로 캔자스 교통법을 위반한 혐의로 소환장을 발부했습니다.\\n글로버는 정지가 불합리한 수색과 압수에 대한 수정헌법 제4조의 권리를 위반했다고 주장하면서 정지에서 모든 증거를 억제하기 위해 움직였습니다. 글로버에 따르면 경찰은 그를 세울 합리적인 의심이 부족했습니다. 주정부는 법집행관이 차량 소유자가 차량을 운전하는 사람이라고 추론할 수 있고, 반대 정보가 없으며, 소유자가 취소된 면허를 가지고 있다는 사실을 알면 그러한 추론이 합당한 의심을 불러일으킬 수 있다고 주장했습니다. 수사 정지.\\n주 예심 법원은 경찰관이 차량의 등록된 소유자가 또한 운전자라고 추론하는 것이 합리적이지 않다고 결론을 내리고 Glover의 진압 신청을 승인했습니다. 항소 법원은 파기되었고 캔자스 대법원은 검토를 승인했습니다. 대법원은 추론이 용인할 수 없을 정도로 가정을 \"누적\"했으며 중지에 대한 합리적인 의심을 보여야 하는 국가의 부담을 덜어줄 것이라고 판단하여 하급 법원을 뒤집었습니다.   \n",
       "684                                                                                                                                                             통신 서비스 제공업체인 T-mobile South, LLC(T-mobile)는 조지아주 로스웰에 인조 나무(모노파인)를 닮은 108피트 셀 타워를 건설하기 위한 신청서를 제출했습니다. 대지의 위치는 공터 내로 계획되었으나, 잘 정립된 주거지역 내 단독주택 지역으로 계획되었다. 타워에 대한 대중의 반대가 쏟아지자 Roswell의 계획 및 구역 설정 부서는 시장과 시의회가 궁극적으로 공청회 후 신청서를 승인하기 전에 신청서를 승인하기 전에 특정 조건을 부과할 것을 권고했습니다. 구체적으로 계획 및 구역 설정 부서는 T-Mobile이 건물의 다른 부분으로 사이트를 이전하고 타워 주변에 울타리를 세우고 소나무를 심어 주택 소유자의 시야에서 보호해야 한다고 권고했습니다. 공청회에서 시의원들은 신청을 거부하기로 투표했습니다.\\n이틀 후 Roswell은 T-Mobile에 신청이 거부되었음을 알리는 편지를 보냈고 회사에 공청회 의사록을 회부했습니다. T-Mobile은 Roswell을 고소하고 시가 신청 거부를 뒷받침할 실질적인 증거를 제공하지 않았다고 주장했습니다. T-Mobile은 또한 T-Mobile이 건물을 짓는 것을 금지함으로써 Roswell이 1996년 통신법(TCA)을 위반했다고 주장했습니다. 지방 법원은 실질적 증거 문제에 대해 판결을 내리지 않았고 대신 Roswell이 TCA의 \"서면\" 구성 요소를 충족하지 못했다고 판결했습니다. TCA는 정부가 신청을 거부한 이유를 명시해야 했습니다. 지방 법원은 Roswell에게 허가를 승인하도록 명령했고 Roswell은 항소했습니다. 미국 제11순회 항소법원은 Roswell이 서면 거부를 발표하고 추론에 대한 청문회 의사록을 참조함으로써 \"서면\" 요건을 충족했다고 판결했습니다.   \n",
       "1440                                                                                                                                                                                                                                                                                                                                                     Benjamin Lee Lilly, 그의 형제 Mark Lilly 및 Gary Barker는 술과 총을 훔치고 나중에 총에 맞아 살해된 Alex DeFilippis를 납치한 후 체포되었습니다. 경찰 심문에서 Mark는 술을 훔친 것을 인정했지만 Benjamin과 Barker가 총을 훔쳤고 Benjamin이 DeFilippis를 쐈다고 주장했습니다. 버지니아가 벤자민의 후속 형사 재판에서 마크를 증인으로 불렀을 때 마크는 자기 부죄에 대한 수정 헌법 제5조의 특권을 발동했습니다. 재판 법원은 형사 이익에 대해 사용할 수없는 증인의 선언으로 경찰에 대한 그의 진술을 인정했습니다. 법원은 그들이 범죄에 대한 책임을 Barker와 Benjamin에게 전가했기 때문에 진술이 Mark의 형벌 이익에 반하지 않으며 그들의 인정이 수정 헌법 제6조의 대결 조항을 위반한다는 Benjamin의 반대를 기각했습니다. 그 후 Benjamin은 DeFilippis 살인 및 기타 범죄로 유죄 판결을 받았습니다. 확인하면서 버지니아 대법원은 Mark의 진술이 소문 규칙에 대한 확고한 예외에 속했기 때문에 대결 조항이 충족되었다고 판결했습니다. 법원은 또한 Mark가 자신이 수많은 범죄에 연루되어 있음을 알고 있었고 그 진술이 재판에서 다른 증거에 의해 독립적으로 확증되었기 때문에 진술이 신뢰할 수 있다고 판결했습니다.   \n",
       "\n",
       "     sentiment_score  \n",
       "2035             pos  \n",
       "856              pos  \n",
       "497              pos  \n",
       "2151             pos  \n",
       "2322             pos  \n",
       "2168             pos  \n",
       "98               pos  \n",
       "334              neg  \n",
       "684              pos  \n",
       "1440             pos  "
      ]
     },
     "execution_count": 28,
     "metadata": {},
     "output_type": "execute_result"
    }
   ],
   "source": [
    "s"
   ]
  },
  {
   "cell_type": "markdown",
   "id": "caec733e-52f5-4f99-9db0-543228f5f385",
   "metadata": {},
   "source": [
    "## Coclusion\n",
    "\n",
    "- IMDB 데이터는 구어체 <-> 법률 데이터는 문어체 + 법률 용어 Vocab 차이로 데이터 편중으로 모델이 유용하지 못하다\n",
    "- 감정 분석은 어울리지 않는 접근인 것으로..."
   ]
  },
  {
   "cell_type": "code",
   "execution_count": null,
   "id": "1be9511f-cade-4a0b-baff-6e0dfb1235d8",
   "metadata": {
    "editable": true,
    "slideshow": {
     "slide_type": ""
    },
    "tags": []
   },
   "outputs": [],
   "source": []
  }
 ],
 "metadata": {
  "kernelspec": {
   "display_name": "Python 3.10 (tensorflow)",
   "language": "python",
   "name": "tensorflow"
  },
  "language_info": {
   "codemirror_mode": {
    "name": "ipython",
    "version": 3
   },
   "file_extension": ".py",
   "mimetype": "text/x-python",
   "name": "python",
   "nbconvert_exporter": "python",
   "pygments_lexer": "ipython3",
   "version": "3.10.8"
  }
 },
 "nbformat": 4,
 "nbformat_minor": 5
}
