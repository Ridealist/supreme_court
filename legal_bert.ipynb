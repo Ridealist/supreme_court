{
 "cells": [
  {
   "cell_type": "markdown",
   "id": "aea20357-9aee-4573-816d-dc0ce668366e",
   "metadata": {
    "editable": true,
    "slideshow": {
     "slide_type": ""
    },
    "tags": []
   },
   "source": [
    "## Importing transformers pretrained model"
   ]
  },
  {
   "cell_type": "code",
   "execution_count": 2,
   "id": "ba7dfe92-453e-475d-a2d8-8d783aaaff88",
   "metadata": {},
   "outputs": [
    {
     "data": {
      "application/vnd.jupyter.widget-view+json": {
       "model_id": "b7c6a90519cf4a3baa74520e33964c7a",
       "version_major": 2,
       "version_minor": 0
      },
      "text/plain": [
       "Downloading (…)okenizer_config.json:   0%|          | 0.00/48.0 [00:00<?, ?B/s]"
      ]
     },
     "metadata": {},
     "output_type": "display_data"
    },
    {
     "data": {
      "application/vnd.jupyter.widget-view+json": {
       "model_id": "6407b56493234b8ca4759f63cc58da89",
       "version_major": 2,
       "version_minor": 0
      },
      "text/plain": [
       "Downloading (…)lve/main/config.json:   0%|          | 0.00/1.02k [00:00<?, ?B/s]"
      ]
     },
     "metadata": {},
     "output_type": "display_data"
    },
    {
     "data": {
      "application/vnd.jupyter.widget-view+json": {
       "model_id": "1feda7c1f2234a90bf58ca2abd1423a5",
       "version_major": 2,
       "version_minor": 0
      },
      "text/plain": [
       "Downloading (…)solve/main/vocab.txt:   0%|          | 0.00/222k [00:00<?, ?B/s]"
      ]
     },
     "metadata": {},
     "output_type": "display_data"
    },
    {
     "data": {
      "application/vnd.jupyter.widget-view+json": {
       "model_id": "3bb84336919a4b40a96a7e2f0d07eac5",
       "version_major": 2,
       "version_minor": 0
      },
      "text/plain": [
       "Downloading (…)cial_tokens_map.json:   0%|          | 0.00/112 [00:00<?, ?B/s]"
      ]
     },
     "metadata": {},
     "output_type": "display_data"
    },
    {
     "data": {
      "application/vnd.jupyter.widget-view+json": {
       "model_id": "74e330752d734752b9f57cc6c06c7e15",
       "version_major": 2,
       "version_minor": 0
      },
      "text/plain": [
       "Downloading pytorch_model.bin:   0%|          | 0.00/440M [00:00<?, ?B/s]"
      ]
     },
     "metadata": {},
     "output_type": "display_data"
    },
    {
     "name": "stderr",
     "output_type": "stream",
     "text": [
      "Some weights of the model checkpoint at nlpaueb/legal-bert-base-uncased were not used when initializing BertModel: ['cls.seq_relationship.weight', 'cls.predictions.transform.dense.weight', 'cls.seq_relationship.bias', 'cls.predictions.transform.dense.bias', 'cls.predictions.bias', 'cls.predictions.transform.LayerNorm.bias', 'cls.predictions.decoder.weight', 'cls.predictions.decoder.bias', 'cls.predictions.transform.LayerNorm.weight']\n",
      "- This IS expected if you are initializing BertModel from the checkpoint of a model trained on another task or with another architecture (e.g. initializing a BertForSequenceClassification model from a BertForPreTraining model).\n",
      "- This IS NOT expected if you are initializing BertModel from the checkpoint of a model that you expect to be exactly identical (initializing a BertForSequenceClassification model from a BertForSequenceClassification model).\n"
     ]
    }
   ],
   "source": [
    "from transformers import AutoTokenizer, AutoModel, BertLMHeadModel\n",
    "\n",
    "tokenizer = AutoTokenizer.from_pretrained(\"nlpaueb/legal-bert-small-uncased\")\n",
    "model = AutoModel.from_pretrained(\"nlpaueb/legal-bert-small-uncased\")"
   ]
  },
  {
   "cell_type": "markdown",
   "id": "f874bcd9-1e5c-4497-8371-c5bb74eeafa6",
   "metadata": {},
   "source": [
    "### Tokenize"
   ]
  },
  {
   "cell_type": "code",
   "execution_count": 17,
   "id": "f7f913af-2072-41fb-918a-30f110966430",
   "metadata": {},
   "outputs": [],
   "source": [
    "text = \"\"\"\n",
    "An Alabama state court convicted Billy Joe Magwood of murder and sentenced him to death. Subsequently, an Alabama federal district court partially granted Mr. Magwood's petition for federal habeas corpus relief. The court upheld his conviction but instructed the state court to look at mitigating evidence when resentencing Mr. Magwood. Upon resentencing, the state court sentenced Mr. Magwood to death once again. Mr. Magwood filed a second petition for federal habeas corpus relief with the federal district court arguing that a judicial rule was retroactively applied in his case and that he lacked effective counsel at sentencing. The district court granted the petition and vacated Mr. Magwood's death sentence.\n",
    "On appeal, the U.S. Court of Appeals for the Eleventh circuit reversed, holding that prisoners may not raise challenges to an original sentence that could have been raised in an earlier petition. The court also held that Mr. Magwood's counsel was not ineffective because he failed to raise an argument that had already been decided by the state's highest court adverse to his client's position.\n",
    "\"\"\""
   ]
  },
  {
   "cell_type": "code",
   "execution_count": 18,
   "id": "1a274c3e-bd3b-4dd9-9477-0eff62a56558",
   "metadata": {
    "scrolled": true
   },
   "outputs": [
    {
     "data": {
      "text/plain": [
       "[101,\n",
       " 237,\n",
       " 6754,\n",
       " 264,\n",
       " 240,\n",
       " 3276,\n",
       " 2112,\n",
       " 195,\n",
       " 11752,\n",
       " 7173,\n",
       " 3664,\n",
       " 210,\n",
       " 4127,\n",
       " 212,\n",
       " 4205,\n",
       " 700,\n",
       " 211,\n",
       " 1466,\n",
       " 117,\n",
       " 1908,\n",
       " 115,\n",
       " 237,\n",
       " 6754,\n",
       " 522,\n",
       " 483,\n",
       " 240,\n",
       " 1680,\n",
       " 301,\n",
       " 614,\n",
       " 553,\n",
       " 117,\n",
       " 7173,\n",
       " 3664,\n",
       " 110,\n",
       " 163,\n",
       " 1497,\n",
       " 217,\n",
       " 522,\n",
       " 4755,\n",
       " 5703,\n",
       " 1322,\n",
       " 117,\n",
       " 207,\n",
       " 240,\n",
       " 3232,\n",
       " 275,\n",
       " 2217,\n",
       " 310,\n",
       " 4893,\n",
       " 207,\n",
       " 264,\n",
       " 240,\n",
       " 211,\n",
       " 3212,\n",
       " 236,\n",
       " 8603,\n",
       " 460,\n",
       " 372,\n",
       " 18172,\n",
       " 553,\n",
       " 117,\n",
       " 7173,\n",
       " 3664,\n",
       " 117,\n",
       " 306,\n",
       " 18172,\n",
       " 115,\n",
       " 207,\n",
       " 264,\n",
       " 240,\n",
       " 4205,\n",
       " 553,\n",
       " 117,\n",
       " 7173,\n",
       " 3664,\n",
       " 211,\n",
       " 1466,\n",
       " 1831,\n",
       " 2096,\n",
       " 117,\n",
       " 553,\n",
       " 117,\n",
       " 7173,\n",
       " 3664,\n",
       " 678,\n",
       " 145,\n",
       " 450,\n",
       " 1497,\n",
       " 217,\n",
       " 522,\n",
       " 4755,\n",
       " 5703,\n",
       " 1322,\n",
       " 225,\n",
       " 207,\n",
       " 522,\n",
       " 483,\n",
       " 240,\n",
       " 5438,\n",
       " 216,\n",
       " 145,\n",
       " 1263,\n",
       " 525,\n",
       " 246,\n",
       " 4349,\n",
       " 301,\n",
       " 740,\n",
       " 213,\n",
       " 275,\n",
       " 256,\n",
       " 212,\n",
       " 216,\n",
       " 300,\n",
       " 6357,\n",
       " 440,\n",
       " 661,\n",
       " 236,\n",
       " 3334,\n",
       " 117,\n",
       " 207,\n",
       " 483,\n",
       " 240,\n",
       " 614,\n",
       " 207,\n",
       " 1497,\n",
       " 212,\n",
       " 6672,\n",
       " 553,\n",
       " 117,\n",
       " 7173,\n",
       " 3664,\n",
       " 110,\n",
       " 163,\n",
       " 1466,\n",
       " 1091,\n",
       " 117,\n",
       " 222,\n",
       " 615,\n",
       " 115,\n",
       " 207,\n",
       " 165,\n",
       " 117,\n",
       " 163,\n",
       " 117,\n",
       " 240,\n",
       " 210,\n",
       " 1409,\n",
       " 217,\n",
       " 207,\n",
       " 6116,\n",
       " 881,\n",
       " 5133,\n",
       " 115,\n",
       " 1108,\n",
       " 216,\n",
       " 4239,\n",
       " 245,\n",
       " 227,\n",
       " 2807,\n",
       " 4090,\n",
       " 211,\n",
       " 237,\n",
       " 856,\n",
       " 1091,\n",
       " 216,\n",
       " 481,\n",
       " 247,\n",
       " 255,\n",
       " 1810,\n",
       " 213,\n",
       " 237,\n",
       " 1435,\n",
       " 1497,\n",
       " 117,\n",
       " 207,\n",
       " 240,\n",
       " 323,\n",
       " 545,\n",
       " 216,\n",
       " 553,\n",
       " 117,\n",
       " 7173,\n",
       " 3664,\n",
       " 110,\n",
       " 163,\n",
       " 661,\n",
       " 246,\n",
       " 227,\n",
       " 4108,\n",
       " 552,\n",
       " 300,\n",
       " 1096,\n",
       " 211,\n",
       " 2807,\n",
       " 237,\n",
       " 1151,\n",
       " 216,\n",
       " 263,\n",
       " 1078,\n",
       " 255,\n",
       " 1287,\n",
       " 218,\n",
       " 207,\n",
       " 264,\n",
       " 110,\n",
       " 163,\n",
       " 3479,\n",
       " 240,\n",
       " 1160,\n",
       " 211,\n",
       " 275,\n",
       " 2487,\n",
       " 110,\n",
       " 163,\n",
       " 811,\n",
       " 117,\n",
       " 102]"
      ]
     },
     "execution_count": 18,
     "metadata": {},
     "output_type": "execute_result"
    }
   ],
   "source": [
    "ids = tokenizer.encode(text)\n",
    "ids"
   ]
  },
  {
   "cell_type": "code",
   "execution_count": 19,
   "id": "e9fc973c-9622-4f6b-b995-a77b458ea179",
   "metadata": {},
   "outputs": [
    {
     "data": {
      "text/plain": [
       "\"[CLS] an alabama state court convicted billy joe magwood of murder and sentenced him to death. subsequently, an alabama federal district court partially granted mr. magwood's petition for federal habeas corpus relief. the court upheld his conviction but instructed the state court to look at mitigating evidence when resentencing mr. magwood. upon resentencing, the state court sentenced mr. magwood to death once again. mr. magwood filed a second petition for federal habeas corpus relief with the federal district court arguing that a judicial rule was retroactively applied in his case and that he lacked effective counsel at sentencing. the district court granted the petition and vacated mr. magwood's death sentence. on appeal, the u. s. court of appeals for the eleventh circuit reversed, holding that prisoners may not raise challenges to an original sentence that could have been raised in an earlier petition. the court also held that mr. magwood's counsel was not ineffective because he failed to raise an argument that had already been decided by the state's highest court adverse to his client's position. [SEP]\""
      ]
     },
     "execution_count": 19,
     "metadata": {},
     "output_type": "execute_result"
    }
   ],
   "source": [
    "tokenizer.decode(ids)"
   ]
  },
  {
   "cell_type": "code",
   "execution_count": 20,
   "id": "a9325ac6-fc02-4d02-9085-ef39891872a9",
   "metadata": {},
   "outputs": [],
   "source": [
    "import torch"
   ]
  },
  {
   "cell_type": "markdown",
   "id": "f0938b25-2900-4c66-bf0e-9283975058f7",
   "metadata": {},
   "source": [
    "It has a generate method that expects a batch of prompt, so we feed it our ids and add one batch dimension (there is a padding warning we can ignore as well):"
   ]
  },
  {
   "cell_type": "code",
   "execution_count": 21,
   "id": "72594f1d-03e6-4a6a-bbf1-5a501288fb93",
   "metadata": {},
   "outputs": [
    {
     "ename": "TypeError",
     "evalue": "The current model class (BertModel) is not compatible with `.generate()`, as it doesn't have a language model head. Please use one of the following classes instead: {'BertLMHeadModel'}",
     "output_type": "error",
     "traceback": [
      "\u001b[0;31m---------------------------------------------------------------------------\u001b[0m",
      "\u001b[0;31mTypeError\u001b[0m                                 Traceback (most recent call last)",
      "Cell \u001b[0;32mIn[21], line 2\u001b[0m\n\u001b[1;32m      1\u001b[0m t \u001b[38;5;241m=\u001b[39m torch\u001b[38;5;241m.\u001b[39mLongTensor(ids)[\u001b[38;5;28;01mNone\u001b[39;00m]\n\u001b[0;32m----> 2\u001b[0m preds \u001b[38;5;241m=\u001b[39m \u001b[43mmodel\u001b[49m\u001b[38;5;241;43m.\u001b[39;49m\u001b[43mgenerate\u001b[49m\u001b[43m(\u001b[49m\u001b[43mt\u001b[49m\u001b[43m)\u001b[49m\n",
      "File \u001b[0;32m~/miniconda3/envs/nlp/lib/python3.11/site-packages/torch/utils/_contextlib.py:115\u001b[0m, in \u001b[0;36mcontext_decorator.<locals>.decorate_context\u001b[0;34m(*args, **kwargs)\u001b[0m\n\u001b[1;32m    112\u001b[0m \u001b[38;5;129m@functools\u001b[39m\u001b[38;5;241m.\u001b[39mwraps(func)\n\u001b[1;32m    113\u001b[0m \u001b[38;5;28;01mdef\u001b[39;00m \u001b[38;5;21mdecorate_context\u001b[39m(\u001b[38;5;241m*\u001b[39margs, \u001b[38;5;241m*\u001b[39m\u001b[38;5;241m*\u001b[39mkwargs):\n\u001b[1;32m    114\u001b[0m     \u001b[38;5;28;01mwith\u001b[39;00m ctx_factory():\n\u001b[0;32m--> 115\u001b[0m         \u001b[38;5;28;01mreturn\u001b[39;00m \u001b[43mfunc\u001b[49m\u001b[43m(\u001b[49m\u001b[38;5;241;43m*\u001b[39;49m\u001b[43margs\u001b[49m\u001b[43m,\u001b[49m\u001b[43m \u001b[49m\u001b[38;5;241;43m*\u001b[39;49m\u001b[38;5;241;43m*\u001b[39;49m\u001b[43mkwargs\u001b[49m\u001b[43m)\u001b[49m\n",
      "File \u001b[0;32m~/miniconda3/envs/nlp/lib/python3.11/site-packages/transformers/generation/utils.py:1250\u001b[0m, in \u001b[0;36mGenerationMixin.generate\u001b[0;34m(self, inputs, generation_config, logits_processor, stopping_criteria, prefix_allowed_tokens_fn, synced_gpus, assistant_model, streamer, **kwargs)\u001b[0m\n\u001b[1;32m   1247\u001b[0m         synced_gpus \u001b[38;5;241m=\u001b[39m \u001b[38;5;28;01mFalse\u001b[39;00m\n\u001b[1;32m   1249\u001b[0m \u001b[38;5;66;03m# 1. Handle `generation_config` and kwargs that might update it, and validate the `.generate()` call\u001b[39;00m\n\u001b[0;32m-> 1250\u001b[0m \u001b[38;5;28;43mself\u001b[39;49m\u001b[38;5;241;43m.\u001b[39;49m\u001b[43m_validate_model_class\u001b[49m\u001b[43m(\u001b[49m\u001b[43m)\u001b[49m\n\u001b[1;32m   1252\u001b[0m \u001b[38;5;66;03m# priority: `generation_config` argument > `model.generation_config` (the default generation config)\u001b[39;00m\n\u001b[1;32m   1253\u001b[0m \u001b[38;5;28;01mif\u001b[39;00m generation_config \u001b[38;5;129;01mis\u001b[39;00m \u001b[38;5;28;01mNone\u001b[39;00m:\n\u001b[1;32m   1254\u001b[0m     \u001b[38;5;66;03m# legacy: users may modify the model configuration to control generation -- update the generation config\u001b[39;00m\n\u001b[1;32m   1255\u001b[0m     \u001b[38;5;66;03m# model attribute accordingly, if it was created from the model config\u001b[39;00m\n",
      "File \u001b[0;32m~/miniconda3/envs/nlp/lib/python3.11/site-packages/transformers/generation/utils.py:1124\u001b[0m, in \u001b[0;36mGenerationMixin._validate_model_class\u001b[0;34m(self)\u001b[0m\n\u001b[1;32m   1122\u001b[0m \u001b[38;5;28;01mif\u001b[39;00m generate_compatible_classes:\n\u001b[1;32m   1123\u001b[0m     exception_message \u001b[38;5;241m+\u001b[39m\u001b[38;5;241m=\u001b[39m \u001b[38;5;124mf\u001b[39m\u001b[38;5;124m\"\u001b[39m\u001b[38;5;124m Please use one of the following classes instead: \u001b[39m\u001b[38;5;132;01m{\u001b[39;00mgenerate_compatible_classes\u001b[38;5;132;01m}\u001b[39;00m\u001b[38;5;124m\"\u001b[39m\n\u001b[0;32m-> 1124\u001b[0m \u001b[38;5;28;01mraise\u001b[39;00m \u001b[38;5;167;01mTypeError\u001b[39;00m(exception_message)\n",
      "\u001b[0;31mTypeError\u001b[0m: The current model class (BertModel) is not compatible with `.generate()`, as it doesn't have a language model head. Please use one of the following classes instead: {'BertLMHeadModel'}"
     ]
    }
   ],
   "source": [
    "t = torch.LongTensor(ids)[None]\n",
    "preds = model.generate(t)"
   ]
  },
  {
   "cell_type": "code",
   "execution_count": 10,
   "id": "ec275443-dce8-4a3e-a807-def71d9f6ee1",
   "metadata": {},
   "outputs": [
    {
     "data": {
      "text/plain": [
       "(torch.Size([1, 20]),\n",
       " tensor([1212,  318,  281, 1672,  286, 2420,   11,  290,  340,  338,  407,  257,\n",
       "          922,  530,   13,  198,  198,  464,  717, 1517]))"
      ]
     },
     "execution_count": 10,
     "metadata": {},
     "output_type": "execute_result"
    }
   ],
   "source": [
    "preds.shape,preds[0]"
   ]
  },
  {
   "cell_type": "code",
   "execution_count": 11,
   "id": "c4e15ccd-8d80-414f-8acb-89ed0ec7543a",
   "metadata": {},
   "outputs": [
    {
     "data": {
      "text/plain": [
       "\"This is an example of text, and it's not a good one.\\n\\nThe first thing\""
      ]
     },
     "execution_count": 11,
     "metadata": {},
     "output_type": "execute_result"
    }
   ],
   "source": [
    "tokenizer.decode(preds[0].numpy())"
   ]
  },
  {
   "cell_type": "markdown",
   "id": "a803b5a5-2ccf-470c-838b-11d0ef2db8e8",
   "metadata": {},
   "source": [
    "# Bridging the gap with fastai"
   ]
  },
  {
   "cell_type": "code",
   "execution_count": 22,
   "id": "a21bef5d-9404-4b49-b1b5-b1e85a5045d3",
   "metadata": {},
   "outputs": [],
   "source": [
    "from fastai.text.all import *"
   ]
  },
  {
   "cell_type": "code",
   "execution_count": 23,
   "id": "fd2a831d-2c4f-4f88-abcf-2ce81a5d7cd6",
   "metadata": {},
   "outputs": [],
   "source": [
    "import os\n",
    "from pathlib import Path\n",
    "\n",
    "path = Path(os.getcwd() + '/datasets')"
   ]
  },
  {
   "cell_type": "code",
   "execution_count": 24,
   "id": "7baf707f-a0d7-484d-92d6-f221a2bcbdea",
   "metadata": {},
   "outputs": [],
   "source": [
    "train = pd.read_csv(path / 'train.csv')\n",
    "test = pd.read_csv(path / 'test.csv')\n",
    "submission = pd.read_csv(path / 'sample_submission.csv')"
   ]
  },
  {
   "cell_type": "code",
   "execution_count": 25,
   "id": "8c3ca09d-6cb8-4abf-af42-35283da744ba",
   "metadata": {},
   "outputs": [
    {
     "data": {
      "text/html": [
       "<div>\n",
       "<style scoped>\n",
       "    .dataframe tbody tr th:only-of-type {\n",
       "        vertical-align: middle;\n",
       "    }\n",
       "\n",
       "    .dataframe tbody tr th {\n",
       "        vertical-align: top;\n",
       "    }\n",
       "\n",
       "    .dataframe thead th {\n",
       "        text-align: right;\n",
       "    }\n",
       "</style>\n",
       "<table border=\"1\" class=\"dataframe\">\n",
       "  <thead>\n",
       "    <tr style=\"text-align: right;\">\n",
       "      <th></th>\n",
       "      <th>ID</th>\n",
       "      <th>first_party</th>\n",
       "      <th>second_party</th>\n",
       "      <th>facts</th>\n",
       "      <th>first_party_winner</th>\n",
       "    </tr>\n",
       "  </thead>\n",
       "  <tbody>\n",
       "    <tr>\n",
       "      <th>0</th>\n",
       "      <td>TRAIN_0000</td>\n",
       "      <td>Phil A. St. Amant</td>\n",
       "      <td>Herman A. Thompson</td>\n",
       "      <td>On June 27, 1962, Phil St. Amant, a candidate for public office, made a television speech in Baton Rouge, Louisiana.  During this speech, St. Amant accused his political opponent of being a Communist and of being involved in criminal activities with the head of the local Teamsters Union.  Finally, St. Amant implicated Herman Thompson, an East Baton Rouge deputy sheriff, in a scheme to move money between the Teamsters Union and St. Amant’s political opponent. \\nThompson successfully sued St. Amant for defamation.  Louisiana’s First Circuit Court of Appeals reversed, holding that Thompson di...</td>\n",
       "      <td>1</td>\n",
       "    </tr>\n",
       "    <tr>\n",
       "      <th>1</th>\n",
       "      <td>TRAIN_0001</td>\n",
       "      <td>Stephen Duncan</td>\n",
       "      <td>Lawrence Owens</td>\n",
       "      <td>Ramon Nelson was riding his bike when he suffered a lethal blow to the back of his head with a baseball bat. After two eyewitnesses identified Lawrence Owens from an array of photos and then a lineup, he was tried and convicted for Nelson’s death. Because Nelson was carrying cocaine and crack cocaine potentially for distribution, the judge at Owens’ bench trial ruled that Owens was probably also a drug dealer and was trying to “knock [Nelson] off.” Owens was found guilty of first-degree murder and sentenced to 25 years in prison.\\nOwens filed a petition for a writ of habeas corpus on the g...</td>\n",
       "      <td>0</td>\n",
       "    </tr>\n",
       "    <tr>\n",
       "      <th>2</th>\n",
       "      <td>TRAIN_0002</td>\n",
       "      <td>Billy Joe Magwood</td>\n",
       "      <td>Tony Patterson, Warden, et al.</td>\n",
       "      <td>An Alabama state court convicted Billy Joe Magwood of murder and sentenced him to death. Subsequently, an Alabama federal district court partially granted Mr. Magwood's petition for federal habeas corpus relief. The court upheld his conviction but instructed the state court to look at mitigating evidence when resentencing Mr. Magwood. Upon resentencing, the state court sentenced Mr. Magwood to death once again. Mr. Magwood filed a second petition for federal habeas corpus relief with the federal district court arguing that a judicial rule was retroactively applied in his case and that he l...</td>\n",
       "      <td>1</td>\n",
       "    </tr>\n",
       "    <tr>\n",
       "      <th>3</th>\n",
       "      <td>TRAIN_0003</td>\n",
       "      <td>Linkletter</td>\n",
       "      <td>Walker</td>\n",
       "      <td>Victor Linkletter was convicted in state court on evidence illegally obtained by police prior to the Supreme Court decision concerning the Fourth Amendment in Mapp v. Ohio. Mapp applied the exclusionary rule to state criminal proceedings, denying the use of illegally obtained evidence at trial. Linkletter argued for a retrial based on the Mapp decision.\\n</td>\n",
       "      <td>0</td>\n",
       "    </tr>\n",
       "    <tr>\n",
       "      <th>4</th>\n",
       "      <td>TRAIN_0004</td>\n",
       "      <td>William Earl Fikes</td>\n",
       "      <td>Alabama</td>\n",
       "      <td>On April 24, 1953 in Selma, Alabama, an intruder broke into the apartment of the daughter of the city mayor. The daughter and the intruder struggled through several rooms until she was able to seize his knife, and he fled. The assailant had a towel over his head, so the victim could not identify the defendant during the trial. The police apprehended William Earl Fikes on the basis of a call from a private citizen and held him “on an open charge of investigation.” The police questioned Fikes for hours, placed him in jail, and limited his access to anyone familiar. After nearly a week of thi...</td>\n",
       "      <td>1</td>\n",
       "    </tr>\n",
       "  </tbody>\n",
       "</table>\n",
       "</div>"
      ],
      "text/plain": [
       "           ID         first_party                    second_party  \\\n",
       "0  TRAIN_0000   Phil A. St. Amant              Herman A. Thompson   \n",
       "1  TRAIN_0001      Stephen Duncan                  Lawrence Owens   \n",
       "2  TRAIN_0002   Billy Joe Magwood  Tony Patterson, Warden, et al.   \n",
       "3  TRAIN_0003          Linkletter                          Walker   \n",
       "4  TRAIN_0004  William Earl Fikes                         Alabama   \n",
       "\n",
       "                                                                                                                                                                                                                                                                                                                                                                                                                                                                                                                                                                                                                     facts  \\\n",
       "0  On June 27, 1962, Phil St. Amant, a candidate for public office, made a television speech in Baton Rouge, Louisiana.  During this speech, St. Amant accused his political opponent of being a Communist and of being involved in criminal activities with the head of the local Teamsters Union.  Finally, St. Amant implicated Herman Thompson, an East Baton Rouge deputy sheriff, in a scheme to move money between the Teamsters Union and St. Amant’s political opponent. \\nThompson successfully sued St. Amant for defamation.  Louisiana’s First Circuit Court of Appeals reversed, holding that Thompson di...   \n",
       "1  Ramon Nelson was riding his bike when he suffered a lethal blow to the back of his head with a baseball bat. After two eyewitnesses identified Lawrence Owens from an array of photos and then a lineup, he was tried and convicted for Nelson’s death. Because Nelson was carrying cocaine and crack cocaine potentially for distribution, the judge at Owens’ bench trial ruled that Owens was probably also a drug dealer and was trying to “knock [Nelson] off.” Owens was found guilty of first-degree murder and sentenced to 25 years in prison.\\nOwens filed a petition for a writ of habeas corpus on the g...   \n",
       "2  An Alabama state court convicted Billy Joe Magwood of murder and sentenced him to death. Subsequently, an Alabama federal district court partially granted Mr. Magwood's petition for federal habeas corpus relief. The court upheld his conviction but instructed the state court to look at mitigating evidence when resentencing Mr. Magwood. Upon resentencing, the state court sentenced Mr. Magwood to death once again. Mr. Magwood filed a second petition for federal habeas corpus relief with the federal district court arguing that a judicial rule was retroactively applied in his case and that he l...   \n",
       "3                                                                                                                                                                                                                                                    Victor Linkletter was convicted in state court on evidence illegally obtained by police prior to the Supreme Court decision concerning the Fourth Amendment in Mapp v. Ohio. Mapp applied the exclusionary rule to state criminal proceedings, denying the use of illegally obtained evidence at trial. Linkletter argued for a retrial based on the Mapp decision.\\n   \n",
       "4  On April 24, 1953 in Selma, Alabama, an intruder broke into the apartment of the daughter of the city mayor. The daughter and the intruder struggled through several rooms until she was able to seize his knife, and he fled. The assailant had a towel over his head, so the victim could not identify the defendant during the trial. The police apprehended William Earl Fikes on the basis of a call from a private citizen and held him “on an open charge of investigation.” The police questioned Fikes for hours, placed him in jail, and limited his access to anyone familiar. After nearly a week of thi...   \n",
       "\n",
       "   first_party_winner  \n",
       "0                   1  \n",
       "1                   0  \n",
       "2                   1  \n",
       "3                   0  \n",
       "4                   1  "
      ]
     },
     "execution_count": 25,
     "metadata": {},
     "output_type": "execute_result"
    }
   ],
   "source": [
    "train.head()"
   ]
  },
  {
   "cell_type": "code",
   "execution_count": 26,
   "id": "a14d3f6b-01d1-4ce2-a68f-a566fb61a1c6",
   "metadata": {},
   "outputs": [],
   "source": [
    "all_texts = train['facts'].values"
   ]
  },
  {
   "cell_type": "markdown",
   "id": "4f6429bf-9ea4-407f-a4ef-4919b9ff1ff8",
   "metadata": {},
   "source": [
    "## Importing Libraries & Data Preparation"
   ]
  },
  {
   "cell_type": "code",
   "execution_count": 28,
   "id": "3ce9979c-4b81-4da7-a33f-4fb11da3a6c6",
   "metadata": {},
   "outputs": [
    {
     "data": {
      "text/plain": [
       "821"
      ]
     },
     "execution_count": 28,
     "metadata": {},
     "output_type": "execute_result"
    }
   ],
   "source": [
    "import numpy as np\n",
    "import pandas as pd\n",
    "\n",
    "from pathlib import Path\n",
    "from typing import *\n",
    "\n",
    "import torch\n",
    "import torch.optim as optim\n",
    "\n",
    "import gc\n",
    "gc.collect()"
   ]
  },
  {
   "cell_type": "code",
   "execution_count": 29,
   "id": "e264c89c-6b62-4a32-99f2-0489a0dca37d",
   "metadata": {},
   "outputs": [],
   "source": [
    "from fastai import *\n",
    "from fastai.text import *\n",
    "\n",
    "import sys\n",
    "\n",
    "from fastai.callback.tracker import EarlyStoppingCallback\n",
    "from fastai.callback.tracker import SaveModelCallback"
   ]
  },
  {
   "cell_type": "markdown",
   "id": "32d4c9eb-4070-452a-aef6-f9a4bed8b00f",
   "metadata": {},
   "source": [
    "As mentioned in the article in first section, we will change the tokenizer of Fastai to incorporate BertTokenizer. One important thing to note here is to change the start and end of each token with [CLS] and [SEP] which is a requirement of BERT.\n",
    "\n"
   ]
  },
  {
   "cell_type": "markdown",
   "id": "39264cdd-96cf-4eb3-b210-a3743145ebbb",
   "metadata": {},
   "source": [
    "## fastai Transform"
   ]
  },
  {
   "cell_type": "code",
   "execution_count": 31,
   "id": "69d0cd56-f9c0-4438-b330-e553863b7efd",
   "metadata": {},
   "outputs": [],
   "source": [
    "class TransformersTokenizer(Transform):\n",
    "    def __init__(self, tokenizer): self.tokenizer = tokenizer\n",
    "    def encodes(self, x):\n",
    "        toks = self.tokenizer.tokenize(x)\n",
    "        return tensor(self.tokenizer.convert_tokens_to_ids(toks))\n",
    "    def decodes(self, x): return TitledStr(self.tokenizer.decode(x.cpu().numpy()))"
   ]
  },
  {
   "cell_type": "code",
   "execution_count": 36,
   "id": "603e5a67-4fd3-4585-b2a0-86f4e840dbaa",
   "metadata": {},
   "outputs": [
    {
     "data": {
      "text/plain": [
       "2478"
      ]
     },
     "execution_count": 36,
     "metadata": {},
     "output_type": "execute_result"
    }
   ],
   "source": [
    "len(all_texts)"
   ]
  },
  {
   "cell_type": "code",
   "execution_count": 37,
   "id": "65e3b31a-88cc-47ff-8f54-99a57242a81f",
   "metadata": {},
   "outputs": [],
   "source": [
    "# train:valid = 0.85:0.15\n",
    "splits = [list(range(0, 2100)), list(range(2100, len(all_texts)))]\n",
    "tls = TfmdLists(all_texts, TransformersTokenizer(tokenizer), splits=splits, dl_type=LMDataLoader)"
   ]
  },
  {
   "cell_type": "code",
   "execution_count": 35,
   "id": "a594eda9-e3c5-429d-a4e6-bbec51d7936d",
   "metadata": {
    "scrolled": true
   },
   "outputs": [
    {
     "data": {
      "text/plain": [
       "(tensor([  222,   557,   554,   115,  4456,   115, 13927,   719,   117,  1824,\n",
       "          3519,   115,   145,  4064,   217,   408,   648,   115,   280,   145,\n",
       "          3332,  5562,   213, 22227, 18765,   175,   115,  5733,   117,   391,\n",
       "           226,  5562,   115,   719,   117,  1824,  3519,  2693,   275,  1897,\n",
       "         13351,   210,   472,   145, 13890,   212,   210,   472,  1325,   213,\n",
       "           797,   704,   225,   207,  1734,   210,   207,   958, 16936,   189,\n",
       "           403,   117,  1700,   115,   719,   117,  1824,  3519, 11933, 14834,\n",
       "          7065,   115,   237,  2595, 22227, 18765,   175,  3393,  7639,   115,\n",
       "           213,   145,  1286,   211,  3620,  1364,   317,   207, 16936,   189,\n",
       "           403,   212,   719,   117,  1824,  3519,   100,   163,  1897, 13351,\n",
       "           117,  7065,  6273,  6047,   719,   117,  1824,  3519,   217,  7311,\n",
       "           860,   117,  5733,   100,   163,   296,   881,   240,   210,  1409,\n",
       "          5133,   115,  1108,   216,  7065,   503,   227,  1596,   719,   117,\n",
       "          1824,  3519,  3350,   225,   100, 14159,   175,   117,   100,  7065,\n",
       "           207,   184,  3451,   211,   207,  1313,   240,   210,  5733,   117,\n",
       "           216,   240,   545,   216,   115,  1130,   408,  2451,  4094,   805,\n",
       "           210,   270,   296,   543,   644,   238,  7311,   860,   115,   719,\n",
       "           117,  1824,  3519,  2693,  7065,   210,   145,  2306,   225, 15400,\n",
       "          4950,   210,   331,   207,  2368,   292,  1377,   117,  1700,   115,\n",
       "           216,   240,   545,   216,   207,   296,   543,  1839,   189,  5397,\n",
       "           184, 29209,   115, 12763,  6530,   115,  1625,   268,   237,  1505,\n",
       "          5674,   211, 13357,   476,   207,   667,   505,   210,  4440,   443,\n",
       "         16787,   211,   219,   145,   408,  3661,   117]),\n",
       " tensor([  222,   979,   498,   115,  6473,   115,  3655,  2646,  6047,  5336,\n",
       "           172,  9820,  4360,   243,   569,  3159,   300,   571,   372,   275,\n",
       "          1645,  6764,   288,   145,  5336,   172,  9820,  4360,  3657,   236,\n",
       "           145,  6062,   117,   293,  1310,   637,   210,  3883,   115,   145,\n",
       "          7795,   886,   246,   284,   217,   647,   279,   115,  5657,   117,\n",
       "           222,   647,   282,   115,  5657,   115,  2646,   100,   163,  1194,\n",
       "          7287,   207,  5336,   172,  9820,  4360,  1194,   211,  1858,   700,\n",
       "           216,   300,   246,  3130,   630,   213,  5720, 10636,   212,   297,\n",
       "          8616,   145,  4972,   216,   246,   284,   211, 10733,   373,   207,\n",
       "           886,   117,   207,  1595,  7346,   115,  2646,   100,   163,  2187,\n",
       "          1640,   207, 18582,   211,  1227,   207,   865,   216,   300,   246,\n",
       "          3398,   213,  5720, 10636,   995,  1513,   189,   217,   145,   256,\n",
       "           373,   207,  6263,  1313,   240,   117,   300,   786,   300,   481,\n",
       "           227,   468,   233,   211,   240,   216,   414,   310,   246,   537,\n",
       "           606,   210,   207,  1595,   428,   437,   117,   428,  1705,   293,\n",
       "           207,  7795,   246,  7550,   211,  2728,   115,   207,   240,   765,\n",
       "           216,  2646,   100,   163,  2187,   263,   227,   271,   145,   885,\n",
       "           744,   217,  5275,   207,   886,   212,  1629,   207,   256,   100,\n",
       "           217,   650,   211,  5482,   207,   347,   117,   100,   207,   354,\n",
       "           265,   240,   210,  1409,   217,   207,  3366,   881,  3382,   117]))"
      ]
     },
     "execution_count": 35,
     "metadata": {},
     "output_type": "execute_result"
    }
   ],
   "source": [
    "tls.train[0], tls.valid[0]"
   ]
  },
  {
   "cell_type": "code",
   "execution_count": 38,
   "id": "491b72b1-19ac-4a98-a0d6-406b375401b7",
   "metadata": {
    "scrolled": true
   },
   "outputs": [
    {
     "name": "stdout",
     "output_type": "stream",
     "text": [
      "on june 27, 1962, phil st. amant, a candidate for public office, made a television speech in baton rouge, louisiana. during this speech, st. amant accused his political opponent of being a communist and of being involved in criminal activities with the head of the local teamsters union. finally, st. amant implicated herman thompson, an east baton rouge deputy sheriff, in a scheme to move money between the teamsters union and st. amant [UNK] s political opponent. thompson successfully sued st. amant for defamation. louisiana [UNK] s first circuit court of appeals reversed, holding that thompson did not show st. amant acted with [UNK] malice. [UNK] thompson then appealed to the supreme court of louisiana. that court held that, although public figures forfeit some of their first amendment protection from defamation, st. amant accused thompson of a crime with utter disregard of whether the remarks were true. finally, that court held that the first amendment protects uninhibited, robust debate, rather than an open season to shoot down the good name of anyone who happens to be a public servant.\n"
     ]
    }
   ],
   "source": [
    "show_at(tls.train, 0)"
   ]
  },
  {
   "cell_type": "code",
   "execution_count": 39,
   "id": "a65ebe13-5723-44f7-85b7-689802e72b08",
   "metadata": {
    "scrolled": true
   },
   "outputs": [
    {
     "name": "stdout",
     "output_type": "stream",
     "text": [
      "on august 24, 1954, william link sued wabash railroad company over injuries he received when his car ran into a wabash railroad train at a crossing. after six years of motions, a pretrial hearing was set for october 12, 1960. on october 11, 1960, link [UNK] s attorney contacted the wabash railroad attorney to inform him that he was doing work in indianapolis and would miss a deposition that was set to happen before the hearing. the next morning, link [UNK] s lawyer called the courthouse to notify the judge that he was detained in indianapolis filing papers for a case before the iowa supreme court. he said he could not make it to court that day but was available both of the next two days. two hours after the pretrial was supposed to start, the court found that link [UNK] s lawyer had not provided a sufficient reason for missing the hearing and dismissed the case [UNK] for failure to prosecute the action. [UNK] the united states court of appeals for the seventh circuit affirmed.\n"
     ]
    }
   ],
   "source": [
    "show_at(tls.valid, 0)"
   ]
  },
  {
   "cell_type": "code",
   "execution_count": 40,
   "id": "f5d843fe-68cc-4bae-811a-b0d4de0a21c4",
   "metadata": {},
   "outputs": [
    {
     "name": "stderr",
     "output_type": "stream",
     "text": [
      "Token indices sequence length is longer than the specified maximum sequence length for this model (539 > 512). Running this sequence through the model will result in indexing errors\n"
     ]
    }
   ],
   "source": [
    "bs, sl = 4, 256\n",
    "dls = tls.dataloaders(bs=bs, seq_len=sl)"
   ]
  },
  {
   "cell_type": "code",
   "execution_count": 41,
   "id": "0b09d3c6-9b5c-4d65-a1a2-737fcf39e17c",
   "metadata": {},
   "outputs": [
    {
     "data": {
      "text/html": [
       "<table border=\"1\" class=\"dataframe\">\n",
       "  <thead>\n",
       "    <tr style=\"text-align: right;\">\n",
       "      <th></th>\n",
       "      <th>text</th>\n",
       "      <th>text_</th>\n",
       "    </tr>\n",
       "  </thead>\n",
       "  <tbody>\n",
       "    <tr>\n",
       "      <th>0</th>\n",
       "      <td>the university of wisconsin, a public university, requires students to pay an activity fee. the fee supports various campus services and extracurricular student activities including the future financial gurus of america ; the international socialist organization ; the college democrats and republicans ; and the american civil liberties union campus chapter. scott harold southworth filed suit against the university, alleging that the fee violated his rights of free speech, free association, and free exercise under the first amendment. southworth argued that the university must grant him the choice not to fund registered student organizations ( rso ) that engage in political and ideological expression offensive to his personal beliefs. in granting southworth judgment, the federal district court concluded that the fee program compelled students to support political and ideological activities with which they disagree in violation of their first amendment rights to freedom of speech and association. the court declared</td>\n",
       "      <td>university of wisconsin, a public university, requires students to pay an activity fee. the fee supports various campus services and extracurricular student activities including the future financial gurus of america ; the international socialist organization ; the college democrats and republicans ; and the american civil liberties union campus chapter. scott harold southworth filed suit against the university, alleging that the fee violated his rights of free speech, free association, and free exercise under the first amendment. southworth argued that the university must grant him the choice not to fund registered student organizations ( rso ) that engage in political and ideological expression offensive to his personal beliefs. in granting southworth judgment, the federal district court concluded that the fee program compelled students to support political and ideological activities with which they disagree in violation of their first amendment rights to freedom of speech and association. the court declared the</td>\n",
       "    </tr>\n",
       "    <tr>\n",
       "      <th>1</th>\n",
       "      <td>federal district court, arguing that he was denied effective assistance of counsel at both the guilt and sentencing phases of his trial. the district court upheld pinholster's conviction but granted habeas relief on his death sentence. a panel of the ninth circuit reversed. during rehearing en banc, the ninth circuit vacated the panel opinion and affirmed the district court [UNK] s grant of habeas relief, holding that the denial of habeas relief during the guilt phase was appropriate, but not during the penalty phase. the court noted that strickland v. washington requires trial counsel to investigate mitigating evidence at the penalty phase. here, the court reasoned that pinholster's counsel failed meet to meet his obligations. williams was arrested for the murder of a ten - year - old girl who's body he disposed of along a gravel road. state law enforcement officials engaged in a massive search for the child's</td>\n",
       "      <td>district court, arguing that he was denied effective assistance of counsel at both the guilt and sentencing phases of his trial. the district court upheld pinholster's conviction but granted habeas relief on his death sentence. a panel of the ninth circuit reversed. during rehearing en banc, the ninth circuit vacated the panel opinion and affirmed the district court [UNK] s grant of habeas relief, holding that the denial of habeas relief during the guilt phase was appropriate, but not during the penalty phase. the court noted that strickland v. washington requires trial counsel to investigate mitigating evidence at the penalty phase. here, the court reasoned that pinholster's counsel failed meet to meet his obligations. williams was arrested for the murder of a ten - year - old girl who's body he disposed of along a gravel road. state law enforcement officials engaged in a massive search for the child's body.</td>\n",
       "    </tr>\n",
       "  </tbody>\n",
       "</table>"
      ],
      "text/plain": [
       "<IPython.core.display.HTML object>"
      ]
     },
     "metadata": {},
     "output_type": "display_data"
    }
   ],
   "source": [
    "dls.show_batch(max_n=2)"
   ]
  },
  {
   "cell_type": "markdown",
   "id": "8f9968df-022e-450e-87da-dd5af335f510",
   "metadata": {},
   "source": [
    "## Fine-tuning the model"
   ]
  },
  {
   "cell_type": "code",
   "execution_count": 60,
   "id": "8d5c832f-2a17-4a0c-a96e-b35086b91b9a",
   "metadata": {},
   "outputs": [
    {
     "name": "stderr",
     "output_type": "stream",
     "text": [
      "Some weights of the model checkpoint at nlpaueb/legal-bert-base-uncased were not used when initializing BertLMHeadModel: ['cls.seq_relationship.weight', 'cls.seq_relationship.bias']\n",
      "- This IS expected if you are initializing BertLMHeadModel from the checkpoint of a model trained on another task or with another architecture (e.g. initializing a BertForSequenceClassification model from a BertForPreTraining model).\n",
      "- This IS NOT expected if you are initializing BertLMHeadModel from the checkpoint of a model that you expect to be exactly identical (initializing a BertForSequenceClassification model from a BertForSequenceClassification model).\n"
     ]
    }
   ],
   "source": [
    "from transformers import BertLMHeadModel\n",
    "\n",
    "model = BertLMHeadModel.from_pretrained(\"nlpaueb/legal-bert-base-uncased\", is_decoder=True)"
   ]
  },
  {
   "cell_type": "code",
   "execution_count": 61,
   "id": "54c7c696-8e8d-4213-89fd-c7fb038310c2",
   "metadata": {},
   "outputs": [],
   "source": [
    "class DropOutput(Callback):\n",
    "    def after_pred(self): self.learn.pred = self.pred[0]"
   ]
  },
  {
   "cell_type": "code",
   "execution_count": 62,
   "id": "2b2e4002-8e49-4b13-b585-29c6d77d2364",
   "metadata": {},
   "outputs": [],
   "source": [
    "learn = Learner(dls, model, loss_func=CrossEntropyLossFlat(), cbs=[DropOutput], metrics=Perplexity()).to_fp16()"
   ]
  },
  {
   "cell_type": "code",
   "execution_count": 63,
   "id": "8e259187-2053-4e14-808c-d434e89c9a52",
   "metadata": {},
   "outputs": [
    {
     "data": {
      "text/html": [
       "\n",
       "<style>\n",
       "    /* Turns off some styling */\n",
       "    progress {\n",
       "        /* gets rid of default border in Firefox and Opera. */\n",
       "        border: none;\n",
       "        /* Needs to be in here for Safari polyfill so background images work as expected. */\n",
       "        background-size: auto;\n",
       "    }\n",
       "    progress:not([value]), progress:not([value])::-webkit-progress-bar {\n",
       "        background: repeating-linear-gradient(45deg, #7e7e7e, #7e7e7e 10px, #5c5c5c 10px, #5c5c5c 20px);\n",
       "    }\n",
       "    .progress-bar-interrupted, .progress-bar-interrupted::-webkit-progress-bar {\n",
       "        background: #F44336;\n",
       "    }\n",
       "</style>\n"
      ],
      "text/plain": [
       "<IPython.core.display.HTML object>"
      ]
     },
     "metadata": {},
     "output_type": "display_data"
    },
    {
     "data": {
      "text/html": [],
      "text/plain": [
       "<IPython.core.display.HTML object>"
      ]
     },
     "metadata": {},
     "output_type": "display_data"
    },
    {
     "data": {
      "text/plain": [
       "(#2) [11.054449081420898,63224.62109375]"
      ]
     },
     "execution_count": 63,
     "metadata": {},
     "output_type": "execute_result"
    }
   ],
   "source": [
    "learn.validate()"
   ]
  },
  {
   "cell_type": "code",
   "execution_count": 64,
   "id": "4bd27a5c-ace6-4c2d-b502-63cac6a05294",
   "metadata": {},
   "outputs": [
    {
     "data": {
      "text/html": [
       "\n",
       "<style>\n",
       "    /* Turns off some styling */\n",
       "    progress {\n",
       "        /* gets rid of default border in Firefox and Opera. */\n",
       "        border: none;\n",
       "        /* Needs to be in here for Safari polyfill so background images work as expected. */\n",
       "        background-size: auto;\n",
       "    }\n",
       "    progress:not([value]), progress:not([value])::-webkit-progress-bar {\n",
       "        background: repeating-linear-gradient(45deg, #7e7e7e, #7e7e7e 10px, #5c5c5c 10px, #5c5c5c 20px);\n",
       "    }\n",
       "    .progress-bar-interrupted, .progress-bar-interrupted::-webkit-progress-bar {\n",
       "        background: #F44336;\n",
       "    }\n",
       "</style>\n"
      ],
      "text/plain": [
       "<IPython.core.display.HTML object>"
      ]
     },
     "metadata": {},
     "output_type": "display_data"
    },
    {
     "data": {
      "text/html": [],
      "text/plain": [
       "<IPython.core.display.HTML object>"
      ]
     },
     "metadata": {},
     "output_type": "display_data"
    },
    {
     "data": {
      "text/plain": [
       "SuggestedLRs(valley=6.30957365501672e-05)"
      ]
     },
     "execution_count": 64,
     "metadata": {},
     "output_type": "execute_result"
    },
    {
     "data": {
      "image/png": "[encoded data removed]",
      "text/plain": [
       "<Figure size 640x480 with 1 Axes>"
      ]
     },
     "metadata": {},
     "output_type": "display_data"
    }
   ],
   "source": [
    "learn.lr_find()"
   ]
  },
  {
   "cell_type": "code",
   "execution_count": 65,
   "id": "55a7acc2-ff9e-4458-a4f3-276f874cc72e",
   "metadata": {},
   "outputs": [
    {
     "data": {
      "text/html": [
       "\n",
       "<style>\n",
       "    /* Turns off some styling */\n",
       "    progress {\n",
       "        /* gets rid of default border in Firefox and Opera. */\n",
       "        border: none;\n",
       "        /* Needs to be in here for Safari polyfill so background images work as expected. */\n",
       "        background-size: auto;\n",
       "    }\n",
       "    progress:not([value]), progress:not([value])::-webkit-progress-bar {\n",
       "        background: repeating-linear-gradient(45deg, #7e7e7e, #7e7e7e 10px, #5c5c5c 10px, #5c5c5c 20px);\n",
       "    }\n",
       "    .progress-bar-interrupted, .progress-bar-interrupted::-webkit-progress-bar {\n",
       "        background: #F44336;\n",
       "    }\n",
       "</style>\n"
      ],
      "text/plain": [
       "<IPython.core.display.HTML object>"
      ]
     },
     "metadata": {},
     "output_type": "display_data"
    },
    {
     "data": {
      "text/html": [
       "<table border=\"1\" class=\"dataframe\">\n",
       "  <thead>\n",
       "    <tr style=\"text-align: left;\">\n",
       "      <th>epoch</th>\n",
       "      <th>train_loss</th>\n",
       "      <th>valid_loss</th>\n",
       "      <th>perplexity</th>\n",
       "      <th>time</th>\n",
       "    </tr>\n",
       "  </thead>\n",
       "  <tbody>\n",
       "    <tr>\n",
       "      <td>0</td>\n",
       "      <td>3.607005</td>\n",
       "      <td>3.350775</td>\n",
       "      <td>28.524826</td>\n",
       "      <td>04:02</td>\n",
       "    </tr>\n",
       "  </tbody>\n",
       "</table>"
      ],
      "text/plain": [
       "<IPython.core.display.HTML object>"
      ]
     },
     "metadata": {},
     "output_type": "display_data"
    }
   ],
   "source": [
    "learn.fit_one_cycle(1, 1e-4)"
   ]
  },
  {
   "cell_type": "code",
   "execution_count": 96,
   "id": "c7b7f1f0-83a5-4584-b8ca-7964fa34c12f",
   "metadata": {},
   "outputs": [
    {
     "name": "stderr",
     "output_type": "stream",
     "text": [
      "/Users/ridealist/miniconda3/envs/nlp/lib/python3.11/site-packages/torch/amp/autocast_mode.py:204: UserWarning: User provided device_type of 'cuda', but CUDA is not available. Disabling\n",
      "  warnings.warn('User provided device_type of \\'cuda\\', but CUDA is not available. Disabling')\n",
      "/Users/ridealist/miniconda3/envs/nlp/lib/python3.11/site-packages/torch/cuda/amp/grad_scaler.py:120: UserWarning: torch.cuda.amp.GradScaler is enabled, but CUDA is not available.  Disabling.\n",
      "  warnings.warn(\"torch.cuda.amp.GradScaler is enabled, but CUDA is not available.  Disabling.\")\n"
     ]
    },
    {
     "data": {
      "text/html": [
       "\n",
       "<style>\n",
       "    /* Turns off some styling */\n",
       "    progress {\n",
       "        /* gets rid of default border in Firefox and Opera. */\n",
       "        border: none;\n",
       "        /* Needs to be in here for Safari polyfill so background images work as expected. */\n",
       "        background-size: auto;\n",
       "    }\n",
       "    progress:not([value]), progress:not([value])::-webkit-progress-bar {\n",
       "        background: repeating-linear-gradient(45deg, #7e7e7e, #7e7e7e 10px, #5c5c5c 10px, #5c5c5c 20px);\n",
       "    }\n",
       "    .progress-bar-interrupted, .progress-bar-interrupted::-webkit-progress-bar {\n",
       "        background: #F44336;\n",
       "    }\n",
       "</style>\n"
      ],
      "text/plain": [
       "<IPython.core.display.HTML object>"
      ]
     },
     "metadata": {},
     "output_type": "display_data"
    },
    {
     "data": {
      "text/html": [],
      "text/plain": [
       "<IPython.core.display.HTML object>"
      ]
     },
     "metadata": {},
     "output_type": "display_data"
    },
    {
     "data": {
      "text/plain": [
       "SuggestedLRs(valley=3.311311274956097e-06)"
      ]
     },
     "execution_count": 96,
     "metadata": {},
     "output_type": "execute_result"
    },
    {
     "data": {
      "image/png": "[encoded data removed]",
      "text/plain": [
       "<Figure size 640x480 with 1 Axes>"
      ]
     },
     "metadata": {},
     "output_type": "display_data"
    }
   ],
   "source": [
    "learn.lr_find()"
   ]
  },
  {
   "cell_type": "code",
   "execution_count": 97,
   "id": "c806984d-de1c-46cb-a764-04ffc122a8b1",
   "metadata": {},
   "outputs": [
    {
     "data": {
      "text/html": [
       "\n",
       "<style>\n",
       "    /* Turns off some styling */\n",
       "    progress {\n",
       "        /* gets rid of default border in Firefox and Opera. */\n",
       "        border: none;\n",
       "        /* Needs to be in here for Safari polyfill so background images work as expected. */\n",
       "        background-size: auto;\n",
       "    }\n",
       "    progress:not([value]), progress:not([value])::-webkit-progress-bar {\n",
       "        background: repeating-linear-gradient(45deg, #7e7e7e, #7e7e7e 10px, #5c5c5c 10px, #5c5c5c 20px);\n",
       "    }\n",
       "    .progress-bar-interrupted, .progress-bar-interrupted::-webkit-progress-bar {\n",
       "        background: #F44336;\n",
       "    }\n",
       "</style>\n"
      ],
      "text/plain": [
       "<IPython.core.display.HTML object>"
      ]
     },
     "metadata": {},
     "output_type": "display_data"
    },
    {
     "data": {
      "text/html": [
       "<table border=\"1\" class=\"dataframe\">\n",
       "  <thead>\n",
       "    <tr style=\"text-align: left;\">\n",
       "      <th>epoch</th>\n",
       "      <th>train_loss</th>\n",
       "      <th>valid_loss</th>\n",
       "      <th>perplexity</th>\n",
       "      <th>time</th>\n",
       "    </tr>\n",
       "  </thead>\n",
       "  <tbody>\n",
       "    <tr>\n",
       "      <td>0</td>\n",
       "      <td>3.332638</td>\n",
       "      <td>3.259856</td>\n",
       "      <td>26.045786</td>\n",
       "      <td>19:16</td>\n",
       "    </tr>\n",
       "    <tr>\n",
       "      <td>1</td>\n",
       "      <td>3.221056</td>\n",
       "      <td>3.205770</td>\n",
       "      <td>24.674480</td>\n",
       "      <td>03:38</td>\n",
       "    </tr>\n",
       "    <tr>\n",
       "      <td>2</td>\n",
       "      <td>3.185018</td>\n",
       "      <td>3.195088</td>\n",
       "      <td>24.412331</td>\n",
       "      <td>03:35</td>\n",
       "    </tr>\n",
       "  </tbody>\n",
       "</table>"
      ],
      "text/plain": [
       "<IPython.core.display.HTML object>"
      ]
     },
     "metadata": {},
     "output_type": "display_data"
    }
   ],
   "source": [
    "learn.fit_one_cycle(3, 1e-5)"
   ]
  },
  {
   "cell_type": "markdown",
   "id": "64a11616-66f5-4f43-93f2-7f053f2dcbf0",
   "metadata": {},
   "source": [
    "## Inference"
   ]
  },
  {
   "cell_type": "code",
   "execution_count": 105,
   "id": "24e6a5a7-b4d6-4686-8beb-8607ecc1ecc2",
   "metadata": {},
   "outputs": [],
   "source": [
    "text = \"\"\"\n",
    "the union transmitted a letter to the company notifying the company of its desire to modify the agreement.\n",
    "Representatives of the company and the union first met on August 29, 1951 to discuss the proposed amendments.\n",
    "The two groups held 37 more meetings between that date and April 30, 1952, but no agreement was reached.\n",
    "On April 30, employees of the company went on strike, demanding wage increases and other benefits.\n",
    "Neither the company nor the union notified the other that it intended to terminate the contract.\n",
    "On June 21, 1952, the union offered to return all striking employees to work unconditionally, but the company refused this offer.\n",
    "The company distributed a letter to the union explaining that there would be no reinstatement of workers unless the employees agreed to work for a period of at least one year without work stoppage.\n",
    "After June 21, the company interviewed individual employees and rehired only those who assured the company that they would continue to work daily throughout the strike.\n",
    "On August 3, 1952, a new agreement was executed between the company and the union; employees were reinstated the next day.\n",
    "\"\"\""
   ]
  },
  {
   "cell_type": "code",
   "execution_count": 99,
   "id": "202ac9b4-1308-4fbd-9f4d-b54a3c499f1d",
   "metadata": {},
   "outputs": [],
   "source": [
    "prompt = \"the union transmitted a letter to the company notifying\""
   ]
  },
  {
   "cell_type": "code",
   "execution_count": 100,
   "id": "42c6cdc7-0161-4c38-adaf-b67f7f8343e8",
   "metadata": {},
   "outputs": [
    {
     "data": {
      "text/plain": [
       "tensor([ 101,  207,  403, 3691,  145,  671,  211,  207,  243, 1227,  235,  102])"
      ]
     },
     "execution_count": 100,
     "metadata": {},
     "output_type": "execute_result"
    }
   ],
   "source": [
    "tensor(prompt_ids)"
   ]
  },
  {
   "cell_type": "code",
   "execution_count": 101,
   "id": "064077c6-9b18-4a21-a370-49ceb161049b",
   "metadata": {},
   "outputs": [
    {
     "data": {
      "text/plain": [
       "tensor([ 207,  403, 3691,  145,  671,  211,  207,  243, 1227,  235])"
      ]
     },
     "execution_count": 101,
     "metadata": {},
     "output_type": "execute_result"
    }
   ],
   "source": [
    "tensor(prompt_ids)[1:-1]"
   ]
  },
  {
   "cell_type": "code",
   "execution_count": 102,
   "id": "d6ae6ef0-7341-4b77-9262-8212bb3083dc",
   "metadata": {},
   "outputs": [
    {
     "data": {
      "text/plain": [
       "torch.Size([1, 10])"
      ]
     },
     "execution_count": 102,
     "metadata": {},
     "output_type": "execute_result"
    }
   ],
   "source": [
    "prompt_ids = tokenizer.encode(prompt)\n",
    "inp = tensor(prompt_ids)[1:-1][None].to('mps')\n",
    "inp.shape"
   ]
  },
  {
   "cell_type": "code",
   "execution_count": 103,
   "id": "64ecc4f6-e33d-4e85-8a18-78f28c9b6e6d",
   "metadata": {},
   "outputs": [],
   "source": [
    "preds = learn.model.generate(inp, max_length=200, num_beams=5, temperature=2.0)"
   ]
  },
  {
   "cell_type": "code",
   "execution_count": 104,
   "id": "c9749efe-970e-4c90-8984-d3fa8f6138b1",
   "metadata": {},
   "outputs": [
    {
     "data": {
      "text/plain": [
       "\"the union transmitted a letter to the company notifying the company that the company had not received a letter from the union. the company then sent the letter to the union. the company then sent the letter to the union. the union appealed to the u. s. court of appeals for the federal circuit, which affirmed the lower court's decision. the union appealed to the u. s. court of appeals for the federal circuit, which affirmed the lower court's decision. the u. s. court of appeals for the federal circuit affirmed the lower court's decision. the u. s. court of appeals for the federal circuit affirmed the lower court's decision. the u. s. court of appeals for the federal circuit affirmed the lower court's decision. the u. s. court of appeals for the federal circuit affirmed the lower court's decision. the u. s. court of appeals for the federal circuit affirmed the lower court's decision and held that\""
      ]
     },
     "execution_count": 104,
     "metadata": {},
     "output_type": "execute_result"
    }
   ],
   "source": [
    "tokenizer.decode(preds[0].cpu().numpy())"
   ]
  },
  {
   "cell_type": "code",
   "execution_count": null,
   "id": "6a63a35e-b3d0-47f0-bfdf-8258a4679e59",
   "metadata": {},
   "outputs": [],
   "source": []
  },
  {
   "cell_type": "code",
   "execution_count": null,
   "id": "ba0de58f-9674-4c10-aa3c-881222ad301e",
   "metadata": {},
   "outputs": [],
   "source": []
  },
  {
   "cell_type": "code",
   "execution_count": null,
   "id": "ae18ff90-0204-488b-8208-99f55c619d31",
   "metadata": {},
   "outputs": [],
   "source": [
    "class FastAiBertTokenizer(BaseTokenizer):\n",
    "    \"\"\"Wrapper around BertTokenizer to be compatible with fast.ai\"\"\"\n",
    "    def __init__(self, tokenizer: BertTokenizer, max_seq_len: int=128, **kwargs):\n",
    "        self._pretrained_tokenizer = tokenizer\n",
    "        self.max_seq_len = max_seq_len\n",
    "\n",
    "    def __call__(self, *args, **kwargs):\n",
    "        return self\n",
    "\n",
    "    def tokenizer(self, t:str) -> List[str]:\n",
    "        \"\"\"Limits the maximum sequence length\"\"\"\n",
    "        return [\"[CLS]\"] + self._pretrained_tokenizer.tokenize(t)[:self.max_seq_len - 2] + [\"[SEP]\"]"
   ]
  },
  {
   "cell_type": "code",
   "execution_count": null,
   "id": "1e8d12b6-0c6a-438c-9f39-4fed9df27c2d",
   "metadata": {},
   "outputs": [],
   "source": []
  },
  {
   "cell_type": "code",
   "execution_count": null,
   "id": "f5304e85-525b-40c9-a3ed-b584c19c33e7",
   "metadata": {},
   "outputs": [],
   "source": []
  },
  {
   "cell_type": "code",
   "execution_count": null,
   "id": "360402cc-c2bb-4f3c-9f63-94b487336b29",
   "metadata": {},
   "outputs": [],
   "source": []
  },
  {
   "cell_type": "code",
   "execution_count": null,
   "id": "ba67c3ba-ead6-4d6e-b634-780fcea7029c",
   "metadata": {},
   "outputs": [],
   "source": []
  }
 ],
 "metadata": {
  "kernelspec": {
   "display_name": "Python 3.11 (nlp)",
   "language": "python",
   "name": "nlp"
  },
  "language_info": {
   "codemirror_mode": {
    "name": "ipython",
    "version": 3
   },
   "file_extension": ".py",
   "mimetype": "text/x-python",
   "name": "python",
   "nbconvert_exporter": "python",
   "pygments_lexer": "ipython3",
   "version": "3.11.4"
  }
 },
 "nbformat": 4,
 "nbformat_minor": 5
}
